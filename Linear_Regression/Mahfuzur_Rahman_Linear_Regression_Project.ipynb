{
  "nbformat": 4,
  "nbformat_minor": 0,
  "metadata": {
    "kernelspec": {
      "display_name": "Python 3",
      "language": "python",
      "name": "python3"
    },
    "language_info": {
      "codemirror_mode": {
        "name": "ipython",
        "version": 3
      },
      "file_extension": ".py",
      "mimetype": "text/x-python",
      "name": "python",
      "nbconvert_exporter": "python",
      "pygments_lexer": "ipython3",
      "version": "3.7.6"
    },
    "colab": {
      "name": "Mahfuzur_Rahman_Linear_Regression Project.ipynb",
      "provenance": [],
      "collapsed_sections": [],
      "include_colab_link": true
    }
  },
  "cells": [
    {
      "cell_type": "markdown",
      "metadata": {
        "id": "view-in-github",
        "colab_type": "text"
      },
      "source": [
        "<a href=\"https://colab.research.google.com/github/mahfuz978/Regression-Classification/blob/main/Linear_Regression/Mahfuzur_Rahman_Linear_Regression_Project.ipynb\" target=\"_parent\"><img src=\"https://colab.research.google.com/assets/colab-badge.svg\" alt=\"Open In Colab\"/></a>"
      ]
    },
    {
      "cell_type": "markdown",
      "metadata": {
        "id": "IkavOcJtFuBA"
      },
      "source": [
        "## Please use the Seoul Bike dataset. \n",
        "\n",
        "- What are the factors that influence the number of bikes rented? \n",
        "- Explore the data for outliers and missing values.\n",
        "- Plot the correlation between the variables and state your comments\n",
        "- Please build a linear regression model to predict rented bike count by choosing appropriate independentvariables.\n",
        "- Coment on Model performance by using approapriate diagnostics and measures.\n",
        "\n",
        "Good Luck!"
      ]
    },
    {
      "cell_type": "markdown",
      "metadata": {
        "id": "aoQBnLUFKKGH"
      },
      "source": [
        "Importing the necessary libraries\n",
        "\n",
        "---\n",
        "Limiting how many rows can be seen\n",
        "\n",
        "\n"
      ]
    },
    {
      "cell_type": "code",
      "metadata": {
        "id": "tr_vhcxGGVRv"
      },
      "source": [
        "import pandas as pd\n",
        "import numpy as np\n",
        "pd.set_option('display.max_rows', 400)"
      ],
      "execution_count": null,
      "outputs": []
    },
    {
      "cell_type": "code",
      "metadata": {
        "id": "xJA21RY-BJVB"
      },
      "source": [
        "# help(pd.read_csv)"
      ],
      "execution_count": null,
      "outputs": []
    },
    {
      "cell_type": "markdown",
      "metadata": {
        "id": "LhNU-jZOKouy"
      },
      "source": [
        "Reading the csv file and indetifying the null values"
      ]
    },
    {
      "cell_type": "code",
      "metadata": {
        "id": "XEo6CidsFuBJ"
      },
      "source": [
        "url = 'https://raw.githubusercontent.com/Tech-i-s/data-science-course-wiki/master/Step%203-1%20Linear%20Regression/Project/SeoulBikeData.csv?token=AM2M2N3JH2IYHR35LJHUOVTAEWVTY'\n",
        "df = pd.read_csv(url, na_values= ' ?')"
      ],
      "execution_count": null,
      "outputs": []
    },
    {
      "cell_type": "markdown",
      "metadata": {
        "id": "QIDz2ra0LnpL"
      },
      "source": [
        "Creating a new id column using the index"
      ]
    },
    {
      "cell_type": "code",
      "metadata": {
        "id": "s3MR4_2otm7f"
      },
      "source": [
        "df['Id'] = df.index"
      ],
      "execution_count": null,
      "outputs": []
    },
    {
      "cell_type": "markdown",
      "metadata": {
        "id": "4VV-nRkBLqUd"
      },
      "source": [
        "Displaying the The first five rows of the dataset"
      ]
    },
    {
      "cell_type": "code",
      "metadata": {
        "colab": {
          "base_uri": "https://localhost:8080/",
          "height": 220
        },
        "id": "2DOUz13LGaeZ",
        "outputId": "714edfab-6d68-468a-da5b-5cf81aba2da3"
      },
      "source": [
        "df.head()"
      ],
      "execution_count": null,
      "outputs": [
        {
          "output_type": "execute_result",
          "data": {
            "text/html": [
              "<div>\n",
              "<style scoped>\n",
              "    .dataframe tbody tr th:only-of-type {\n",
              "        vertical-align: middle;\n",
              "    }\n",
              "\n",
              "    .dataframe tbody tr th {\n",
              "        vertical-align: top;\n",
              "    }\n",
              "\n",
              "    .dataframe thead th {\n",
              "        text-align: right;\n",
              "    }\n",
              "</style>\n",
              "<table border=\"1\" class=\"dataframe\">\n",
              "  <thead>\n",
              "    <tr style=\"text-align: right;\">\n",
              "      <th></th>\n",
              "      <th>Date</th>\n",
              "      <th>Rented Bike Count</th>\n",
              "      <th>Hour</th>\n",
              "      <th>Temperature(C)</th>\n",
              "      <th>Humidity(%)</th>\n",
              "      <th>Wind speed (m/s)</th>\n",
              "      <th>Visibility (10m)</th>\n",
              "      <th>Dew point temperature(C)</th>\n",
              "      <th>Solar Radiation (MJ/m2)</th>\n",
              "      <th>Rainfall(mm)</th>\n",
              "      <th>Snowfall (cm)</th>\n",
              "      <th>Seasons</th>\n",
              "      <th>Holiday</th>\n",
              "      <th>Functioning Day</th>\n",
              "      <th>Id</th>\n",
              "    </tr>\n",
              "  </thead>\n",
              "  <tbody>\n",
              "    <tr>\n",
              "      <th>0</th>\n",
              "      <td>01/12/2017</td>\n",
              "      <td>254</td>\n",
              "      <td>0</td>\n",
              "      <td>-5.2</td>\n",
              "      <td>37</td>\n",
              "      <td>2.2</td>\n",
              "      <td>2000</td>\n",
              "      <td>-17.6</td>\n",
              "      <td>0.0</td>\n",
              "      <td>0.0</td>\n",
              "      <td>0.0</td>\n",
              "      <td>Winter</td>\n",
              "      <td>No Holiday</td>\n",
              "      <td>Yes</td>\n",
              "      <td>0</td>\n",
              "    </tr>\n",
              "    <tr>\n",
              "      <th>1</th>\n",
              "      <td>01/12/2017</td>\n",
              "      <td>204</td>\n",
              "      <td>1</td>\n",
              "      <td>-5.5</td>\n",
              "      <td>38</td>\n",
              "      <td>0.8</td>\n",
              "      <td>2000</td>\n",
              "      <td>-17.6</td>\n",
              "      <td>0.0</td>\n",
              "      <td>0.0</td>\n",
              "      <td>0.0</td>\n",
              "      <td>Winter</td>\n",
              "      <td>No Holiday</td>\n",
              "      <td>Yes</td>\n",
              "      <td>1</td>\n",
              "    </tr>\n",
              "    <tr>\n",
              "      <th>2</th>\n",
              "      <td>01/12/2017</td>\n",
              "      <td>173</td>\n",
              "      <td>2</td>\n",
              "      <td>-6.0</td>\n",
              "      <td>39</td>\n",
              "      <td>1.0</td>\n",
              "      <td>2000</td>\n",
              "      <td>-17.7</td>\n",
              "      <td>0.0</td>\n",
              "      <td>0.0</td>\n",
              "      <td>0.0</td>\n",
              "      <td>Winter</td>\n",
              "      <td>No Holiday</td>\n",
              "      <td>Yes</td>\n",
              "      <td>2</td>\n",
              "    </tr>\n",
              "    <tr>\n",
              "      <th>3</th>\n",
              "      <td>01/12/2017</td>\n",
              "      <td>107</td>\n",
              "      <td>3</td>\n",
              "      <td>-6.2</td>\n",
              "      <td>40</td>\n",
              "      <td>0.9</td>\n",
              "      <td>2000</td>\n",
              "      <td>-17.6</td>\n",
              "      <td>0.0</td>\n",
              "      <td>0.0</td>\n",
              "      <td>0.0</td>\n",
              "      <td>Winter</td>\n",
              "      <td>No Holiday</td>\n",
              "      <td>Yes</td>\n",
              "      <td>3</td>\n",
              "    </tr>\n",
              "    <tr>\n",
              "      <th>4</th>\n",
              "      <td>01/12/2017</td>\n",
              "      <td>78</td>\n",
              "      <td>4</td>\n",
              "      <td>-6.0</td>\n",
              "      <td>36</td>\n",
              "      <td>2.3</td>\n",
              "      <td>2000</td>\n",
              "      <td>-18.6</td>\n",
              "      <td>0.0</td>\n",
              "      <td>0.0</td>\n",
              "      <td>0.0</td>\n",
              "      <td>Winter</td>\n",
              "      <td>No Holiday</td>\n",
              "      <td>Yes</td>\n",
              "      <td>4</td>\n",
              "    </tr>\n",
              "  </tbody>\n",
              "</table>\n",
              "</div>"
            ],
            "text/plain": [
              "         Date  Rented Bike Count  Hour  ...     Holiday  Functioning Day  Id\n",
              "0  01/12/2017                254     0  ...  No Holiday              Yes   0\n",
              "1  01/12/2017                204     1  ...  No Holiday              Yes   1\n",
              "2  01/12/2017                173     2  ...  No Holiday              Yes   2\n",
              "3  01/12/2017                107     3  ...  No Holiday              Yes   3\n",
              "4  01/12/2017                 78     4  ...  No Holiday              Yes   4\n",
              "\n",
              "[5 rows x 15 columns]"
            ]
          },
          "metadata": {
            "tags": []
          },
          "execution_count": 6
        }
      ]
    },
    {
      "cell_type": "markdown",
      "metadata": {
        "id": "KY9tki_fL-sD"
      },
      "source": [
        "Importing the matplotlib library to visualize the rented bike count\n",
        "and displaying the mean and median"
      ]
    },
    {
      "cell_type": "code",
      "metadata": {
        "colab": {
          "base_uri": "https://localhost:8080/",
          "height": 265
        },
        "id": "tjvHI8_XGM-x",
        "outputId": "2d9b92a1-a3bf-48ac-9913-bf1ff66a112b"
      },
      "source": [
        "import matplotlib.pyplot as plt\n",
        "\n",
        "df['Rented Bike Count'].hist(bins = 100)\n",
        "plt.axvline(df['Rented Bike Count'].mean(), color = 'red')\n",
        "plt.axvline(df['Rented Bike Count'].median(), color = 'orange');"
      ],
      "execution_count": null,
      "outputs": [
        {
          "output_type": "display_data",
          "data": {
            "image/png": "[encoded data removed]",
            "text/plain": [
              "<Figure size 432x288 with 1 Axes>"
            ]
          },
          "metadata": {
            "tags": [],
            "needs_background": "light"
          }
        }
      ]
    },
    {
      "cell_type": "markdown",
      "metadata": {
        "id": "CeBliSa6NK9I"
      },
      "source": [
        "Calculating the root mean squared error"
      ]
    },
    {
      "cell_type": "code",
      "metadata": {
        "colab": {
          "base_uri": "https://localhost:8080/"
        },
        "id": "iEsK2zbPGwJf",
        "outputId": "ec2ad29a-a8af-4759-a704-9c5bc42349d8"
      },
      "source": [
        "guess = df['Rented Bike Count'].mean()\n",
        "errors = guess - df['Rented Bike Count']\n",
        "R_M_S_E = errors.abs().mean()\n",
        "print(f'We will be off by {R_M_S_E:,.0f} on average')"
      ],
      "execution_count": null,
      "outputs": [
        {
          "output_type": "stream",
          "text": [
            "We will be off by 520 on average\n"
          ],
          "name": "stdout"
        }
      ]
    },
    {
      "cell_type": "markdown",
      "metadata": {
        "id": "xBzgcB2kNo1T"
      },
      "source": [
        "Looking for null values in the dataset"
      ]
    },
    {
      "cell_type": "code",
      "metadata": {
        "colab": {
          "base_uri": "https://localhost:8080/"
        },
        "id": "2ayzn-TPy_u8",
        "outputId": "f81de7e5-cb97-425f-f79b-082d8ebe3e86"
      },
      "source": [
        "df.isnull().sum()"
      ],
      "execution_count": null,
      "outputs": [
        {
          "output_type": "execute_result",
          "data": {
            "text/plain": [
              "Date                        0\n",
              "Rented Bike Count           0\n",
              "Hour                        0\n",
              "Temperature(C)              0\n",
              "Humidity(%)                 0\n",
              "Wind speed (m/s)            0\n",
              "Visibility (10m)            0\n",
              "Dew point temperature(C)    0\n",
              "Solar Radiation (MJ/m2)     0\n",
              "Rainfall(mm)                0\n",
              "Snowfall (cm)               0\n",
              "Seasons                     0\n",
              "Holiday                     0\n",
              "Functioning Day             0\n",
              "Id                          0\n",
              "dtype: int64"
            ]
          },
          "metadata": {
            "tags": []
          },
          "execution_count": 9
        }
      ]
    },
    {
      "cell_type": "markdown",
      "metadata": {
        "id": "5Nw5WwNnOkL5"
      },
      "source": [
        "Description of the numeric columns"
      ]
    },
    {
      "cell_type": "code",
      "metadata": {
        "colab": {
          "base_uri": "https://localhost:8080/",
          "height": 296
        },
        "id": "EtYQiLcNDm2T",
        "outputId": "6c689b89-8044-4d80-acaf-338edcea5735"
      },
      "source": [
        "df.describe()"
      ],
      "execution_count": null,
      "outputs": [
        {
          "output_type": "execute_result",
          "data": {
            "text/html": [
              "<div>\n",
              "<style scoped>\n",
              "    .dataframe tbody tr th:only-of-type {\n",
              "        vertical-align: middle;\n",
              "    }\n",
              "\n",
              "    .dataframe tbody tr th {\n",
              "        vertical-align: top;\n",
              "    }\n",
              "\n",
              "    .dataframe thead th {\n",
              "        text-align: right;\n",
              "    }\n",
              "</style>\n",
              "<table border=\"1\" class=\"dataframe\">\n",
              "  <thead>\n",
              "    <tr style=\"text-align: right;\">\n",
              "      <th></th>\n",
              "      <th>Rented Bike Count</th>\n",
              "      <th>Hour</th>\n",
              "      <th>Temperature(C)</th>\n",
              "      <th>Humidity(%)</th>\n",
              "      <th>Wind speed (m/s)</th>\n",
              "      <th>Visibility (10m)</th>\n",
              "      <th>Dew point temperature(C)</th>\n",
              "      <th>Solar Radiation (MJ/m2)</th>\n",
              "      <th>Rainfall(mm)</th>\n",
              "      <th>Snowfall (cm)</th>\n",
              "      <th>Id</th>\n",
              "    </tr>\n",
              "  </thead>\n",
              "  <tbody>\n",
              "    <tr>\n",
              "      <th>count</th>\n",
              "      <td>8760.000000</td>\n",
              "      <td>8760.000000</td>\n",
              "      <td>8760.000000</td>\n",
              "      <td>8760.000000</td>\n",
              "      <td>8760.000000</td>\n",
              "      <td>8760.000000</td>\n",
              "      <td>8760.000000</td>\n",
              "      <td>8760.000000</td>\n",
              "      <td>8760.000000</td>\n",
              "      <td>8760.000000</td>\n",
              "      <td>8760.000000</td>\n",
              "    </tr>\n",
              "    <tr>\n",
              "      <th>mean</th>\n",
              "      <td>704.602055</td>\n",
              "      <td>11.500000</td>\n",
              "      <td>12.882922</td>\n",
              "      <td>58.226256</td>\n",
              "      <td>1.724909</td>\n",
              "      <td>1436.825799</td>\n",
              "      <td>4.073813</td>\n",
              "      <td>0.569111</td>\n",
              "      <td>0.148687</td>\n",
              "      <td>0.075068</td>\n",
              "      <td>4379.500000</td>\n",
              "    </tr>\n",
              "    <tr>\n",
              "      <th>std</th>\n",
              "      <td>644.997468</td>\n",
              "      <td>6.922582</td>\n",
              "      <td>11.944825</td>\n",
              "      <td>20.362413</td>\n",
              "      <td>1.036300</td>\n",
              "      <td>608.298712</td>\n",
              "      <td>13.060369</td>\n",
              "      <td>0.868746</td>\n",
              "      <td>1.128193</td>\n",
              "      <td>0.436746</td>\n",
              "      <td>2528.938512</td>\n",
              "    </tr>\n",
              "    <tr>\n",
              "      <th>min</th>\n",
              "      <td>0.000000</td>\n",
              "      <td>0.000000</td>\n",
              "      <td>-17.800000</td>\n",
              "      <td>0.000000</td>\n",
              "      <td>0.000000</td>\n",
              "      <td>27.000000</td>\n",
              "      <td>-30.600000</td>\n",
              "      <td>0.000000</td>\n",
              "      <td>0.000000</td>\n",
              "      <td>0.000000</td>\n",
              "      <td>0.000000</td>\n",
              "    </tr>\n",
              "    <tr>\n",
              "      <th>25%</th>\n",
              "      <td>191.000000</td>\n",
              "      <td>5.750000</td>\n",
              "      <td>3.500000</td>\n",
              "      <td>42.000000</td>\n",
              "      <td>0.900000</td>\n",
              "      <td>940.000000</td>\n",
              "      <td>-4.700000</td>\n",
              "      <td>0.000000</td>\n",
              "      <td>0.000000</td>\n",
              "      <td>0.000000</td>\n",
              "      <td>2189.750000</td>\n",
              "    </tr>\n",
              "    <tr>\n",
              "      <th>50%</th>\n",
              "      <td>504.500000</td>\n",
              "      <td>11.500000</td>\n",
              "      <td>13.700000</td>\n",
              "      <td>57.000000</td>\n",
              "      <td>1.500000</td>\n",
              "      <td>1698.000000</td>\n",
              "      <td>5.100000</td>\n",
              "      <td>0.010000</td>\n",
              "      <td>0.000000</td>\n",
              "      <td>0.000000</td>\n",
              "      <td>4379.500000</td>\n",
              "    </tr>\n",
              "    <tr>\n",
              "      <th>75%</th>\n",
              "      <td>1065.250000</td>\n",
              "      <td>17.250000</td>\n",
              "      <td>22.500000</td>\n",
              "      <td>74.000000</td>\n",
              "      <td>2.300000</td>\n",
              "      <td>2000.000000</td>\n",
              "      <td>14.800000</td>\n",
              "      <td>0.930000</td>\n",
              "      <td>0.000000</td>\n",
              "      <td>0.000000</td>\n",
              "      <td>6569.250000</td>\n",
              "    </tr>\n",
              "    <tr>\n",
              "      <th>max</th>\n",
              "      <td>3556.000000</td>\n",
              "      <td>23.000000</td>\n",
              "      <td>39.400000</td>\n",
              "      <td>98.000000</td>\n",
              "      <td>7.400000</td>\n",
              "      <td>2000.000000</td>\n",
              "      <td>27.200000</td>\n",
              "      <td>3.520000</td>\n",
              "      <td>35.000000</td>\n",
              "      <td>8.800000</td>\n",
              "      <td>8759.000000</td>\n",
              "    </tr>\n",
              "  </tbody>\n",
              "</table>\n",
              "</div>"
            ],
            "text/plain": [
              "       Rented Bike Count         Hour  ...  Snowfall (cm)           Id\n",
              "count        8760.000000  8760.000000  ...    8760.000000  8760.000000\n",
              "mean          704.602055    11.500000  ...       0.075068  4379.500000\n",
              "std           644.997468     6.922582  ...       0.436746  2528.938512\n",
              "min             0.000000     0.000000  ...       0.000000     0.000000\n",
              "25%           191.000000     5.750000  ...       0.000000  2189.750000\n",
              "50%           504.500000    11.500000  ...       0.000000  4379.500000\n",
              "75%          1065.250000    17.250000  ...       0.000000  6569.250000\n",
              "max          3556.000000    23.000000  ...       8.800000  8759.000000\n",
              "\n",
              "[8 rows x 11 columns]"
            ]
          },
          "metadata": {
            "tags": []
          },
          "execution_count": 10
        }
      ]
    },
    {
      "cell_type": "markdown",
      "metadata": {
        "id": "FMnLoh0POuy_"
      },
      "source": [
        "Stats of the Non-Numeric Columns"
      ]
    },
    {
      "cell_type": "code",
      "metadata": {
        "colab": {
          "base_uri": "https://localhost:8080/",
          "height": 172
        },
        "id": "G1EtMLnuD9BB",
        "outputId": "e335a79b-8092-40ed-fc69-8e18da11ab52"
      },
      "source": [
        "df.describe(exclude = 'number')"
      ],
      "execution_count": null,
      "outputs": [
        {
          "output_type": "execute_result",
          "data": {
            "text/html": [
              "<div>\n",
              "<style scoped>\n",
              "    .dataframe tbody tr th:only-of-type {\n",
              "        vertical-align: middle;\n",
              "    }\n",
              "\n",
              "    .dataframe tbody tr th {\n",
              "        vertical-align: top;\n",
              "    }\n",
              "\n",
              "    .dataframe thead th {\n",
              "        text-align: right;\n",
              "    }\n",
              "</style>\n",
              "<table border=\"1\" class=\"dataframe\">\n",
              "  <thead>\n",
              "    <tr style=\"text-align: right;\">\n",
              "      <th></th>\n",
              "      <th>Date</th>\n",
              "      <th>Seasons</th>\n",
              "      <th>Holiday</th>\n",
              "      <th>Functioning Day</th>\n",
              "    </tr>\n",
              "  </thead>\n",
              "  <tbody>\n",
              "    <tr>\n",
              "      <th>count</th>\n",
              "      <td>8760</td>\n",
              "      <td>8760</td>\n",
              "      <td>8760</td>\n",
              "      <td>8760</td>\n",
              "    </tr>\n",
              "    <tr>\n",
              "      <th>unique</th>\n",
              "      <td>365</td>\n",
              "      <td>4</td>\n",
              "      <td>2</td>\n",
              "      <td>2</td>\n",
              "    </tr>\n",
              "    <tr>\n",
              "      <th>top</th>\n",
              "      <td>12/11/2018</td>\n",
              "      <td>Summer</td>\n",
              "      <td>No Holiday</td>\n",
              "      <td>Yes</td>\n",
              "    </tr>\n",
              "    <tr>\n",
              "      <th>freq</th>\n",
              "      <td>24</td>\n",
              "      <td>2208</td>\n",
              "      <td>8328</td>\n",
              "      <td>8465</td>\n",
              "    </tr>\n",
              "  </tbody>\n",
              "</table>\n",
              "</div>"
            ],
            "text/plain": [
              "              Date Seasons     Holiday Functioning Day\n",
              "count         8760    8760        8760            8760\n",
              "unique         365       4           2               2\n",
              "top     12/11/2018  Summer  No Holiday             Yes\n",
              "freq            24    2208        8328            8465"
            ]
          },
          "metadata": {
            "tags": []
          },
          "execution_count": 11
        }
      ]
    },
    {
      "cell_type": "markdown",
      "metadata": {
        "id": "f-RnuJw2O7o-"
      },
      "source": [
        "Information about each column"
      ]
    },
    {
      "cell_type": "code",
      "metadata": {
        "colab": {
          "base_uri": "https://localhost:8080/"
        },
        "id": "wh_UOugcuRBM",
        "outputId": "d6d6b7d3-4831-4722-ffb3-25b02ed0c4aa"
      },
      "source": [
        "df.info()"
      ],
      "execution_count": null,
      "outputs": [
        {
          "output_type": "stream",
          "text": [
            "<class 'pandas.core.frame.DataFrame'>\n",
            "RangeIndex: 8760 entries, 0 to 8759\n",
            "Data columns (total 15 columns):\n",
            " #   Column                    Non-Null Count  Dtype  \n",
            "---  ------                    --------------  -----  \n",
            " 0   Date                      8760 non-null   object \n",
            " 1   Rented Bike Count         8760 non-null   int64  \n",
            " 2   Hour                      8760 non-null   int64  \n",
            " 3   Temperature(C)            8760 non-null   float64\n",
            " 4   Humidity(%)               8760 non-null   int64  \n",
            " 5   Wind speed (m/s)          8760 non-null   float64\n",
            " 6   Visibility (10m)          8760 non-null   int64  \n",
            " 7   Dew point temperature(C)  8760 non-null   float64\n",
            " 8   Solar Radiation (MJ/m2)   8760 non-null   float64\n",
            " 9   Rainfall(mm)              8760 non-null   float64\n",
            " 10  Snowfall (cm)             8760 non-null   float64\n",
            " 11  Seasons                   8760 non-null   object \n",
            " 12  Holiday                   8760 non-null   object \n",
            " 13  Functioning Day           8760 non-null   object \n",
            " 14  Id                        8760 non-null   int64  \n",
            "dtypes: float64(6), int64(5), object(4)\n",
            "memory usage: 1.0+ MB\n"
          ],
          "name": "stdout"
        }
      ]
    },
    {
      "cell_type": "markdown",
      "metadata": {
        "id": "xDJIqDH5PFwu"
      },
      "source": [
        "Finding the unique values for (Seasons, Holiday and Functioning Day columns)"
      ]
    },
    {
      "cell_type": "code",
      "metadata": {
        "colab": {
          "base_uri": "https://localhost:8080/"
        },
        "id": "k7_XvJrRziwa",
        "outputId": "1a8fb614-110d-4cf7-b45e-26ad5a2f286c"
      },
      "source": [
        "x = set(df.Seasons)\n",
        "y = set(df.Holiday)\n",
        "z = set(df['Functioning Day'])\n",
        "print(x)\n",
        "print(y)\n",
        "print(z)"
      ],
      "execution_count": null,
      "outputs": [
        {
          "output_type": "stream",
          "text": [
            "{'Winter', 'Autumn', 'Summer', 'Spring'}\n",
            "{'No Holiday', 'Holiday'}\n",
            "{'Yes', 'No'}\n"
          ],
          "name": "stdout"
        }
      ]
    },
    {
      "cell_type": "markdown",
      "metadata": {
        "id": "UFqKIKUiRmL-"
      },
      "source": [
        "Grouping the Rented bike count by seasons"
      ]
    },
    {
      "cell_type": "code",
      "metadata": {
        "colab": {
          "base_uri": "https://localhost:8080/",
          "height": 203
        },
        "id": "e2MZ-eHY0jRQ",
        "outputId": "83c7b852-ae21-411f-b818-c193a58ae7c1"
      },
      "source": [
        "x = df[['Rented Bike Count','Seasons']]\n",
        "x = x.groupby('Seasons').sum()\n",
        "x.head()"
      ],
      "execution_count": null,
      "outputs": [
        {
          "output_type": "execute_result",
          "data": {
            "text/html": [
              "<div>\n",
              "<style scoped>\n",
              "    .dataframe tbody tr th:only-of-type {\n",
              "        vertical-align: middle;\n",
              "    }\n",
              "\n",
              "    .dataframe tbody tr th {\n",
              "        vertical-align: top;\n",
              "    }\n",
              "\n",
              "    .dataframe thead th {\n",
              "        text-align: right;\n",
              "    }\n",
              "</style>\n",
              "<table border=\"1\" class=\"dataframe\">\n",
              "  <thead>\n",
              "    <tr style=\"text-align: right;\">\n",
              "      <th></th>\n",
              "      <th>Rented Bike Count</th>\n",
              "    </tr>\n",
              "    <tr>\n",
              "      <th>Seasons</th>\n",
              "      <th></th>\n",
              "    </tr>\n",
              "  </thead>\n",
              "  <tbody>\n",
              "    <tr>\n",
              "      <th>Autumn</th>\n",
              "      <td>1790002</td>\n",
              "    </tr>\n",
              "    <tr>\n",
              "      <th>Spring</th>\n",
              "      <td>1611909</td>\n",
              "    </tr>\n",
              "    <tr>\n",
              "      <th>Summer</th>\n",
              "      <td>2283234</td>\n",
              "    </tr>\n",
              "    <tr>\n",
              "      <th>Winter</th>\n",
              "      <td>487169</td>\n",
              "    </tr>\n",
              "  </tbody>\n",
              "</table>\n",
              "</div>"
            ],
            "text/plain": [
              "         Rented Bike Count\n",
              "Seasons                   \n",
              "Autumn             1790002\n",
              "Spring             1611909\n",
              "Summer             2283234\n",
              "Winter              487169"
            ]
          },
          "metadata": {
            "tags": []
          },
          "execution_count": 15
        }
      ]
    },
    {
      "cell_type": "markdown",
      "metadata": {
        "id": "hZr-Qn1UR_pM"
      },
      "source": [
        "Counting the Values for each Season"
      ]
    },
    {
      "cell_type": "code",
      "metadata": {
        "colab": {
          "base_uri": "https://localhost:8080/"
        },
        "id": "Z6C9Rat0FJJ6",
        "outputId": "367518c7-1cff-459f-afcd-7631c98d4611"
      },
      "source": [
        "df['Seasons'].value_counts()"
      ],
      "execution_count": null,
      "outputs": [
        {
          "output_type": "execute_result",
          "data": {
            "text/plain": [
              "Summer    2208\n",
              "Spring    2208\n",
              "Autumn    2184\n",
              "Winter    2160\n",
              "Name: Seasons, dtype: int64"
            ]
          },
          "metadata": {
            "tags": []
          },
          "execution_count": 16
        }
      ]
    },
    {
      "cell_type": "markdown",
      "metadata": {
        "id": "qoJgh_3iSSQ4"
      },
      "source": [
        "Grouping the Rented bike count by holiday"
      ]
    },
    {
      "cell_type": "code",
      "metadata": {
        "colab": {
          "base_uri": "https://localhost:8080/",
          "height": 141
        },
        "id": "6duK11UsABOd",
        "outputId": "d8f42976-9cdb-4a11-ac5d-4e4cb33c1eeb"
      },
      "source": [
        "x = df[['Rented Bike Count','Holiday']]\n",
        "x = x.groupby('Holiday').sum()\n",
        "x.head()"
      ],
      "execution_count": null,
      "outputs": [
        {
          "output_type": "execute_result",
          "data": {
            "text/html": [
              "<div>\n",
              "<style scoped>\n",
              "    .dataframe tbody tr th:only-of-type {\n",
              "        vertical-align: middle;\n",
              "    }\n",
              "\n",
              "    .dataframe tbody tr th {\n",
              "        vertical-align: top;\n",
              "    }\n",
              "\n",
              "    .dataframe thead th {\n",
              "        text-align: right;\n",
              "    }\n",
              "</style>\n",
              "<table border=\"1\" class=\"dataframe\">\n",
              "  <thead>\n",
              "    <tr style=\"text-align: right;\">\n",
              "      <th></th>\n",
              "      <th>Rented Bike Count</th>\n",
              "    </tr>\n",
              "    <tr>\n",
              "      <th>Holiday</th>\n",
              "      <th></th>\n",
              "    </tr>\n",
              "  </thead>\n",
              "  <tbody>\n",
              "    <tr>\n",
              "      <th>Holiday</th>\n",
              "      <td>215895</td>\n",
              "    </tr>\n",
              "    <tr>\n",
              "      <th>No Holiday</th>\n",
              "      <td>5956419</td>\n",
              "    </tr>\n",
              "  </tbody>\n",
              "</table>\n",
              "</div>"
            ],
            "text/plain": [
              "            Rented Bike Count\n",
              "Holiday                      \n",
              "Holiday                215895\n",
              "No Holiday            5956419"
            ]
          },
          "metadata": {
            "tags": []
          },
          "execution_count": 17
        }
      ]
    },
    {
      "cell_type": "markdown",
      "metadata": {
        "id": "kdsELFz6Sds4"
      },
      "source": [
        "Using pandas crosstab to plot and visualize how the bikes were rented during holidays and a regular business days, and each bar representing a season"
      ]
    },
    {
      "cell_type": "code",
      "metadata": {
        "colab": {
          "base_uri": "https://localhost:8080/",
          "height": 324
        },
        "id": "tn6c1uLMFOa0",
        "outputId": "1c112ff4-1e82-4ecc-ed2e-8b343a1a9b62"
      },
      "source": [
        "pd.crosstab(df['Seasons'], df['Holiday']).T.plot(kind = 'bar', stacked = False);\n"
      ],
      "execution_count": null,
      "outputs": [
        {
          "output_type": "display_data",
          "data": {
            "image/png": "[encoded data removed]",
            "text/plain": [
              "<Figure size 432x288 with 1 Axes>"
            ]
          },
          "metadata": {
            "tags": [],
            "needs_background": "light"
          }
        }
      ]
    },
    {
      "cell_type": "markdown",
      "metadata": {
        "id": "_Oa504TgTdTC"
      },
      "source": [
        "Grouping the rented bike count by Functioning day"
      ]
    },
    {
      "cell_type": "code",
      "metadata": {
        "colab": {
          "base_uri": "https://localhost:8080/",
          "height": 141
        },
        "id": "q3gIRvgwAr6Z",
        "outputId": "a6900430-9450-42c3-ac47-8655f6cb868c"
      },
      "source": [
        "x = df[['Rented Bike Count','Functioning Day']]\n",
        "x = x.groupby('Functioning Day').sum()\n",
        "x.head()"
      ],
      "execution_count": null,
      "outputs": [
        {
          "output_type": "execute_result",
          "data": {
            "text/html": [
              "<div>\n",
              "<style scoped>\n",
              "    .dataframe tbody tr th:only-of-type {\n",
              "        vertical-align: middle;\n",
              "    }\n",
              "\n",
              "    .dataframe tbody tr th {\n",
              "        vertical-align: top;\n",
              "    }\n",
              "\n",
              "    .dataframe thead th {\n",
              "        text-align: right;\n",
              "    }\n",
              "</style>\n",
              "<table border=\"1\" class=\"dataframe\">\n",
              "  <thead>\n",
              "    <tr style=\"text-align: right;\">\n",
              "      <th></th>\n",
              "      <th>Rented Bike Count</th>\n",
              "    </tr>\n",
              "    <tr>\n",
              "      <th>Functioning Day</th>\n",
              "      <th></th>\n",
              "    </tr>\n",
              "  </thead>\n",
              "  <tbody>\n",
              "    <tr>\n",
              "      <th>No</th>\n",
              "      <td>0</td>\n",
              "    </tr>\n",
              "    <tr>\n",
              "      <th>Yes</th>\n",
              "      <td>6172314</td>\n",
              "    </tr>\n",
              "  </tbody>\n",
              "</table>\n",
              "</div>"
            ],
            "text/plain": [
              "                 Rented Bike Count\n",
              "Functioning Day                   \n",
              "No                               0\n",
              "Yes                        6172314"
            ]
          },
          "metadata": {
            "tags": []
          },
          "execution_count": 19
        }
      ]
    },
    {
      "cell_type": "markdown",
      "metadata": {
        "id": "V3CVZP88TqcU"
      },
      "source": [
        "Now that we know more about the dataset, we can exclude some rows that are unnesessary. The code below only keeps all the functioning days and keeps the business days. Thus we can reduse noise and focus on whats important."
      ]
    },
    {
      "cell_type": "code",
      "metadata": {
        "id": "QmouSLf4quAq"
      },
      "source": [
        "df = df[df['Functioning Day']=='Yes']\n",
        "df = df[df['Holiday']=='No Holiday']"
      ],
      "execution_count": null,
      "outputs": []
    },
    {
      "cell_type": "markdown",
      "metadata": {
        "id": "W1oKQ8n6VKKs"
      },
      "source": [
        "The code below gets rid of all the non-numeric columns"
      ]
    },
    {
      "cell_type": "code",
      "metadata": {
        "id": "iZmL8vOEGfEl",
        "colab": {
          "base_uri": "https://localhost:8080/",
          "height": 203
        },
        "outputId": "8886dc7b-302b-427e-d3bd-130e76205625"
      },
      "source": [
        "df = df.select_dtypes(include = ['int64', 'float64'])\n",
        "df.head()"
      ],
      "execution_count": null,
      "outputs": [
        {
          "output_type": "execute_result",
          "data": {
            "text/html": [
              "<div>\n",
              "<style scoped>\n",
              "    .dataframe tbody tr th:only-of-type {\n",
              "        vertical-align: middle;\n",
              "    }\n",
              "\n",
              "    .dataframe tbody tr th {\n",
              "        vertical-align: top;\n",
              "    }\n",
              "\n",
              "    .dataframe thead th {\n",
              "        text-align: right;\n",
              "    }\n",
              "</style>\n",
              "<table border=\"1\" class=\"dataframe\">\n",
              "  <thead>\n",
              "    <tr style=\"text-align: right;\">\n",
              "      <th></th>\n",
              "      <th>Rented Bike Count</th>\n",
              "      <th>Hour</th>\n",
              "      <th>Temperature(C)</th>\n",
              "      <th>Humidity(%)</th>\n",
              "      <th>Wind speed (m/s)</th>\n",
              "      <th>Visibility (10m)</th>\n",
              "      <th>Dew point temperature(C)</th>\n",
              "      <th>Solar Radiation (MJ/m2)</th>\n",
              "      <th>Rainfall(mm)</th>\n",
              "      <th>Snowfall (cm)</th>\n",
              "      <th>Id</th>\n",
              "    </tr>\n",
              "  </thead>\n",
              "  <tbody>\n",
              "    <tr>\n",
              "      <th>0</th>\n",
              "      <td>254</td>\n",
              "      <td>0</td>\n",
              "      <td>-5.2</td>\n",
              "      <td>37</td>\n",
              "      <td>2.2</td>\n",
              "      <td>2000</td>\n",
              "      <td>-17.6</td>\n",
              "      <td>0.0</td>\n",
              "      <td>0.0</td>\n",
              "      <td>0.0</td>\n",
              "      <td>0</td>\n",
              "    </tr>\n",
              "    <tr>\n",
              "      <th>1</th>\n",
              "      <td>204</td>\n",
              "      <td>1</td>\n",
              "      <td>-5.5</td>\n",
              "      <td>38</td>\n",
              "      <td>0.8</td>\n",
              "      <td>2000</td>\n",
              "      <td>-17.6</td>\n",
              "      <td>0.0</td>\n",
              "      <td>0.0</td>\n",
              "      <td>0.0</td>\n",
              "      <td>1</td>\n",
              "    </tr>\n",
              "    <tr>\n",
              "      <th>2</th>\n",
              "      <td>173</td>\n",
              "      <td>2</td>\n",
              "      <td>-6.0</td>\n",
              "      <td>39</td>\n",
              "      <td>1.0</td>\n",
              "      <td>2000</td>\n",
              "      <td>-17.7</td>\n",
              "      <td>0.0</td>\n",
              "      <td>0.0</td>\n",
              "      <td>0.0</td>\n",
              "      <td>2</td>\n",
              "    </tr>\n",
              "    <tr>\n",
              "      <th>3</th>\n",
              "      <td>107</td>\n",
              "      <td>3</td>\n",
              "      <td>-6.2</td>\n",
              "      <td>40</td>\n",
              "      <td>0.9</td>\n",
              "      <td>2000</td>\n",
              "      <td>-17.6</td>\n",
              "      <td>0.0</td>\n",
              "      <td>0.0</td>\n",
              "      <td>0.0</td>\n",
              "      <td>3</td>\n",
              "    </tr>\n",
              "    <tr>\n",
              "      <th>4</th>\n",
              "      <td>78</td>\n",
              "      <td>4</td>\n",
              "      <td>-6.0</td>\n",
              "      <td>36</td>\n",
              "      <td>2.3</td>\n",
              "      <td>2000</td>\n",
              "      <td>-18.6</td>\n",
              "      <td>0.0</td>\n",
              "      <td>0.0</td>\n",
              "      <td>0.0</td>\n",
              "      <td>4</td>\n",
              "    </tr>\n",
              "  </tbody>\n",
              "</table>\n",
              "</div>"
            ],
            "text/plain": [
              "   Rented Bike Count  Hour  Temperature(C)  ...  Rainfall(mm)  Snowfall (cm)  Id\n",
              "0                254     0            -5.2  ...           0.0            0.0   0\n",
              "1                204     1            -5.5  ...           0.0            0.0   1\n",
              "2                173     2            -6.0  ...           0.0            0.0   2\n",
              "3                107     3            -6.2  ...           0.0            0.0   3\n",
              "4                 78     4            -6.0  ...           0.0            0.0   4\n",
              "\n",
              "[5 rows x 11 columns]"
            ]
          },
          "metadata": {
            "tags": []
          },
          "execution_count": 21
        }
      ]
    },
    {
      "cell_type": "code",
      "metadata": {
        "id": "DLqI76RO6WiL",
        "colab": {
          "base_uri": "https://localhost:8080/"
        },
        "outputId": "a5101ec6-8676-436d-e503-58f274a27bea"
      },
      "source": [
        "df.isnull().sum()"
      ],
      "execution_count": null,
      "outputs": [
        {
          "output_type": "execute_result",
          "data": {
            "text/plain": [
              "Rented Bike Count           0\n",
              "Hour                        0\n",
              "Temperature(C)              0\n",
              "Humidity(%)                 0\n",
              "Wind speed (m/s)            0\n",
              "Visibility (10m)            0\n",
              "Dew point temperature(C)    0\n",
              "Solar Radiation (MJ/m2)     0\n",
              "Rainfall(mm)                0\n",
              "Snowfall (cm)               0\n",
              "Id                          0\n",
              "dtype: int64"
            ]
          },
          "metadata": {
            "tags": []
          },
          "execution_count": 22
        }
      ]
    },
    {
      "cell_type": "markdown",
      "metadata": {
        "id": "gsyJU-3mVhtg"
      },
      "source": [
        "We are randomly splitting the updated dataset into test and train set"
      ]
    },
    {
      "cell_type": "code",
      "metadata": {
        "id": "iWMDGAUg3R9A"
      },
      "source": [
        "from sklearn.model_selection import train_test_split\n",
        "train, test = train_test_split(df, test_size = 0.30)"
      ],
      "execution_count": null,
      "outputs": []
    },
    {
      "cell_type": "markdown",
      "metadata": {
        "id": "w0SML6nkWCO2"
      },
      "source": [
        "Checking the size of the sets"
      ]
    },
    {
      "cell_type": "code",
      "metadata": {
        "colab": {
          "base_uri": "https://localhost:8080/"
        },
        "id": "fzH0wYEQ5q24",
        "outputId": "22b3e06d-f627-4a0e-ea27-830a1ed84a10"
      },
      "source": [
        "train.shape"
      ],
      "execution_count": null,
      "outputs": [
        {
          "output_type": "execute_result",
          "data": {
            "text/plain": [
              "(5639, 11)"
            ]
          },
          "metadata": {
            "tags": []
          },
          "execution_count": 24
        }
      ]
    },
    {
      "cell_type": "code",
      "metadata": {
        "colab": {
          "base_uri": "https://localhost:8080/"
        },
        "id": "hM3uFoua5tNF",
        "outputId": "117f9a7a-86a7-4801-8e1a-377c372b324d"
      },
      "source": [
        "test.shape"
      ],
      "execution_count": null,
      "outputs": [
        {
          "output_type": "execute_result",
          "data": {
            "text/plain": [
              "(2418, 11)"
            ]
          },
          "metadata": {
            "tags": []
          },
          "execution_count": 25
        }
      ]
    },
    {
      "cell_type": "markdown",
      "metadata": {
        "id": "Wi2GCGlGWObM"
      },
      "source": [
        "Looking at the correlation table"
      ]
    },
    {
      "cell_type": "code",
      "metadata": {
        "colab": {
          "base_uri": "https://localhost:8080/",
          "height": 389
        },
        "id": "cnKQdf6B32zs",
        "outputId": "b9a172b2-c723-4f45-b4a6-f8b644cb4db2"
      },
      "source": [
        "data_corr = train.corr()\n",
        "data_corr"
      ],
      "execution_count": null,
      "outputs": [
        {
          "output_type": "execute_result",
          "data": {
            "text/html": [
              "<div>\n",
              "<style scoped>\n",
              "    .dataframe tbody tr th:only-of-type {\n",
              "        vertical-align: middle;\n",
              "    }\n",
              "\n",
              "    .dataframe tbody tr th {\n",
              "        vertical-align: top;\n",
              "    }\n",
              "\n",
              "    .dataframe thead th {\n",
              "        text-align: right;\n",
              "    }\n",
              "</style>\n",
              "<table border=\"1\" class=\"dataframe\">\n",
              "  <thead>\n",
              "    <tr style=\"text-align: right;\">\n",
              "      <th></th>\n",
              "      <th>Rented Bike Count</th>\n",
              "      <th>Hour</th>\n",
              "      <th>Temperature(C)</th>\n",
              "      <th>Humidity(%)</th>\n",
              "      <th>Wind speed (m/s)</th>\n",
              "      <th>Visibility (10m)</th>\n",
              "      <th>Dew point temperature(C)</th>\n",
              "      <th>Solar Radiation (MJ/m2)</th>\n",
              "      <th>Rainfall(mm)</th>\n",
              "      <th>Snowfall (cm)</th>\n",
              "      <th>Id</th>\n",
              "    </tr>\n",
              "  </thead>\n",
              "  <tbody>\n",
              "    <tr>\n",
              "      <th>Rented Bike Count</th>\n",
              "      <td>1.000000</td>\n",
              "      <td>0.438274</td>\n",
              "      <td>0.552173</td>\n",
              "      <td>-0.213094</td>\n",
              "      <td>0.121834</td>\n",
              "      <td>0.223890</td>\n",
              "      <td>0.388431</td>\n",
              "      <td>0.269496</td>\n",
              "      <td>-0.130012</td>\n",
              "      <td>-0.152674</td>\n",
              "      <td>0.385692</td>\n",
              "    </tr>\n",
              "    <tr>\n",
              "      <th>Hour</th>\n",
              "      <td>0.438274</td>\n",
              "      <td>1.000000</td>\n",
              "      <td>0.123896</td>\n",
              "      <td>-0.242656</td>\n",
              "      <td>0.291002</td>\n",
              "      <td>0.117054</td>\n",
              "      <td>0.003642</td>\n",
              "      <td>0.151203</td>\n",
              "      <td>0.015002</td>\n",
              "      <td>-0.025099</td>\n",
              "      <td>0.007836</td>\n",
              "    </tr>\n",
              "    <tr>\n",
              "      <th>Temperature(C)</th>\n",
              "      <td>0.552173</td>\n",
              "      <td>0.123896</td>\n",
              "      <td>1.000000</td>\n",
              "      <td>0.159345</td>\n",
              "      <td>-0.040512</td>\n",
              "      <td>0.041779</td>\n",
              "      <td>0.914406</td>\n",
              "      <td>0.351808</td>\n",
              "      <td>0.049587</td>\n",
              "      <td>-0.217617</td>\n",
              "      <td>0.573158</td>\n",
              "    </tr>\n",
              "    <tr>\n",
              "      <th>Humidity(%)</th>\n",
              "      <td>-0.213094</td>\n",
              "      <td>-0.242656</td>\n",
              "      <td>0.159345</td>\n",
              "      <td>1.000000</td>\n",
              "      <td>-0.325728</td>\n",
              "      <td>-0.534647</td>\n",
              "      <td>0.534369</td>\n",
              "      <td>-0.458804</td>\n",
              "      <td>0.234570</td>\n",
              "      <td>0.113030</td>\n",
              "      <td>0.172143</td>\n",
              "    </tr>\n",
              "    <tr>\n",
              "      <th>Wind speed (m/s)</th>\n",
              "      <td>0.121834</td>\n",
              "      <td>0.291002</td>\n",
              "      <td>-0.040512</td>\n",
              "      <td>-0.325728</td>\n",
              "      <td>1.000000</td>\n",
              "      <td>0.191697</td>\n",
              "      <td>-0.173101</td>\n",
              "      <td>0.312755</td>\n",
              "      <td>-0.021349</td>\n",
              "      <td>0.005675</td>\n",
              "      <td>-0.154623</td>\n",
              "    </tr>\n",
              "    <tr>\n",
              "      <th>Visibility (10m)</th>\n",
              "      <td>0.223890</td>\n",
              "      <td>0.117054</td>\n",
              "      <td>0.041779</td>\n",
              "      <td>-0.534647</td>\n",
              "      <td>0.191697</td>\n",
              "      <td>1.000000</td>\n",
              "      <td>-0.165438</td>\n",
              "      <td>0.159086</td>\n",
              "      <td>-0.160167</td>\n",
              "      <td>-0.121035</td>\n",
              "      <td>0.107358</td>\n",
              "    </tr>\n",
              "    <tr>\n",
              "      <th>Dew point temperature(C)</th>\n",
              "      <td>0.388431</td>\n",
              "      <td>0.003642</td>\n",
              "      <td>0.914406</td>\n",
              "      <td>0.534369</td>\n",
              "      <td>-0.173101</td>\n",
              "      <td>-0.165438</td>\n",
              "      <td>1.000000</td>\n",
              "      <td>0.097789</td>\n",
              "      <td>0.123801</td>\n",
              "      <td>-0.149916</td>\n",
              "      <td>0.559089</td>\n",
              "    </tr>\n",
              "    <tr>\n",
              "      <th>Solar Radiation (MJ/m2)</th>\n",
              "      <td>0.269496</td>\n",
              "      <td>0.151203</td>\n",
              "      <td>0.351808</td>\n",
              "      <td>-0.458804</td>\n",
              "      <td>0.312755</td>\n",
              "      <td>0.159086</td>\n",
              "      <td>0.097789</td>\n",
              "      <td>1.000000</td>\n",
              "      <td>-0.073333</td>\n",
              "      <td>-0.071504</td>\n",
              "      <td>0.092326</td>\n",
              "    </tr>\n",
              "    <tr>\n",
              "      <th>Rainfall(mm)</th>\n",
              "      <td>-0.130012</td>\n",
              "      <td>0.015002</td>\n",
              "      <td>0.049587</td>\n",
              "      <td>0.234570</td>\n",
              "      <td>-0.021349</td>\n",
              "      <td>-0.160167</td>\n",
              "      <td>0.123801</td>\n",
              "      <td>-0.073333</td>\n",
              "      <td>1.000000</td>\n",
              "      <td>0.022533</td>\n",
              "      <td>0.041033</td>\n",
              "    </tr>\n",
              "    <tr>\n",
              "      <th>Snowfall (cm)</th>\n",
              "      <td>-0.152674</td>\n",
              "      <td>-0.025099</td>\n",
              "      <td>-0.217617</td>\n",
              "      <td>0.113030</td>\n",
              "      <td>0.005675</td>\n",
              "      <td>-0.121035</td>\n",
              "      <td>-0.149916</td>\n",
              "      <td>-0.071504</td>\n",
              "      <td>0.022533</td>\n",
              "      <td>1.000000</td>\n",
              "      <td>-0.120074</td>\n",
              "    </tr>\n",
              "    <tr>\n",
              "      <th>Id</th>\n",
              "      <td>0.385692</td>\n",
              "      <td>0.007836</td>\n",
              "      <td>0.573158</td>\n",
              "      <td>0.172143</td>\n",
              "      <td>-0.154623</td>\n",
              "      <td>0.107358</td>\n",
              "      <td>0.559089</td>\n",
              "      <td>0.092326</td>\n",
              "      <td>0.041033</td>\n",
              "      <td>-0.120074</td>\n",
              "      <td>1.000000</td>\n",
              "    </tr>\n",
              "  </tbody>\n",
              "</table>\n",
              "</div>"
            ],
            "text/plain": [
              "                          Rented Bike Count      Hour  ...  Snowfall (cm)        Id\n",
              "Rented Bike Count                  1.000000  0.438274  ...      -0.152674  0.385692\n",
              "Hour                               0.438274  1.000000  ...      -0.025099  0.007836\n",
              "Temperature(C)                     0.552173  0.123896  ...      -0.217617  0.573158\n",
              "Humidity(%)                       -0.213094 -0.242656  ...       0.113030  0.172143\n",
              "Wind speed (m/s)                   0.121834  0.291002  ...       0.005675 -0.154623\n",
              "Visibility (10m)                   0.223890  0.117054  ...      -0.121035  0.107358\n",
              "Dew point temperature(C)           0.388431  0.003642  ...      -0.149916  0.559089\n",
              "Solar Radiation (MJ/m2)            0.269496  0.151203  ...      -0.071504  0.092326\n",
              "Rainfall(mm)                      -0.130012  0.015002  ...       0.022533  0.041033\n",
              "Snowfall (cm)                     -0.152674 -0.025099  ...       1.000000 -0.120074\n",
              "Id                                 0.385692  0.007836  ...      -0.120074  1.000000\n",
              "\n",
              "[11 rows x 11 columns]"
            ]
          },
          "metadata": {
            "tags": []
          },
          "execution_count": 26
        }
      ]
    },
    {
      "cell_type": "markdown",
      "metadata": {
        "id": "4QE1e81lWZSE"
      },
      "source": [
        "The code below calculates how all the columns are correlated to the rented bike count and displays only the ones that has a correlation of .30 or more"
      ]
    },
    {
      "cell_type": "code",
      "metadata": {
        "colab": {
          "base_uri": "https://localhost:8080/"
        },
        "id": "SqTxYyJu4CbL",
        "outputId": "bafb1c0d-ac93-4f79-8982-91da0f60480c"
      },
      "source": [
        "data_corr = data_corr['Rented Bike Count'][1:]\n",
        "data_corr[abs(data_corr)>=0.30].sort_values(ascending=False)"
      ],
      "execution_count": null,
      "outputs": [
        {
          "output_type": "execute_result",
          "data": {
            "text/plain": [
              "Temperature(C)              0.552173\n",
              "Hour                        0.438274\n",
              "Dew point temperature(C)    0.388431\n",
              "Id                          0.385692\n",
              "Name: Rented Bike Count, dtype: float64"
            ]
          },
          "metadata": {
            "tags": []
          },
          "execution_count": 27
        }
      ]
    },
    {
      "cell_type": "markdown",
      "metadata": {
        "id": "jFdmV3DBXYUE"
      },
      "source": [
        "Since temperature has the highest correlation I decided to use it for the model"
      ]
    },
    {
      "cell_type": "code",
      "metadata": {
        "id": "i1IQTCmp4Raq"
      },
      "source": [
        "df_train = train[['Temperature(C)', 'Rented Bike Count']]\n",
        "df_test = test[['Temperature(C)']]"
      ],
      "execution_count": null,
      "outputs": []
    },
    {
      "cell_type": "markdown",
      "metadata": {
        "id": "l4kJ_c8DYNPu"
      },
      "source": [
        "I used plotly to visualize the linear realtionship between temperature and the rented bike count\n"
      ]
    },
    {
      "cell_type": "code",
      "metadata": {
        "colab": {
          "base_uri": "https://localhost:8080/",
          "height": 612
        },
        "id": "VOQNOjjer-8i",
        "outputId": "62cf56ed-8da4-4cbe-9b4e-10fa5fef74a8"
      },
      "source": [
        "import plotly.express as px\n",
        "fig = px.scatter(df_train, x = 'Temperature(C)', y = 'Rented Bike Count', trendline = 'ols' )\n",
        "fig.show();"
      ],
      "execution_count": null,
      "outputs": [
        {
          "output_type": "stream",
          "text": [
            "/usr/local/lib/python3.6/dist-packages/statsmodels/tools/_testing.py:19: FutureWarning:\n",
            "\n",
            "pandas.util.testing is deprecated. Use the functions in the public API at pandas.testing instead.\n",
            "\n"
          ],
          "name": "stderr"
        },
        {
          "output_type": "display_data",
          "data": {
            "text/html": [
              "<html>\n",
              "<head><meta charset=\"utf-8\" /></head>\n",
              "<body>\n",
              "    <div>\n",
              "            <script src=\"https://cdnjs.cloudflare.com/ajax/libs/mathjax/2.7.5/MathJax.js?config=TeX-AMS-MML_SVG\"></script><script type=\"text/javascript\">if (window.MathJax) {MathJax.Hub.Config({SVG: {font: \"STIX-Web\"}});}</script>\n",
              "                <script type=\"text/javascript\">window.PlotlyConfig = {MathJaxConfig: 'local'};</script>\n",
              "        <script src=\"https://cdn.plot.ly/plotly-latest.min.js\"></script>    \n",
              "            <div id=\"aa82342d-7014-4021-8520-51e47e16df7c\" class=\"plotly-graph-div\" style=\"height:525px; width:100%;\"></div>\n",
              "            <script type=\"text/javascript\">\n",
              "                \n",
              "                    window.PLOTLYENV=window.PLOTLYENV || {};\n",
              "                    \n",
              "                if (document.getElementById(\"aa82342d-7014-4021-8520-51e47e16df7c\")) {\n",
              "                    Plotly.newPlot(\n",
              "                        'aa82342d-7014-4021-8520-51e47e16df7c',\n",
              "                        [{\"hoverlabel\": {\"namelength\": 0}, \"hovertemplate\": \"Temperature(C)=%{x}<br>Rented Bike Count=%{y}\", \"legendgroup\": \"\", \"marker\": {\"color\": \"#636efa\", \"symbol\": \"circle\"}, \"mode\": \"markers\", \"name\": \"\", \"showlegend\": false, \"type\": \"scattergl\", \"x\": [2.8, 17.7, 28.6, 12.6, -7.2, -6.6, 22.2, 21.6, -11.5, 15.7, 1.3, 3.2, 4.3, -4.3, 22.4, 18.0, 26.7, 8.6, -6.7, 12.8, 13.2, 21.3, 32.8, 21.3, 16.9, 13.0, 31.1, 16.5, 27.9, 28.0, -1.8, 2.4, 16.0, 5.4, 2.0, -10.6, 3.2, 11.8, 30.5, 18.5, 29.1, 2.2, 19.1, 27.6, 16.6, 21.9, 12.1, -5.8, 31.4, 19.1, 7.7, -6.9, 31.5, 24.2, 21.6, 23.4, 22.5, 4.8, 31.0, 7.7, 26.3, 5.4, 11.4, 17.1, -1.6, 22.2, 20.7, 2.7, 4.1, 31.2, 30.9, 20.0, 28.9, 12.1, 15.3, -10.5, 1.8, 7.1, -8.5, -1.6, -17.5, -4.3, 13.2, 20.6, 10.2, -11.8, -5.5, -3.0, 4.1, 30.7, 20.3, 13.2, 28.6, 6.8, 22.5, 22.6, 5.4, 3.6, 19.1, -12.7, 29.5, 21.1, -8.5, 12.1, 0.8, -10.7, 22.0, 2.9, 7.7, 27.5, -15.2, 4.8, 17.0, 16.9, 19.7, 13.1, 22.4, -7.6, 12.5, 29.9, -3.7, 21.7, 0.5, 28.2, -8.3, 28.1, 16.6, 22.4, 21.1, 8.4, 8.9, 11.8, 18.4, 12.2, 25.8, 23.6, 28.8, 27.3, -0.4, 12.7, 15.2, 26.8, -1.9, 4.6, 17.9, 1.6, 26.4, 2.4, 14.0, 8.4, 12.0, 5.1, 10.0, 6.9, 16.3, -4.7, 23.9, 7.9, 22.6, 16.1, 23.7, 20.7, 5.4, 5.2, 25.7, 21.7, 7.6, 28.2, -6.8, -10.6, 12.2, 10.8, 2.8, 36.3, 22.6, 24.9, 11.8, 16.9, 27.9, -4.0, 14.3, 24.2, -4.1, 22.8, 24.1, 14.1, -1.3, 16.7, 31.3, 16.1, 15.3, -5.7, 13.5, 13.2, 5.2, -11.5, -2.0, 6.2, 1.5, 6.7, -16.2, 30.6, 22.7, 10.3, 24.5, 8.7, 28.5, 6.3, 4.0, 6.7, -13.2, 20.2, 25.5, 9.0, 28.0, 27.9, 13.7, -5.3, 20.2, 8.4, 8.9, 27.9, 29.3, 31.8, 19.7, -12.0, 30.6, 13.6, 20.1, -13.3, -2.6, 7.0, 25.2, 27.5, 6.5, 12.2, 30.7, -5.1, -5.3, 20.1, 2.8, 12.7, 21.2, 10.3, -15.9, 29.4, 35.4, 24.3, 1.6, 31.6, 4.5, 2.6, -1.5, -2.4, 17.8, 24.9, 12.1, 25.7, 24.7, 25.6, 18.8, 6.3, 22.0, 22.1, 10.6, -5.7, 0.4, -17.5, 5.9, 24.5, 25.5, 12.2, 26.9, 18.1, 19.1, 30.6, -11.2, 4.7, 1.0, 27.9, 18.4, 6.4, -7.0, 5.7, 19.1, 26.6, 3.3, 11.3, -6.1, 25.7, -0.1, 17.6, 19.4, 23.0, 5.2, -7.8, 16.0, 21.1, 7.4, 21.6, -6.3, 30.2, 1.8, 13.8, 12.4, 33.8, 22.4, 10.5, 18.6, 23.1, 3.9, 14.2, 25.7, 16.8, 7.1, 0.3, 10.8, 21.2, 6.8, 17.9, 26.4, 8.3, 19.1, 13.3, 12.3, 9.0, 15.8, 24.0, 0.3, -5.9, -5.6, 1.9, -13.1, 14.6, 19.6, 26.0, 28.0, 32.3, -11.6, -5.3, -8.1, 9.6, 14.5, 20.0, 34.5, 7.6, 5.3, 20.5, 20.9, 9.4, -3.1, 5.1, 7.2, 25.2, 5.2, 19.9, 19.7, 14.6, 12.1, 14.7, 17.5, 15.8, 14.0, -12.5, -7.6, -4.3, 12.2, 19.2, -5.6, 20.3, 16.9, 20.9, 7.1, 35.3, 12.2, 31.0, 5.4, -9.6, 9.1, 12.3, 16.9, -1.4, 23.6, -8.9, 20.7, 7.8, -15.7, 27.7, 8.0, 22.0, 10.1, 1.5, 21.7, 15.0, -1.5, 0.6, 7.9, 20.0, -13.6, 37.0, -5.5, -6.4, -2.7, 20.1, 23.7, -0.9, 23.6, 23.6, 22.7, 22.3, 18.9, 13.9, 25.1, 23.7, 29.1, 15.0, 26.4, 0.9, 29.0, -7.6, 20.3, 35.1, -8.2, 19.4, -6.5, 22.2, 20.5, 8.2, 7.4, 12.0, 28.8, 28.5, 21.3, 2.3, 15.2, 18.9, 29.8, 12.9, 8.9, 1.3, 20.0, 19.9, -13.2, -5.2, 28.1, 16.2, 26.2, 16.3, 17.4, 12.7, 21.8, 18.1, 13.0, 25.0, 21.1, 32.7, 16.2, 14.6, 9.1, 23.1, -4.7, -6.6, 25.4, -11.6, 27.5, 24.3, 13.4, 5.1, 23.4, 8.0, 20.0, 25.7, 5.1, -4.3, 11.2, 9.9, 30.4, 9.9, -10.6, 17.7, 23.3, 9.6, 17.0, 34.9, 39.0, 4.9, 5.3, 20.8, 20.6, 36.3, 26.1, 1.9, 0.3, 17.1, 15.1, 2.6, -7.0, 23.4, -2.4, -15.4, 6.3, -14.3, 1.3, 11.6, 25.6, 27.6, 14.3, 14.6, -4.4, 11.2, 10.7, -8.0, 8.5, 21.7, 8.5, 14.7, 27.3, 12.6, 28.1, -11.1, 7.5, 28.5, 8.4, 13.5, 26.2, 4.3, -17.4, 20.9, 14.2, 32.1, 33.6, 10.2, 30.6, 4.7, 18.0, 24.6, 24.3, -6.0, 12.2, 0.2, 22.8, 29.1, 26.8, -11.8, -7.4, 4.4, 15.9, 20.2, 17.1, 34.2, 25.9, 5.2, 20.1, 2.5, 22.7, 25.5, 7.1, 9.1, 34.2, 9.3, -7.0, 3.9, -6.1, 20.7, 15.7, 23.7, 33.6, 18.0, 18.0, -1.8, 7.1, 7.6, 27.6, 33.0, 33.1, -7.6, 6.6, 21.4, 9.1, 16.3, 15.3, 7.1, 23.1, 0.7, 34.3, -15.9, 20.1, -1.7, -1.1, -12.1, 34.5, -2.0, 23.8, 2.8, 31.3, 9.4, 14.9, 17.4, 14.8, -3.6, 10.6, 34.0, 9.8, 20.6, 21.0, 28.4, 25.2, 15.7, 9.5, 12.6, -0.1, 13.0, 4.4, 17.1, 6.8, 14.2, 22.5, -11.8, 21.2, 10.6, -9.2, 27.8, 6.7, 5.0, 20.6, 9.6, 9.4, -9.4, 27.8, -5.9, -4.1, 26.7, 0.0, 21.0, -1.8, 26.7, 16.6, -5.9, 24.6, -11.0, 18.6, 18.3, 11.1, 23.4, 21.0, 4.5, 27.7, 12.1, 22.1, -12.8, 20.1, -0.5, 25.9, 32.3, 10.9, 10.9, 29.5, 0.8, 3.8, -15.6, 31.5, 17.6, 12.6, 21.3, 8.9, 11.6, 29.8, 29.6, 5.1, 1.5, 35.9, -4.0, -2.9, -13.5, 30.7, -1.9, -2.4, 12.1, 32.8, 23.6, -6.3, 9.6, 3.9, -6.7, 4.2, 10.2, 25.4, -1.3, 0.4, 18.2, 13.2, -5.5, 6.8, 29.8, 18.5, 4.3, 24.2, 19.5, 11.0, 12.4, 15.1, -4.9, 31.7, 19.6, -2.6, 23.2, 26.0, 15.7, 3.7, 9.4, -10.4, 22.0, 1.1, 16.4, 18.1, 0.2, 23.4, -5.5, 1.1, 3.3, 0.9, 29.0, 19.2, 11.4, 33.2, 31.3, 24.4, 21.2, 14.4, 23.5, 28.1, 27.8, 22.8, 27.2, -6.0, 22.0, 12.8, 12.2, 26.4, -7.1, 23.2, 3.8, 33.4, 28.0, 14.2, -4.2, 35.0, 16.4, 1.1, 20.2, 10.4, 16.9, 14.6, 0.6, 4.4, 35.0, 29.9, 20.9, 28.4, 9.7, 16.2, 8.1, 25.0, 17.1, 28.9, 2.4, 6.1, 24.7, 15.3, 17.5, 27.4, 15.9, 7.3, 24.8, -2.7, -1.1, 20.7, 24.7, 1.6, 5.4, 14.5, 30.6, 14.7, 16.2, -4.4, 18.6, 18.7, 9.9, 6.2, 15.8, 22.0, 22.0, 27.0, 18.2, 24.8, 4.9, 24.2, 12.0, 24.7, -0.7, 30.2, 26.3, 9.8, 36.3, 26.4, 23.0, 6.7, 2.8, 24.8, 18.9, 15.4, 37.4, 4.3, -6.6, 11.7, 31.6, 14.9, 13.8, 25.1, 13.7, 20.5, -15.7, -0.5, 27.4, 13.5, 7.5, 13.9, -5.3, -8.2, 21.4, 20.4, 1.1, 7.8, 23.1, 21.7, 8.5, 27.8, 22.4, 16.1, 7.9, 25.5, 11.4, 25.7, 16.8, 29.2, 37.8, -3.9, 5.2, 15.5, 18.5, -12.6, -3.5, 1.9, 12.6, 23.3, 14.7, 9.3, 15.8, 18.7, 35.2, 12.1, 10.2, 21.9, 13.7, -10.2, 28.8, 3.6, 21.6, 32.4, 30.7, 12.3, 17.2, 20.4, -7.2, 24.5, 22.6, 21.9, 18.8, 14.1, 5.3, 5.2, 13.1, 19.1, 34.3, 24.1, 5.1, 20.5, 17.6, 18.5, 11.6, 18.9, 13.8, 6.0, -6.8, 19.0, 18.3, 5.2, 19.3, 0.5, 11.8, 0.5, 7.8, 16.6, 9.8, 27.2, 8.8, 8.7, 9.5, -0.6, 24.4, -5.6, 19.1, 24.2, -16.9, 7.7, 23.5, 20.2, 22.0, -5.2, 17.1, 22.9, 12.6, 10.9, 5.2, 8.1, 16.8, 24.3, 11.9, 12.7, 1.9, 23.8, 3.5, 3.8, 21.2, -6.4, 7.2, -8.4, 14.4, 2.4, -14.4, 13.3, -3.4, 16.1, 11.9, 24.7, 17.9, 2.8, 24.3, 4.1, 4.5, -1.8, 28.2, 19.3, 30.5, 3.8, 8.1, 31.2, 15.5, 24.5, 21.2, 4.8, 32.1, -0.1, 31.8, -3.4, 2.5, 25.8, 4.7, 15.8, 1.0, 30.5, 2.5, 21.6, 26.4, -4.0, 18.9, -3.2, 15.0, 27.5, 16.2, 21.8, 28.3, 23.9, 10.8, 13.7, 15.1, 13.3, 4.0, 6.0, -1.7, -6.5, 18.9, 9.8, -6.6, -3.9, -8.5, 33.9, -6.0, 20.1, -9.6, -2.5, 19.5, 24.0, 23.9, 22.1, 14.4, 30.3, 20.3, 29.5, 5.0, 19.2, -3.1, 14.8, 2.0, 17.5, 8.1, 5.7, 18.0, 21.9, 6.9, 3.8, 5.1, -5.4, 19.7, 27.0, 24.2, 0.9, 7.0, 15.1, 31.1, 30.7, 22.3, 19.3, 2.9, 0.3, 19.1, 24.7, 26.2, -0.9, 6.1, 32.2, -2.2, -0.5, 5.9, 33.8, -1.9, 29.2, 10.4, 22.2, 14.4, 15.9, 9.9, 0.0, -3.2, 35.3, 35.2, 24.9, 22.5, 24.5, 3.8, 7.6, 0.9, 7.7, 17.5, 15.8, 10.6, 11.1, -5.4, 0.9, 7.2, 11.9, 24.3, 25.1, 27.0, 18.7, 29.2, 5.7, 23.3, 2.7, 13.4, 1.1, -10.4, 23.4, 28.3, -4.3, -2.2, 0.8, 19.1, 33.5, 28.2, -12.3, 5.8, 23.7, 30.4, 9.5, 0.9, 11.1, 24.4, 0.8, -1.5, 22.5, -1.8, 26.5, 18.8, -9.3, 27.1, 28.2, 15.6, 21.5, -4.8, 4.1, 6.8, 18.4, 4.2, 14.2, 9.5, 18.9, 28.4, 22.3, 20.1, 21.4, 30.5, 3.6, 2.7, 17.4, 29.9, 2.5, 8.3, 12.9, 20.4, 0.5, 5.5, 21.6, 2.3, 21.5, 20.7, 18.3, 25.6, -2.1, 12.3, 26.3, 30.3, 24.1, -3.5, 25.8, 4.7, 2.7, 0.1, 0.8, 2.7, -0.9, 20.7, 20.2, 24.7, -6.4, 5.8, 29.6, 5.8, 14.1, 26.3, -4.0, 22.0, 12.3, 28.7, -9.0, 7.2, 10.6, 21.7, 36.7, 26.0, 28.3, 3.0, 21.0, 8.0, 0.8, 9.3, 3.0, 26.4, 11.4, 10.7, 25.2, 20.9, 8.9, 34.1, 16.0, -12.3, -4.7, 10.2, 2.8, 15.2, 20.8, 17.9, -0.2, 21.8, 24.2, 21.7, 5.4, -6.7, 10.3, 10.8, 30.2, 27.6, 21.1, 28.3, 24.6, 14.8, 9.2, 7.6, 21.3, 11.7, 27.0, 16.6, 10.1, -4.3, -3.4, 23.7, 23.0, -1.0, 6.0, 27.4, 5.7, 7.6, 21.0, 11.4, 11.4, 23.1, 6.1, 11.2, 31.6, -9.5, 17.5, 19.1, 3.3, 23.1, 2.2, 27.4, 13.1, -7.5, 25.3, 1.1, 10.5, 5.0, 17.7, 2.9, -1.1, 22.6, 5.1, 9.3, 2.1, -6.4, 19.3, 16.6, 12.2, 5.7, 27.5, 5.3, 5.8, 23.5, 10.8, 0.8, 3.9, -4.6, 2.3, 23.5, 19.4, 19.0, 14.3, 14.5, 23.4, 20.8, 5.0, 21.5, 2.1, 21.9, 21.5, 13.1, 0.1, 5.8, -2.1, 7.9, 21.5, 19.3, 6.1, 35.4, 4.5, 31.8, 29.3, 0.0, 27.8, 19.0, -10.5, 5.9, 3.1, 11.6, 20.1, -13.0, 5.4, 1.1, 7.3, 30.5, 14.9, 23.9, 10.3, 10.3, 23.3, 5.8, 15.1, 20.8, 14.8, 19.5, 23.5, -2.9, 15.7, 26.1, 20.5, 23.6, 34.4, -10.4, 27.8, 21.8, -9.1, 16.6, 7.5, 5.9, 10.3, 25.5, -0.4, 18.5, 10.4, 17.8, 24.5, 0.6, 14.3, 2.0, 20.5, 27.7, 6.0, 3.1, -11.7, 2.1, 25.2, 2.0, 20.2, 24.4, 24.9, 15.4, -1.5, 19.5, -4.9, 8.1, 21.5, 1.8, 11.3, 0.0, 23.5, 9.6, 29.3, 28.7, 22.9, 28.0, 9.4, 2.3, 1.3, 21.7, 27.3, 6.9, -12.1, 28.9, 14.2, -10.3, 31.1, 1.3, 17.2, 23.7, 29.1, 17.5, 18.6, 16.1, 20.9, 8.5, 24.8, 27.3, 30.5, 29.8, 4.9, 9.4, 5.9, -3.1, 18.2, 15.8, -10.8, 3.7, 27.3, 4.0, 12.4, 8.1, 29.4, 0.8, 10.4, -5.3, 18.8, 4.2, 16.2, 17.4, 9.2, 25.5, -1.4, 30.0, 25.0, 0.3, 12.2, -1.7, 19.8, 12.8, 12.0, 24.3, 34.1, 8.3, 31.1, -1.9, 16.9, 5.1, 24.6, 20.9, 2.6, 24.0, 14.2, -7.8, 13.5, 6.4, 29.4, 23.0, 25.3, 27.7, 9.6, 15.8, 13.9, 24.1, 34.7, -0.8, 28.2, 29.6, 9.7, 32.3, -1.1, 19.4, -3.7, 34.1, 7.3, -16.1, 10.2, -0.4, 21.8, 21.6, -4.9, -12.8, 23.4, 13.9, -13.8, -2.6, -15.4, 25.8, 20.5, 17.9, 29.8, 11.6, 9.9, 26.3, 24.3, 24.5, 35.4, -3.4, -1.4, 27.2, -15.1, 23.5, -8.0, 21.1, 33.5, 35.2, 22.1, 22.6, 36.5, 11.1, 34.3, 28.8, 9.0, 20.2, 27.2, -5.2, 5.5, 25.7, 25.3, 9.2, 8.0, 0.6, 31.3, 5.5, 3.5, -3.5, 1.2, -1.8, 11.0, 10.8, 13.3, 26.2, -4.6, 20.2, 17.7, 25.3, 25.0, 22.7, 2.8, 2.9, 19.2, 4.1, -14.6, 25.5, 7.2, -0.9, 19.0, 14.1, 10.8, 15.0, 11.4, 24.4, 4.8, 8.2, 21.7, 18.5, 27.4, 11.6, 19.6, 9.6, 21.1, 23.4, 21.5, 23.6, 11.0, 5.3, 20.3, 26.2, 13.8, 6.4, 21.0, -12.0, -4.9, 6.1, -5.7, 18.7, 13.3, 5.2, 4.9, 10.6, 11.7, 3.9, 16.4, 18.4, 0.0, 21.9, 8.8, 18.7, -0.1, 26.6, 18.1, 10.1, 8.3, 12.3, 11.4, 25.1, 11.1, 20.5, -5.9, 21.5, -1.5, 1.9, 3.9, 20.4, 28.5, -2.7, 18.4, 6.5, -7.5, 7.5, 16.2, 11.2, 24.5, 33.9, 20.3, 4.0, -5.2, 2.6, 18.2, 16.6, 14.1, 11.3, 3.6, 24.1, 20.7, 21.7, 2.8, 26.8, 0.6, 4.2, 33.8, -2.4, 23.2, 6.5, 19.5, 13.4, 26.4, -6.6, 1.7, 26.7, 8.6, 22.2, 33.1, 28.3, 28.9, 24.9, 10.4, 10.6, 4.6, 15.2, 23.8, 13.0, 4.6, 0.8, 21.5, 28.3, 24.4, -6.5, 2.6, -5.3, 19.8, 10.6, 8.1, 28.2, 6.2, 9.1, 16.7, 8.2, 15.4, 6.9, 24.2, 6.0, 12.4, 22.6, 25.1, 6.0, -0.7, -10.7, -6.7, 10.0, 2.9, 18.2, -11.4, 17.4, 4.4, 9.4, 37.9, -0.1, 22.8, 20.5, 30.4, 4.2, 22.5, 1.5, 13.4, 16.4, 8.8, 24.9, 22.0, 22.6, 14.5, -7.9, 0.5, 32.9, 15.1, 4.0, 26.4, -0.7, 24.2, 8.9, 21.1, -0.2, 16.8, 2.4, 28.1, 20.4, 2.6, 31.6, 22.6, -1.8, -5.8, 9.3, 17.9, 11.6, 12.7, 3.9, 1.7, 28.4, 8.7, 24.1, 13.2, -14.6, 14.5, 3.1, 25.9, -5.7, -0.5, 12.5, 31.7, 9.4, -2.6, 23.1, 17.8, -8.1, 0.3, 19.6, 28.6, 12.3, 16.7, 2.7, 32.4, 29.3, 22.3, 3.2, 11.1, 31.1, 22.6, 12.7, 34.7, 18.1, 8.0, 22.4, 32.0, 19.7, 18.9, -7.3, 25.5, 33.5, 18.0, 20.8, 3.5, 8.6, 23.0, 21.6, 5.4, -6.1, 9.4, -6.2, 4.3, 22.6, -7.2, -4.8, 18.9, -9.7, 4.8, 26.7, 9.8, 20.3, -7.7, 4.0, 26.5, 3.5, 13.9, 32.1, 14.5, 32.3, 7.5, 13.9, -10.3, -5.3, 26.8, 23.8, 27.2, 9.2, 5.3, 6.3, 33.5, 4.2, 10.7, 6.8, 8.6, 28.7, 29.0, 14.4, 21.6, 20.8, -8.4, 20.0, 9.6, 23.1, 32.3, 8.4, 22.0, 4.2, 13.9, 17.0, 7.4, 27.4, -5.3, 8.1, -5.8, 4.2, 11.6, 9.7, 33.2, 25.8, 30.0, 9.3, 18.8, 17.6, 21.9, 31.0, 9.5, 25.9, 15.5, 7.3, 1.4, 7.1, 7.7, 34.4, 29.4, 14.9, 6.1, 20.2, 31.1, -6.3, -0.9, 3.0, 11.0, 3.9, -0.9, 16.6, 1.0, 15.3, 14.7, 34.5, 23.3, 5.7, 21.1, 4.3, -9.3, 33.4, -8.3, 15.0, 21.5, 2.5, 3.6, 6.8, 19.0, 16.7, -2.9, 19.0, 15.1, 6.2, 9.4, -4.7, 32.8, 7.2, 28.5, 18.1, 19.2, 19.0, 34.0, -4.8, -1.2, 0.8, 8.5, 2.6, 23.8, 19.0, 13.8, 32.9, 19.2, 28.8, 19.1, 23.2, 10.7, 13.9, 20.3, 1.1, 28.7, 19.4, 15.5, 1.4, 15.6, 13.2, -1.3, 23.8, -2.6, 6.7, -2.5, 4.4, 1.5, 8.2, 27.1, 13.0, 6.4, -3.8, 10.7, 3.0, 20.3, 19.6, 9.0, 5.7, 20.2, -3.5, 7.0, 5.2, 3.7, 23.3, 27.2, 11.5, -9.4, 9.9, 28.2, -2.5, 28.1, 28.9, 29.9, 11.4, 1.9, 18.3, 19.3, 32.9, 15.1, 17.6, 23.4, 7.3, 19.8, 16.2, 10.8, 7.8, 9.3, 5.9, 31.7, 33.9, 29.4, -5.9, -7.5, 24.5, 16.3, 18.5, 1.9, 19.9, 22.1, 26.6, 1.2, 6.3, 6.4, 9.5, 21.7, 25.6, 7.0, 3.6, 7.5, -5.8, 11.5, 32.8, 23.9, 6.9, -5.2, -0.8, -5.5, 7.0, 27.3, 26.6, -9.4, 23.1, 23.9, 15.6, -7.5, 14.1, 27.1, 3.6, -6.0, 17.8, 31.5, 0.3, 3.8, -0.4, 19.1, 19.2, 4.2, 25.2, 4.7, 7.2, 10.2, 16.6, 3.2, 2.0, 22.1, 19.0, -8.5, 23.3, 20.5, 16.6, 1.2, 31.3, 19.4, 0.3, 25.6, 11.8, 27.5, 27.2, 25.2, 16.3, -6.4, 15.1, 24.1, 26.1, -1.0, 8.0, 19.1, -1.2, -12.5, 5.1, 7.8, 32.4, 10.1, 1.0, 9.3, -7.0, -12.9, -0.9, 5.7, 12.7, 6.5, 6.5, 6.6, 19.3, 29.2, -11.2, 32.4, 11.7, 24.3, 8.6, 11.4, -6.0, 1.5, 13.3, 17.0, 35.8, 21.5, 3.7, 15.8, 26.6, 6.5, 9.2, 12.7, 21.6, 32.3, 19.5, 23.7, 16.4, 28.1, -6.0, 5.4, 23.4, 28.0, 28.1, 27.7, 37.4, -2.1, 8.7, 13.8, 12.4, 28.4, 2.0, 10.0, -3.5, 25.7, 1.3, -2.9, -5.5, 19.8, 3.5, 26.1, -11.8, 26.1, 23.5, 2.7, 33.8, 7.2, -4.9, 3.0, 9.2, 21.3, 31.6, 27.5, 25.5, 26.7, 11.6, 3.4, -3.3, -1.3, 28.6, 15.3, 2.7, 29.5, 20.2, 18.6, 14.9, 22.9, 18.1, 16.7, 29.3, -10.0, 8.3, 11.7, -0.5, 28.0, -7.4, 1.5, 23.7, 9.5, -7.7, -2.0, 20.2, 24.0, 12.1, 4.1, 22.5, -5.3, 1.5, 22.9, 2.1, 3.6, 27.8, 25.4, 7.5, -4.6, 5.7, 33.1, -0.9, 4.7, 0.9, 30.9, 8.6, 2.9, 8.8, 29.4, 35.4, -2.9, 10.3, 10.7, 36.7, 11.3, 5.6, -5.6, 3.9, 3.8, 6.9, 33.6, -0.8, -7.7, 34.5, 20.3, 18.2, 25.2, 21.9, -0.9, 29.9, 17.6, 16.1, 16.2, 32.4, 36.8, 10.1, 28.5, -3.0, 4.5, -10.2, 19.5, 6.3, 22.3, 6.2, 11.8, -8.3, 8.7, 7.7, 35.5, 4.7, 36.7, 4.9, 2.2, 1.0, 1.7, -3.1, 19.4, 2.8, 25.4, 24.7, 24.5, 22.2, 24.4, 5.2, 16.0, 18.9, -2.2, 3.4, 0.1, 27.2, 10.2, -4.5, 13.3, 12.1, 7.1, 10.4, 3.4, 31.6, 22.7, 12.8, 3.1, 28.6, 18.4, 5.3, -0.5, 12.3, 0.1, 19.7, 20.8, 0.7, 24.0, 32.5, 20.4, -8.2, 36.1, 1.4, 3.1, 26.7, 8.0, 1.0, 8.8, 10.9, 0.6, 24.3, 10.6, 23.8, 24.2, 2.2, 5.1, 32.4, 12.7, 10.9, 6.7, 2.2, 7.7, 23.5, -9.6, 10.6, 18.9, 22.6, 22.0, 14.0, 9.0, 12.9, 12.7, 23.5, 26.9, 15.5, 11.2, 16.5, 20.6, 4.7, 8.3, -7.9, -8.1, 20.7, 27.8, 18.0, -1.2, 28.2, -5.1, 25.7, 7.5, 24.3, -8.6, 28.3, 32.9, 20.2, 26.2, 18.9, 14.4, 19.1, 18.6, 1.8, -2.6, -3.4, 24.9, 30.7, 16.5, 2.0, 14.7, 22.3, 8.2, 1.5, 10.3, -13.2, -10.5, 29.4, 6.8, 1.6, 6.4, 5.5, 36.1, 2.8, 7.6, 3.6, -9.6, 6.3, 12.1, 1.9, -12.5, 29.7, 34.9, -0.3, 2.6, 18.7, 10.2, 12.6, 18.1, 24.0, 8.5, 21.6, -0.7, 24.0, 20.1, 5.5, -4.6, 7.3, 4.7, -3.8, 27.8, 30.4, 2.0, 15.7, -7.5, -11.2, 4.0, 28.1, 0.3, 4.6, 2.8, 22.2, -7.0, 26.2, -1.1, 20.8, 12.1, 13.0, 11.9, 19.9, 7.6, 6.3, 15.9, 13.9, 28.3, -15.2, 6.7, -3.8, -1.6, 21.8, 27.4, 33.9, 14.4, 12.9, -1.1, 6.5, 14.1, 2.7, -1.5, 21.0, 26.9, 22.7, 7.7, 4.2, -1.2, -4.6, 11.8, 21.3, 7.4, 4.4, 9.9, 18.5, 23.3, 16.2, 19.0, 18.4, 16.8, -15.3, 20.3, 29.0, 11.7, -2.4, 20.0, 37.3, 18.8, 31.3, 4.3, -13.1, 28.2, 3.9, 24.7, 7.9, 7.6, 19.9, 1.5, 5.2, 17.1, 19.8, 32.0, 18.8, 19.0, 28.0, 31.6, 26.9, 4.3, 1.6, 27.4, 29.9, 27.9, 3.2, -2.8, 15.2, -7.4, 6.8, 29.2, 20.5, 7.2, 6.7, -6.8, 25.8, 28.5, 24.1, 18.4, 9.4, 24.2, 14.2, 1.4, -7.9, 16.9, 25.4, 7.8, 25.0, 19.5, 25.0, 26.0, 9.6, 2.1, 5.3, 16.6, -10.2, 14.7, 20.4, 16.3, -4.7, 7.6, 28.8, 19.4, 24.6, -1.6, 18.5, -5.8, 22.1, 32.9, 21.5, 20.5, 29.7, -5.7, -5.3, 34.1, 27.3, 1.5, 29.4, 9.2, 13.8, 24.4, 4.1, -7.3, 21.7, 6.0, 19.9, -6.5, -7.0, 36.5, 15.5, 6.6, 20.1, 23.1, 31.0, 1.1, -0.7, -0.6, 1.1, -3.6, 28.8, 1.6, -3.7, 29.1, -3.6, 7.9, 26.4, 33.1, -3.5, 14.0, 6.5, -10.4, 10.1, 21.4, -6.9, 13.7, 22.9, 26.6, -14.4, -6.5, 7.9, 4.7, 5.7, 5.0, -9.5, 27.2, 5.2, 21.2, 28.4, 28.1, -4.3, 31.6, 20.4, 22.7, 20.4, 12.4, 5.6, 18.8, 6.1, 3.6, 22.1, 32.7, 25.5, 0.6, -5.6, -16.0, -0.2, 21.5, 14.7, 29.8, 27.3, 33.2, 20.4, 26.9, -4.5, 25.4, 21.6, 28.4, 24.9, 3.2, 22.7, 19.7, 19.8, -6.7, -2.8, 6.0, 25.2, -7.9, 27.6, -7.8, 20.8, 23.6, 1.8, 11.7, 24.8, 30.2, 36.2, -15.3, 24.6, 3.6, -6.8, 3.9, 24.5, 19.5, 27.0, -6.0, 23.9, 10.9, 0.0, 2.7, 6.6, 31.0, 12.6, 0.5, 3.1, 14.8, 9.4, 24.6, 24.4, 11.7, 28.0, 26.7, 20.1, 23.8, 30.7, 21.9, 9.5, 22.1, 6.5, 2.2, 3.5, 4.3, 11.3, 1.7, 20.2, 20.7, -0.4, 32.6, 1.9, 22.1, 17.2, 27.7, 5.1, 26.0, 13.5, 12.3, 24.6, 11.4, 11.1, -3.4, 27.6, 30.1, 1.1, 18.6, 17.5, 26.5, 28.5, 10.8, 28.4, 3.9, -7.9, 7.0, 26.4, 30.9, 29.4, 4.1, 2.7, 3.7, 6.7, 5.8, -2.4, 5.6, -3.8, 33.1, -10.4, -2.6, 22.8, 21.2, 31.0, 4.9, 16.9, 30.1, 6.5, 3.3, 29.7, 15.4, 4.2, 22.3, 11.9, -3.8, 8.2, 8.8, 8.1, -2.0, 24.4, 0.6, 2.9, 10.8, 26.9, 18.0, 13.6, 21.0, -0.3, 23.0, 15.1, -3.5, 21.0, 28.3, 4.1, 19.0, 9.3, 17.4, 2.5, 20.0, 28.6, 17.9, 13.4, -0.2, 27.1, 7.1, 3.0, 16.2, 18.9, 11.5, 1.0, 17.6, 24.1, 24.1, 23.5, 33.6, 8.4, 9.2, 17.3, 20.6, 19.8, -0.5, 20.0, 16.7, 0.8, 0.1, 1.9, 24.7, -9.4, 8.5, 27.2, 26.6, 11.8, 0.9, 5.2, -8.8, 16.6, 6.1, 6.0, 28.1, 28.5, 24.8, 7.8, 12.2, -1.3, -6.4, -0.5, 7.8, 13.0, 13.0, 7.9, -6.0, 21.2, 18.6, -6.9, 13.0, -5.6, 13.5, 30.2, 4.8, 17.2, -1.9, 28.3, 24.2, -12.0, 13.7, 16.3, -13.9, -9.1, -11.5, 23.4, 8.9, 11.2, 25.1, 4.8, 2.6, 23.8, 2.1, 5.2, 22.0, 9.2, 28.2, 11.1, 3.5, 1.5, -12.3, 5.6, 25.0, 1.6, 23.2, 20.6, 11.3, 26.1, 20.6, 26.1, -7.7, -0.9, -3.9, 15.9, 16.8, 9.5, 3.0, 3.0, 8.9, 9.5, 22.2, 17.6, 11.4, 29.2, 12.7, 32.7, 29.3, 16.0, 0.5, 6.3, 13.3, 8.7, 13.8, 22.4, 26.9, 19.1, 13.7, -3.3, 2.6, 20.6, 18.5, 2.1, 7.2, 33.4, 16.5, 2.7, 9.9, -1.4, 11.8, -6.9, 22.0, -0.2, -3.4, 13.8, 24.3, 14.6, -3.8, 7.4, 19.7, 3.0, 22.1, 22.3, 10.8, 16.3, 21.0, 13.4, -1.3, 7.2, 36.4, 24.0, 26.6, 11.5, 20.6, 10.0, 34.4, 21.0, 17.7, 26.9, 19.7, 17.1, 17.9, 23.5, 19.6, -14.6, 11.7, 4.7, 11.0, 14.4, 21.0, 19.8, 25.0, 1.7, 24.3, 17.9, 19.9, 7.4, 6.9, 31.5, 17.8, 7.1, -14.1, -4.2, 20.7, 20.8, 24.6, 27.3, 19.7, 25.6, 14.2, 13.3, 3.5, 26.9, 7.1, 17.7, 18.1, -2.7, 18.7, 13.9, -5.1, 7.1, 11.6, 6.2, 23.9, 9.4, 25.7, -2.0, 16.8, -4.8, 30.0, 19.7, -5.6, 1.7, 0.6, 22.7, 7.1, 30.5, 2.1, 22.2, 20.2, 4.5, -10.2, 4.7, 18.1, 17.9, 34.3, 34.0, 10.0, -2.3, 19.4, 29.0, 2.0, -0.1, 5.0, 35.0, 26.9, 27.3, 19.4, 30.2, 24.1, -15.1, 20.6, 21.4, 7.6, 2.9, 21.5, -0.5, 16.3, 23.0, 18.7, 22.4, 7.2, 25.2, 9.8, 21.3, 22.1, 4.6, 26.8, 27.8, -7.5, 1.5, -1.2, -5.0, 19.8, 17.9, 9.3, 9.4, 21.0, 27.0, -5.5, 23.7, 15.2, -5.6, 25.7, 13.0, 0.3, 8.2, 25.6, 21.8, 3.1, 9.2, 11.5, -6.6, 4.4, 15.2, 20.7, 17.9, -5.3, -1.5, 15.6, 19.2, 0.7, 18.0, -9.5, 23.5, 30.0, 10.4, -11.8, 31.6, 26.2, -7.0, 9.8, 21.2, 22.5, 5.6, 14.6, -7.9, 23.2, 16.6, 23.8, 1.3, 14.7, -0.4, 8.1, 2.2, 20.2, 25.3, 19.6, 0.4, -11.3, 17.7, 26.8, 21.5, 26.9, -4.2, 5.9, 5.3, 32.6, 16.3, 4.9, 13.6, 2.3, -5.4, 17.8, 14.0, 8.0, 22.8, -12.4, -1.8, 32.1, -9.5, -0.1, 0.7, 15.1, 32.1, 19.1, 1.8, 15.3, 5.3, 13.8, 11.9, 9.0, 13.7, 11.1, 18.2, 25.3, 22.7, 25.8, 5.8, 29.4, 24.2, 5.3, 11.8, 18.8, 23.9, -1.4, 13.5, 10.8, -6.6, 18.5, 29.6, 31.7, 34.0, 26.8, 11.0, -3.7, 5.1, 19.4, 6.7, 24.6, 33.4, 10.1, 27.6, 7.3, 10.4, 25.1, 19.4, 17.2, 8.5, 12.5, 15.8, -5.4, 22.0, 22.9, -0.2, 9.0, 2.5, 28.5, 24.6, -13.3, -14.6, 17.1, 0.3, 4.9, 21.8, 12.8, -1.0, 9.0, -5.8, 11.6, 7.3, 27.9, 0.1, 29.7, 10.3, 13.0, 10.4, 31.0, 29.3, 25.4, 20.0, -2.7, 28.3, 19.5, -3.6, 23.8, 30.0, -7.4, 22.0, 5.1, 16.1, 30.9, 10.3, 9.5, 4.4, -1.3, 23.4, 2.7, 20.0, 18.5, 30.2, -5.5, 20.4, 34.9, 5.9, 0.6, 9.5, 31.2, 28.4, 26.3, 26.3, 6.3, 26.9, 23.5, 2.6, 7.6, 20.5, 20.4, 28.4, 17.2, -15.6, 12.5, 33.0, 21.9, 3.8, 32.3, 0.5, 26.5, 22.4, -0.4, 34.7, 23.3, 13.3, 12.8, 26.1, 16.5, -8.2, 24.6, 21.1, -7.7, 3.4, 29.8, 24.2, -7.8, 27.2, 29.4, 11.8, -7.8, 15.6, 23.3, 14.3, 28.0, 8.1, 12.9, 12.0, 2.7, -5.2, 27.8, 21.9, -9.8, 18.6, -0.5, 11.0, -3.8, 17.7, 2.6, -5.2, -1.4, 24.3, -11.0, 12.7, 15.5, 5.1, -12.0, 18.8, -1.5, 13.2, 15.0, 24.1, 3.6, 24.9, 0.6, 20.0, 7.7, 27.8, 8.4, 11.2, 13.6, 6.4, 21.4, -0.7, -5.8, 23.3, 24.8, -7.6, 4.3, 17.7, 4.8, 1.1, -5.8, -0.5, 1.2, 23.7, 21.8, -4.7, 2.0, 6.5, 33.4, 29.5, 0.8, -4.5, 7.8, 33.1, 23.7, 20.6, 10.6, -14.9, 12.1, 24.7, 8.8, 28.2, 20.6, 4.7, 23.4, 1.4, -2.3, -2.6, 9.3, 13.3, 1.7, 22.5, 20.9, -4.3, 27.6, -0.6, 35.6, 37.8, -15.0, 12.2, 8.1, 23.2, 15.3, -2.0, 32.4, 12.9, 15.0, 25.3, -6.2, 8.2, 10.2, 11.6, 28.5, 28.2, 7.3, 26.1, 5.6, 14.3, 0.1, 7.2, 24.7, 22.9, 10.0, 5.5, 21.2, 36.3, 16.2, -4.2, 33.7, 1.8, -8.5, 18.8, -6.7, -15.0, 7.6, 22.0, 29.9, 13.8, 27.2, 24.2, -1.7, 31.1, 19.7, 24.4, 14.7, 10.6, 0.7, 16.3, 26.4, -0.1, 5.3, -2.3, 12.8, -5.6, 20.9, -9.5, 13.9, 0.9, 21.2, 8.7, 2.3, 20.8, 34.9, 14.6, 21.3, 23.4, 1.5, -6.3, -8.2, 30.2, -1.1, 2.5, 5.7, 20.5, 17.6, 9.0, 0.0, 25.7, -4.3, 9.9, 23.4, -9.2, 26.2, 17.8, -0.4, 10.2, 27.7, 12.9, 26.7, 20.6, 27.1, -0.8, 17.5, -9.2, 34.5, 26.7, 18.7, 32.8, 34.8, 10.8, 8.1, 21.9, 9.1, 27.1, 37.6, 12.8, 20.0, 6.6, 32.0, 10.0, 0.0, -9.5, 8.6, 15.3, 28.5, 2.6, -5.3, -1.0, 1.1, 25.5, -6.2, 22.0, 10.6, 9.8, -8.8, 22.8, 19.5, 26.8, 22.2, 2.9, 7.9, 9.1, -11.4, -10.3, 7.3, 8.5, 25.5, 15.1, -2.5, 25.4, -2.1, 24.0, 15.2, 7.0, 22.3, -7.5, 5.1, 25.4, -9.7, 10.5, 1.6, 29.2, 7.9, -10.8, 14.3, 4.3, 4.3, -9.1, 16.7, 33.6, 11.9, 22.9, -10.5, 24.7, -12.3, 6.8, 12.8, -6.9, 3.5, 27.5, -4.7, 20.2, -2.6, 23.1, 23.3, 9.9, 10.9, -4.5, 7.4, -2.0, 27.8, 24.1, -4.6, 32.5, 19.1, 5.6, 35.7, 23.5, 23.7, 3.3, 31.1, 4.2, 25.9, 19.2, 16.5, 22.2, -6.3, -0.1, 15.5, 11.9, -0.8, 17.2, 20.3, 23.9, 28.8, 7.6, 28.6, 24.2, 15.0, 13.6, -3.1, 20.6, -2.2, 8.0, 23.9, 3.3, -2.2, 2.3, -9.0, 11.0, 5.4, 4.4, 21.3, 10.9, 2.8, 7.1, 0.8, -7.6, 1.8, 33.1, 24.5, 25.8, 8.3, 3.6, 12.1, 17.9, 0.5, 5.0, 28.1, -0.8, 0.9, 20.7, -4.6, 5.0, 9.3, 14.2, -2.1, 12.4, 10.3, -0.3, 9.7, -5.2, -5.9, 27.8, 28.8, 11.0, -2.3, 15.7, -0.2, 29.6, 5.5, 6.4, 20.2, 31.3, 17.3, 15.4, 13.9, -2.0, 13.6, 28.5, 32.7, -10.5, -2.4, 20.3, 13.7, 9.7, 21.7, 2.9, 22.8, 5.2, 20.2, 12.4, 21.4, 13.2, 11.3, 11.7, 27.5, 2.7, -6.3, 3.0, -8.6, 7.1, 10.5, 19.3, 19.4, 26.9, -11.3, 16.9, -11.5, 2.5, 21.5, 30.9, 17.2, 10.3, 36.6, 36.3, 19.1, 18.2, 24.1, 29.2, -3.2, 3.8, 3.4, 30.6, 25.4, 10.9, 1.3, 9.4, 18.2, 3.4, -17.8, -3.5, 18.1, 25.1, 9.5, 28.6, 28.0, 32.8, 10.8, 10.2, 18.2, 2.2, 18.3, 1.2, 22.6, 1.1, 17.8, 21.9, 22.5, 27.2, 10.5, 28.5, 4.7, 32.9, 26.9, 18.2, 29.7, 18.9, 2.8, 20.9, 29.8, 2.8, 19.7, 5.1, -4.9, 20.8, 5.5, 25.2, 8.4, 29.9, -0.6, 20.7, 0.7, 8.7, 20.7, 3.2, 2.9, -15.6, 6.5, -8.1, 25.6, -8.9, -3.3, 33.4, -12.5, 21.2, 32.9, 9.4, 19.5, 10.5, 17.3, 21.6, 28.5, 7.1, 0.9, 3.0, 8.6, 7.6, 19.9, 12.5, 18.9, 8.2, 17.5, 19.6, 9.9, 30.5, 23.8, 5.7, -8.6, -1.8, 39.3, 7.4, 19.1, 13.8, 9.5, 26.3, 18.4, 6.8, -12.4, 30.0, -0.7, -11.6, 12.2, 31.8, 1.6, 34.0, 6.9, 0.8, -12.7, 9.6, 24.2, 12.4, -4.2, 0.1, 20.3, 5.0, -4.4, 23.3, 3.1, 16.0, 16.8, 25.6, 3.7, -3.8, 14.2, 24.1, 1.8, 16.4, 18.4, 8.3, 23.9, 16.4, 19.3, 11.3, 11.8, 5.6, 20.5, 21.8, 22.4, 14.4, 23.3, 12.3, 23.7, 3.1, 28.3, 16.9, -11.1, 7.6, 2.5, 15.3, -0.6, 5.1, -1.5, 13.7, 24.5, 12.2, 20.3, 4.4, 11.6, -0.8, 12.6, 0.8, -6.9, 0.8, 24.6, 9.4, 3.0, 19.0, 4.7, 18.2, 18.9, 8.5, -4.4, -2.7, 6.9, 7.6, 22.6, 27.6, 24.9, 7.7, 27.9, 19.0, 22.7, -6.5, 6.1, 6.2, -1.4, 23.4, 2.6, 21.1, 24.4, 4.9, 21.8, 20.7, 22.7, 1.7, 15.5, 5.3, 0.8, -10.6, 25.4, 25.0, 10.0, 12.3, 22.5, 19.9, -9.7, 1.1, 7.1, 17.9, 18.0, 11.9, -1.4, 3.8, -3.7, 21.1, 30.4, 13.8, -5.7, 6.8, 19.1, 27.7, 16.9, 24.5, 5.4, 26.5, 27.0, 22.4, 2.1, 7.2, 4.8, 19.8, 27.0, 26.3, 5.0, 6.2, 7.3, 24.3, 4.1, 32.7, 21.3, -11.6, 19.2, -1.0, 0.0, 6.3, -5.7, 32.0, 5.3, 14.1, 11.1, 5.1, -11.5, 2.9, 30.1, 23.0, 33.6, 2.5, 10.2, 2.1, 22.3, 33.7, 13.4, 9.5, -11.5, 3.5, 19.7, -7.6, 6.4, 28.3, 14.3, 1.5, 31.5, 26.0, 8.2, 0.2, 5.7, 2.9, 2.2, 22.9, 23.4, 10.5, 29.3, 25.0, 13.5, 25.9, 11.3, 25.4, 1.3, 31.8, 20.6, 23.1, 18.6, -6.9, 2.9, 25.3, -0.7, 18.7, 15.8, 24.1, 7.6, 21.5, 24.6, 4.9, 19.4, 28.8, 19.4, 20.9, 4.4, 27.8, 14.8, -1.8, 0.0, -15.2, 14.1, 28.2, 17.8, 12.4, 14.3, 25.2, 6.9, 0.9, 7.0, 4.2, 21.3, 37.4, -4.7, 24.5, 0.8, 36.7, -3.4, 0.0, 33.8, 16.3, -4.0, 30.3, 13.8, -7.7, 2.4, 7.1, 19.2, 15.4, -10.6, 15.7, -5.0, 25.1, 2.6, 22.4, 14.0, 3.9, 31.0, 6.6, 17.4, 22.8, 22.9, 5.4, 21.2, 11.6, 27.1, 4.7, 0.3, 4.3, 12.6, 19.0, -4.3, -4.8, 10.5, 28.1, 20.5, 19.2, -7.8, -4.2, 5.8, 16.0, 3.5, 9.8, 14.2, 23.5, 17.8, 27.4, 5.5, 18.4, 26.6, 30.7, -4.9, 5.6, 2.5, -4.7, 9.3, 26.3, 21.7, 25.9, 8.8, 25.3, 21.9, 14.5, 5.5, 25.8, 24.5, 11.9, 29.0, 9.8, 3.4, -10.8, 9.6, 15.5, 25.0, 24.8, 3.5, 28.3, 3.3, 21.1, 29.3, -0.6, 13.7, 16.0, 8.9, 24.0, 12.4, 19.4, 18.6, 25.4, 9.4, 33.0, -13.8, 28.7, 11.0, -14.1, 16.9, 6.4, 25.0, 23.7, 10.1, 14.4, 7.6, 13.1, 22.3, 23.3, 20.5, 17.7, 27.0, -8.3, 10.7, 1.2, 6.3, 17.5, 19.6, -11.0, 8.0, 9.7, 23.4, 19.7, 8.3, -2.4, 25.7, 25.6, 26.9, 3.5, 7.2, 19.7, 14.8, 29.1, 1.8, 19.0, 8.9, 31.2, 9.4, 28.4, 7.4, 28.7, 20.0, 14.0, 28.6, 4.6, 26.3, 21.4, -5.5, 17.7, 12.7, 2.3, 26.8, 28.8, 19.7, 20.4, -5.1, 5.4, 33.1, -2.4, -11.5, 28.0, 20.4, 11.7, 17.2, 11.9, 20.5, 27.1, 4.2, -3.8, -11.2, 28.4, 26.7, 7.9, -11.4, 23.5, 19.4, 27.1, 12.8, 27.7, 9.5, 17.5, 28.5, 9.9, 6.9, 28.5, 22.8, 30.2, 8.7, 22.4, 22.7, 17.6, 17.5, 23.8, 28.8, 11.9, 16.2, 8.4, 17.0, 25.3, -5.9, 3.7, 9.7, 20.9, 21.0, 32.2, 4.2, 12.6, 16.6, 19.4, 24.2, -13.3, 6.9, 1.9, 25.7, 2.8, -10.6, 3.2, 26.5, 25.1, -3.1, 3.7, 30.7, 20.2, 2.6, 23.4, -1.3, 29.8, 17.9, 23.5, -12.1, 24.8, 15.0, 15.5, 17.4, 18.1, 4.6, 24.3, 7.8, 14.7, 7.6, -3.1, -1.9, 2.4, 11.3, 33.3, 31.9, 0.0, 28.3, -0.7, 23.4, 1.2, 25.4, 18.8, 11.8, 6.3, 2.0, 27.3, -8.2, 11.1, 29.1, 14.4, 24.2, 19.7, 4.6, 22.6, 10.2, 31.2, 13.5, 11.9, -3.3, 10.3, 1.6, -15.3, -2.5, 4.0, -4.3, 10.7, 31.3, 10.4, 32.2, 9.6, 27.7, 21.8, 27.3, 3.6, 8.0, 21.8, 28.6, 34.1, 1.0, 26.2, 2.8, 26.1, -6.0, 12.3, 23.6, 19.8, 21.7, 22.2, 21.1, 1.6, 6.7, 3.9, 4.5, -9.9, 20.2, 10.3, 18.6, 16.1, 24.9, 20.2, 13.6, 22.3, 25.7, 21.2, 30.0, 5.7, 6.7, 22.9, 29.9, 20.5, -1.3, 18.9, 16.8, 30.5, 10.5, 11.3, 24.0, 16.1, -4.8, -1.2, 18.8, 8.9, -8.7, 11.3, 15.2, -2.8, 28.1, 1.0, -6.1, 2.1, 26.9, 20.7, 11.6, 10.7, -3.5, 9.5, 25.8, -8.7, -16.0, 1.5, 0.6, 21.1, 29.2, 7.0, 30.1, -2.4, -6.4, 29.7, -2.1, 8.1, 19.3, 23.4, 25.5, 12.4, 12.5, -3.1, 7.9, 8.5, 6.7, 1.6, 27.4, -7.1, 2.5, 26.8, 15.1, 15.6, 24.3, 26.7, 14.7, 5.7, 29.7, 29.0, 17.1, 5.5, -5.0, -10.9, -0.9, 35.2, 7.0, 10.6, 8.0, 23.9, 4.2, 12.5, 18.0, 22.1, -7.4, 24.3, 12.4, 3.8, -1.3, -6.0, 14.9, 19.4, 9.5, 30.5, 22.7, -5.0, 3.8, 24.6, -6.6, 18.6, 23.4, 15.7, -5.2, 35.0, 14.8, 19.7, 1.1, 4.3, 14.9, -2.1, 0.6, 34.1, 15.3, 17.0, 12.0, 27.9, -14.5, 18.8, 6.7, 24.1, 17.3, -11.9, 3.7, 23.9, 22.2, 15.3, 24.9, 8.4, -4.2, 23.0, 18.1, 6.9, -9.8, 24.4, 26.6, 22.0, 17.6, -5.9, 12.9, 26.3, 36.4, 10.1, -3.1, -0.5, 24.6, 3.5, 2.0, 15.8, 21.9, 3.1, 11.3, 28.9, 35.2, 22.2, 23.6, 28.1, 11.0, 16.6, 0.3, 24.2, 23.3, 24.6, -3.7, -4.0, 35.0, 5.1, 24.4, 5.2, 27.8, 13.5, 9.6, 9.7, -9.4, 20.9, 13.6, 8.6, 22.2, 7.0, 29.3, 13.5, 24.9, 22.7, 8.0, 11.0, 2.8, 4.2, 9.0, -15.3, -15.1, 8.9, -0.2, 13.5, 11.2, 6.9, 17.7, 1.6, 18.9, -10.7, 10.1, 9.5, 24.1, -5.5, 24.8, 6.9, 18.8, 24.2, 25.9, 31.6, 6.0, 3.3, 3.4, 1.8, 11.7, -0.8, 25.9, 20.1, -6.6, 16.2, 11.2, 12.1, -10.2, -7.6, 34.4, 23.6, -4.5, 3.9, 18.8, 28.2, 10.6, -3.5, 27.1, 20.6, -2.2, 11.5, -2.2, 6.6, 5.3, -0.3, 5.5, 16.1, 10.3, 2.7, 10.1, 5.1, 0.4, -0.6, -4.2, -1.5, 29.8, 20.9, 29.3, 2.8, 5.0, 23.7, -8.5, -4.6, 26.2, 22.3, 30.8, 16.8, 22.8, 18.3, 27.2, 17.1, 15.8, 29.7, 24.0, 23.4, 0.2, 26.7, 13.7, 24.2, 3.7, -5.5, 12.0, -8.6, 23.4, 22.5, -10.9, 27.0, 28.4, 28.2, 22.2, 11.6, 4.1, 15.7, 20.9, -0.4, 25.7, 26.1, 15.6, 22.8, 24.4, 19.3, 26.5, 10.2, 1.0, 10.1, 10.7, 29.1, 7.6, 26.1, 16.0, 13.4, 22.0, 25.9, 1.6, 14.5, 1.9, 14.3, -4.0, 15.4, -9.3, 30.1, 5.7, 10.1, 3.9, 11.0, 27.9, 28.9, 24.4, 17.4, 15.0, 6.1, 23.5, 33.0, 24.6, 26.3, 9.5, 3.9, -6.6, 15.9, 24.5, 28.3, 23.5, 3.4, 6.4, 23.2, 10.4, 21.6, -7.2, 11.7, 5.7, 27.4, 3.0, -5.8, 5.7, 19.5, 12.7, 22.5, 21.3, 28.7, 24.0, 25.2, 1.2, 24.1, 17.8, 1.7, 7.7, 8.1, -3.6, 31.9, 6.4, 16.6, 6.8, 30.0, 2.0, 18.2, 25.1, 13.9, 6.5, 5.9, 25.6, 33.0, -3.9, 15.0, 19.0, 5.5, 32.1, 18.0, 19.9, 10.5, -14.9, 13.4, 8.8, 3.0, 19.7, 33.7, 11.7, 20.0, 35.7, 16.3, 3.6, 22.0, 6.4, 21.0, -1.6, 15.8, -4.1, 20.1, 20.3, -10.9, 22.8, 21.9, 28.9, 28.4, 12.8, 20.6, 23.3, -9.1, 2.7, -3.6, 27.4, 16.6, 29.2, 3.6, 32.9, 20.7, -2.2, 7.9, 12.4, 28.5, 6.4, 19.7, 12.7, 31.7, 20.0, 7.7, 18.2, 31.7, -2.7, 5.6, 18.9, 5.0, 22.7, 7.1, 19.8, 22.1, 3.5, 6.0, 25.3, 5.0, 28.8, -6.0, -1.6, 19.3, 7.5, 8.9, 1.8, 29.7, 2.0, 9.6, 6.4, 11.8, 20.0, 5.6, 21.1, 15.5, -2.9, 14.8, 35.2, 14.4, 24.8, 35.1, 1.7, 32.2, 30.4, 31.7, 16.5, 3.2, 2.5, 12.6, 19.7, 19.3, -3.2, 38.7, 20.5, -11.0, -6.5, 23.1, 7.6, 23.3, 17.8, 19.6, 17.4, 8.0, 24.3, 19.1, 30.1, 29.6, 15.5, 17.3, -0.7, -8.3, 24.8, 15.2, 7.9, -8.1, -2.9, 10.9, 4.1, -3.7, 0.9, 14.8, -6.3, 12.1, 28.3, 12.3, 10.4, 8.5, -1.1, 24.8, -15.7, 20.6, 19.0, 29.5, 21.9, 14.0, 23.6, 12.1, 12.7, 26.4, 2.7, 3.0, 5.9, 25.7, -7.9, 22.9, -3.5, 12.4, 10.9, 15.0, 7.2, -5.8, -6.4, -13.8, 10.0, 8.1, 27.6, 26.3, 5.9, 39.4, 33.5, 12.0, 25.0, 3.5, 4.7, 27.2, 29.3, 2.6, 13.6, 28.1, 1.3, 27.6, 5.0, 28.3, 16.1, 10.6, 1.8, 15.2, -2.4, 8.5, 24.0, 22.7, 7.5, 5.0, 13.2, 19.0, 21.3, 16.3, 2.8, 12.5, 29.1, 23.1, 20.7, 6.9, 24.2, 15.0, -2.2, 18.8, 3.6, -1.4, -6.2, 18.3, 17.7, 16.7, 24.2, 9.0, 24.3, 9.9, 4.1, 33.9, 1.3, 19.1, 24.0, -7.6, 20.9, 7.8, 6.3, 11.6, 25.1, 22.1, 13.6, 28.4, -0.4, 33.4, 22.4, 5.5, 1.9, 27.8, 20.6, 5.8, 15.2, 33.2, 14.3, 17.5, 7.9, 34.4, 0.7, 26.9, 13.9, -2.6, 17.4, 15.5, 25.8, 19.4, 34.8, 14.5, 22.3, -2.2, 27.2, 29.5, 8.6, 0.7, -6.5, 1.7, 23.9, 24.4, 24.8, 0.4, 19.1, 12.1, 13.3, 26.7, 10.6, -8.6, 18.2, -2.4, 4.4, 20.5, -0.2, 19.5, 15.4, 17.4, 19.7, 3.7, -5.6, 19.5, 15.2, 14.9, 7.6, 19.5, 0.0, 25.5, -9.5, 19.9, -1.8, -4.6, 5.1, 10.1, -6.6, 29.8, 14.1, 21.8, 10.0, 27.0, 32.2, 23.2, -10.9, 14.7, 35.8, 19.9, 7.6, 21.9, 19.3, 6.7, 35.3, -11.7, 29.7, 0.0, 17.3, 19.4, 7.1, 24.6, 21.4, 19.9, 14.8, 22.9, 18.4, 1.5, 9.2, 17.3, 14.8, 29.8, 22.7, 4.4, 27.9, -3.9, 27.4, 12.4, 3.5, 28.8, 18.6, 15.8, 10.2, 25.0, 9.0, -7.1, 0.6, 22.9, 13.2, 9.0, 22.1, 10.0, 15.4, 6.0, -6.2, 9.5, 13.3, 28.0, 27.9, 12.9, 10.2, -0.8, 5.2, 18.2, 22.2, 25.4, -9.7, 5.0, 11.2, 4.7, 31.0, 12.4, 2.8, 23.5, 15.2, 21.1, 23.9, 2.3, 14.2, 30.9, 24.2, 23.2, 12.0, -4.3, 5.7, -0.3, 20.7, 22.7, 19.0, 17.7, 11.8, 0.5, 18.3, 21.9, 2.3, -2.9, -13.0, 10.7, 1.8, 8.3, 1.3, 12.9, 28.5, 9.0, 19.8, 7.3, -3.7, 0.5, -5.0, 7.0, 17.7, -6.9, 12.4, 3.6, 17.3, 33.9, 16.9, 11.9, 17.1, 20.5, 16.5, 20.6, -2.7, -5.1, 22.8, 2.4, 3.8, 15.7, 20.1, 17.7, 6.9, 20.2, -4.8, 28.0, 14.3, 11.0, 23.2, 13.0, 15.8, 12.0, 23.9, 16.6, 3.0, -3.2, 22.8, 24.4, 24.6, 26.8, -6.1, 30.6, -7.4, 21.3, 20.7, 28.8, 28.4, 22.3, 32.7, -5.0, 30.4, 5.7, 17.0, 19.9, 15.9, 27.4, -16.5, 9.8, -9.0, 3.7, 26.6, -7.7, 20.7, 11.8, 20.2, 3.0, 11.1, 1.4, 8.4, 7.3, 19.9, 8.4, 23.5, 0.3, 7.5, 23.8, 5.6, 8.8, 30.2, -2.5, 31.2, 32.3, 29.3, -11.1, 21.5, 25.7, 27.9, 22.7, 30.4, -6.7, 21.2, 6.0, 21.9, 10.5, 6.9, -6.5, -9.7, 21.9, 33.7, 25.9, 16.5, 30.3, 16.0, 29.9, 21.6, 1.4, 7.1, 2.7, 34.2, 27.6, -8.6, 16.7, -4.1, 16.4, 8.0, 28.3, -6.6, 17.6, 24.9, 23.0, -3.0, -6.4, 22.8, 18.7, 16.9, 26.5, -5.9, 14.5, 28.9, -3.4, 4.9, 14.1, 18.4, 7.1, 30.8, 21.6, 4.2, 4.0, 26.9, 2.8, 13.7, 9.2, 36.6, 14.9, -0.3, 8.7, -11.6, 5.3, 31.2, 10.3, 23.1, 16.8, 13.1, -4.2, -8.1, 6.9, 10.4, -1.9, 32.4, 9.1, 21.7, 32.2, -2.9, 17.4, 15.0, -2.5, 6.1, -3.2, 3.0, -12.0, 11.9, -1.6, 24.2, 24.6, 18.2, 1.5, 12.8, 2.9, 23.3, -3.7, 11.9, 20.7, 28.0, -15.1, -11.1, 19.7, 15.5, 8.8, 24.9, -9.5, 24.4, 18.9, 16.8, 20.1, 19.6, 6.0, 2.8, -2.6, 15.5, -16.4, 3.0, 6.0, 12.1, 1.3, 27.5, 23.7, 3.5, 28.0, 13.8, 7.1, 1.2, -10.5, 20.3, 3.4, 14.5, 1.1, 23.7, 3.4, 7.5, 33.7, 31.5, 33.2, 7.9, 20.9, 8.5, 3.1, 14.4, 26.0, -5.6, -5.4, 5.2, 7.0, 29.3, 10.9, 8.5, 7.5, -2.4, 26.3, 30.9, 13.6, 36.2, 8.3, 20.1, 29.3, -9.7, 2.6, 22.6, -4.3, 6.2, 8.2, 25.2, 25.1, 17.7, 18.8, 10.1, -8.6, 1.3, 10.6, 21.2, 14.4, 24.3, -3.2, 14.5, -6.0, 25.5, 2.4, 6.7, 15.2, 1.7, 6.2, -0.3, 34.0, 6.3, 25.3, 27.8, 6.3, 25.1, 8.8, 29.5, 22.0, 9.2, -2.9, 18.0, 24.9, 10.5, 15.1, 29.6, 22.3, 25.0, 22.6, 0.4, 16.5, 7.1, -6.5, 33.4, 1.2, 23.6, 11.7, 25.7, 4.1, 20.7, 0.9, 2.3, 14.1, 21.9, 18.6, 1.7, 16.4, 28.7, 6.3, 33.6, 30.4, 5.3, 3.0, 25.0, 15.5, 31.0, -3.8, 29.3, 22.2, 11.3, -11.2, 17.0, 8.1, 18.7, 7.1, 21.2, 37.8, 9.4, 25.0, 26.5, 28.3, 28.8, -3.6, 23.6, -7.4, 9.2, 14.1, 2.9, -5.2, 26.4, 0.7, 20.5, 8.0, -5.4, 34.8, 16.7, -16.2, 5.7, 20.0, 7.5, 0.2, -7.8, 3.4, 3.3, 28.3, 4.2, 12.9, 18.8, 5.1, 9.8, 8.0, -7.6, 20.8, 19.1, 4.7, 30.8, 23.4, -10.9, -0.7, 3.5, 15.7, 21.1, 30.8, 27.5, 5.1, 33.0, 5.3, 5.3, 0.2, -5.3, 26.0, 21.3, 22.4, 12.7, -4.1, 25.7, 3.5, 12.6, 1.1, 17.7, 16.2, 4.3, 10.3, 20.7, -5.3, 2.9, 7.8, 16.9, 2.7, 29.4, 21.1, 26.7, 23.6, -5.2, 4.1, 18.4, -3.1, -1.4, 1.2, -5.1, 7.6, 14.4, 0.5, 13.7, 6.0, 24.2, 35.8, 24.7, 17.5, 28.8, 36.0, 32.0, 12.6, 12.2, 12.7, 2.0, 14.8, 13.5, 22.7, -8.2, 3.3, -5.0, 23.3, 10.6, 6.6, 16.9, 8.0, 28.3, 15.7, -1.8, 29.8, 17.5, 11.5, 25.4, -7.7, 22.9, 1.3, 19.1, 10.5, 12.1, 20.1, 24.5, 7.1, -2.8, 5.9, 26.3, 10.3, 24.0, -3.4, 11.0, 0.0, 35.6, 24.4, 19.5, 30.6, 22.4, 3.3, 4.6, -8.4, 12.4, 7.1, 26.3, 17.0, 18.9, 10.3, 10.0, 18.1, 22.8, 8.0, -4.5, 27.3, 24.9, 10.9, 5.7, -14.3, 19.6, 13.0, 17.8, -4.9, 6.2, -4.6, 31.0, 25.1, 30.9, 6.6, 9.5, 31.7, 32.4, 14.8, 22.7, 13.7, 23.5, 21.1, 3.1, -3.4, -4.5, 21.7, -4.2, 14.4, 22.6, 20.2, -11.4, 14.1, 8.1, -11.1, 9.8, 7.7, 21.1, 21.8, 1.3, 6.8, 17.2, 21.3, 28.8, 2.6, 13.4, -6.0, -4.8, 28.4, 6.3, 26.6, 20.2, 16.1, 16.7, 11.9, 14.1, 12.6, 14.0, 25.4, -3.6, 27.1, 1.8, 36.3, 6.7, 22.6, 2.5, -15.1, 19.7, 15.8, 27.0, 10.6, 24.0, 12.0, 30.3, 31.2, -3.4, 11.2, 9.5, 19.9, 20.8, 5.9, 11.6, 11.8, 6.9, 2.2, 25.9, 8.9, 18.2, 18.0, 19.1, 22.8, 1.3, -4.4, 0.9, -4.8, 17.8, 9.5, 31.9, 19.2, 2.1, 6.0, 31.8, -5.5, 26.1, 1.8, 7.0, 2.4, 3.1, -0.1, 29.6, 27.6, 3.3, -9.7, 22.0, 4.9, 25.1, 25.6, -6.0, 24.5, 23.4, 7.6, -1.1, 25.2, 18.1, 13.0, 33.4, -3.9, 27.6, -5.2, 29.4, 9.5, 17.7, 33.0, 29.4, 23.1, 27.5, 31.1, -8.3, 16.2, -1.8, 28.9, 34.4, 26.3, 8.9, 36.8, -6.2, 17.0, 21.7, -0.9, 24.0], \"xaxis\": \"x\", \"y\": [228, 529, 706, 1380, 189, 152, 1309, 1239, 84, 2499, 198, 190, 58, 168, 443, 130, 1461, 517, 161, 1568, 982, 2034, 592, 2100, 124, 1054, 763, 629, 254, 313, 244, 499, 511, 98, 767, 239, 804, 16, 1678, 1487, 853, 191, 162, 1445, 643, 967, 508, 149, 810, 1496, 84, 166, 2051, 1566, 397, 289, 1073, 842, 2353, 1031, 645, 230, 674, 372, 529, 1002, 28, 115, 92, 644, 1888, 2127, 2025, 851, 1479, 44, 30, 740, 109, 96, 149, 253, 967, 992, 202, 203, 195, 151, 250, 696, 659, 864, 219, 129, 585, 166, 1679, 533, 2198, 213, 957, 1900, 38, 916, 256, 94, 2000, 163, 306, 309, 50, 187, 2692, 1911, 810, 1556, 1674, 135, 1390, 1806, 142, 580, 193, 2011, 228, 1678, 1608, 1381, 1881, 444, 651, 1177, 2059, 771, 1156, 754, 1458, 218, 170, 626, 470, 1117, 46, 356, 1478, 241, 684, 277, 1041, 237, 1013, 362, 1106, 151, 4, 291, 2024, 1495, 1824, 971, 2259, 1142, 431, 241, 2348, 3123, 565, 1600, 342, 100, 485, 50, 322, 920, 2377, 126, 790, 1085, 1091, 159, 90, 316, 37, 432, 721, 1155, 262, 941, 1325, 862, 1769, 49, 614, 1421, 165, 351, 284, 327, 333, 625, 187, 2326, 1596, 1284, 2213, 1039, 1473, 475, 198, 756, 214, 1987, 39, 710, 647, 1821, 1006, 199, 1167, 818, 122, 1070, 1171, 786, 176, 227, 1421, 1425, 403, 469, 194, 67, 122, 1467, 225, 1289, 265, 62, 122, 1714, 140, 581, 30, 284, 78, 695, 630, 1119, 247, 1087, 514, 1216, 127, 53, 1738, 1834, 265, 1234, 1263, 1543, 1266, 250, 248, 2026, 1118, 239, 62, 142, 717, 171, 1671, 1166, 671, 22, 1779, 519, 35, 486, 60, 2372, 138, 983, 154, 591, 535, 527, 182, 26, 40, 2288, 460, 1226, 340, 483, 276, 30, 768, 301, 197, 893, 31, 700, 358, 1997, 962, 1181, 1303, 253, 1251, 260, 323, 299, 1511, 1502, 409, 269, 1099, 290, 1026, 1096, 1155, 314, 1097, 632, 247, 162, 844, 1050, 270, 330, 86, 289, 124, 2314, 241, 1161, 1014, 1253, 227, 193, 812, 686, 900, 742, 733, 670, 645, 1343, 1167, 1026, 637, 266, 119, 1577, 370, 491, 2348, 152, 849, 569, 895, 1726, 1685, 94, 164, 78, 1025, 299, 60, 1194, 247, 1191, 123, 645, 796, 1007, 1101, 155, 156, 2068, 1162, 139, 1113, 271, 71, 683, 71, 355, 742, 322, 157, 145, 16, 943, 251, 135, 185, 779, 105, 763, 38, 42, 294, 1534, 655, 277, 948, 329, 915, 1909, 1012, 1827, 827, 1100, 1286, 328, 1027, 312, 554, 392, 235, 839, 177, 94, 43, 1820, 18, 387, 349, 24, 844, 575, 561, 349, 358, 809, 678, 1193, 660, 223, 1653, 369, 119, 254, 212, 322, 1210, 1049, 1213, 1464, 151, 764, 122, 1321, 169, 791, 1185, 132, 994, 2154, 45, 169, 1293, 37, 837, 321, 516, 1888, 2240, 1442, 602, 1215, 273, 52, 504, 170, 2146, 1278, 84, 282, 1329, 1069, 143, 1297, 1033, 496, 642, 1865, 841, 895, 524, 331, 236, 2661, 212, 290, 113, 72, 66, 25, 1536, 106, 193, 1302, 1144, 371, 157, 589, 46, 1202, 578, 42, 161, 931, 1078, 842, 1934, 1251, 1557, 125, 102, 466, 1181, 1142, 1184, 463, 64, 1165, 1165, 778, 703, 180, 1611, 137, 1415, 1851, 1119, 320, 948, 239, 2019, 1395, 2127, 288, 184, 209, 1593, 1024, 193, 741, 3196, 166, 1950, 167, 832, 2392, 126, 5, 696, 343, 169, 318, 43, 2142, 326, 695, 646, 423, 1160, 189, 294, 645, 1693, 662, 2367, 120, 209, 27, 266, 429, 928, 95, 2873, 293, 1468, 84, 141, 73, 127, 116, 902, 216, 988, 285, 569, 2094, 1115, 518, 963, 189, 881, 571, 751, 1004, 1039, 988, 526, 932, 898, 926, 174, 22, 444, 28, 1304, 1319, 311, 106, 2312, 148, 174, 982, 148, 225, 644, 258, 699, 201, 622, 171, 228, 594, 292, 1236, 328, 783, 277, 61, 356, 189, 366, 1270, 916, 1686, 531, 408, 2201, 556, 2238, 142, 351, 243, 1068, 1994, 152, 150, 644, 355, 379, 93, 443, 1087, 642, 482, 1018, 1215, 1039, 1845, 63, 197, 713, 221, 332, 141, 1038, 165, 500, 62, 978, 1636, 159, 515, 299, 90, 455, 1389, 1995, 189, 33, 710, 1685, 103, 118, 2114, 946, 635, 1273, 2194, 971, 527, 1034, 80, 1196, 803, 178, 1075, 1222, 1749, 330, 82, 160, 979, 214, 211, 1662, 288, 1404, 176, 108, 165, 356, 1273, 2100, 168, 1044, 820, 1273, 2337, 1306, 1162, 929, 643, 1056, 1258, 166, 148, 744, 1003, 642, 122, 1939, 478, 1225, 1289, 307, 200, 697, 981, 268, 1167, 849, 1596, 155, 229, 316, 720, 724, 1813, 921, 157, 982, 696, 1237, 925, 1877, 138, 322, 381, 666, 787, 836, 923, 943, 938, 256, 148, 1475, 2268, 243, 340, 2415, 639, 1206, 641, 132, 150, 416, 115, 412, 1285, 144, 883, 2020, 1990, 2333, 660, 2288, 124, 2170, 329, 1731, 1199, 751, 1293, 1197, 886, 699, 41, 443, 1882, 301, 565, 363, 162, 468, 657, 397, 1306, 2268, 309, 2012, 57, 242, 316, 485, 219, 1351, 32, 273, 206, 898, 36, 164, 839, 247, 504, 968, 225, 954, 759, 1044, 623, 2255, 986, 906, 771, 235, 569, 145, 1473, 443, 418, 388, 1466, 10, 513, 11, 1110, 1812, 2087, 289, 603, 562, 1440, 222, 1767, 184, 821, 805, 1565, 341, 1106, 1183, 42, 1747, 1449, 1635, 48, 39, 910, 85, 1429, 268, 698, 502, 122, 202, 1150, 1346, 976, 1463, 1363, 443, 124, 554, 174, 381, 1137, 210, 1185, 331, 475, 185, 520, 1592, 1900, 361, 1708, 187, 876, 157, 898, 1284, 36, 611, 1664, 1737, 264, 78, 1322, 1118, 274, 774, 174, 70, 1551, 2135, 409, 367, 376, 1329, 481, 419, 1404, 46, 717, 251, 1636, 417, 89, 43, 292, 1001, 861, 80, 24, 47, 2984, 394, 302, 344, 1662, 1274, 1177, 418, 1126, 327, 628, 187, 437, 583, 816, 167, 1591, 322, 661, 1064, 733, 962, 39, 544, 319, 302, 878, 22, 1088, 170, 1020, 1494, 829, 1877, 1430, 264, 40, 931, 7, 889, 283, 512, 240, 77, 2317, 239, 143, 162, 146, 620, 173, 1170, 123, 301, 1482, 2649, 861, 2287, 768, 1550, 22, 501, 470, 1213, 58, 136, 82, 579, 2108, 422, 470, 285, 611, 566, 450, 181, 268, 768, 1730, 32, 109, 146, 1836, 1076, 124, 1511, 1007, 291, 746, 1259, 322, 76, 137, 1517, 308, 379, 277, 499, 107, 2023, 1076, 2044, 1531, 737, 8, 165, 169, 727, 2016, 600, 769, 71, 443, 531, 259, 423, 2404, 572, 356, 770, 222, 101, 1975, 199, 1641, 992, 3384, 2328, 2364, 979, 2809, 543, 1057, 221, 352, 825, 492, 49, 191, 159, 1280, 970, 1116, 203, 282, 2455, 1851, 1208, 109, 1028, 1560, 109, 72, 37, 211, 997, 458, 254, 903, 332, 194, 520, 281, 141, 457, 297, 846, 141, 1176, 475, 2383, 1125, 422, 2370, 526, 1032, 385, 1489, 1235, 796, 932, 950, 545, 214, 174, 1868, 268, 736, 766, 47, 827, 807, 96, 1462, 1547, 1972, 189, 274, 349, 215, 149, 315, 92, 258, 534, 466, 1432, 243, 259, 1707, 333, 123, 352, 48, 367, 1059, 1923, 256, 668, 946, 1025, 550, 1110, 1991, 348, 1174, 864, 800, 1197, 151, 2215, 17, 81, 25, 789, 246, 959, 1125, 96, 56, 107, 416, 16, 2096, 1108, 238, 17, 211, 153, 718, 47, 1232, 376, 551, 1249, 259, 489, 2022, 1381, 210, 425, 1743, 1147, 1158, 806, 520, 96, 52, 998, 1219, 122, 321, 805, 608, 296, 986, 56, 401, 653, 616, 289, 847, 236, 241, 1776, 586, 1447, 298, 306, 1882, 125, 861, 321, 1502, 1049, 1120, 332, 238, 224, 739, 378, 191, 170, 962, 1037, 1425, 481, 887, 1686, 277, 1174, 49, 188, 326, 150, 355, 2066, 1064, 1647, 1386, 15, 1015, 1234, 356, 1634, 548, 1865, 922, 692, 338, 1019, 228, 370, 1394, 1838, 154, 2528, 534, 1247, 174, 351, 1441, 1846, 115, 293, 140, 699, 1781, 45, 389, 537, 27, 1401, 359, 1005, 184, 843, 232, 748, 9, 1071, 756, 396, 267, 75, 86, 2460, 487, 1315, 1920, 129, 1080, 304, 55, 2857, 777, 394, 675, 2615, 269, 1128, 676, 919, 1931, 651, 201, 18, 2260, 1175, 581, 777, 310, 328, 1083, 237, 912, 662, 377, 1833, 212, 1171, 340, 127, 2161, 339, 754, 230, 326, 771, 974, 1128, 281, 983, 37, 243, 80, 382, 2056, 370, 280, 2020, 1188, 98, 1624, 224, 1051, 490, 715, 20, 1678, 170, 1912, 278, 39, 222, 266, 952, 133, 1987, 461, 217, 708, 690, 147, 211, 1550, 196, 14, 444, 1093, 51, 1215, 96, 1313, 626, 1662, 1161, 513, 2114, 277, 3080, 1869, 122, 689, 354, 1234, 327, 775, 1533, 830, 70, 1058, 217, 1485, 188, 2003, 1129, 268, 1171, 27, 19, 1196, 295, 1303, 953, 2460, 1124, 41, 30, 262, 3556, 1306, 115, 2355, 729, 2111, 1666, 311, 1154, 431, 629, 611, 71, 175, 162, 2166, 1934, 240, 70, 1483, 921, 211, 789, 24, 2122, 2234, 2359, 1773, 1922, 585, 1503, 1119, 236, 855, 123, 390, 1437, 419, 1025, 142, 1047, 1772, 1605, 2276, 2441, 2347, 839, 666, 244, 579, 527, 673, 122, 426, 1058, 783, 1255, 542, 232, 1005, 226, 222, 267, 650, 79, 1110, 192, 1298, 1704, 221, 1039, 2065, 1100, 1099, 1360, 296, 72, 51, 818, 90, 794, 150, 135, 262, 680, 847, 70, 134, 1474, 352, 711, 1779, 591, 720, 726, 164, 224, 2430, 967, 75, 1856, 884, 116, 901, 1759, 83, 1123, 956, 82, 302, 684, 61, 1063, 1457, 402, 446, 885, 790, 128, 400, 76, 283, 258, 675, 892, 237, 1240, 1593, 788, 598, 888, 166, 2091, 71, 325, 285, 151, 270, 66, 271, 1144, 691, 195, 275, 219, 75, 17, 1618, 912, 1191, 699, 918, 109, 239, 682, 2074, 1707, 397, 205, 310, 1145, 670, 247, 289, 2505, 55, 1003, 670, 200, 2032, 788, 2098, 1054, 1365, 373, 204, 1363, 244, 41, 774, 747, 1070, 537, 996, 136, 889, 1891, 2331, 811, 122, 212, 15, 340, 2518, 142, 225, 353, 1487, 832, 931, 1462, 395, 429, 910, 757, 562, 454, 2103, 110, 316, 273, 307, 561, 149, 80, 144, 933, 182, 261, 130, 77, 69, 42, 533, 216, 2179, 1023, 2598, 366, 188, 223, 1513, 1290, 157, 3404, 118, 1070, 798, 69, 934, 676, 1435, 321, 266, 156, 512, 1244, 511, 35, 1318, 451, 1850, 1604, 291, 1613, 2365, 187, 103, 1398, 1503, 600, 170, 227, 449, 1029, 260, 2367, 935, 113, 2357, 297, 941, 63, 174, 385, 675, 202, 49, 217, 1491, 251, 24, 1648, 1039, 905, 951, 352, 2481, 168, 233, 1060, 265, 791, 1182, 1420, 688, 1421, 110, 1267, 1117, 1805, 96, 172, 959, 1558, 215, 2145, 353, 443, 2267, 1814, 381, 247, 39, 107, 356, 258, 195, 316, 1222, 130, 659, 1178, 447, 721, 84, 158, 938, 426, 864, 1556, 189, 569, 21, 436, 183, 665, 587, 916, 1432, 567, 132, 776, 920, 629, 358, 74, 467, 1344, 892, 1025, 375, 936, 260, 160, 1702, 2183, 1928, 1160, 262, 1577, 920, 275, 649, 2313, 118, 269, 251, 212, 329, 257, 613, 1465, 582, 42, 232, 1015, 818, 1822, 584, 2891, 767, 195, 286, 1019, 258, 622, 703, 178, 178, 616, 295, 65, 192, 366, 718, 621, 279, 427, 281, 1185, 731, 2326, 2916, 533, 1870, 1212, 219, 724, 103, 928, 2322, 295, 815, 510, 973, 697, 786, 674, 1788, 27, 137, 202, 1956, 929, 1763, 560, 417, 352, 709, 102, 207, 149, 90, 392, 2223, 696, 34, 1898, 162, 1288, 1581, 980, 505, 207, 1603, 415, 991, 873, 961, 147, 111, 1514, 166, 2000, 603, 955, 191, 112, 218, 330, 3227, 165, 616, 281, 140, 308, 44, 1060, 521, 550, 1848, 174, 612, 447, 295, 231, 1318, 363, 168, 905, 2002, 212, 1020, 681, 934, 525, 290, 972, 1519, 2084, 1377, 890, 1717, 663, 555, 753, 381, 520, 1201, 334, 2039, 2419, 995, 175, 68, 524, 588, 662, 216, 907, 1620, 2088, 207, 185, 183, 20, 475, 634, 252, 374, 757, 196, 1464, 526, 84, 129, 177, 181, 110, 2000, 1381, 1896, 81, 1256, 1762, 1860, 165, 513, 1429, 226, 158, 29, 2008, 191, 85, 334, 926, 110, 370, 402, 360, 981, 620, 973, 285, 277, 1087, 245, 21, 2200, 337, 2631, 353, 1351, 246, 373, 347, 436, 1399, 1040, 1466, 47, 100, 16, 1035, 1168, 152, 146, 80, 750, 51, 345, 596, 822, 491, 282, 675, 91, 172, 118, 2, 1256, 652, 12, 340, 1712, 2058, 124, 636, 1066, 74, 206, 467, 653, 337, 204, 1182, 1141, 320, 409, 33, 1230, 91, 6, 914, 13, 1016, 100, 1134, 956, 248, 188, 235, 698, 183, 260, 252, 600, 727, 1233, 531, 565, 808, 178, 452, 612, 794, 107, 65, 204, 273, 76, 787, 23, 1828, 972, 308, 688, 642, 278, 88, 1206, 1597, 1437, 1235, 868, 1071, 190, 63, 440, 199, 456, 25, 368, 2131, 376, 1108, 1401, 2072, 647, 440, 1665, 91, 163, 322, 564, 1445, 57, 238, 22, 504, 225, 262, 68, 425, 957, 239, 3154, 71, 173, 928, 306, 65, 657, 2171, 612, 202, 337, 676, 307, 436, 91, 926, 782, 521, 250, 1575, 739, 105, 582, 1124, 763, 239, 227, 126, 303, 1176, 565, 670, 177, 195, 687, 99, 1095, 1077, 16, 80, 1488, 174, 1294, 1175, 943, 569, 522, 699, 169, 332, 502, 875, 1233, 1732, 311, 2082, 246, 685, 1191, 560, 546, 1881, 357, 184, 396, 42, 288, 188, 310, 670, 763, 157, 345, 1356, 49, 988, 187, 299, 426, 682, 2475, 516, 228, 1010, 241, 877, 715, 1004, 2628, 586, 890, 17, 309, 277, 419, 289, 184, 342, 1247, 818, 62, 2146, 1552, 71, 98, 1553, 1883, 22, 746, 621, 144, 518, 965, 253, 1433, 793, 1495, 198, 759, 586, 1783, 614, 425, 467, 99, 254, 1918, 193, 2022, 69, 1557, 240, 972, 220, 395, 106, 438, 263, 849, 1200, 355, 133, 162, 785, 557, 302, 126, 1213, 926, 191, 1446, 76, 1216, 556, 324, 187, 933, 1375, 258, 613, 1542, 854, 2097, 673, 41, 339, 302, 2487, 1556, 1130, 402, 566, 477, 312, 316, 521, 92, 122, 969, 148, 240, 422, 416, 623, 498, 563, 592, 178, 356, 2034, 114, 83, 2186, 1865, 140, 241, 1122, 1216, 1332, 877, 862, 2154, 2246, 58, 73, 1089, 625, 151, 343, 184, 143, 2264, 578, 210, 1604, 156, 140, 333, 189, 233, 71, 212, 561, 115, 1285, 86, 1141, 252, 997, 555, 1203, 28, 494, 1659, 402, 334, 121, 180, 178, 184, 906, 991, 2405, 55, 840, 182, 456, 710, 144, 225, 931, 2060, 934, 452, 442, 52, 178, 6, 556, 847, 583, 616, 1731, 828, 1239, 1258, 1049, 1651, 75, 1413, 1690, 1018, 262, 1121, 535, 1883, 1684, 337, 34, 1698, 328, 214, 623, 226, 1540, 340, 623, 1999, 204, 837, 744, 1579, 916, 483, 1440, 186, 48, 2046, 872, 260, 274, 55, 925, 82, 632, 719, 1456, 349, 774, 162, 1115, 2099, 925, 87, 50, 1308, 389, 209, 340, 1488, 428, 182, 846, 776, 2557, 1027, 20, 220, 573, 352, 53, 249, 29, 1902, 244, 1176, 2122, 618, 1292, 60, 214, 218, 600, 813, 65, 27, 1371, 169, 261, 655, 1094, 226, 992, 776, 762, 3380, 275, 123, 868, 522, 956, 168, 670, 785, 1118, 197, 1401, 959, 236, 51, 997, 112, 162, 273, 740, 222, 150, 875, 350, 683, 1003, 722, 204, 21, 370, 169, 616, 1965, 150, 1569, 59, 2254, 111, 168, 469, 1011, 584, 197, 116, 2167, 397, 1904, 345, 1516, 169, 559, 11, 1959, 2155, 1156, 279, 625, 102, 165, 9, 1972, 1249, 72, 217, 32, 97, 545, 494, 997, 772, 1808, 243, 1346, 129, 1814, 775, 614, 1356, 197, 975, 1464, 1200, 395, 727, 1030, 1187, 387, 376, 72, 715, 2014, 261, 537, 2397, 568, 760, 105, 128, 147, 48, 208, 2183, 1729, 818, 78, 327, 1037, 255, 8, 720, 985, 18, 319, 368, 579, 640, 45, 1082, 1933, 1049, 1095, 1381, 1153, 687, 404, 478, 310, 492, 329, 286, 658, 171, 182, 26, 792, 316, 798, 584, 133, 285, 2169, 4, 861, 72, 947, 2232, 1254, 1355, 297, 1105, 803, 170, 365, 206, 2372, 1092, 1183, 1589, 45, 133, 163, 1935, 860, 405, 377, 105, 652, 299, 449, 34, 164, 186, 1807, 98, 217, 334, 941, 1790, 343, 1590, 745, 678, 106, 304, 410, 269, 60, 1205, 282, 557, 718, 431, 122, 393, 300, 456, 785, 1948, 1161, 1241, 417, 252, 1932, 899, 284, 1192, 1448, 301, 116, 690, 2574, 335, 332, 1731, 1071, 572, 464, 1783, 682, 662, 1386, 742, 253, 329, 604, 199, 1789, 1571, 476, 287, 433, 1979, 1590, 1796, 236, 331, 824, 79, 415, 169, 1243, 99, 262, 1940, 1635, 1440, 234, 931, 67, 1391, 369, 270, 657, 387, 1017, 185, 190, 158, 190, 360, 312, 1659, 1346, 707, 554, 2807, 1229, 62, 1165, 119, 1000, 1094, 604, 327, 382, 1171, 1112, 248, 2101, 335, 117, 107, 450, 1084, 271, 554, 2115, 331, 694, 57, 259, 506, 914, 146, 2328, 1033, 223, 275, 96, 375, 2163, 246, 170, 223, 891, 589, 2044, 1080, 124, 398, 294, 826, 1325, 503, 22, 440, 834, 371, 1096, 831, 436, 1052, 672, 624, 1853, 466, 121, 719, 1281, 1246, 226, 723, 2811, 226, 778, 258, 349, 179, 692, 213, 448, 655, 1695, 221, 1956, 178, 490, 150, 460, 332, 59, 686, 96, 290, 192, 53, 152, 798, 20, 818, 429, 707, 486, 866, 350, 278, 845, 713, 1285, 600, 1502, 1641, 1274, 128, 531, 1292, 1436, 1169, 1117, 1300, 691, 35, 390, 1906, 884, 151, 26, 600, 60, 75, 1130, 2069, 946, 624, 709, 1433, 504, 341, 42, 139, 2375, 289, 1014, 201, 612, 1944, 1221, 12, 354, 1041, 313, 221, 716, 389, 1753, 12, 75, 833, 392, 88, 1024, 142, 1169, 197, 1126, 222, 1480, 448, 35, 120, 164, 208, 375, 875, 107, 1807, 711, 316, 146, 82, 191, 46, 540, 1536, 550, 100, 2410, 1554, 92, 341, 60, 1266, 345, 1979, 317, 701, 1109, 94, 1915, 916, 1099, 435, 338, 9, 856, 1563, 733, 652, 18, 1532, 108, 1194, 971, 825, 1709, 173, 21, 122, 122, 130, 799, 1413, 672, 616, 272, 717, 106, 993, 1073, 124, 2515, 390, 258, 146, 1277, 2270, 317, 694, 18, 401, 200, 1382, 1753, 871, 265, 1527, 1128, 1107, 369, 1362, 109, 376, 1868, 198, 275, 1306, 2339, 95, 506, 1324, 2021, 117, 817, 105, 482, 1918, 1578, 253, 139, 240, 1377, 184, 164, 1088, 1185, 63, 128, 385, 173, 1135, 2314, 802, 1091, 310, 1983, 1273, 592, 166, 375, 196, 306, 221, 623, 1180, 162, 403, 1704, 41, 265, 146, 883, 710, 507, 223, 1025, 638, 942, 834, 589, 220, 526, 1958, 491, 831, 360, 412, 1208, 2274, 496, 2254, 2405, 673, 234, 757, 17, 172, 839, 238, 615, 658, 1130, 145, 373, 161, 308, 402, 1582, 972, 1054, 1142, 541, 117, 933, 923, 134, 705, 1290, 943, 29, 849, 1414, 391, 736, 258, 1254, 782, 228, 108, 827, 169, 719, 51, 880, 542, 522, 47, 1154, 1251, 1483, 260, 568, 39, 1158, 921, 901, 1442, 2365, 285, 417, 322, 742, 115, 73, 1524, 197, 1271, 404, 864, 1754, 785, 14, 115, 103, 409, 767, 1902, 28, 695, 67, 68, 820, 407, 213, 386, 499, 2176, 581, 858, 398, 1792, 1613, 235, 540, 755, 2167, 428, 296, 34, 324, 727, 308, 1066, 783, 71, 732, 218, 299, 690, 297, 1249, 109, 2352, 5, 350, 1252, 1358, 145, 450, 1535, 900, 104, 1097, 1106, 724, 108, 588, 1710, 1626, 2188, 154, 352, 1128, 370, 159, 910, 1497, 105, 525, 379, 993, 558, 1118, 256, 61, 148, 1330, 108, 1141, 1890, 644, 32, 460, 253, 995, 278, 403, 11, 99, 600, 254, 162, 2129, 902, 987, 968, 1622, 2337, 88, 250, 392, 848, 103, 255, 1407, 361, 318, 221, 214, 114, 989, 2140, 354, 145, 455, 745, 304, 394, 143, 193, 1875, 45, 2149, 1308, 92, 716, 1391, 70, 1426, 1490, 385, 352, 265, 69, 181, 528, 949, 531, 963, 1939, 335, 1682, 228, 826, 665, 80, 699, 184, 1107, 1263, 107, 1020, 764, 207, 862, 201, 706, 792, 337, 831, 2637, 478, 1700, 102, 2618, 343, 491, 681, 436, 907, 664, 1146, 682, 43, 379, 1156, 474, 142, 1071, 51, 89, 1147, 1457, 997, 735, 1728, 1213, 80, 1638, 1029, 913, 1073, 680, 141, 230, 1354, 213, 120, 46, 911, 78, 2329, 168, 65, 53, 17, 385, 323, 1177, 834, 1407, 1223, 2479, 295, 40, 136, 920, 286, 88, 449, 247, 1526, 620, 391, 281, 38, 1445, 608, 30, 2274, 288, 20, 883, 196, 1228, 2351, 186, 540, 54, 144, 40, 671, 1879, 1995, 1469, 725, 526, 919, 1258, 835, 1870, 965, 1061, 1672, 145, 654, 415, 354, 202, 1200, 1785, 2127, 49, 97, 77, 81, 1142, 70, 785, 7, 653, 172, 764, 912, 2594, 1068, 393, 153, 346, 140, 77, 56, 9, 2288, 918, 182, 1285, 397, 2346, 834, 23, 1004, 381, 906, 2443, 31, 1269, 62, 652, 470, 149, 345, 342, 341, 81, 74, 651, 1104, 1578, 90, 234, 40, 397, 796, 225, 854, 509, 240, 949, 32, 949, 1243, 640, 829, 220, 852, 225, 1861, 156, 277, 565, 314, 312, 695, 275, 443, 183, 1038, 9, 2059, 902, 335, 1094, 216, 50, 1838, 19, 286, 17, 59, 1937, 942, 1069, 1231, 2481, 503, 179, 228, 717, 190, 166, 562, 1699, 270, 60, 39, 796, 504, 222, 28, 245, 1899, 650, 55, 38, 370, 1666, 940, 995, 683, 328, 579, 764, 414, 59, 209, 171, 320, 1137, 397, 385, 1023, 1038, 189, 869, 676, 362, 480, 147, 197, 218, 842, 671, 73, 940, 375, 1086, 489, 752, 1976, 2770, 74, 22, 1501, 334, 518, 701, 1719, 82, 308, 655, 1416, 1611, 2017, 325, 2404, 1026, 1358, 608, 680, 810, 967, 427, 306, 93, 223, 171, 178, 38, 679, 941, 732, 2214, 47, 317, 196, 165, 1550, 1587, 258, 665, 562, 1011, 336, 1183, 1049, 234, 344, 8, 991, 671, 469, 944, 82, 705, 410, 520, 322, 167, 932, 1047, 612, 520, 1152, 1125, 708, 832, 1409, 598, 1652, 190, 2825, 278, 24, 2283, 1402, 1980, 327, 212, 22, 946, 708, 1492, 628, 2276, 175, 2235, 1116, 272, 1562, 996, 216, 348, 396, 1074, 503, 594, 93, 40, 795, 646, 1156, 293, 248, 54, 731, 213, 1246, 207, 589, 721, 178, 945, 776, 655, 1407, 680, 770, 345, 3088, 47, 289, 282, 12, 995, 1041, 724, 967, 624, 994, 234, 2005, 683, 954, 377, 55, 274, 531, 143, 606, 768, 183, 2115, 960, 1300, 97, 1157, 153, 36, 590, 1705, 260, 781, 382, 164, 438, 999, 2173, 377, 219, 365, 1720, 344, 59, 434, 533, 1288, 388, 3221, 285, 89, 1035, 44, 388, 1158, 313, 974, 1075, 1968, 1527, 1723, 42, 67, 842, 1068, 2310, 198, 56, 711, 246, 604, 299, 1832, 340, 925, 283, 789, 347, 936, 190, 761, 76, 393, 104, 232, 798, 405, 422, 298, 138, 294, 278, 776, 447, 973, 1384, 181, 1767, 739, 165, 256, 55, 908, 200, 1965, 832, 610, 1915, 1000, 368, 280, 309, 923, 329, 2338, 371, 715, 580, 462, 1291, 596, 2357, 237, 416, 172, 67, 175, 1062, 1511, 110, 1257, 2090, 1543, 165, 328, 349, 208, 130, 200, 61, 230, 192, 1317, 1112, 1261, 102, 9, 103, 2048, 1976, 611, 72, 940, 1209, 375, 463, 27, 422, 1221, 996, 890, 315, 141, 99, 1280, 345, 619, 1760, 54, 1949, 848, 203, 9, 127, 2692, 412, 290, 123, 1113, 95, 330, 1782, 920, 632, 522, 563, 115, 52, 712, 1241, 309, 33, 361, 1995, 263, 714, 1823, 82, 232, 459, 286, 18, 233, 522, 603, 283, 1357, 83, 213, 334, 1151, 1029, 1342, 46, 83, 43, 1213, 2505, 407, 1430, 130, 119, 675, 353, 422, 50, 1970, 374, 1191, 835, 434, 152, 2069, 1460, 451, 301, 2290, 2129, 62, 281, 32, 914, 535, 264, 935, 850, 2063, 428, 293, 427, 80, 328, 993, 258, 2479, 128, 569, 118, 167, 1384, 486, 79, 1119, 1528, 182, 232, 513, 1153, 286, 107, 29, 158, 986, 333, 2237, 1027, 316, 584, 484, 1066, 59, 1930, 161, 1683, 552, 2415, 171, 13, 535, 571, 1639, 718, 277, 533, 2101, 1573, 786, 157, 36, 996, 504, 307, 758, 1512, 24, 739, 2246, 103, 93, 1668, 749, 225, 661, 66, 226, 589, 1058, 1117, 970, 233, 908, 922, 8, 570, 2474, 30, 221, 881, 505, 117, 217, 1365, 1519, 802, 1246, 457, 546, 137, 1073, 719, 446, 982, 676, 374, 2962, 758, 1108, 336, 2468, 17, 698, 83, 712, 152, 130, 867, 867, 844, 1033, 1151, 265, 1054, 1881, 29, 1612, 2140, 1222, 3160, 152, 264, 236, 658, 993, 913, 133, 529, 969, 1330, 2055, 354, 206, 645, 2741, 1087, 379, 105, 1761, 232, 422, 784, 619, 1054, 1030, 535, 857, 728, 1134, 394, 82, 1058, 353, 1811, 1354, 103, 486, 147, 494, 1473, 2456, 1493, 39, 123, 190, 1394, 257, 433, 263, 1528, 14, 384, 1294, 1448, 2732, 20, 373, 94, 795, 346, 2113, 41, 828, 1074, 1057, 1374, 1943, 436, 2261, 250, 1269, 716, 1241, 233, 614, 1317, 291, 1991, 223, 133, 1702, 1646, 158, 1088, 2074, 1730, 1035, 326, 414, 733, 324, 1133, 522, 242, 19, 1010, 1916, 1103, 115, 406, 252, 848, 386, 126, 764, 1148, 1352, 315, 321, 3238, 110, 184, 2267, 63, 2286, 2701, 1455, 132, 62, 59, 1313, 934, 1087, 1070, 1173, 830, 1278, 1186, 63, 383, 427, 1069, 639, 770, 60, 284, 89, 2508, 231, 2493, 418, 1001, 9, 193, 188, 179, 747, 1210, 185, 778, 2329, 838, 768, 393, 994, 347, 167, 167, 783, 181, 41, 65, 447, 49, 372, 1537, 799, 1548, 503, 939, 1166, 1986, 95, 46, 199, 909, 507, 137, 3309, 170, 255, 106, 739, 264, 1491, 1386, 1096, 1079, 97, 724, 571, 88, 254, 1293, 785, 1501, 587, 327, 539, 152, 1201, 1563, 832, 953, 497, 97, 102, 1820, 513, 225, 1529, 532, 1021, 1561, 838, 567, 1382, 133, 100, 1277, 1789, 244, 18, 289, 34, 3113, 46, 66, 552, 1280, 1796, 1281, 568, 233, 2, 355, 132, 60, 279, 165, 575, 257, 562, 1744, 129, 197, 1783, 164, 52, 1501, 1404, 1066, 700, 666, 36, 777, 605, 507, 381, 1085, 282, 288, 230, 1075, 1714, 771, 938, 436, 251, 1811, 1630, 678, 139, 196, 94, 349, 626, 1115, 806, 46, 145, 354, 919, 206, 135, 187, 782, 178, 383, 515, 248, 43, 1567, 167, 866, 243, 96, 183, 1330, 31, 505, 168, 71, 247, 1202, 1588, 1173, 101, 244, 192, 134, 451, 977, 980, 156, 522, 441, 90, 2454, 405, 2166, 234, 42, 431, 1287, 2028, 694, 1409, 757, 166, 1741, 930, 188, 279, 1891, 1525, 1220, 23, 136, 254, 1139, 579, 273, 151, 172, 672, 1751, 729, 255, 1646, 469, 2159, 722, 727, 1240, 1146, 381, 772, 453, 284, 1752, 1078, 1450, 174, 117, 905, 354, 1523, 410, 1654, 652, 741, 896, 214, 766, 1433, 75, 123, 690, 961, 1229, 1752, 740, 512, 1423, 196, 113, 1292, 93, 68, 1005, 280, 253, 1448, 312, 975, 150, 1150, 54, 922, 294, 1985, 315, 292, 700, 1529, 1314, 231, 1064, 606, 261, 488, 123, 305, 937, 3298, 2043, 438, 1556, 848, 378, 49, 117, 1486, 2906, 223, 431, 1063, 1155, 769, 124, 1517, 1084, 273, 502, 47, 939, 283, 426, 412, 971, 588, 395, 326, 326, 306, 271, 205, 124, 2320, 362, 1465, 155, 55, 1665, 270, 52, 1439, 227, 1994, 1132, 1014, 167, 792, 1996, 1791, 435, 153, 1863, 101, 1041, 948, 1078, 982, 269, 994, 93, 721, 1358, 87, 769, 162, 1111, 859, 13, 1111, 182, 1080, 507, 1990, 283, 1079, 1944, 1193, 1218, 1726, 1538, 1163, 680, 320, 1180, 75, 2387, 1030, 2310, 137, 411, 294, 1593, 117, 1618, 231, 11, 173, 1979, 419, 1129, 32, 194, 2273, 327, 152, 609, 482, 210, 61, 784, 160, 214, 264, 281, 189, 1063, 1192, 1837, 2307, 597, 107, 1010, 2134, 426, 213, 1242, 426, 403, 122, 248, 816, 716, 880, 1917, 622, 726, 405, 1252, 556, 81, 770, 292, 376, 310, 398, 612, 117, 1229, 97, 1889, 141, 1188, 1006, 262, 285, 444, 1069, 2640, 247, 454, 238, 62, 763, 1409, 1323, 798, 79, 466, 206, 298, 1248, 691, 922, 1703, 575, 355, 574, 1569, 309, 193, 64, 16, 252, 963, 227, 251, 186, 2070, 1337, 409, 781, 1979, 381, 517, 356, 58, 2514, 594, 1095, 63, 992, 2401, 404, 534, 113, 700, 1083, 1390, 647, 677, 1238, 43, 2391, 1346, 578, 330, 1190, 440, 131, 171, 1516, 1615, 499, 1039, 771, 404, 2398, 134, 325, 1290, 450, 922, 157, 1182, 382, 1123, 618, 272, 1551, 487, 1209, 610, 79, 1379, 2289, 1046, 665, 658, 108, 1466, 1406, 828, 1047, 471, 653, 131, 375, 573, 253, 475, 1342, 52, 186, 2164, 718, 936, 733, 413, 644, 516, 266, 684, 944, 1334, 10, 2613, 243, 56, 484, 1137, 164, 72, 39, 682, 167, 310, 253, 404, 160, 1464, 1253, 11, 567, 587, 153, 591, 82, 47, 1149, 999, 2094, 975, 2013, 1209, 1077, 1328, 381, 55, 258, 1169, 259, 919, 111, 880, 25, 917, 643, 84, 225, 122, 853, 31, 614, 1152, 1114, 561, 901, 792, 1446, 416, 254, 1200, 2349, 537, 1316, 1131, 59, 818, 305, 720, 583, 263, 212, 32, 75, 901, 113, 1253, 669, 421, 985, 2338, 1835, 1178, 194, 169, 1211, 456, 1330, 1100, 285, 208, 279, 570, 402, 42, 81, 1083, 819, 770, 862, 373, 2189, 167, 1024, 784, 139, 1786, 1102, 66, 1438, 784, 616, 798, 267, 2339, 412, 1209, 133, 1423, 2525, 237, 195, 189, 1275, 335, 1179, 759, 1015, 938, 897, 549, 374, 1797, 473, 265, 294, 29, 2497, 696, 960, 1335, 810, 94, 982, 1136, 203, 318, 198, 302, 1801, 2270, 1942, 488, 1839, 678, 1580, 209, 1721, 371, 1467, 335, 546, 248, 240, 742, 155, 424, 28, 304, 40, 137, 1268, 1023, 110, 625, 600, 1362, 135, 1616, 151, 343, 659, 628, 227, 2779, 524, 925, 751, 3256, 1702, 754, 279, 713, 735, 1113, 589, 2232, 1937, 530, 776, 20, 672, 177, 1677, 657, 226, 2045, 972, 1120, 185, 962, 1690, 365, 186, 2632, 1568, 492, 2055, 390, 1317, 174, 2266, 553, 204, 733, 807, 560, 140, 862, 485, 568, 93, 828, 1618, 376, 276, 237, 848, 260, 128, 138, 17, 363, 443, 191, 403, 675, 683, 785, 1819, 1284, 266, 146, 361, 403, 1001, 29, 308, 1399, 703, 9, 922, 466, 170, 1544, 619, 2012, 18, 70, 661, 470, 381, 211, 1203, 1459, 492, 218, 1355, 963, 373, 290, 423, 605, 825, 95, 70, 1180, 2029, 421, 1198, 489, 230, 141, 168, 1692, 1296, 186, 54, 140, 1470, 1480, 1641, 154, 1113, 927, 1187, 493, 161, 207, 2278, 406, 677, 1469, 1216, 680, 304, 186, 99, 1163, 1031, 317, 349, 81, 25, 916, 42, 241, 45, 259, 97, 222, 109, 1886, 252, 876, 558, 785, 436, 1583, 2836, 812, 762, 257, 1834, 85, 1839, 961, 578, 253, 96, 745, 100, 79, 2235, 67, 959, 78, 388, 337, 547, 605, 1507, 1188, 524, 359, 1344, 211, 1904, 656, 373, 999, 1103, 278, 1073, 1697, 2362, 491, 14, 137, 252, 149, 1797, 239, 338, 195, 968, 747, 421, 490, 115, 113, 714, 498, 203, 1165, 430, 711, 1959, 188, 584, 420, 735, 718, 459, 960, 137, 1311, 441, 1276, 658, 341, 2190, 1218, 144, 145, 558, 421, 22, 2065, 111, 752, 1046, 229, 1101, 837, 1145, 244, 1249, 1123, 360, 342, 1838, 262, 766, 555, 605, 603, 191, 1061, 46, 282, 1511, 1353, 1124, 1055, 1775, 29, 71, 1713, 365, 50, 853, 1857, 1233, 2965, 382, 395, 1197, 214, 482, 269, 272, 140, 630, 173, 973, 2191, 89, 83, 434, 346, 1318, 36, 121, 957, 1015, 189, 216, 1030, 1867, 206, 731, 171, 592, 1272, 1181, 1948, 294, 572, 261, 229, 493, 24, 333, 48, 1294, 292, 1132, 992, 183, 791, 1176, 144, 226, 184, 154, 13, 420, 233, 1012, 334, 1021, 1017, 647, 640, 2070, 1872, 587, 95, 1385, 2368, 211, 258, 239, 401, 310, 428, 881, 365, 239, 2272, 1411, 588, 627, 1815, 870, 1193, 181, 286, 600, 131, 299, 473, 545, 632, 986, 54, 775, 57, 233, 934, 234, 920, 1579, 78, 1513, 325, 1355, 399, 474, 2081, 278, 419, 196, 704, 554, 497, 976, 403, 1900, 71, 461, 2227, 681, 44, 299, 381, 729, 837, 1890, 1284, 1129, 2476, 303, 914, 412, 387, 741, 72, 214, 926, 741, 576, 188, 159, 119, 855, 18, 735, 195, 1644, 707, 891, 663, 649, 1142, 272, 1618, 626, 1121, 81, 1708, 1115, 979, 39, 987, 1155, 935, 332, 453, 1929, 215, 2497, 1603, 258, 656, 87, 1669, 129, 556, 1389, 299, 44, 3119, 300, 1885, 273, 241, 1310, 745, 165, 73, 1095, 651, 224, 33, 764, 8, 1013, 458, 679, 835, 393, 213, 336, 462, 104, 1544, 341, 561, 1479, 79, 683, 133, 1028, 2334, 1466, 631, 165, 600, 366, 90, 226, 177, 1787, 1019, 344, 269, 187, 208, 436, 638, 129, 454, 1359, 479, 752, 384, 212, 555, 695, 610, 443, 1588, 339, 977, 1798, 45, 659, 1811, 402, 171, 140, 170, 75, 1250, 218, 143, 990, 865, 649, 1615, 563, 1127, 760, 1277, 1312, 901, 1146, 460, 189, 1062, 1820, 142, 664, 224, 672, 56, 112, 1804, 731, 898, 538, 635, 533, 969, 26, 796, 529, 2212, 232, 1007, 234, 892, 794, 1478, 206, 120, 759, 1958, 637, 2242, 655, 1292, 183, 1232, 1017, 953, 1447, 2069, 407, 409, 146, 568, 79, 2256, 959, 1001, 372, 624, 265, 572, 447, 210, 1039, 373, 1165, 17, 125, 1717, 959, 763, 157, 894, 145, 1847, 1014, 1935, 752, 594, 1177, 473, 188, 923, 772, 1075, 1875, 320, 347, 276, 1416, 410, 37, 2140, 989, 591, 1571, 231, 152, 1269, 697, 260, 1440, 75, 495, 8, 259, 1782, 235, 1447, 192, 190, 2130, 395, 1347, 219, 29, 737, 410, 1224, 185, 842, 353, 306, 2008, 294, 1212, 178, 896, 384, 105, 1058, 32, 1065, 656, 1978, 20, 1826, 2368, 225, 1160, 223, 813, 58, 509, 877, 1472, 411, 263, 1220, 10, 1349, 1016, 336, 1163, 443, 103, 303, 92, 1636, 846, 769, 353, 1540, 148, 1398, 127, 477, 58, 1231, 507, 443, 296, 874, 985, 228, 78, 610, 390, 2491, 1106, 120, 223, 1195, 688, 334, 1273, 253, 814, 1903, 55, 981, 291, 1709, 203, 1115, 754, 1393, 2429, 3016, 1003, 181, 23, 59, 939, 673, 902, 445, 585, 617, 656, 829, 237, 1055], \"yaxis\": \"y\"}, {\"hoverlabel\": {\"namelength\": 0}, \"hovertemplate\": \"<b>OLS trendline</b><br>Rented Bike Count = 29.203864 * Temperature(C) + 356.541241<br>R<sup>2</sup>=0.304895<br><br>Temperature(C)=%{x}<br>Rented Bike Count=%{y} <b>(trend)</b>\", \"legendgroup\": \"\", \"marker\": {\"color\": \"#636efa\", \"symbol\": \"circle\"}, \"mode\": \"lines\", \"name\": \"\", \"showlegend\": false, \"type\": \"scattergl\", \"x\": [-17.8, -17.5, -17.5, -17.4, -16.9, -16.5, -16.4, -16.2, -16.2, -16.1, -16.0, -16.0, -15.9, -15.9, -15.7, -15.7, -15.7, -15.6, -15.6, -15.6, -15.4, -15.4, -15.3, -15.3, -15.3, -15.3, -15.2, -15.2, -15.2, -15.1, -15.1, -15.1, -15.1, -15.1, -15.0, -15.0, -14.9, -14.9, -14.6, -14.6, -14.6, -14.6, -14.5, -14.4, -14.4, -14.3, -14.3, -14.1, -14.1, -13.9, -13.8, -13.8, -13.8, -13.6, -13.5, -13.3, -13.3, -13.3, -13.2, -13.2, -13.2, -13.1, -13.1, -13.0, -13.0, -12.9, -12.8, -12.8, -12.7, -12.7, -12.6, -12.5, -12.5, -12.5, -12.5, -12.4, -12.4, -12.3, -12.3, -12.3, -12.3, -12.1, -12.1, -12.1, -12.0, -12.0, -12.0, -12.0, -12.0, -11.9, -11.8, -11.8, -11.8, -11.8, -11.8, -11.7, -11.7, -11.6, -11.6, -11.6, -11.6, -11.6, -11.5, -11.5, -11.5, -11.5, -11.5, -11.5, -11.5, -11.4, -11.4, -11.4, -11.4, -11.3, -11.3, -11.2, -11.2, -11.2, -11.2, -11.2, -11.1, -11.1, -11.1, -11.1, -11.1, -11.0, -11.0, -11.0, -11.0, -10.9, -10.9, -10.9, -10.9, -10.9, -10.8, -10.8, -10.8, -10.7, -10.7, -10.7, -10.6, -10.6, -10.6, -10.6, -10.6, -10.6, -10.5, -10.5, -10.5, -10.5, -10.5, -10.5, -10.4, -10.4, -10.4, -10.4, -10.4, -10.3, -10.3, -10.3, -10.2, -10.2, -10.2, -10.2, -10.2, -10.0, -9.9, -9.8, -9.8, -9.7, -9.7, -9.7, -9.7, -9.7, -9.7, -9.7, -9.6, -9.6, -9.6, -9.6, -9.5, -9.5, -9.5, -9.5, -9.5, -9.5, -9.5, -9.5, -9.4, -9.4, -9.4, -9.4, -9.4, -9.3, -9.3, -9.3, -9.2, -9.2, -9.2, -9.1, -9.1, -9.1, -9.1, -9.0, -9.0, -9.0, -8.9, -8.9, -8.8, -8.8, -8.7, -8.7, -8.6, -8.6, -8.6, -8.6, -8.6, -8.6, -8.6, -8.5, -8.5, -8.5, -8.5, -8.5, -8.5, -8.4, -8.4, -8.4, -8.3, -8.3, -8.3, -8.3, -8.3, -8.3, -8.2, -8.2, -8.2, -8.2, -8.2, -8.2, -8.2, -8.1, -8.1, -8.1, -8.1, -8.1, -8.1, -8.0, -8.0, -7.9, -7.9, -7.9, -7.9, -7.9, -7.9, -7.9, -7.8, -7.8, -7.8, -7.8, -7.8, -7.8, -7.8, -7.7, -7.7, -7.7, -7.7, -7.7, -7.7, -7.7, -7.7, -7.6, -7.6, -7.6, -7.6, -7.6, -7.6, -7.6, -7.6, -7.6, -7.6, -7.5, -7.5, -7.5, -7.5, -7.5, -7.5, -7.5, -7.4, -7.4, -7.4, -7.4, -7.4, -7.4, -7.4, -7.3, -7.3, -7.2, -7.2, -7.2, -7.2, -7.1, -7.1, -7.1, -7.0, -7.0, -7.0, -7.0, -7.0, -7.0, -7.0, -6.9, -6.9, -6.9, -6.9, -6.9, -6.9, -6.9, -6.9, -6.8, -6.8, -6.8, -6.8, -6.7, -6.7, -6.7, -6.7, -6.7, -6.7, -6.7, -6.6, -6.6, -6.6, -6.6, -6.6, -6.6, -6.6, -6.6, -6.6, -6.6, -6.6, -6.6, -6.5, -6.5, -6.5, -6.5, -6.5, -6.5, -6.5, -6.5, -6.5, -6.5, -6.4, -6.4, -6.4, -6.4, -6.4, -6.4, -6.4, -6.4, -6.4, -6.3, -6.3, -6.3, -6.3, -6.3, -6.3, -6.3, -6.2, -6.2, -6.2, -6.2, -6.2, -6.2, -6.1, -6.1, -6.1, -6.1, -6.1, -6.0, -6.0, -6.0, -6.0, -6.0, -6.0, -6.0, -6.0, -6.0, -6.0, -6.0, -6.0, -6.0, -6.0, -5.9, -5.9, -5.9, -5.9, -5.9, -5.9, -5.9, -5.9, -5.9, -5.8, -5.8, -5.8, -5.8, -5.8, -5.8, -5.8, -5.8, -5.8, -5.8, -5.7, -5.7, -5.7, -5.7, -5.7, -5.7, -5.7, -5.6, -5.6, -5.6, -5.6, -5.6, -5.6, -5.6, -5.6, -5.6, -5.6, -5.6, -5.5, -5.5, -5.5, -5.5, -5.5, -5.5, -5.5, -5.5, -5.5, -5.5, -5.5, -5.5, -5.4, -5.4, -5.4, -5.4, -5.4, -5.4, -5.3, -5.3, -5.3, -5.3, -5.3, -5.3, -5.3, -5.3, -5.3, -5.3, -5.3, -5.3, -5.3, -5.3, -5.2, -5.2, -5.2, -5.2, -5.2, -5.2, -5.2, -5.2, -5.2, -5.2, -5.2, -5.2, -5.1, -5.1, -5.1, -5.1, -5.1, -5.1, -5.0, -5.0, -5.0, -5.0, -5.0, -5.0, -5.0, -4.9, -4.9, -4.9, -4.9, -4.9, -4.9, -4.9, -4.9, -4.8, -4.8, -4.8, -4.8, -4.8, -4.8, -4.8, -4.8, -4.8, -4.7, -4.7, -4.7, -4.7, -4.7, -4.7, -4.7, -4.7, -4.7, -4.6, -4.6, -4.6, -4.6, -4.6, -4.6, -4.6, -4.6, -4.6, -4.6, -4.5, -4.5, -4.5, -4.5, -4.5, -4.5, -4.5, -4.4, -4.4, -4.4, -4.4, -4.4, -4.3, -4.3, -4.3, -4.3, -4.3, -4.3, -4.3, -4.3, -4.3, -4.3, -4.3, -4.3, -4.3, -4.2, -4.2, -4.2, -4.2, -4.2, -4.2, -4.2, -4.2, -4.2, -4.2, -4.1, -4.1, -4.1, -4.1, -4.1, -4.0, -4.0, -4.0, -4.0, -4.0, -4.0, -4.0, -3.9, -3.9, -3.9, -3.9, -3.9, -3.9, -3.8, -3.8, -3.8, -3.8, -3.8, -3.8, -3.8, -3.8, -3.8, -3.8, -3.7, -3.7, -3.7, -3.7, -3.7, -3.7, -3.7, -3.7, -3.7, -3.6, -3.6, -3.6, -3.6, -3.6, -3.6, -3.6, -3.6, -3.5, -3.5, -3.5, -3.5, -3.5, -3.5, -3.5, -3.5, -3.5, -3.5, -3.5, -3.4, -3.4, -3.4, -3.4, -3.4, -3.4, -3.4, -3.4, -3.4, -3.4, -3.4, -3.4, -3.3, -3.3, -3.3, -3.3, -3.2, -3.2, -3.2, -3.2, -3.2, -3.2, -3.2, -3.1, -3.1, -3.1, -3.1, -3.1, -3.1, -3.1, -3.1, -3.1, -3.1, -3.0, -3.0, -3.0, -2.9, -2.9, -2.9, -2.9, -2.9, -2.9, -2.9, -2.9, -2.9, -2.9, -2.8, -2.8, -2.8, -2.8, -2.7, -2.7, -2.7, -2.7, -2.7, -2.7, -2.7, -2.7, -2.6, -2.6, -2.6, -2.6, -2.6, -2.6, -2.6, -2.6, -2.6, -2.6, -2.6, -2.5, -2.5, -2.5, -2.5, -2.5, -2.5, -2.5, -2.4, -2.4, -2.4, -2.4, -2.4, -2.4, -2.4, -2.4, -2.4, -2.4, -2.4, -2.4, -2.4, -2.3, -2.3, -2.3, -2.3, -2.2, -2.2, -2.2, -2.2, -2.2, -2.2, -2.2, -2.2, -2.2, -2.2, -2.1, -2.1, -2.1, -2.1, -2.1, -2.1, -2.1, -2.0, -2.0, -2.0, -2.0, -2.0, -2.0, -2.0, -2.0, -1.9, -1.9, -1.9, -1.9, -1.9, -1.9, -1.9, -1.8, -1.8, -1.8, -1.8, -1.8, -1.8, -1.8, -1.8, -1.8, -1.8, -1.8, -1.8, -1.8, -1.7, -1.7, -1.7, -1.7, -1.6, -1.6, -1.6, -1.6, -1.6, -1.6, -1.6, -1.5, -1.5, -1.5, -1.5, -1.5, -1.5, -1.5, -1.5, -1.5, -1.5, -1.4, -1.4, -1.4, -1.4, -1.4, -1.4, -1.4, -1.4, -1.4, -1.4, -1.3, -1.3, -1.3, -1.3, -1.3, -1.3, -1.3, -1.3, -1.3, -1.3, -1.2, -1.2, -1.2, -1.2, -1.2, -1.2, -1.1, -1.1, -1.1, -1.1, -1.1, -1.1, -1.1, -1.1, -1.1, -1.0, -1.0, -1.0, -1.0, -1.0, -0.9, -0.9, -0.9, -0.9, -0.9, -0.9, -0.9, -0.9, -0.9, -0.9, -0.9, -0.9, -0.8, -0.8, -0.8, -0.8, -0.8, -0.8, -0.8, -0.8, -0.8, -0.7, -0.7, -0.7, -0.7, -0.7, -0.7, -0.7, -0.7, -0.7, -0.7, -0.7, -0.6, -0.6, -0.6, -0.6, -0.6, -0.6, -0.6, -0.5, -0.5, -0.5, -0.5, -0.5, -0.5, -0.5, -0.5, -0.5, -0.5, -0.5, -0.5, -0.4, -0.4, -0.4, -0.4, -0.4, -0.4, -0.4, -0.4, -0.4, -0.4, -0.3, -0.3, -0.3, -0.3, -0.3, -0.3, -0.3, -0.2, -0.2, -0.2, -0.2, -0.2, -0.2, -0.2, -0.2, -0.2, -0.1, -0.1, -0.1, -0.1, -0.1, -0.1, -0.1, -0.1, -0.1, -0.1, 0.0, 0.0, 0.0, 0.0, 0.0, 0.0, 0.0, 0.0, 0.0, 0.0, 0.0, 0.0, 0.0, 0.0, 0.0, 0.1, 0.1, 0.1, 0.1, 0.1, 0.1, 0.1, 0.1, 0.2, 0.2, 0.2, 0.2, 0.2, 0.2, 0.3, 0.3, 0.3, 0.3, 0.3, 0.3, 0.3, 0.3, 0.3, 0.3, 0.3, 0.3, 0.3, 0.3, 0.4, 0.4, 0.4, 0.4, 0.4, 0.4, 0.5, 0.5, 0.5, 0.5, 0.5, 0.5, 0.5, 0.5, 0.5, 0.5, 0.5, 0.5, 0.6, 0.6, 0.6, 0.6, 0.6, 0.6, 0.6, 0.6, 0.6, 0.6, 0.6, 0.6, 0.6, 0.6, 0.7, 0.7, 0.7, 0.7, 0.7, 0.7, 0.7, 0.7, 0.7, 0.8, 0.8, 0.8, 0.8, 0.8, 0.8, 0.8, 0.8, 0.8, 0.8, 0.8, 0.8, 0.8, 0.8, 0.8, 0.8, 0.8, 0.8, 0.9, 0.9, 0.9, 0.9, 0.9, 0.9, 0.9, 0.9, 0.9, 0.9, 0.9, 0.9, 0.9, 0.9, 0.9, 1.0, 1.0, 1.0, 1.0, 1.0, 1.0, 1.0, 1.0, 1.0, 1.0, 1.1, 1.1, 1.1, 1.1, 1.1, 1.1, 1.1, 1.1, 1.1, 1.1, 1.1, 1.1, 1.1, 1.1, 1.1, 1.1, 1.1, 1.1, 1.2, 1.2, 1.2, 1.2, 1.2, 1.2, 1.2, 1.2, 1.2, 1.2, 1.2, 1.3, 1.3, 1.3, 1.3, 1.3, 1.3, 1.3, 1.3, 1.3, 1.3, 1.3, 1.3, 1.3, 1.3, 1.3, 1.3, 1.3, 1.4, 1.4, 1.4, 1.4, 1.4, 1.4, 1.4, 1.5, 1.5, 1.5, 1.5, 1.5, 1.5, 1.5, 1.5, 1.5, 1.5, 1.5, 1.5, 1.5, 1.5, 1.5, 1.5, 1.5, 1.5, 1.6, 1.6, 1.6, 1.6, 1.6, 1.6, 1.6, 1.6, 1.6, 1.6, 1.6, 1.6, 1.6, 1.6, 1.7, 1.7, 1.7, 1.7, 1.7, 1.7, 1.7, 1.7, 1.7, 1.7, 1.7, 1.7, 1.7, 1.8, 1.8, 1.8, 1.8, 1.8, 1.8, 1.8, 1.8, 1.8, 1.8, 1.8, 1.8, 1.8, 1.8, 1.8, 1.8, 1.9, 1.9, 1.9, 1.9, 1.9, 1.9, 1.9, 1.9, 1.9, 1.9, 1.9, 1.9, 1.9, 2.0, 2.0, 2.0, 2.0, 2.0, 2.0, 2.0, 2.0, 2.0, 2.0, 2.0, 2.0, 2.0, 2.0, 2.0, 2.1, 2.1, 2.1, 2.1, 2.1, 2.1, 2.1, 2.1, 2.1, 2.1, 2.1, 2.1, 2.2, 2.2, 2.2, 2.2, 2.2, 2.2, 2.2, 2.2, 2.2, 2.2, 2.3, 2.3, 2.3, 2.3, 2.3, 2.3, 2.3, 2.3, 2.3, 2.3, 2.3, 2.4, 2.4, 2.4, 2.4, 2.4, 2.4, 2.4, 2.4, 2.4, 2.4, 2.5, 2.5, 2.5, 2.5, 2.5, 2.5, 2.5, 2.5, 2.5, 2.5, 2.5, 2.5, 2.5, 2.5, 2.5, 2.6, 2.6, 2.6, 2.6, 2.6, 2.6, 2.6, 2.6, 2.6, 2.6, 2.6, 2.6, 2.6, 2.6, 2.6, 2.6, 2.6, 2.6, 2.6, 2.7, 2.7, 2.7, 2.7, 2.7, 2.7, 2.7, 2.7, 2.7, 2.7, 2.7, 2.7, 2.7, 2.7, 2.7, 2.7, 2.7, 2.7, 2.7, 2.7, 2.8, 2.8, 2.8, 2.8, 2.8, 2.8, 2.8, 2.8, 2.8, 2.8, 2.8, 2.8, 2.8, 2.8, 2.8, 2.8, 2.8, 2.8, 2.8, 2.8, 2.8, 2.8, 2.8, 2.9, 2.9, 2.9, 2.9, 2.9, 2.9, 2.9, 2.9, 2.9, 2.9, 2.9, 2.9, 2.9, 2.9, 2.9, 2.9, 2.9, 3.0, 3.0, 3.0, 3.0, 3.0, 3.0, 3.0, 3.0, 3.0, 3.0, 3.0, 3.0, 3.0, 3.0, 3.0, 3.0, 3.0, 3.0, 3.0, 3.0, 3.1, 3.1, 3.1, 3.1, 3.1, 3.1, 3.1, 3.1, 3.1, 3.1, 3.1, 3.1, 3.1, 3.2, 3.2, 3.2, 3.2, 3.2, 3.2, 3.2, 3.2, 3.2, 3.3, 3.3, 3.3, 3.3, 3.3, 3.3, 3.3, 3.3, 3.3, 3.3, 3.3, 3.3, 3.4, 3.4, 3.4, 3.4, 3.4, 3.4, 3.4, 3.4, 3.4, 3.4, 3.4, 3.4, 3.5, 3.5, 3.5, 3.5, 3.5, 3.5, 3.5, 3.5, 3.5, 3.5, 3.5, 3.5, 3.5, 3.5, 3.5, 3.5, 3.5, 3.5, 3.5, 3.5, 3.6, 3.6, 3.6, 3.6, 3.6, 3.6, 3.6, 3.6, 3.6, 3.6, 3.6, 3.6, 3.6, 3.6, 3.6, 3.6, 3.6, 3.6, 3.7, 3.7, 3.7, 3.7, 3.7, 3.7, 3.7, 3.7, 3.7, 3.7, 3.7, 3.7, 3.8, 3.8, 3.8, 3.8, 3.8, 3.8, 3.8, 3.8, 3.8, 3.8, 3.8, 3.8, 3.8, 3.8, 3.9, 3.9, 3.9, 3.9, 3.9, 3.9, 3.9, 3.9, 3.9, 3.9, 3.9, 3.9, 3.9, 3.9, 3.9, 3.9, 3.9, 4.0, 4.0, 4.0, 4.0, 4.0, 4.0, 4.0, 4.0, 4.0, 4.1, 4.1, 4.1, 4.1, 4.1, 4.1, 4.1, 4.1, 4.1, 4.1, 4.1, 4.1, 4.1, 4.1, 4.1, 4.2, 4.2, 4.2, 4.2, 4.2, 4.2, 4.2, 4.2, 4.2, 4.2, 4.2, 4.2, 4.2, 4.2, 4.2, 4.2, 4.2, 4.2, 4.2, 4.3, 4.3, 4.3, 4.3, 4.3, 4.3, 4.3, 4.3, 4.3, 4.3, 4.3, 4.3, 4.3, 4.3, 4.3, 4.4, 4.4, 4.4, 4.4, 4.4, 4.4, 4.4, 4.4, 4.4, 4.4, 4.4, 4.4, 4.4, 4.5, 4.5, 4.5, 4.5, 4.5, 4.5, 4.5, 4.6, 4.6, 4.6, 4.6, 4.6, 4.6, 4.6, 4.6, 4.6, 4.7, 4.7, 4.7, 4.7, 4.7, 4.7, 4.7, 4.7, 4.7, 4.7, 4.7, 4.7, 4.7, 4.7, 4.7, 4.7, 4.7, 4.7, 4.7, 4.8, 4.8, 4.8, 4.8, 4.8, 4.8, 4.8, 4.8, 4.8, 4.9, 4.9, 4.9, 4.9, 4.9, 4.9, 4.9, 4.9, 4.9, 4.9, 4.9, 4.9, 5.0, 5.0, 5.0, 5.0, 5.0, 5.0, 5.0, 5.0, 5.0, 5.0, 5.0, 5.0, 5.0, 5.0, 5.0, 5.0, 5.1, 5.1, 5.1, 5.1, 5.1, 5.1, 5.1, 5.1, 5.1, 5.1, 5.1, 5.1, 5.1, 5.1, 5.1, 5.1, 5.1, 5.1, 5.1, 5.1, 5.1, 5.1, 5.1, 5.1, 5.2, 5.2, 5.2, 5.2, 5.2, 5.2, 5.2, 5.2, 5.2, 5.2, 5.2, 5.2, 5.2, 5.2, 5.2, 5.2, 5.2, 5.2, 5.2, 5.2, 5.3, 5.3, 5.3, 5.3, 5.3, 5.3, 5.3, 5.3, 5.3, 5.3, 5.3, 5.3, 5.3, 5.3, 5.3, 5.3, 5.3, 5.3, 5.3, 5.4, 5.4, 5.4, 5.4, 5.4, 5.4, 5.4, 5.4, 5.4, 5.4, 5.4, 5.4, 5.4, 5.4, 5.5, 5.5, 5.5, 5.5, 5.5, 5.5, 5.5, 5.5, 5.5, 5.5, 5.5, 5.5, 5.5, 5.5, 5.6, 5.6, 5.6, 5.6, 5.6, 5.6, 5.6, 5.6, 5.6, 5.6, 5.6, 5.6, 5.7, 5.7, 5.7, 5.7, 5.7, 5.7, 5.7, 5.7, 5.7, 5.7, 5.7, 5.7, 5.7, 5.7, 5.7, 5.7, 5.7, 5.7, 5.7, 5.7, 5.7, 5.7, 5.8, 5.8, 5.8, 5.8, 5.8, 5.8, 5.8, 5.8, 5.8, 5.8, 5.9, 5.9, 5.9, 5.9, 5.9, 5.9, 5.9, 5.9, 5.9, 5.9, 5.9, 5.9, 5.9, 6.0, 6.0, 6.0, 6.0, 6.0, 6.0, 6.0, 6.0, 6.0, 6.0, 6.0, 6.0, 6.0, 6.0, 6.0, 6.0, 6.0, 6.1, 6.1, 6.1, 6.1, 6.1, 6.1, 6.1, 6.1, 6.1, 6.1, 6.1, 6.2, 6.2, 6.2, 6.2, 6.2, 6.2, 6.2, 6.2, 6.2, 6.2, 6.2, 6.3, 6.3, 6.3, 6.3, 6.3, 6.3, 6.3, 6.3, 6.3, 6.3, 6.3, 6.3, 6.3, 6.3, 6.3, 6.3, 6.3, 6.3, 6.4, 6.4, 6.4, 6.4, 6.4, 6.4, 6.4, 6.4, 6.4, 6.4, 6.4, 6.4, 6.4, 6.4, 6.4, 6.5, 6.5, 6.5, 6.5, 6.5, 6.5, 6.5, 6.5, 6.5, 6.5, 6.5, 6.5, 6.5, 6.6, 6.6, 6.6, 6.6, 6.6, 6.6, 6.6, 6.6, 6.6, 6.7, 6.7, 6.7, 6.7, 6.7, 6.7, 6.7, 6.7, 6.7, 6.7, 6.7, 6.7, 6.7, 6.7, 6.7, 6.7, 6.7, 6.8, 6.8, 6.8, 6.8, 6.8, 6.8, 6.8, 6.8, 6.8, 6.8, 6.8, 6.8, 6.8, 6.8, 6.9, 6.9, 6.9, 6.9, 6.9, 6.9, 6.9, 6.9, 6.9, 6.9, 6.9, 6.9, 6.9, 6.9, 6.9, 6.9, 6.9, 6.9, 6.9, 6.9, 7.0, 7.0, 7.0, 7.0, 7.0, 7.0, 7.0, 7.0, 7.0, 7.0, 7.0, 7.0, 7.0, 7.0, 7.1, 7.1, 7.1, 7.1, 7.1, 7.1, 7.1, 7.1, 7.1, 7.1, 7.1, 7.1, 7.1, 7.1, 7.1, 7.1, 7.1, 7.1, 7.1, 7.1, 7.1, 7.1, 7.1, 7.1, 7.1, 7.1, 7.1, 7.2, 7.2, 7.2, 7.2, 7.2, 7.2, 7.2, 7.2, 7.2, 7.2, 7.2, 7.2, 7.2, 7.2, 7.2, 7.2, 7.3, 7.3, 7.3, 7.3, 7.3, 7.3, 7.3, 7.3, 7.3, 7.3, 7.3, 7.3, 7.3, 7.4, 7.4, 7.4, 7.4, 7.4, 7.4, 7.4, 7.4, 7.4, 7.5, 7.5, 7.5, 7.5, 7.5, 7.5, 7.5, 7.5, 7.5, 7.5, 7.5, 7.5, 7.5, 7.5, 7.6, 7.6, 7.6, 7.6, 7.6, 7.6, 7.6, 7.6, 7.6, 7.6, 7.6, 7.6, 7.6, 7.6, 7.6, 7.6, 7.6, 7.6, 7.6, 7.6, 7.6, 7.6, 7.6, 7.6, 7.6, 7.6, 7.7, 7.7, 7.7, 7.7, 7.7, 7.7, 7.7, 7.7, 7.7, 7.7, 7.7, 7.7, 7.7, 7.7, 7.8, 7.8, 7.8, 7.8, 7.8, 7.8, 7.8, 7.8, 7.8, 7.8, 7.8, 7.8, 7.9, 7.9, 7.9, 7.9, 7.9, 7.9, 7.9, 7.9, 7.9, 7.9, 7.9, 7.9, 7.9, 7.9, 7.9, 7.9, 8.0, 8.0, 8.0, 8.0, 8.0, 8.0, 8.0, 8.0, 8.0, 8.0, 8.0, 8.0, 8.0, 8.0, 8.0, 8.0, 8.0, 8.0, 8.0, 8.1, 8.1, 8.1, 8.1, 8.1, 8.1, 8.1, 8.1, 8.1, 8.1, 8.1, 8.1, 8.1, 8.1, 8.1, 8.1, 8.1, 8.1, 8.2, 8.2, 8.2, 8.2, 8.2, 8.2, 8.2, 8.2, 8.2, 8.2, 8.2, 8.3, 8.3, 8.3, 8.3, 8.3, 8.3, 8.3, 8.3, 8.3, 8.3, 8.3, 8.4, 8.4, 8.4, 8.4, 8.4, 8.4, 8.4, 8.4, 8.4, 8.4, 8.4, 8.4, 8.5, 8.5, 8.5, 8.5, 8.5, 8.5, 8.5, 8.5, 8.5, 8.5, 8.5, 8.5, 8.5, 8.5, 8.5, 8.6, 8.6, 8.6, 8.6, 8.6, 8.6, 8.6, 8.6, 8.6, 8.6, 8.7, 8.7, 8.7, 8.7, 8.7, 8.7, 8.7, 8.7, 8.7, 8.7, 8.8, 8.8, 8.8, 8.8, 8.8, 8.8, 8.8, 8.8, 8.8, 8.8, 8.8, 8.8, 8.9, 8.9, 8.9, 8.9, 8.9, 8.9, 8.9, 8.9, 8.9, 8.9, 8.9, 8.9, 8.9, 8.9, 8.9, 9.0, 9.0, 9.0, 9.0, 9.0, 9.0, 9.0, 9.0, 9.0, 9.0, 9.0, 9.0, 9.0, 9.0, 9.1, 9.1, 9.1, 9.1, 9.1, 9.1, 9.1, 9.1, 9.2, 9.2, 9.2, 9.2, 9.2, 9.2, 9.2, 9.2, 9.2, 9.2, 9.2, 9.2, 9.2, 9.2, 9.3, 9.3, 9.3, 9.3, 9.3, 9.3, 9.3, 9.3, 9.3, 9.3, 9.3, 9.3, 9.3, 9.4, 9.4, 9.4, 9.4, 9.4, 9.4, 9.4, 9.4, 9.4, 9.4, 9.4, 9.4, 9.4, 9.4, 9.4, 9.4, 9.4, 9.4, 9.4, 9.4, 9.5, 9.5, 9.5, 9.5, 9.5, 9.5, 9.5, 9.5, 9.5, 9.5, 9.5, 9.5, 9.5, 9.5, 9.5, 9.5, 9.5, 9.5, 9.5, 9.5, 9.5, 9.5, 9.5, 9.5, 9.5, 9.6, 9.6, 9.6, 9.6, 9.6, 9.6, 9.6, 9.6, 9.6, 9.6, 9.6, 9.6, 9.6, 9.6, 9.7, 9.7, 9.7, 9.7, 9.7, 9.7, 9.7, 9.7, 9.8, 9.8, 9.8, 9.8, 9.8, 9.8, 9.8, 9.8, 9.8, 9.8, 9.8, 9.8, 9.8, 9.9, 9.9, 9.9, 9.9, 9.9, 9.9, 9.9, 9.9, 9.9, 9.9, 9.9, 9.9, 9.9, 10.0, 10.0, 10.0, 10.0, 10.0, 10.0, 10.0, 10.0, 10.0, 10.0, 10.0, 10.0, 10.1, 10.1, 10.1, 10.1, 10.1, 10.1, 10.1, 10.1, 10.1, 10.1, 10.1, 10.1, 10.1, 10.1, 10.1, 10.2, 10.2, 10.2, 10.2, 10.2, 10.2, 10.2, 10.2, 10.2, 10.2, 10.2, 10.2, 10.2, 10.2, 10.2, 10.2, 10.2, 10.3, 10.3, 10.3, 10.3, 10.3, 10.3, 10.3, 10.3, 10.3, 10.3, 10.3, 10.3, 10.3, 10.3, 10.3, 10.3, 10.3, 10.3, 10.3, 10.4, 10.4, 10.4, 10.4, 10.4, 10.4, 10.4, 10.4, 10.4, 10.4, 10.4, 10.4, 10.4, 10.5, 10.5, 10.5, 10.5, 10.5, 10.5, 10.5, 10.5, 10.5, 10.5, 10.5, 10.5, 10.5, 10.6, 10.6, 10.6, 10.6, 10.6, 10.6, 10.6, 10.6, 10.6, 10.6, 10.6, 10.6, 10.6, 10.6, 10.6, 10.6, 10.6, 10.6, 10.6, 10.6, 10.7, 10.7, 10.7, 10.7, 10.7, 10.7, 10.7, 10.7, 10.7, 10.7, 10.7, 10.8, 10.8, 10.8, 10.8, 10.8, 10.8, 10.8, 10.8, 10.8, 10.8, 10.8, 10.8, 10.8, 10.8, 10.9, 10.9, 10.9, 10.9, 10.9, 10.9, 10.9, 10.9, 10.9, 10.9, 10.9, 10.9, 10.9, 11.0, 11.0, 11.0, 11.0, 11.0, 11.0, 11.0, 11.0, 11.0, 11.0, 11.0, 11.0, 11.0, 11.0, 11.0, 11.1, 11.1, 11.1, 11.1, 11.1, 11.1, 11.1, 11.1, 11.1, 11.1, 11.1, 11.1, 11.2, 11.2, 11.2, 11.2, 11.2, 11.2, 11.2, 11.2, 11.2, 11.2, 11.2, 11.3, 11.3, 11.3, 11.3, 11.3, 11.3, 11.3, 11.3, 11.3, 11.3, 11.3, 11.3, 11.3, 11.3, 11.4, 11.4, 11.4, 11.4, 11.4, 11.4, 11.4, 11.4, 11.4, 11.4, 11.4, 11.4, 11.5, 11.5, 11.5, 11.5, 11.5, 11.5, 11.5, 11.6, 11.6, 11.6, 11.6, 11.6, 11.6, 11.6, 11.6, 11.6, 11.6, 11.6, 11.6, 11.6, 11.6, 11.6, 11.6, 11.6, 11.6, 11.7, 11.7, 11.7, 11.7, 11.7, 11.7, 11.7, 11.7, 11.7, 11.7, 11.7, 11.7, 11.7, 11.7, 11.7, 11.8, 11.8, 11.8, 11.8, 11.8, 11.8, 11.8, 11.8, 11.8, 11.8, 11.8, 11.8, 11.8, 11.8, 11.8, 11.8, 11.8, 11.9, 11.9, 11.9, 11.9, 11.9, 11.9, 11.9, 11.9, 11.9, 11.9, 11.9, 11.9, 11.9, 11.9, 11.9, 11.9, 11.9, 12.0, 12.0, 12.0, 12.0, 12.0, 12.0, 12.0, 12.0, 12.0, 12.0, 12.0, 12.1, 12.1, 12.1, 12.1, 12.1, 12.1, 12.1, 12.1, 12.1, 12.1, 12.1, 12.1, 12.1, 12.1, 12.1, 12.1, 12.1, 12.1, 12.1, 12.1, 12.2, 12.2, 12.2, 12.2, 12.2, 12.2, 12.2, 12.2, 12.2, 12.2, 12.2, 12.2, 12.2, 12.2, 12.2, 12.3, 12.3, 12.3, 12.3, 12.3, 12.3, 12.3, 12.3, 12.3, 12.3, 12.3, 12.3, 12.3, 12.4, 12.4, 12.4, 12.4, 12.4, 12.4, 12.4, 12.4, 12.4, 12.4, 12.4, 12.4, 12.4, 12.4, 12.4, 12.4, 12.4, 12.4, 12.4, 12.5, 12.5, 12.5, 12.5, 12.5, 12.5, 12.5, 12.5, 12.6, 12.6, 12.6, 12.6, 12.6, 12.6, 12.6, 12.6, 12.6, 12.6, 12.6, 12.6, 12.6, 12.6, 12.6, 12.7, 12.7, 12.7, 12.7, 12.7, 12.7, 12.7, 12.7, 12.7, 12.7, 12.7, 12.7, 12.7, 12.7, 12.7, 12.7, 12.7, 12.7, 12.8, 12.8, 12.8, 12.8, 12.8, 12.8, 12.8, 12.8, 12.8, 12.8, 12.8, 12.8, 12.9, 12.9, 12.9, 12.9, 12.9, 12.9, 12.9, 12.9, 12.9, 12.9, 12.9, 13.0, 13.0, 13.0, 13.0, 13.0, 13.0, 13.0, 13.0, 13.0, 13.0, 13.0, 13.0, 13.0, 13.0, 13.1, 13.1, 13.1, 13.1, 13.1, 13.1, 13.2, 13.2, 13.2, 13.2, 13.2, 13.2, 13.2, 13.2, 13.2, 13.2, 13.2, 13.3, 13.3, 13.3, 13.3, 13.3, 13.3, 13.3, 13.3, 13.3, 13.3, 13.3, 13.3, 13.3, 13.4, 13.4, 13.4, 13.4, 13.4, 13.4, 13.4, 13.4, 13.4, 13.4, 13.5, 13.5, 13.5, 13.5, 13.5, 13.5, 13.5, 13.5, 13.5, 13.5, 13.5, 13.5, 13.5, 13.6, 13.6, 13.6, 13.6, 13.6, 13.6, 13.6, 13.6, 13.6, 13.6, 13.6, 13.7, 13.7, 13.7, 13.7, 13.7, 13.7, 13.7, 13.7, 13.7, 13.7, 13.7, 13.7, 13.7, 13.7, 13.7, 13.8, 13.8, 13.8, 13.8, 13.8, 13.8, 13.8, 13.8, 13.8, 13.8, 13.8, 13.8, 13.8, 13.8, 13.8, 13.9, 13.9, 13.9, 13.9, 13.9, 13.9, 13.9, 13.9, 13.9, 13.9, 13.9, 13.9, 13.9, 13.9, 14.0, 14.0, 14.0, 14.0, 14.0, 14.0, 14.0, 14.0, 14.0, 14.1, 14.1, 14.1, 14.1, 14.1, 14.1, 14.1, 14.1, 14.1, 14.1, 14.1, 14.1, 14.1, 14.1, 14.1, 14.2, 14.2, 14.2, 14.2, 14.2, 14.2, 14.2, 14.2, 14.2, 14.2, 14.2, 14.2, 14.2, 14.3, 14.3, 14.3, 14.3, 14.3, 14.3, 14.3, 14.3, 14.3, 14.3, 14.3, 14.3, 14.4, 14.4, 14.4, 14.4, 14.4, 14.4, 14.4, 14.4, 14.4, 14.4, 14.4, 14.4, 14.4, 14.4, 14.4, 14.4, 14.5, 14.5, 14.5, 14.5, 14.5, 14.5, 14.5, 14.5, 14.5, 14.5, 14.5, 14.5, 14.6, 14.6, 14.6, 14.6, 14.6, 14.6, 14.6, 14.6, 14.7, 14.7, 14.7, 14.7, 14.7, 14.7, 14.7, 14.7, 14.7, 14.7, 14.7, 14.7, 14.7, 14.8, 14.8, 14.8, 14.8, 14.8, 14.8, 14.8, 14.8, 14.8, 14.8, 14.8, 14.8, 14.8, 14.8, 14.9, 14.9, 14.9, 14.9, 14.9, 14.9, 14.9, 14.9, 14.9, 15.0, 15.0, 15.0, 15.0, 15.0, 15.0, 15.0, 15.0, 15.0, 15.0, 15.0, 15.0, 15.0, 15.0, 15.1, 15.1, 15.1, 15.1, 15.1, 15.1, 15.1, 15.1, 15.1, 15.1, 15.1, 15.1, 15.1, 15.1, 15.2, 15.2, 15.2, 15.2, 15.2, 15.2, 15.2, 15.2, 15.2, 15.2, 15.2, 15.2, 15.2, 15.2, 15.2, 15.3, 15.3, 15.3, 15.3, 15.3, 15.3, 15.3, 15.3, 15.3, 15.3, 15.3, 15.3, 15.4, 15.4, 15.4, 15.4, 15.4, 15.4, 15.4, 15.4, 15.4, 15.5, 15.5, 15.5, 15.5, 15.5, 15.5, 15.5, 15.5, 15.5, 15.5, 15.5, 15.5, 15.5, 15.5, 15.5, 15.5, 15.5, 15.6, 15.6, 15.6, 15.6, 15.6, 15.6, 15.6, 15.7, 15.7, 15.7, 15.7, 15.7, 15.7, 15.7, 15.7, 15.7, 15.7, 15.7, 15.7, 15.7, 15.8, 15.8, 15.8, 15.8, 15.8, 15.8, 15.8, 15.8, 15.8, 15.8, 15.8, 15.8, 15.8, 15.8, 15.8, 15.8, 15.8, 15.9, 15.9, 15.9, 15.9, 15.9, 15.9, 15.9, 16.0, 16.0, 16.0, 16.0, 16.0, 16.0, 16.0, 16.0, 16.0, 16.0, 16.1, 16.1, 16.1, 16.1, 16.1, 16.1, 16.1, 16.1, 16.1, 16.1, 16.1, 16.1, 16.2, 16.2, 16.2, 16.2, 16.2, 16.2, 16.2, 16.2, 16.2, 16.2, 16.2, 16.2, 16.2, 16.2, 16.2, 16.2, 16.3, 16.3, 16.3, 16.3, 16.3, 16.3, 16.3, 16.3, 16.3, 16.3, 16.3, 16.3, 16.3, 16.3, 16.4, 16.4, 16.4, 16.4, 16.4, 16.4, 16.4, 16.4, 16.4, 16.5, 16.5, 16.5, 16.5, 16.5, 16.5, 16.5, 16.5, 16.5, 16.5, 16.6, 16.6, 16.6, 16.6, 16.6, 16.6, 16.6, 16.6, 16.6, 16.6, 16.6, 16.6, 16.6, 16.6, 16.6, 16.6, 16.6, 16.6, 16.6, 16.7, 16.7, 16.7, 16.7, 16.7, 16.7, 16.7, 16.7, 16.7, 16.7, 16.7, 16.8, 16.8, 16.8, 16.8, 16.8, 16.8, 16.8, 16.8, 16.8, 16.8, 16.8, 16.8, 16.9, 16.9, 16.9, 16.9, 16.9, 16.9, 16.9, 16.9, 16.9, 16.9, 16.9, 16.9, 16.9, 16.9, 16.9, 16.9, 16.9, 17.0, 17.0, 17.0, 17.0, 17.0, 17.0, 17.0, 17.0, 17.0, 17.0, 17.1, 17.1, 17.1, 17.1, 17.1, 17.1, 17.1, 17.1, 17.1, 17.1, 17.1, 17.1, 17.2, 17.2, 17.2, 17.2, 17.2, 17.2, 17.2, 17.2, 17.2, 17.2, 17.3, 17.3, 17.3, 17.3, 17.3, 17.3, 17.3, 17.3, 17.4, 17.4, 17.4, 17.4, 17.4, 17.4, 17.4, 17.4, 17.4, 17.4, 17.4, 17.4, 17.4, 17.5, 17.5, 17.5, 17.5, 17.5, 17.5, 17.5, 17.5, 17.5, 17.5, 17.5, 17.5, 17.5, 17.5, 17.5, 17.6, 17.6, 17.6, 17.6, 17.6, 17.6, 17.6, 17.6, 17.6, 17.6, 17.6, 17.6, 17.7, 17.7, 17.7, 17.7, 17.7, 17.7, 17.7, 17.7, 17.7, 17.7, 17.7, 17.7, 17.7, 17.7, 17.7, 17.7, 17.7, 17.7, 17.7, 17.8, 17.8, 17.8, 17.8, 17.8, 17.8, 17.8, 17.8, 17.8, 17.8, 17.8, 17.8, 17.8, 17.8, 17.9, 17.9, 17.9, 17.9, 17.9, 17.9, 17.9, 17.9, 17.9, 17.9, 17.9, 17.9, 17.9, 17.9, 17.9, 18.0, 18.0, 18.0, 18.0, 18.0, 18.0, 18.0, 18.0, 18.0, 18.0, 18.0, 18.0, 18.0, 18.0, 18.1, 18.1, 18.1, 18.1, 18.1, 18.1, 18.1, 18.1, 18.1, 18.1, 18.1, 18.1, 18.1, 18.1, 18.1, 18.2, 18.2, 18.2, 18.2, 18.2, 18.2, 18.2, 18.2, 18.2, 18.2, 18.2, 18.2, 18.2, 18.2, 18.2, 18.2, 18.2, 18.2, 18.3, 18.3, 18.3, 18.3, 18.3, 18.3, 18.3, 18.3, 18.4, 18.4, 18.4, 18.4, 18.4, 18.4, 18.4, 18.4, 18.4, 18.4, 18.4, 18.4, 18.4, 18.4, 18.5, 18.5, 18.5, 18.5, 18.5, 18.5, 18.5, 18.5, 18.5, 18.5, 18.5, 18.5, 18.6, 18.6, 18.6, 18.6, 18.6, 18.6, 18.6, 18.6, 18.6, 18.6, 18.6, 18.6, 18.6, 18.6, 18.6, 18.7, 18.7, 18.7, 18.7, 18.7, 18.7, 18.7, 18.7, 18.7, 18.7, 18.7, 18.7, 18.8, 18.8, 18.8, 18.8, 18.8, 18.8, 18.8, 18.8, 18.8, 18.8, 18.8, 18.8, 18.8, 18.8, 18.8, 18.8, 18.8, 18.8, 18.8, 18.9, 18.9, 18.9, 18.9, 18.9, 18.9, 18.9, 18.9, 18.9, 18.9, 18.9, 18.9, 18.9, 18.9, 18.9, 18.9, 18.9, 18.9, 18.9, 18.9, 18.9, 19.0, 19.0, 19.0, 19.0, 19.0, 19.0, 19.0, 19.0, 19.0, 19.0, 19.0, 19.0, 19.0, 19.0, 19.0, 19.0, 19.0, 19.0, 19.0, 19.0, 19.1, 19.1, 19.1, 19.1, 19.1, 19.1, 19.1, 19.1, 19.1, 19.1, 19.1, 19.1, 19.1, 19.1, 19.1, 19.1, 19.1, 19.1, 19.1, 19.1, 19.1, 19.1, 19.1, 19.1, 19.1, 19.1, 19.1, 19.2, 19.2, 19.2, 19.2, 19.2, 19.2, 19.2, 19.2, 19.2, 19.2, 19.2, 19.2, 19.2, 19.3, 19.3, 19.3, 19.3, 19.3, 19.3, 19.3, 19.3, 19.3, 19.3, 19.3, 19.3, 19.3, 19.3, 19.4, 19.4, 19.4, 19.4, 19.4, 19.4, 19.4, 19.4, 19.4, 19.4, 19.4, 19.4, 19.4, 19.4, 19.4, 19.4, 19.4, 19.4, 19.4, 19.4, 19.4, 19.5, 19.5, 19.5, 19.5, 19.5, 19.5, 19.5, 19.5, 19.5, 19.5, 19.5, 19.5, 19.5, 19.5, 19.5, 19.5, 19.5, 19.6, 19.6, 19.6, 19.6, 19.6, 19.6, 19.6, 19.6, 19.6, 19.6, 19.6, 19.6, 19.7, 19.7, 19.7, 19.7, 19.7, 19.7, 19.7, 19.7, 19.7, 19.7, 19.7, 19.7, 19.7, 19.7, 19.7, 19.7, 19.7, 19.7, 19.7, 19.7, 19.7, 19.7, 19.7, 19.7, 19.7, 19.8, 19.8, 19.8, 19.8, 19.8, 19.8, 19.8, 19.8, 19.8, 19.8, 19.8, 19.8, 19.8, 19.9, 19.9, 19.9, 19.9, 19.9, 19.9, 19.9, 19.9, 19.9, 19.9, 19.9, 19.9, 19.9, 19.9, 19.9, 19.9, 20.0, 20.0, 20.0, 20.0, 20.0, 20.0, 20.0, 20.0, 20.0, 20.0, 20.0, 20.0, 20.0, 20.0, 20.0, 20.0, 20.0, 20.0, 20.1, 20.1, 20.1, 20.1, 20.1, 20.1, 20.1, 20.1, 20.1, 20.1, 20.1, 20.1, 20.1, 20.1, 20.1, 20.1, 20.1, 20.1, 20.2, 20.2, 20.2, 20.2, 20.2, 20.2, 20.2, 20.2, 20.2, 20.2, 20.2, 20.2, 20.2, 20.2, 20.2, 20.2, 20.2, 20.2, 20.2, 20.2, 20.2, 20.2, 20.2, 20.2, 20.2, 20.2, 20.2, 20.3, 20.3, 20.3, 20.3, 20.3, 20.3, 20.3, 20.3, 20.3, 20.3, 20.3, 20.3, 20.3, 20.3, 20.3, 20.3, 20.3, 20.4, 20.4, 20.4, 20.4, 20.4, 20.4, 20.4, 20.4, 20.4, 20.4, 20.4, 20.4, 20.4, 20.4, 20.5, 20.5, 20.5, 20.5, 20.5, 20.5, 20.5, 20.5, 20.5, 20.5, 20.5, 20.5, 20.5, 20.5, 20.5, 20.5, 20.5, 20.5, 20.5, 20.5, 20.5, 20.5, 20.5, 20.6, 20.6, 20.6, 20.6, 20.6, 20.6, 20.6, 20.6, 20.6, 20.6, 20.6, 20.6, 20.6, 20.6, 20.6, 20.6, 20.6, 20.6, 20.6, 20.6, 20.6, 20.7, 20.7, 20.7, 20.7, 20.7, 20.7, 20.7, 20.7, 20.7, 20.7, 20.7, 20.7, 20.7, 20.7, 20.7, 20.7, 20.7, 20.7, 20.7, 20.7, 20.7, 20.7, 20.7, 20.7, 20.7, 20.8, 20.8, 20.8, 20.8, 20.8, 20.8, 20.8, 20.8, 20.8, 20.8, 20.8, 20.8, 20.8, 20.8, 20.9, 20.9, 20.9, 20.9, 20.9, 20.9, 20.9, 20.9, 20.9, 20.9, 20.9, 20.9, 20.9, 20.9, 20.9, 20.9, 20.9, 21.0, 21.0, 21.0, 21.0, 21.0, 21.0, 21.0, 21.0, 21.0, 21.0, 21.0, 21.0, 21.0, 21.0, 21.0, 21.1, 21.1, 21.1, 21.1, 21.1, 21.1, 21.1, 21.1, 21.1, 21.1, 21.1, 21.1, 21.1, 21.1, 21.1, 21.1, 21.1, 21.1, 21.1, 21.1, 21.1, 21.2, 21.2, 21.2, 21.2, 21.2, 21.2, 21.2, 21.2, 21.2, 21.2, 21.2, 21.2, 21.2, 21.2, 21.2, 21.2, 21.2, 21.2, 21.3, 21.3, 21.3, 21.3, 21.3, 21.3, 21.3, 21.3, 21.3, 21.3, 21.3, 21.3, 21.3, 21.3, 21.3, 21.3, 21.3, 21.4, 21.4, 21.4, 21.4, 21.4, 21.4, 21.4, 21.4, 21.4, 21.5, 21.5, 21.5, 21.5, 21.5, 21.5, 21.5, 21.5, 21.5, 21.5, 21.5, 21.5, 21.5, 21.5, 21.5, 21.5, 21.5, 21.5, 21.6, 21.6, 21.6, 21.6, 21.6, 21.6, 21.6, 21.6, 21.6, 21.6, 21.6, 21.6, 21.6, 21.6, 21.6, 21.6, 21.7, 21.7, 21.7, 21.7, 21.7, 21.7, 21.7, 21.7, 21.7, 21.7, 21.7, 21.7, 21.7, 21.7, 21.7, 21.7, 21.7, 21.7, 21.8, 21.8, 21.8, 21.8, 21.8, 21.8, 21.8, 21.8, 21.8, 21.8, 21.8, 21.8, 21.8, 21.8, 21.8, 21.9, 21.9, 21.9, 21.9, 21.9, 21.9, 21.9, 21.9, 21.9, 21.9, 21.9, 21.9, 21.9, 21.9, 21.9, 21.9, 21.9, 21.9, 21.9, 21.9, 21.9, 21.9, 22.0, 22.0, 22.0, 22.0, 22.0, 22.0, 22.0, 22.0, 22.0, 22.0, 22.0, 22.0, 22.0, 22.0, 22.0, 22.0, 22.0, 22.0, 22.0, 22.0, 22.0, 22.0, 22.0, 22.1, 22.1, 22.1, 22.1, 22.1, 22.1, 22.1, 22.1, 22.1, 22.1, 22.1, 22.1, 22.1, 22.1, 22.1, 22.1, 22.2, 22.2, 22.2, 22.2, 22.2, 22.2, 22.2, 22.2, 22.2, 22.2, 22.2, 22.2, 22.2, 22.2, 22.2, 22.2, 22.2, 22.2, 22.3, 22.3, 22.3, 22.3, 22.3, 22.3, 22.3, 22.3, 22.3, 22.3, 22.3, 22.3, 22.3, 22.3, 22.3, 22.3, 22.4, 22.4, 22.4, 22.4, 22.4, 22.4, 22.4, 22.4, 22.4, 22.4, 22.4, 22.4, 22.4, 22.4, 22.4, 22.4, 22.5, 22.5, 22.5, 22.5, 22.5, 22.5, 22.5, 22.5, 22.5, 22.5, 22.5, 22.5, 22.5, 22.6, 22.6, 22.6, 22.6, 22.6, 22.6, 22.6, 22.6, 22.6, 22.6, 22.6, 22.6, 22.6, 22.6, 22.6, 22.6, 22.6, 22.6, 22.6, 22.7, 22.7, 22.7, 22.7, 22.7, 22.7, 22.7, 22.7, 22.7, 22.7, 22.7, 22.7, 22.7, 22.7, 22.7, 22.7, 22.7, 22.7, 22.7, 22.7, 22.7, 22.7, 22.8, 22.8, 22.8, 22.8, 22.8, 22.8, 22.8, 22.8, 22.8, 22.8, 22.8, 22.8, 22.8, 22.8, 22.8, 22.8, 22.8, 22.8, 22.9, 22.9, 22.9, 22.9, 22.9, 22.9, 22.9, 22.9, 22.9, 22.9, 22.9, 22.9, 22.9, 22.9, 22.9, 23.0, 23.0, 23.0, 23.0, 23.0, 23.0, 23.0, 23.0, 23.0, 23.0, 23.1, 23.1, 23.1, 23.1, 23.1, 23.1, 23.1, 23.1, 23.1, 23.1, 23.1, 23.1, 23.1, 23.1, 23.1, 23.1, 23.2, 23.2, 23.2, 23.2, 23.2, 23.2, 23.2, 23.2, 23.2, 23.2, 23.2, 23.3, 23.3, 23.3, 23.3, 23.3, 23.3, 23.3, 23.3, 23.3, 23.3, 23.3, 23.3, 23.3, 23.3, 23.3, 23.3, 23.3, 23.3, 23.3, 23.3, 23.4, 23.4, 23.4, 23.4, 23.4, 23.4, 23.4, 23.4, 23.4, 23.4, 23.4, 23.4, 23.4, 23.4, 23.4, 23.4, 23.4, 23.4, 23.4, 23.4, 23.4, 23.4, 23.4, 23.4, 23.4, 23.4, 23.4, 23.5, 23.5, 23.5, 23.5, 23.5, 23.5, 23.5, 23.5, 23.5, 23.5, 23.5, 23.5, 23.5, 23.5, 23.5, 23.5, 23.5, 23.5, 23.5, 23.5, 23.5, 23.5, 23.5, 23.6, 23.6, 23.6, 23.6, 23.6, 23.6, 23.6, 23.6, 23.6, 23.6, 23.6, 23.6, 23.6, 23.6, 23.6, 23.7, 23.7, 23.7, 23.7, 23.7, 23.7, 23.7, 23.7, 23.7, 23.7, 23.7, 23.7, 23.7, 23.7, 23.7, 23.7, 23.7, 23.7, 23.8, 23.8, 23.8, 23.8, 23.8, 23.8, 23.8, 23.8, 23.8, 23.8, 23.8, 23.8, 23.8, 23.8, 23.9, 23.9, 23.9, 23.9, 23.9, 23.9, 23.9, 23.9, 23.9, 23.9, 23.9, 23.9, 23.9, 23.9, 23.9, 23.9, 23.9, 24.0, 24.0, 24.0, 24.0, 24.0, 24.0, 24.0, 24.0, 24.0, 24.0, 24.0, 24.0, 24.0, 24.0, 24.0, 24.0, 24.0, 24.0, 24.1, 24.1, 24.1, 24.1, 24.1, 24.1, 24.1, 24.1, 24.1, 24.1, 24.1, 24.1, 24.1, 24.1, 24.1, 24.1, 24.1, 24.1, 24.1, 24.2, 24.2, 24.2, 24.2, 24.2, 24.2, 24.2, 24.2, 24.2, 24.2, 24.2, 24.2, 24.2, 24.2, 24.2, 24.2, 24.2, 24.2, 24.2, 24.2, 24.2, 24.2, 24.2, 24.2, 24.2, 24.2, 24.2, 24.3, 24.3, 24.3, 24.3, 24.3, 24.3, 24.3, 24.3, 24.3, 24.3, 24.3, 24.3, 24.3, 24.3, 24.3, 24.3, 24.3, 24.3, 24.3, 24.3, 24.3, 24.4, 24.4, 24.4, 24.4, 24.4, 24.4, 24.4, 24.4, 24.4, 24.4, 24.4, 24.4, 24.4, 24.4, 24.4, 24.4, 24.4, 24.4, 24.4, 24.4, 24.5, 24.5, 24.5, 24.5, 24.5, 24.5, 24.5, 24.5, 24.5, 24.5, 24.5, 24.5, 24.5, 24.5, 24.5, 24.5, 24.5, 24.5, 24.5, 24.6, 24.6, 24.6, 24.6, 24.6, 24.6, 24.6, 24.6, 24.6, 24.6, 24.6, 24.6, 24.6, 24.6, 24.6, 24.6, 24.6, 24.6, 24.6, 24.6, 24.6, 24.7, 24.7, 24.7, 24.7, 24.7, 24.7, 24.7, 24.7, 24.7, 24.7, 24.7, 24.7, 24.7, 24.7, 24.8, 24.8, 24.8, 24.8, 24.8, 24.8, 24.8, 24.8, 24.8, 24.8, 24.8, 24.8, 24.8, 24.8, 24.9, 24.9, 24.9, 24.9, 24.9, 24.9, 24.9, 24.9, 24.9, 24.9, 24.9, 24.9, 24.9, 24.9, 24.9, 24.9, 24.9, 25.0, 25.0, 25.0, 25.0, 25.0, 25.0, 25.0, 25.0, 25.0, 25.0, 25.0, 25.0, 25.0, 25.0, 25.0, 25.0, 25.0, 25.1, 25.1, 25.1, 25.1, 25.1, 25.1, 25.1, 25.1, 25.1, 25.1, 25.1, 25.1, 25.1, 25.1, 25.1, 25.1, 25.2, 25.2, 25.2, 25.2, 25.2, 25.2, 25.2, 25.2, 25.2, 25.2, 25.2, 25.2, 25.2, 25.2, 25.2, 25.3, 25.3, 25.3, 25.3, 25.3, 25.3, 25.3, 25.3, 25.3, 25.3, 25.3, 25.3, 25.4, 25.4, 25.4, 25.4, 25.4, 25.4, 25.4, 25.4, 25.4, 25.4, 25.4, 25.4, 25.4, 25.4, 25.4, 25.4, 25.4, 25.5, 25.5, 25.5, 25.5, 25.5, 25.5, 25.5, 25.5, 25.5, 25.5, 25.5, 25.5, 25.5, 25.5, 25.5, 25.6, 25.6, 25.6, 25.6, 25.6, 25.6, 25.6, 25.6, 25.6, 25.6, 25.6, 25.6, 25.7, 25.7, 25.7, 25.7, 25.7, 25.7, 25.7, 25.7, 25.7, 25.7, 25.7, 25.7, 25.7, 25.7, 25.7, 25.7, 25.7, 25.7, 25.7, 25.7, 25.8, 25.8, 25.8, 25.8, 25.8, 25.8, 25.8, 25.8, 25.8, 25.8, 25.8, 25.9, 25.9, 25.9, 25.9, 25.9, 25.9, 25.9, 25.9, 25.9, 25.9, 25.9, 25.9, 26.0, 26.0, 26.0, 26.0, 26.0, 26.0, 26.0, 26.0, 26.1, 26.1, 26.1, 26.1, 26.1, 26.1, 26.1, 26.1, 26.1, 26.1, 26.1, 26.1, 26.1, 26.2, 26.2, 26.2, 26.2, 26.2, 26.2, 26.2, 26.2, 26.2, 26.2, 26.2, 26.3, 26.3, 26.3, 26.3, 26.3, 26.3, 26.3, 26.3, 26.3, 26.3, 26.3, 26.3, 26.3, 26.3, 26.3, 26.3, 26.3, 26.3, 26.4, 26.4, 26.4, 26.4, 26.4, 26.4, 26.4, 26.4, 26.4, 26.4, 26.4, 26.4, 26.4, 26.4, 26.5, 26.5, 26.5, 26.5, 26.5, 26.5, 26.5, 26.5, 26.5, 26.6, 26.6, 26.6, 26.6, 26.6, 26.6, 26.6, 26.6, 26.6, 26.6, 26.6, 26.6, 26.7, 26.7, 26.7, 26.7, 26.7, 26.7, 26.7, 26.7, 26.7, 26.7, 26.7, 26.7, 26.7, 26.7, 26.7, 26.8, 26.8, 26.8, 26.8, 26.8, 26.8, 26.8, 26.8, 26.8, 26.8, 26.8, 26.9, 26.9, 26.9, 26.9, 26.9, 26.9, 26.9, 26.9, 26.9, 26.9, 26.9, 26.9, 26.9, 26.9, 26.9, 26.9, 26.9, 26.9, 27.0, 27.0, 27.0, 27.0, 27.0, 27.0, 27.0, 27.0, 27.0, 27.0, 27.0, 27.0, 27.1, 27.1, 27.1, 27.1, 27.1, 27.1, 27.1, 27.1, 27.1, 27.1, 27.1, 27.2, 27.2, 27.2, 27.2, 27.2, 27.2, 27.2, 27.2, 27.2, 27.2, 27.2, 27.2, 27.2, 27.2, 27.2, 27.2, 27.3, 27.3, 27.3, 27.3, 27.3, 27.3, 27.3, 27.3, 27.3, 27.3, 27.3, 27.3, 27.3, 27.4, 27.4, 27.4, 27.4, 27.4, 27.4, 27.4, 27.4, 27.4, 27.4, 27.4, 27.4, 27.4, 27.4, 27.5, 27.5, 27.5, 27.5, 27.5, 27.5, 27.5, 27.5, 27.5, 27.5, 27.5, 27.5, 27.6, 27.6, 27.6, 27.6, 27.6, 27.6, 27.6, 27.6, 27.6, 27.6, 27.6, 27.6, 27.6, 27.6, 27.7, 27.7, 27.7, 27.7, 27.7, 27.7, 27.7, 27.7, 27.7, 27.7, 27.8, 27.8, 27.8, 27.8, 27.8, 27.8, 27.8, 27.8, 27.8, 27.8, 27.8, 27.8, 27.8, 27.8, 27.8, 27.8, 27.8, 27.8, 27.9, 27.9, 27.9, 27.9, 27.9, 27.9, 27.9, 27.9, 27.9, 27.9, 27.9, 27.9, 27.9, 28.0, 28.0, 28.0, 28.0, 28.0, 28.0, 28.0, 28.0, 28.0, 28.0, 28.0, 28.0, 28.0, 28.0, 28.0, 28.0, 28.1, 28.1, 28.1, 28.1, 28.1, 28.1, 28.1, 28.1, 28.1, 28.1, 28.1, 28.1, 28.1, 28.1, 28.1, 28.1, 28.2, 28.2, 28.2, 28.2, 28.2, 28.2, 28.2, 28.2, 28.2, 28.2, 28.2, 28.2, 28.2, 28.2, 28.2, 28.2, 28.3, 28.3, 28.3, 28.3, 28.3, 28.3, 28.3, 28.3, 28.3, 28.3, 28.3, 28.3, 28.3, 28.3, 28.3, 28.3, 28.3, 28.3, 28.3, 28.3, 28.3, 28.3, 28.4, 28.4, 28.4, 28.4, 28.4, 28.4, 28.4, 28.4, 28.4, 28.4, 28.4, 28.4, 28.4, 28.4, 28.4, 28.4, 28.4, 28.5, 28.5, 28.5, 28.5, 28.5, 28.5, 28.5, 28.5, 28.5, 28.5, 28.5, 28.5, 28.5, 28.5, 28.5, 28.5, 28.5, 28.5, 28.5, 28.6, 28.6, 28.6, 28.6, 28.6, 28.6, 28.6, 28.6, 28.6, 28.6, 28.7, 28.7, 28.7, 28.7, 28.7, 28.7, 28.7, 28.7, 28.8, 28.8, 28.8, 28.8, 28.8, 28.8, 28.8, 28.8, 28.8, 28.8, 28.8, 28.8, 28.8, 28.8, 28.8, 28.8, 28.8, 28.8, 28.9, 28.9, 28.9, 28.9, 28.9, 28.9, 28.9, 28.9, 28.9, 28.9, 29.0, 29.0, 29.0, 29.0, 29.0, 29.0, 29.0, 29.1, 29.1, 29.1, 29.1, 29.1, 29.1, 29.1, 29.1, 29.1, 29.2, 29.2, 29.2, 29.2, 29.2, 29.2, 29.2, 29.2, 29.2, 29.2, 29.3, 29.3, 29.3, 29.3, 29.3, 29.3, 29.3, 29.3, 29.3, 29.3, 29.3, 29.3, 29.3, 29.3, 29.3, 29.3, 29.4, 29.4, 29.4, 29.4, 29.4, 29.4, 29.4, 29.4, 29.4, 29.4, 29.4, 29.4, 29.4, 29.4, 29.5, 29.5, 29.5, 29.5, 29.5, 29.5, 29.5, 29.5, 29.6, 29.6, 29.6, 29.6, 29.6, 29.6, 29.6, 29.6, 29.7, 29.7, 29.7, 29.7, 29.7, 29.7, 29.7, 29.7, 29.7, 29.7, 29.8, 29.8, 29.8, 29.8, 29.8, 29.8, 29.8, 29.8, 29.8, 29.8, 29.8, 29.8, 29.8, 29.9, 29.9, 29.9, 29.9, 29.9, 29.9, 29.9, 29.9, 29.9, 29.9, 30.0, 30.0, 30.0, 30.0, 30.0, 30.0, 30.0, 30.0, 30.1, 30.1, 30.1, 30.1, 30.1, 30.1, 30.2, 30.2, 30.2, 30.2, 30.2, 30.2, 30.2, 30.2, 30.2, 30.2, 30.3, 30.3, 30.3, 30.3, 30.3, 30.4, 30.4, 30.4, 30.4, 30.4, 30.4, 30.4, 30.4, 30.4, 30.5, 30.5, 30.5, 30.5, 30.5, 30.5, 30.5, 30.5, 30.5, 30.5, 30.6, 30.6, 30.6, 30.6, 30.6, 30.6, 30.6, 30.6, 30.7, 30.7, 30.7, 30.7, 30.7, 30.7, 30.7, 30.7, 30.7, 30.8, 30.8, 30.8, 30.8, 30.9, 30.9, 30.9, 30.9, 30.9, 30.9, 30.9, 30.9, 31.0, 31.0, 31.0, 31.0, 31.0, 31.0, 31.0, 31.0, 31.0, 31.0, 31.0, 31.1, 31.1, 31.1, 31.1, 31.1, 31.1, 31.1, 31.1, 31.1, 31.2, 31.2, 31.2, 31.2, 31.2, 31.2, 31.2, 31.2, 31.3, 31.3, 31.3, 31.3, 31.3, 31.3, 31.3, 31.3, 31.4, 31.5, 31.5, 31.5, 31.5, 31.5, 31.5, 31.6, 31.6, 31.6, 31.6, 31.6, 31.6, 31.6, 31.6, 31.6, 31.6, 31.7, 31.7, 31.7, 31.7, 31.7, 31.7, 31.7, 31.7, 31.8, 31.8, 31.8, 31.8, 31.8, 31.8, 31.9, 31.9, 31.9, 32.0, 32.0, 32.0, 32.0, 32.0, 32.1, 32.1, 32.1, 32.1, 32.1, 32.1, 32.2, 32.2, 32.2, 32.2, 32.2, 32.2, 32.3, 32.3, 32.3, 32.3, 32.3, 32.3, 32.3, 32.3, 32.4, 32.4, 32.4, 32.4, 32.4, 32.4, 32.4, 32.4, 32.4, 32.5, 32.5, 32.6, 32.6, 32.7, 32.7, 32.7, 32.7, 32.7, 32.7, 32.8, 32.8, 32.8, 32.8, 32.8, 32.8, 32.9, 32.9, 32.9, 32.9, 32.9, 32.9, 32.9, 32.9, 33.0, 33.0, 33.0, 33.0, 33.0, 33.0, 33.0, 33.1, 33.1, 33.1, 33.1, 33.1, 33.1, 33.1, 33.1, 33.2, 33.2, 33.2, 33.2, 33.2, 33.3, 33.4, 33.4, 33.4, 33.4, 33.4, 33.4, 33.4, 33.4, 33.4, 33.5, 33.5, 33.5, 33.5, 33.5, 33.6, 33.6, 33.6, 33.6, 33.6, 33.6, 33.6, 33.7, 33.7, 33.7, 33.7, 33.7, 33.8, 33.8, 33.8, 33.8, 33.8, 33.9, 33.9, 33.9, 33.9, 33.9, 33.9, 34.0, 34.0, 34.0, 34.0, 34.0, 34.0, 34.1, 34.1, 34.1, 34.1, 34.1, 34.1, 34.2, 34.2, 34.2, 34.3, 34.3, 34.3, 34.3, 34.4, 34.4, 34.4, 34.4, 34.4, 34.4, 34.5, 34.5, 34.5, 34.5, 34.5, 34.7, 34.7, 34.7, 34.8, 34.8, 34.8, 34.9, 34.9, 34.9, 34.9, 35.0, 35.0, 35.0, 35.0, 35.0, 35.1, 35.1, 35.2, 35.2, 35.2, 35.2, 35.2, 35.2, 35.3, 35.3, 35.3, 35.4, 35.4, 35.4, 35.4, 35.5, 35.6, 35.6, 35.7, 35.7, 35.8, 35.8, 35.8, 35.9, 36.0, 36.1, 36.1, 36.2, 36.2, 36.3, 36.3, 36.3, 36.3, 36.3, 36.3, 36.4, 36.4, 36.5, 36.5, 36.6, 36.6, 36.7, 36.7, 36.7, 36.7, 36.8, 36.8, 37.0, 37.3, 37.4, 37.4, 37.4, 37.6, 37.8, 37.8, 37.8, 37.9, 38.7, 39.0, 39.3, 39.4], \"xaxis\": \"x\", \"y\": [-163.2875439618595, -154.52638466031294, -154.52638466031294, -151.60599822646407, -137.00406605721992, -125.32252032182464, -122.40213388797576, -116.56136102027813, -116.56136102027813, -113.64097458642937, -110.72058815258049, -110.72058815258049, -107.80020171873167, -107.80020171873167, -101.95942885103398, -101.95942885103398, -101.95942885103398, -99.03904241718516, -99.03904241718516, -99.03904241718516, -93.19826954948752, -93.19826954948752, -90.2778831156387, -90.2778831156387, -90.2778831156387, -90.2778831156387, -87.35749668178983, -87.35749668178983, -87.35749668178983, -84.437110247941, -84.437110247941, -84.437110247941, -84.437110247941, -84.437110247941, -81.51672381409219, -81.51672381409219, -78.59633738024337, -78.59633738024337, -69.83517807869686, -69.83517807869686, -69.83517807869686, -69.83517807869686, -66.91479164484804, -63.99440521099922, -63.99440521099922, -61.0740187771504, -61.0740187771504, -55.233245909452705, -55.233245909452705, -49.39247304175507, -46.47208660790625, -46.47208660790625, -46.47208660790625, -40.631313740208554, -37.710927306359736, -31.87015443866204, -31.87015443866204, -31.87015443866204, -28.949768004813222, -28.949768004813222, -28.949768004813222, -26.029381570964347, -26.029381570964347, -23.108995137115528, -23.108995137115528, -20.18860870326671, -17.26822226941789, -17.26822226941789, -14.347835835569015, -14.347835835569015, -11.427449401720196, -8.507062967871377, -8.507062967871377, -8.507062967871377, -8.507062967871377, -5.586676534022558, -5.586676534022558, -2.6662901001737396, -2.6662901001737396, -2.6662901001737396, -2.6662901001737396, 3.174482767523955, 3.174482767523955, 3.174482767523955, 6.094869201372774, 6.094869201372774, 6.094869201372774, 6.094869201372774, 6.094869201372774, 9.015255635221592, 11.935642069070411, 11.935642069070411, 11.935642069070411, 11.935642069070411, 11.935642069070411, 14.856028502919287, 14.856028502919287, 17.776414936768106, 17.776414936768106, 17.776414936768106, 17.776414936768106, 17.776414936768106, 20.696801370616924, 20.696801370616924, 20.696801370616924, 20.696801370616924, 20.696801370616924, 20.696801370616924, 20.696801370616924, 23.617187804465743, 23.617187804465743, 23.617187804465743, 23.617187804465743, 26.537574238314562, 26.537574238314562, 29.457960672163438, 29.457960672163438, 29.457960672163438, 29.457960672163438, 29.457960672163438, 32.37834710601226, 32.37834710601226, 32.37834710601226, 32.37834710601226, 32.37834710601226, 35.298733539861075, 35.298733539861075, 35.298733539861075, 35.298733539861075, 38.219119973709894, 38.219119973709894, 38.219119973709894, 38.219119973709894, 38.219119973709894, 41.13950640755871, 41.13950640755871, 41.13950640755871, 44.05989284140759, 44.05989284140759, 44.05989284140759, 46.98027927525641, 46.98027927525641, 46.98027927525641, 46.98027927525641, 46.98027927525641, 46.98027927525641, 49.900665709105226, 49.900665709105226, 49.900665709105226, 49.900665709105226, 49.900665709105226, 49.900665709105226, 52.821052142954045, 52.821052142954045, 52.821052142954045, 52.821052142954045, 52.821052142954045, 55.741438576802864, 55.741438576802864, 55.741438576802864, 58.66182501065174, 58.66182501065174, 58.66182501065174, 58.66182501065174, 58.66182501065174, 64.50259787834938, 67.4229843121982, 70.34337074604701, 70.34337074604701, 73.26375717989589, 73.26375717989589, 73.26375717989589, 73.26375717989589, 73.26375717989589, 73.26375717989589, 73.26375717989589, 76.18414361374471, 76.18414361374471, 76.18414361374471, 76.18414361374471, 79.10453004759353, 79.10453004759353, 79.10453004759353, 79.10453004759353, 79.10453004759353, 79.10453004759353, 79.10453004759353, 79.10453004759353, 82.02491648144235, 82.02491648144235, 82.02491648144235, 82.02491648144235, 82.02491648144235, 84.94530291529117, 84.94530291529117, 84.94530291529117, 87.86568934914004, 87.86568934914004, 87.86568934914004, 90.78607578298886, 90.78607578298886, 90.78607578298886, 90.78607578298886, 93.70646221683768, 93.70646221683768, 93.70646221683768, 96.6268486506865, 96.6268486506865, 99.54723508453532, 99.54723508453532, 102.46762151838422, 102.46762151838422, 105.38800795223304, 105.38800795223304, 105.38800795223304, 105.38800795223304, 105.38800795223304, 105.38800795223304, 105.38800795223304, 108.30839438608186, 108.30839438608186, 108.30839438608186, 108.30839438608186, 108.30839438608186, 108.30839438608186, 111.22878081993068, 111.22878081993068, 111.22878081993068, 114.1491672537795, 114.1491672537795, 114.1491672537795, 114.1491672537795, 114.1491672537795, 114.1491672537795, 117.06955368762837, 117.06955368762837, 117.06955368762837, 117.06955368762837, 117.06955368762837, 117.06955368762837, 117.06955368762837, 119.98994012147719, 119.98994012147719, 119.98994012147719, 119.98994012147719, 119.98994012147719, 119.98994012147719, 122.91032655532601, 122.91032655532601, 125.83071298917483, 125.83071298917483, 125.83071298917483, 125.83071298917483, 125.83071298917483, 125.83071298917483, 125.83071298917483, 128.75109942302367, 128.75109942302367, 128.75109942302367, 128.75109942302367, 128.75109942302367, 128.75109942302367, 128.75109942302367, 131.6714858568725, 131.6714858568725, 131.6714858568725, 131.6714858568725, 131.6714858568725, 131.6714858568725, 131.6714858568725, 131.6714858568725, 134.59187229072134, 134.59187229072134, 134.59187229072134, 134.59187229072134, 134.59187229072134, 134.59187229072134, 134.59187229072134, 134.59187229072134, 134.59187229072134, 134.59187229072134, 137.51225872457016, 137.51225872457016, 137.51225872457016, 137.51225872457016, 137.51225872457016, 137.51225872457016, 137.51225872457016, 140.43264515841898, 140.43264515841898, 140.43264515841898, 140.43264515841898, 140.43264515841898, 140.43264515841898, 140.43264515841898, 143.35303159226783, 143.35303159226783, 146.27341802611664, 146.27341802611664, 146.27341802611664, 146.27341802611664, 149.1938044599655, 149.1938044599655, 149.1938044599655, 152.1141908938143, 152.1141908938143, 152.1141908938143, 152.1141908938143, 152.1141908938143, 152.1141908938143, 152.1141908938143, 155.03457732766313, 155.03457732766313, 155.03457732766313, 155.03457732766313, 155.03457732766313, 155.03457732766313, 155.03457732766313, 155.03457732766313, 157.95496376151198, 157.95496376151198, 157.95496376151198, 157.95496376151198, 160.87535019536082, 160.87535019536082, 160.87535019536082, 160.87535019536082, 160.87535019536082, 160.87535019536082, 160.87535019536082, 163.79573662920964, 163.79573662920964, 163.79573662920964, 163.79573662920964, 163.79573662920964, 163.79573662920964, 163.79573662920964, 163.79573662920964, 163.79573662920964, 163.79573662920964, 163.79573662920964, 163.79573662920964, 166.7161230630585, 166.7161230630585, 166.7161230630585, 166.7161230630585, 166.7161230630585, 166.7161230630585, 166.7161230630585, 166.7161230630585, 166.7161230630585, 166.7161230630585, 169.6365094969073, 169.6365094969073, 169.6365094969073, 169.6365094969073, 169.6365094969073, 169.6365094969073, 169.6365094969073, 169.6365094969073, 169.6365094969073, 172.55689593075616, 172.55689593075616, 172.55689593075616, 172.55689593075616, 172.55689593075616, 172.55689593075616, 172.55689593075616, 175.47728236460497, 175.47728236460497, 175.47728236460497, 175.47728236460497, 175.47728236460497, 175.47728236460497, 178.39766879845382, 178.39766879845382, 178.39766879845382, 178.39766879845382, 178.39766879845382, 181.31805523230264, 181.31805523230264, 181.31805523230264, 181.31805523230264, 181.31805523230264, 181.31805523230264, 181.31805523230264, 181.31805523230264, 181.31805523230264, 181.31805523230264, 181.31805523230264, 181.31805523230264, 181.31805523230264, 181.31805523230264, 184.23844166615146, 184.23844166615146, 184.23844166615146, 184.23844166615146, 184.23844166615146, 184.23844166615146, 184.23844166615146, 184.23844166615146, 184.23844166615146, 187.1588281000003, 187.1588281000003, 187.1588281000003, 187.1588281000003, 187.1588281000003, 187.1588281000003, 187.1588281000003, 187.1588281000003, 187.1588281000003, 187.1588281000003, 190.07921453384913, 190.07921453384913, 190.07921453384913, 190.07921453384913, 190.07921453384913, 190.07921453384913, 190.07921453384913, 192.99960096769797, 192.99960096769797, 192.99960096769797, 192.99960096769797, 192.99960096769797, 192.99960096769797, 192.99960096769797, 192.99960096769797, 192.99960096769797, 192.99960096769797, 192.99960096769797, 195.9199874015468, 195.9199874015468, 195.9199874015468, 195.9199874015468, 195.9199874015468, 195.9199874015468, 195.9199874015468, 195.9199874015468, 195.9199874015468, 195.9199874015468, 195.9199874015468, 195.9199874015468, 198.8403738353956, 198.8403738353956, 198.8403738353956, 198.8403738353956, 198.8403738353956, 198.8403738353956, 201.76076026924446, 201.76076026924446, 201.76076026924446, 201.76076026924446, 201.76076026924446, 201.76076026924446, 201.76076026924446, 201.76076026924446, 201.76076026924446, 201.76076026924446, 201.76076026924446, 201.76076026924446, 201.76076026924446, 201.76076026924446, 204.68114670309328, 204.68114670309328, 204.68114670309328, 204.68114670309328, 204.68114670309328, 204.68114670309328, 204.68114670309328, 204.68114670309328, 204.68114670309328, 204.68114670309328, 204.68114670309328, 204.68114670309328, 207.60153313694212, 207.60153313694212, 207.60153313694212, 207.60153313694212, 207.60153313694212, 207.60153313694212, 210.52191957079094, 210.52191957079094, 210.52191957079094, 210.52191957079094, 210.52191957079094, 210.52191957079094, 210.52191957079094, 213.44230600463976, 213.44230600463976, 213.44230600463976, 213.44230600463976, 213.44230600463976, 213.44230600463976, 213.44230600463976, 213.44230600463976, 216.3626924384886, 216.3626924384886, 216.3626924384886, 216.3626924384886, 216.3626924384886, 216.3626924384886, 216.3626924384886, 216.3626924384886, 216.3626924384886, 219.28307887233743, 219.28307887233743, 219.28307887233743, 219.28307887233743, 219.28307887233743, 219.28307887233743, 219.28307887233743, 219.28307887233743, 219.28307887233743, 222.20346530618627, 222.20346530618627, 222.20346530618627, 222.20346530618627, 222.20346530618627, 222.20346530618627, 222.20346530618627, 222.20346530618627, 222.20346530618627, 222.20346530618627, 225.1238517400351, 225.1238517400351, 225.1238517400351, 225.1238517400351, 225.1238517400351, 225.1238517400351, 225.1238517400351, 228.0442381738839, 228.0442381738839, 228.0442381738839, 228.0442381738839, 228.0442381738839, 230.9646246077328, 230.9646246077328, 230.9646246077328, 230.9646246077328, 230.9646246077328, 230.9646246077328, 230.9646246077328, 230.9646246077328, 230.9646246077328, 230.9646246077328, 230.9646246077328, 230.9646246077328, 230.9646246077328, 233.8850110415816, 233.8850110415816, 233.8850110415816, 233.8850110415816, 233.8850110415816, 233.8850110415816, 233.8850110415816, 233.8850110415816, 233.8850110415816, 233.8850110415816, 236.80539747543042, 236.80539747543042, 236.80539747543042, 236.80539747543042, 236.80539747543042, 239.72578390927924, 239.72578390927924, 239.72578390927924, 239.72578390927924, 239.72578390927924, 239.72578390927924, 239.72578390927924, 242.6461703431281, 242.6461703431281, 242.6461703431281, 242.6461703431281, 242.6461703431281, 242.6461703431281, 245.56655677697694, 245.56655677697694, 245.56655677697694, 245.56655677697694, 245.56655677697694, 245.56655677697694, 245.56655677697694, 245.56655677697694, 245.56655677697694, 245.56655677697694, 248.48694321082576, 248.48694321082576, 248.48694321082576, 248.48694321082576, 248.48694321082576, 248.48694321082576, 248.48694321082576, 248.48694321082576, 248.48694321082576, 251.40732964467458, 251.40732964467458, 251.40732964467458, 251.40732964467458, 251.40732964467458, 251.40732964467458, 251.40732964467458, 251.40732964467458, 254.3277160785234, 254.3277160785234, 254.3277160785234, 254.3277160785234, 254.3277160785234, 254.3277160785234, 254.3277160785234, 254.3277160785234, 254.3277160785234, 254.3277160785234, 254.3277160785234, 257.24810251237227, 257.24810251237227, 257.24810251237227, 257.24810251237227, 257.24810251237227, 257.24810251237227, 257.24810251237227, 257.24810251237227, 257.24810251237227, 257.24810251237227, 257.24810251237227, 257.24810251237227, 260.1684889462211, 260.1684889462211, 260.1684889462211, 260.1684889462211, 263.0888753800699, 263.0888753800699, 263.0888753800699, 263.0888753800699, 263.0888753800699, 263.0888753800699, 263.0888753800699, 266.0092618139187, 266.0092618139187, 266.0092618139187, 266.0092618139187, 266.0092618139187, 266.0092618139187, 266.0092618139187, 266.0092618139187, 266.0092618139187, 266.0092618139187, 268.92964824776755, 268.92964824776755, 268.92964824776755, 271.8500346816164, 271.8500346816164, 271.8500346816164, 271.8500346816164, 271.8500346816164, 271.8500346816164, 271.8500346816164, 271.8500346816164, 271.8500346816164, 271.8500346816164, 274.77042111546524, 274.77042111546524, 274.77042111546524, 274.77042111546524, 277.69080754931406, 277.69080754931406, 277.69080754931406, 277.69080754931406, 277.69080754931406, 277.69080754931406, 277.69080754931406, 277.69080754931406, 280.6111939831629, 280.6111939831629, 280.6111939831629, 280.6111939831629, 280.6111939831629, 280.6111939831629, 280.6111939831629, 280.6111939831629, 280.6111939831629, 280.6111939831629, 280.6111939831629, 283.5315804170117, 283.5315804170117, 283.5315804170117, 283.5315804170117, 283.5315804170117, 283.5315804170117, 283.5315804170117, 286.4519668508606, 286.4519668508606, 286.4519668508606, 286.4519668508606, 286.4519668508606, 286.4519668508606, 286.4519668508606, 286.4519668508606, 286.4519668508606, 286.4519668508606, 286.4519668508606, 286.4519668508606, 286.4519668508606, 289.3723532847094, 289.3723532847094, 289.3723532847094, 289.3723532847094, 292.2927397185582, 292.2927397185582, 292.2927397185582, 292.2927397185582, 292.2927397185582, 292.2927397185582, 292.2927397185582, 292.2927397185582, 292.2927397185582, 292.2927397185582, 295.213126152407, 295.213126152407, 295.213126152407, 295.213126152407, 295.213126152407, 295.213126152407, 295.213126152407, 298.1335125862559, 298.1335125862559, 298.1335125862559, 298.1335125862559, 298.1335125862559, 298.1335125862559, 298.1335125862559, 298.1335125862559, 301.0538990201047, 301.0538990201047, 301.0538990201047, 301.0538990201047, 301.0538990201047, 301.0538990201047, 301.0538990201047, 303.97428545395354, 303.97428545395354, 303.97428545395354, 303.97428545395354, 303.97428545395354, 303.97428545395354, 303.97428545395354, 303.97428545395354, 303.97428545395354, 303.97428545395354, 303.97428545395354, 303.97428545395354, 303.97428545395354, 306.89467188780236, 306.89467188780236, 306.89467188780236, 306.89467188780236, 309.81505832165124, 309.81505832165124, 309.81505832165124, 309.81505832165124, 309.81505832165124, 309.81505832165124, 309.81505832165124, 312.73544475550005, 312.73544475550005, 312.73544475550005, 312.73544475550005, 312.73544475550005, 312.73544475550005, 312.73544475550005, 312.73544475550005, 312.73544475550005, 312.73544475550005, 315.6558311893489, 315.6558311893489, 315.6558311893489, 315.6558311893489, 315.6558311893489, 315.6558311893489, 315.6558311893489, 315.6558311893489, 315.6558311893489, 315.6558311893489, 318.5762176231977, 318.5762176231977, 318.5762176231977, 318.5762176231977, 318.5762176231977, 318.5762176231977, 318.5762176231977, 318.5762176231977, 318.5762176231977, 318.5762176231977, 321.4966040570465, 321.4966040570465, 321.4966040570465, 321.4966040570465, 321.4966040570465, 321.4966040570465, 324.4169904908954, 324.4169904908954, 324.4169904908954, 324.4169904908954, 324.4169904908954, 324.4169904908954, 324.4169904908954, 324.4169904908954, 324.4169904908954, 327.3373769247442, 327.3373769247442, 327.3373769247442, 327.3373769247442, 327.3373769247442, 330.257763358593, 330.257763358593, 330.257763358593, 330.257763358593, 330.257763358593, 330.257763358593, 330.257763358593, 330.257763358593, 330.257763358593, 330.257763358593, 330.257763358593, 330.257763358593, 333.17814979244184, 333.17814979244184, 333.17814979244184, 333.17814979244184, 333.17814979244184, 333.17814979244184, 333.17814979244184, 333.17814979244184, 333.17814979244184, 336.09853622629066, 336.09853622629066, 336.09853622629066, 336.09853622629066, 336.09853622629066, 336.09853622629066, 336.09853622629066, 336.09853622629066, 336.09853622629066, 336.09853622629066, 336.09853622629066, 339.01892266013954, 339.01892266013954, 339.01892266013954, 339.01892266013954, 339.01892266013954, 339.01892266013954, 339.01892266013954, 341.93930909398836, 341.93930909398836, 341.93930909398836, 341.93930909398836, 341.93930909398836, 341.93930909398836, 341.93930909398836, 341.93930909398836, 341.93930909398836, 341.93930909398836, 341.93930909398836, 341.93930909398836, 344.8596955278372, 344.8596955278372, 344.8596955278372, 344.8596955278372, 344.8596955278372, 344.8596955278372, 344.8596955278372, 344.8596955278372, 344.8596955278372, 344.8596955278372, 347.780081961686, 347.780081961686, 347.780081961686, 347.780081961686, 347.780081961686, 347.780081961686, 347.780081961686, 350.70046839553487, 350.70046839553487, 350.70046839553487, 350.70046839553487, 350.70046839553487, 350.70046839553487, 350.70046839553487, 350.70046839553487, 350.70046839553487, 353.6208548293837, 353.6208548293837, 353.6208548293837, 353.6208548293837, 353.6208548293837, 353.6208548293837, 353.6208548293837, 353.6208548293837, 353.6208548293837, 353.6208548293837, 356.5412412632325, 356.5412412632325, 356.5412412632325, 356.5412412632325, 356.5412412632325, 356.5412412632325, 356.5412412632325, 356.5412412632325, 356.5412412632325, 356.5412412632325, 356.5412412632325, 356.5412412632325, 356.5412412632325, 356.5412412632325, 356.5412412632325, 359.4616276970813, 359.4616276970813, 359.4616276970813, 359.4616276970813, 359.4616276970813, 359.4616276970813, 359.4616276970813, 359.4616276970813, 362.38201413093014, 362.38201413093014, 362.38201413093014, 362.38201413093014, 362.38201413093014, 362.38201413093014, 365.302400564779, 365.302400564779, 365.302400564779, 365.302400564779, 365.302400564779, 365.302400564779, 365.302400564779, 365.302400564779, 365.302400564779, 365.302400564779, 365.302400564779, 365.302400564779, 365.302400564779, 365.302400564779, 368.22278699862784, 368.22278699862784, 368.22278699862784, 368.22278699862784, 368.22278699862784, 368.22278699862784, 371.14317343247666, 371.14317343247666, 371.14317343247666, 371.14317343247666, 371.14317343247666, 371.14317343247666, 371.14317343247666, 371.14317343247666, 371.14317343247666, 371.14317343247666, 371.14317343247666, 371.14317343247666, 374.0635598663255, 374.0635598663255, 374.0635598663255, 374.0635598663255, 374.0635598663255, 374.0635598663255, 374.0635598663255, 374.0635598663255, 374.0635598663255, 374.0635598663255, 374.0635598663255, 374.0635598663255, 374.0635598663255, 374.0635598663255, 376.98394630017435, 376.98394630017435, 376.98394630017435, 376.98394630017435, 376.98394630017435, 376.98394630017435, 376.98394630017435, 376.98394630017435, 376.98394630017435, 379.90433273402317, 379.90433273402317, 379.90433273402317, 379.90433273402317, 379.90433273402317, 379.90433273402317, 379.90433273402317, 379.90433273402317, 379.90433273402317, 379.90433273402317, 379.90433273402317, 379.90433273402317, 379.90433273402317, 379.90433273402317, 379.90433273402317, 379.90433273402317, 379.90433273402317, 379.90433273402317, 382.824719167872, 382.824719167872, 382.824719167872, 382.824719167872, 382.824719167872, 382.824719167872, 382.824719167872, 382.824719167872, 382.824719167872, 382.824719167872, 382.824719167872, 382.824719167872, 382.824719167872, 382.824719167872, 382.824719167872, 385.7451056017208, 385.7451056017208, 385.7451056017208, 385.7451056017208, 385.7451056017208, 385.7451056017208, 385.7451056017208, 385.7451056017208, 385.7451056017208, 385.7451056017208, 388.6654920355696, 388.6654920355696, 388.6654920355696, 388.6654920355696, 388.6654920355696, 388.6654920355696, 388.6654920355696, 388.6654920355696, 388.6654920355696, 388.6654920355696, 388.6654920355696, 388.6654920355696, 388.6654920355696, 388.6654920355696, 388.6654920355696, 388.6654920355696, 388.6654920355696, 388.6654920355696, 391.5858784694185, 391.5858784694185, 391.5858784694185, 391.5858784694185, 391.5858784694185, 391.5858784694185, 391.5858784694185, 391.5858784694185, 391.5858784694185, 391.5858784694185, 391.5858784694185, 394.5062649032673, 394.5062649032673, 394.5062649032673, 394.5062649032673, 394.5062649032673, 394.5062649032673, 394.5062649032673, 394.5062649032673, 394.5062649032673, 394.5062649032673, 394.5062649032673, 394.5062649032673, 394.5062649032673, 394.5062649032673, 394.5062649032673, 394.5062649032673, 394.5062649032673, 397.42665133711614, 397.42665133711614, 397.42665133711614, 397.42665133711614, 397.42665133711614, 397.42665133711614, 397.42665133711614, 400.34703777096496, 400.34703777096496, 400.34703777096496, 400.34703777096496, 400.34703777096496, 400.34703777096496, 400.34703777096496, 400.34703777096496, 400.34703777096496, 400.34703777096496, 400.34703777096496, 400.34703777096496, 400.34703777096496, 400.34703777096496, 400.34703777096496, 400.34703777096496, 400.34703777096496, 400.34703777096496, 403.2674242048138, 403.2674242048138, 403.2674242048138, 403.2674242048138, 403.2674242048138, 403.2674242048138, 403.2674242048138, 403.2674242048138, 403.2674242048138, 403.2674242048138, 403.2674242048138, 403.2674242048138, 403.2674242048138, 403.2674242048138, 406.18781063866265, 406.18781063866265, 406.18781063866265, 406.18781063866265, 406.18781063866265, 406.18781063866265, 406.18781063866265, 406.18781063866265, 406.18781063866265, 406.18781063866265, 406.18781063866265, 406.18781063866265, 406.18781063866265, 409.1081970725115, 409.1081970725115, 409.1081970725115, 409.1081970725115, 409.1081970725115, 409.1081970725115, 409.1081970725115, 409.1081970725115, 409.1081970725115, 409.1081970725115, 409.1081970725115, 409.1081970725115, 409.1081970725115, 409.1081970725115, 409.1081970725115, 409.1081970725115, 412.0285835063603, 412.0285835063603, 412.0285835063603, 412.0285835063603, 412.0285835063603, 412.0285835063603, 412.0285835063603, 412.0285835063603, 412.0285835063603, 412.0285835063603, 412.0285835063603, 412.0285835063603, 412.0285835063603, 414.9489699402091, 414.9489699402091, 414.9489699402091, 414.9489699402091, 414.9489699402091, 414.9489699402091, 414.9489699402091, 414.9489699402091, 414.9489699402091, 414.9489699402091, 414.9489699402091, 414.9489699402091, 414.9489699402091, 414.9489699402091, 414.9489699402091, 417.869356374058, 417.869356374058, 417.869356374058, 417.869356374058, 417.869356374058, 417.869356374058, 417.869356374058, 417.869356374058, 417.869356374058, 417.869356374058, 417.869356374058, 417.869356374058, 420.7897428079068, 420.7897428079068, 420.7897428079068, 420.7897428079068, 420.7897428079068, 420.7897428079068, 420.7897428079068, 420.7897428079068, 420.7897428079068, 420.7897428079068, 423.7101292417556, 423.7101292417556, 423.7101292417556, 423.7101292417556, 423.7101292417556, 423.7101292417556, 423.7101292417556, 423.7101292417556, 423.7101292417556, 423.7101292417556, 423.7101292417556, 426.63051567560444, 426.63051567560444, 426.63051567560444, 426.63051567560444, 426.63051567560444, 426.63051567560444, 426.63051567560444, 426.63051567560444, 426.63051567560444, 426.63051567560444, 429.5509021094533, 429.5509021094533, 429.5509021094533, 429.5509021094533, 429.5509021094533, 429.5509021094533, 429.5509021094533, 429.5509021094533, 429.5509021094533, 429.5509021094533, 429.5509021094533, 429.5509021094533, 429.5509021094533, 429.5509021094533, 429.5509021094533, 432.47128854330214, 432.47128854330214, 432.47128854330214, 432.47128854330214, 432.47128854330214, 432.47128854330214, 432.47128854330214, 432.47128854330214, 432.47128854330214, 432.47128854330214, 432.47128854330214, 432.47128854330214, 432.47128854330214, 432.47128854330214, 432.47128854330214, 432.47128854330214, 432.47128854330214, 432.47128854330214, 432.47128854330214, 435.39167497715096, 435.39167497715096, 435.39167497715096, 435.39167497715096, 435.39167497715096, 435.39167497715096, 435.39167497715096, 435.39167497715096, 435.39167497715096, 435.39167497715096, 435.39167497715096, 435.39167497715096, 435.39167497715096, 435.39167497715096, 435.39167497715096, 435.39167497715096, 435.39167497715096, 435.39167497715096, 435.39167497715096, 435.39167497715096, 438.3120614109998, 438.3120614109998, 438.3120614109998, 438.3120614109998, 438.3120614109998, 438.3120614109998, 438.3120614109998, 438.3120614109998, 438.3120614109998, 438.3120614109998, 438.3120614109998, 438.3120614109998, 438.3120614109998, 438.3120614109998, 438.3120614109998, 438.3120614109998, 438.3120614109998, 438.3120614109998, 438.3120614109998, 438.3120614109998, 438.3120614109998, 438.3120614109998, 438.3120614109998, 441.2324478448486, 441.2324478448486, 441.2324478448486, 441.2324478448486, 441.2324478448486, 441.2324478448486, 441.2324478448486, 441.2324478448486, 441.2324478448486, 441.2324478448486, 441.2324478448486, 441.2324478448486, 441.2324478448486, 441.2324478448486, 441.2324478448486, 441.2324478448486, 441.2324478448486, 444.15283427869747, 444.15283427869747, 444.15283427869747, 444.15283427869747, 444.15283427869747, 444.15283427869747, 444.15283427869747, 444.15283427869747, 444.15283427869747, 444.15283427869747, 444.15283427869747, 444.15283427869747, 444.15283427869747, 444.15283427869747, 444.15283427869747, 444.15283427869747, 444.15283427869747, 444.15283427869747, 444.15283427869747, 444.15283427869747, 447.0732207125463, 447.0732207125463, 447.0732207125463, 447.0732207125463, 447.0732207125463, 447.0732207125463, 447.0732207125463, 447.0732207125463, 447.0732207125463, 447.0732207125463, 447.0732207125463, 447.0732207125463, 447.0732207125463, 449.9936071463951, 449.9936071463951, 449.9936071463951, 449.9936071463951, 449.9936071463951, 449.9936071463951, 449.9936071463951, 449.9936071463951, 449.9936071463951, 452.9139935802439, 452.9139935802439, 452.9139935802439, 452.9139935802439, 452.9139935802439, 452.9139935802439, 452.9139935802439, 452.9139935802439, 452.9139935802439, 452.9139935802439, 452.9139935802439, 452.9139935802439, 455.83438001409274, 455.83438001409274, 455.83438001409274, 455.83438001409274, 455.83438001409274, 455.83438001409274, 455.83438001409274, 455.83438001409274, 455.83438001409274, 455.83438001409274, 455.83438001409274, 455.83438001409274, 458.7547664479416, 458.7547664479416, 458.7547664479416, 458.7547664479416, 458.7547664479416, 458.7547664479416, 458.7547664479416, 458.7547664479416, 458.7547664479416, 458.7547664479416, 458.7547664479416, 458.7547664479416, 458.7547664479416, 458.7547664479416, 458.7547664479416, 458.7547664479416, 458.7547664479416, 458.7547664479416, 458.7547664479416, 458.7547664479416, 461.67515288179044, 461.67515288179044, 461.67515288179044, 461.67515288179044, 461.67515288179044, 461.67515288179044, 461.67515288179044, 461.67515288179044, 461.67515288179044, 461.67515288179044, 461.67515288179044, 461.67515288179044, 461.67515288179044, 461.67515288179044, 461.67515288179044, 461.67515288179044, 461.67515288179044, 461.67515288179044, 464.59553931563926, 464.59553931563926, 464.59553931563926, 464.59553931563926, 464.59553931563926, 464.59553931563926, 464.59553931563926, 464.59553931563926, 464.59553931563926, 464.59553931563926, 464.59553931563926, 464.59553931563926, 467.5159257494881, 467.5159257494881, 467.5159257494881, 467.5159257494881, 467.5159257494881, 467.5159257494881, 467.5159257494881, 467.5159257494881, 467.5159257494881, 467.5159257494881, 467.5159257494881, 467.5159257494881, 467.5159257494881, 467.5159257494881, 470.4363121833369, 470.4363121833369, 470.4363121833369, 470.4363121833369, 470.4363121833369, 470.4363121833369, 470.4363121833369, 470.4363121833369, 470.4363121833369, 470.4363121833369, 470.4363121833369, 470.4363121833369, 470.4363121833369, 470.4363121833369, 470.4363121833369, 470.4363121833369, 470.4363121833369, 473.35669861718577, 473.35669861718577, 473.35669861718577, 473.35669861718577, 473.35669861718577, 473.35669861718577, 473.35669861718577, 473.35669861718577, 473.35669861718577, 476.2770850510346, 476.2770850510346, 476.2770850510346, 476.2770850510346, 476.2770850510346, 476.2770850510346, 476.2770850510346, 476.2770850510346, 476.2770850510346, 476.2770850510346, 476.2770850510346, 476.2770850510346, 476.2770850510346, 476.2770850510346, 476.2770850510346, 479.1974714848834, 479.1974714848834, 479.1974714848834, 479.1974714848834, 479.1974714848834, 479.1974714848834, 479.1974714848834, 479.1974714848834, 479.1974714848834, 479.1974714848834, 479.1974714848834, 479.1974714848834, 479.1974714848834, 479.1974714848834, 479.1974714848834, 479.1974714848834, 479.1974714848834, 479.1974714848834, 479.1974714848834, 482.1178579187322, 482.1178579187322, 482.1178579187322, 482.1178579187322, 482.1178579187322, 482.1178579187322, 482.1178579187322, 482.1178579187322, 482.1178579187322, 482.1178579187322, 482.1178579187322, 482.1178579187322, 482.1178579187322, 482.1178579187322, 482.1178579187322, 485.0382443525811, 485.0382443525811, 485.0382443525811, 485.0382443525811, 485.0382443525811, 485.0382443525811, 485.0382443525811, 485.0382443525811, 485.0382443525811, 485.0382443525811, 485.0382443525811, 485.0382443525811, 485.0382443525811, 487.9586307864299, 487.9586307864299, 487.9586307864299, 487.9586307864299, 487.9586307864299, 487.9586307864299, 487.9586307864299, 490.87901722027874, 490.87901722027874, 490.87901722027874, 490.87901722027874, 490.87901722027874, 490.87901722027874, 490.87901722027874, 490.87901722027874, 490.87901722027874, 493.79940365412756, 493.79940365412756, 493.79940365412756, 493.79940365412756, 493.79940365412756, 493.79940365412756, 493.79940365412756, 493.79940365412756, 493.79940365412756, 493.79940365412756, 493.79940365412756, 493.79940365412756, 493.79940365412756, 493.79940365412756, 493.79940365412756, 493.79940365412756, 493.79940365412756, 493.79940365412756, 493.79940365412756, 496.71979008797643, 496.71979008797643, 496.71979008797643, 496.71979008797643, 496.71979008797643, 496.71979008797643, 496.71979008797643, 496.71979008797643, 496.71979008797643, 499.64017652182525, 499.64017652182525, 499.64017652182525, 499.64017652182525, 499.64017652182525, 499.64017652182525, 499.64017652182525, 499.64017652182525, 499.64017652182525, 499.64017652182525, 499.64017652182525, 499.64017652182525, 502.5605629556741, 502.5605629556741, 502.5605629556741, 502.5605629556741, 502.5605629556741, 502.5605629556741, 502.5605629556741, 502.5605629556741, 502.5605629556741, 502.5605629556741, 502.5605629556741, 502.5605629556741, 502.5605629556741, 502.5605629556741, 502.5605629556741, 502.5605629556741, 505.4809493895229, 505.4809493895229, 505.4809493895229, 505.4809493895229, 505.4809493895229, 505.4809493895229, 505.4809493895229, 505.4809493895229, 505.4809493895229, 505.4809493895229, 505.4809493895229, 505.4809493895229, 505.4809493895229, 505.4809493895229, 505.4809493895229, 505.4809493895229, 505.4809493895229, 505.4809493895229, 505.4809493895229, 505.4809493895229, 505.4809493895229, 505.4809493895229, 505.4809493895229, 505.4809493895229, 508.4013358233717, 508.4013358233717, 508.4013358233717, 508.4013358233717, 508.4013358233717, 508.4013358233717, 508.4013358233717, 508.4013358233717, 508.4013358233717, 508.4013358233717, 508.4013358233717, 508.4013358233717, 508.4013358233717, 508.4013358233717, 508.4013358233717, 508.4013358233717, 508.4013358233717, 508.4013358233717, 508.4013358233717, 508.4013358233717, 511.3217222572206, 511.3217222572206, 511.3217222572206, 511.3217222572206, 511.3217222572206, 511.3217222572206, 511.3217222572206, 511.3217222572206, 511.3217222572206, 511.3217222572206, 511.3217222572206, 511.3217222572206, 511.3217222572206, 511.3217222572206, 511.3217222572206, 511.3217222572206, 511.3217222572206, 511.3217222572206, 511.3217222572206, 514.2421086910695, 514.2421086910695, 514.2421086910695, 514.2421086910695, 514.2421086910695, 514.2421086910695, 514.2421086910695, 514.2421086910695, 514.2421086910695, 514.2421086910695, 514.2421086910695, 514.2421086910695, 514.2421086910695, 514.2421086910695, 517.1624951249182, 517.1624951249182, 517.1624951249182, 517.1624951249182, 517.1624951249182, 517.1624951249182, 517.1624951249182, 517.1624951249182, 517.1624951249182, 517.1624951249182, 517.1624951249182, 517.1624951249182, 517.1624951249182, 517.1624951249182, 520.082881558767, 520.082881558767, 520.082881558767, 520.082881558767, 520.082881558767, 520.082881558767, 520.082881558767, 520.082881558767, 520.082881558767, 520.082881558767, 520.082881558767, 520.082881558767, 523.0032679926159, 523.0032679926159, 523.0032679926159, 523.0032679926159, 523.0032679926159, 523.0032679926159, 523.0032679926159, 523.0032679926159, 523.0032679926159, 523.0032679926159, 523.0032679926159, 523.0032679926159, 523.0032679926159, 523.0032679926159, 523.0032679926159, 523.0032679926159, 523.0032679926159, 523.0032679926159, 523.0032679926159, 523.0032679926159, 523.0032679926159, 523.0032679926159, 525.9236544264647, 525.9236544264647, 525.9236544264647, 525.9236544264647, 525.9236544264647, 525.9236544264647, 525.9236544264647, 525.9236544264647, 525.9236544264647, 525.9236544264647, 528.8440408603135, 528.8440408603135, 528.8440408603135, 528.8440408603135, 528.8440408603135, 528.8440408603135, 528.8440408603135, 528.8440408603135, 528.8440408603135, 528.8440408603135, 528.8440408603135, 528.8440408603135, 528.8440408603135, 531.7644272941624, 531.7644272941624, 531.7644272941624, 531.7644272941624, 531.7644272941624, 531.7644272941624, 531.7644272941624, 531.7644272941624, 531.7644272941624, 531.7644272941624, 531.7644272941624, 531.7644272941624, 531.7644272941624, 531.7644272941624, 531.7644272941624, 531.7644272941624, 531.7644272941624, 534.6848137280112, 534.6848137280112, 534.6848137280112, 534.6848137280112, 534.6848137280112, 534.6848137280112, 534.6848137280112, 534.6848137280112, 534.6848137280112, 534.6848137280112, 534.6848137280112, 537.60520016186, 537.60520016186, 537.60520016186, 537.60520016186, 537.60520016186, 537.60520016186, 537.60520016186, 537.60520016186, 537.60520016186, 537.60520016186, 537.60520016186, 540.5255865957089, 540.5255865957089, 540.5255865957089, 540.5255865957089, 540.5255865957089, 540.5255865957089, 540.5255865957089, 540.5255865957089, 540.5255865957089, 540.5255865957089, 540.5255865957089, 540.5255865957089, 540.5255865957089, 540.5255865957089, 540.5255865957089, 540.5255865957089, 540.5255865957089, 540.5255865957089, 543.4459730295578, 543.4459730295578, 543.4459730295578, 543.4459730295578, 543.4459730295578, 543.4459730295578, 543.4459730295578, 543.4459730295578, 543.4459730295578, 543.4459730295578, 543.4459730295578, 543.4459730295578, 543.4459730295578, 543.4459730295578, 543.4459730295578, 546.3663594634065, 546.3663594634065, 546.3663594634065, 546.3663594634065, 546.3663594634065, 546.3663594634065, 546.3663594634065, 546.3663594634065, 546.3663594634065, 546.3663594634065, 546.3663594634065, 546.3663594634065, 546.3663594634065, 549.2867458972554, 549.2867458972554, 549.2867458972554, 549.2867458972554, 549.2867458972554, 549.2867458972554, 549.2867458972554, 549.2867458972554, 549.2867458972554, 552.2071323311042, 552.2071323311042, 552.2071323311042, 552.2071323311042, 552.2071323311042, 552.2071323311042, 552.2071323311042, 552.2071323311042, 552.2071323311042, 552.2071323311042, 552.2071323311042, 552.2071323311042, 552.2071323311042, 552.2071323311042, 552.2071323311042, 552.2071323311042, 552.2071323311042, 555.127518764953, 555.127518764953, 555.127518764953, 555.127518764953, 555.127518764953, 555.127518764953, 555.127518764953, 555.127518764953, 555.127518764953, 555.127518764953, 555.127518764953, 555.127518764953, 555.127518764953, 555.127518764953, 558.0479051988019, 558.0479051988019, 558.0479051988019, 558.0479051988019, 558.0479051988019, 558.0479051988019, 558.0479051988019, 558.0479051988019, 558.0479051988019, 558.0479051988019, 558.0479051988019, 558.0479051988019, 558.0479051988019, 558.0479051988019, 558.0479051988019, 558.0479051988019, 558.0479051988019, 558.0479051988019, 558.0479051988019, 558.0479051988019, 560.9682916326507, 560.9682916326507, 560.9682916326507, 560.9682916326507, 560.9682916326507, 560.9682916326507, 560.9682916326507, 560.9682916326507, 560.9682916326507, 560.9682916326507, 560.9682916326507, 560.9682916326507, 560.9682916326507, 560.9682916326507, 563.8886780664996, 563.8886780664996, 563.8886780664996, 563.8886780664996, 563.8886780664996, 563.8886780664996, 563.8886780664996, 563.8886780664996, 563.8886780664996, 563.8886780664996, 563.8886780664996, 563.8886780664996, 563.8886780664996, 563.8886780664996, 563.8886780664996, 563.8886780664996, 563.8886780664996, 563.8886780664996, 563.8886780664996, 563.8886780664996, 563.8886780664996, 563.8886780664996, 563.8886780664996, 563.8886780664996, 563.8886780664996, 563.8886780664996, 563.8886780664996, 566.8090645003483, 566.8090645003483, 566.8090645003483, 566.8090645003483, 566.8090645003483, 566.8090645003483, 566.8090645003483, 566.8090645003483, 566.8090645003483, 566.8090645003483, 566.8090645003483, 566.8090645003483, 566.8090645003483, 566.8090645003483, 566.8090645003483, 566.8090645003483, 569.7294509341972, 569.7294509341972, 569.7294509341972, 569.7294509341972, 569.7294509341972, 569.7294509341972, 569.7294509341972, 569.7294509341972, 569.7294509341972, 569.7294509341972, 569.7294509341972, 569.7294509341972, 569.7294509341972, 572.6498373680461, 572.6498373680461, 572.6498373680461, 572.6498373680461, 572.6498373680461, 572.6498373680461, 572.6498373680461, 572.6498373680461, 572.6498373680461, 575.5702238018948, 575.5702238018948, 575.5702238018948, 575.5702238018948, 575.5702238018948, 575.5702238018948, 575.5702238018948, 575.5702238018948, 575.5702238018948, 575.5702238018948, 575.5702238018948, 575.5702238018948, 575.5702238018948, 575.5702238018948, 578.4906102357437, 578.4906102357437, 578.4906102357437, 578.4906102357437, 578.4906102357437, 578.4906102357437, 578.4906102357437, 578.4906102357437, 578.4906102357437, 578.4906102357437, 578.4906102357437, 578.4906102357437, 578.4906102357437, 578.4906102357437, 578.4906102357437, 578.4906102357437, 578.4906102357437, 578.4906102357437, 578.4906102357437, 578.4906102357437, 578.4906102357437, 578.4906102357437, 578.4906102357437, 578.4906102357437, 578.4906102357437, 578.4906102357437, 581.4109966695926, 581.4109966695926, 581.4109966695926, 581.4109966695926, 581.4109966695926, 581.4109966695926, 581.4109966695926, 581.4109966695926, 581.4109966695926, 581.4109966695926, 581.4109966695926, 581.4109966695926, 581.4109966695926, 581.4109966695926, 584.3313831034413, 584.3313831034413, 584.3313831034413, 584.3313831034413, 584.3313831034413, 584.3313831034413, 584.3313831034413, 584.3313831034413, 584.3313831034413, 584.3313831034413, 584.3313831034413, 584.3313831034413, 587.2517695372902, 587.2517695372902, 587.2517695372902, 587.2517695372902, 587.2517695372902, 587.2517695372902, 587.2517695372902, 587.2517695372902, 587.2517695372902, 587.2517695372902, 587.2517695372902, 587.2517695372902, 587.2517695372902, 587.2517695372902, 587.2517695372902, 587.2517695372902, 590.172155971139, 590.172155971139, 590.172155971139, 590.172155971139, 590.172155971139, 590.172155971139, 590.172155971139, 590.172155971139, 590.172155971139, 590.172155971139, 590.172155971139, 590.172155971139, 590.172155971139, 590.172155971139, 590.172155971139, 590.172155971139, 590.172155971139, 590.172155971139, 590.172155971139, 593.0925424049879, 593.0925424049879, 593.0925424049879, 593.0925424049879, 593.0925424049879, 593.0925424049879, 593.0925424049879, 593.0925424049879, 593.0925424049879, 593.0925424049879, 593.0925424049879, 593.0925424049879, 593.0925424049879, 593.0925424049879, 593.0925424049879, 593.0925424049879, 593.0925424049879, 593.0925424049879, 596.0129288388366, 596.0129288388366, 596.0129288388366, 596.0129288388366, 596.0129288388366, 596.0129288388366, 596.0129288388366, 596.0129288388366, 596.0129288388366, 596.0129288388366, 596.0129288388366, 598.9333152726855, 598.9333152726855, 598.9333152726855, 598.9333152726855, 598.9333152726855, 598.9333152726855, 598.9333152726855, 598.9333152726855, 598.9333152726855, 598.9333152726855, 598.9333152726855, 601.8537017065344, 601.8537017065344, 601.8537017065344, 601.8537017065344, 601.8537017065344, 601.8537017065344, 601.8537017065344, 601.8537017065344, 601.8537017065344, 601.8537017065344, 601.8537017065344, 601.8537017065344, 604.7740881403831, 604.7740881403831, 604.7740881403831, 604.7740881403831, 604.7740881403831, 604.7740881403831, 604.7740881403831, 604.7740881403831, 604.7740881403831, 604.7740881403831, 604.7740881403831, 604.7740881403831, 604.7740881403831, 604.7740881403831, 604.7740881403831, 607.694474574232, 607.694474574232, 607.694474574232, 607.694474574232, 607.694474574232, 607.694474574232, 607.694474574232, 607.694474574232, 607.694474574232, 607.694474574232, 610.6148610080808, 610.6148610080808, 610.6148610080808, 610.6148610080808, 610.6148610080808, 610.6148610080808, 610.6148610080808, 610.6148610080808, 610.6148610080808, 610.6148610080808, 613.5352474419296, 613.5352474419296, 613.5352474419296, 613.5352474419296, 613.5352474419296, 613.5352474419296, 613.5352474419296, 613.5352474419296, 613.5352474419296, 613.5352474419296, 613.5352474419296, 613.5352474419296, 616.4556338757785, 616.4556338757785, 616.4556338757785, 616.4556338757785, 616.4556338757785, 616.4556338757785, 616.4556338757785, 616.4556338757785, 616.4556338757785, 616.4556338757785, 616.4556338757785, 616.4556338757785, 616.4556338757785, 616.4556338757785, 616.4556338757785, 619.3760203096274, 619.3760203096274, 619.3760203096274, 619.3760203096274, 619.3760203096274, 619.3760203096274, 619.3760203096274, 619.3760203096274, 619.3760203096274, 619.3760203096274, 619.3760203096274, 619.3760203096274, 619.3760203096274, 619.3760203096274, 622.2964067434762, 622.2964067434762, 622.2964067434762, 622.2964067434762, 622.2964067434762, 622.2964067434762, 622.2964067434762, 622.2964067434762, 625.2167931773249, 625.2167931773249, 625.2167931773249, 625.2167931773249, 625.2167931773249, 625.2167931773249, 625.2167931773249, 625.2167931773249, 625.2167931773249, 625.2167931773249, 625.2167931773249, 625.2167931773249, 625.2167931773249, 625.2167931773249, 628.1371796111739, 628.1371796111739, 628.1371796111739, 628.1371796111739, 628.1371796111739, 628.1371796111739, 628.1371796111739, 628.1371796111739, 628.1371796111739, 628.1371796111739, 628.1371796111739, 628.1371796111739, 628.1371796111739, 631.0575660450227, 631.0575660450227, 631.0575660450227, 631.0575660450227, 631.0575660450227, 631.0575660450227, 631.0575660450227, 631.0575660450227, 631.0575660450227, 631.0575660450227, 631.0575660450227, 631.0575660450227, 631.0575660450227, 631.0575660450227, 631.0575660450227, 631.0575660450227, 631.0575660450227, 631.0575660450227, 631.0575660450227, 631.0575660450227, 633.9779524788714, 633.9779524788714, 633.9779524788714, 633.9779524788714, 633.9779524788714, 633.9779524788714, 633.9779524788714, 633.9779524788714, 633.9779524788714, 633.9779524788714, 633.9779524788714, 633.9779524788714, 633.9779524788714, 633.9779524788714, 633.9779524788714, 633.9779524788714, 633.9779524788714, 633.9779524788714, 633.9779524788714, 633.9779524788714, 633.9779524788714, 633.9779524788714, 633.9779524788714, 633.9779524788714, 633.9779524788714, 636.8983389127203, 636.8983389127203, 636.8983389127203, 636.8983389127203, 636.8983389127203, 636.8983389127203, 636.8983389127203, 636.8983389127203, 636.8983389127203, 636.8983389127203, 636.8983389127203, 636.8983389127203, 636.8983389127203, 636.8983389127203, 639.8187253465692, 639.8187253465692, 639.8187253465692, 639.8187253465692, 639.8187253465692, 639.8187253465692, 639.8187253465692, 639.8187253465692, 642.7391117804179, 642.7391117804179, 642.7391117804179, 642.7391117804179, 642.7391117804179, 642.7391117804179, 642.7391117804179, 642.7391117804179, 642.7391117804179, 642.7391117804179, 642.7391117804179, 642.7391117804179, 642.7391117804179, 645.6594982142668, 645.6594982142668, 645.6594982142668, 645.6594982142668, 645.6594982142668, 645.6594982142668, 645.6594982142668, 645.6594982142668, 645.6594982142668, 645.6594982142668, 645.6594982142668, 645.6594982142668, 645.6594982142668, 648.5798846481157, 648.5798846481157, 648.5798846481157, 648.5798846481157, 648.5798846481157, 648.5798846481157, 648.5798846481157, 648.5798846481157, 648.5798846481157, 648.5798846481157, 648.5798846481157, 648.5798846481157, 651.5002710819645, 651.5002710819645, 651.5002710819645, 651.5002710819645, 651.5002710819645, 651.5002710819645, 651.5002710819645, 651.5002710819645, 651.5002710819645, 651.5002710819645, 651.5002710819645, 651.5002710819645, 651.5002710819645, 651.5002710819645, 651.5002710819645, 654.4206575158132, 654.4206575158132, 654.4206575158132, 654.4206575158132, 654.4206575158132, 654.4206575158132, 654.4206575158132, 654.4206575158132, 654.4206575158132, 654.4206575158132, 654.4206575158132, 654.4206575158132, 654.4206575158132, 654.4206575158132, 654.4206575158132, 654.4206575158132, 654.4206575158132, 657.3410439496622, 657.3410439496622, 657.3410439496622, 657.3410439496622, 657.3410439496622, 657.3410439496622, 657.3410439496622, 657.3410439496622, 657.3410439496622, 657.3410439496622, 657.3410439496622, 657.3410439496622, 657.3410439496622, 657.3410439496622, 657.3410439496622, 657.3410439496622, 657.3410439496622, 657.3410439496622, 657.3410439496622, 660.261430383511, 660.261430383511, 660.261430383511, 660.261430383511, 660.261430383511, 660.261430383511, 660.261430383511, 660.261430383511, 660.261430383511, 660.261430383511, 660.261430383511, 660.261430383511, 660.261430383511, 663.1818168173597, 663.1818168173597, 663.1818168173597, 663.1818168173597, 663.1818168173597, 663.1818168173597, 663.1818168173597, 663.1818168173597, 663.1818168173597, 663.1818168173597, 663.1818168173597, 663.1818168173597, 663.1818168173597, 666.1022032512086, 666.1022032512086, 666.1022032512086, 666.1022032512086, 666.1022032512086, 666.1022032512086, 666.1022032512086, 666.1022032512086, 666.1022032512086, 666.1022032512086, 666.1022032512086, 666.1022032512086, 666.1022032512086, 666.1022032512086, 666.1022032512086, 666.1022032512086, 666.1022032512086, 666.1022032512086, 666.1022032512086, 666.1022032512086, 669.0225896850575, 669.0225896850575, 669.0225896850575, 669.0225896850575, 669.0225896850575, 669.0225896850575, 669.0225896850575, 669.0225896850575, 669.0225896850575, 669.0225896850575, 669.0225896850575, 671.9429761189062, 671.9429761189062, 671.9429761189062, 671.9429761189062, 671.9429761189062, 671.9429761189062, 671.9429761189062, 671.9429761189062, 671.9429761189062, 671.9429761189062, 671.9429761189062, 671.9429761189062, 671.9429761189062, 671.9429761189062, 674.8633625527551, 674.8633625527551, 674.8633625527551, 674.8633625527551, 674.8633625527551, 674.8633625527551, 674.8633625527551, 674.8633625527551, 674.8633625527551, 674.8633625527551, 674.8633625527551, 674.8633625527551, 674.8633625527551, 677.783748986604, 677.783748986604, 677.783748986604, 677.783748986604, 677.783748986604, 677.783748986604, 677.783748986604, 677.783748986604, 677.783748986604, 677.783748986604, 677.783748986604, 677.783748986604, 677.783748986604, 677.783748986604, 677.783748986604, 680.7041354204528, 680.7041354204528, 680.7041354204528, 680.7041354204528, 680.7041354204528, 680.7041354204528, 680.7041354204528, 680.7041354204528, 680.7041354204528, 680.7041354204528, 680.7041354204528, 680.7041354204528, 683.6245218543015, 683.6245218543015, 683.6245218543015, 683.6245218543015, 683.6245218543015, 683.6245218543015, 683.6245218543015, 683.6245218543015, 683.6245218543015, 683.6245218543015, 683.6245218543015, 686.5449082881505, 686.5449082881505, 686.5449082881505, 686.5449082881505, 686.5449082881505, 686.5449082881505, 686.5449082881505, 686.5449082881505, 686.5449082881505, 686.5449082881505, 686.5449082881505, 686.5449082881505, 686.5449082881505, 686.5449082881505, 689.4652947219993, 689.4652947219993, 689.4652947219993, 689.4652947219993, 689.4652947219993, 689.4652947219993, 689.4652947219993, 689.4652947219993, 689.4652947219993, 689.4652947219993, 689.4652947219993, 689.4652947219993, 692.385681155848, 692.385681155848, 692.385681155848, 692.385681155848, 692.385681155848, 692.385681155848, 692.385681155848, 695.3060675896969, 695.3060675896969, 695.3060675896969, 695.3060675896969, 695.3060675896969, 695.3060675896969, 695.3060675896969, 695.3060675896969, 695.3060675896969, 695.3060675896969, 695.3060675896969, 695.3060675896969, 695.3060675896969, 695.3060675896969, 695.3060675896969, 695.3060675896969, 695.3060675896969, 695.3060675896969, 698.2264540235458, 698.2264540235458, 698.2264540235458, 698.2264540235458, 698.2264540235458, 698.2264540235458, 698.2264540235458, 698.2264540235458, 698.2264540235458, 698.2264540235458, 698.2264540235458, 698.2264540235458, 698.2264540235458, 698.2264540235458, 698.2264540235458, 701.1468404573945, 701.1468404573945, 701.1468404573945, 701.1468404573945, 701.1468404573945, 701.1468404573945, 701.1468404573945, 701.1468404573945, 701.1468404573945, 701.1468404573945, 701.1468404573945, 701.1468404573945, 701.1468404573945, 701.1468404573945, 701.1468404573945, 701.1468404573945, 701.1468404573945, 704.0672268912434, 704.0672268912434, 704.0672268912434, 704.0672268912434, 704.0672268912434, 704.0672268912434, 704.0672268912434, 704.0672268912434, 704.0672268912434, 704.0672268912434, 704.0672268912434, 704.0672268912434, 704.0672268912434, 704.0672268912434, 704.0672268912434, 704.0672268912434, 704.0672268912434, 706.9876133250923, 706.9876133250923, 706.9876133250923, 706.9876133250923, 706.9876133250923, 706.9876133250923, 706.9876133250923, 706.9876133250923, 706.9876133250923, 706.9876133250923, 706.9876133250923, 709.9079997589411, 709.9079997589411, 709.9079997589411, 709.9079997589411, 709.9079997589411, 709.9079997589411, 709.9079997589411, 709.9079997589411, 709.9079997589411, 709.9079997589411, 709.9079997589411, 709.9079997589411, 709.9079997589411, 709.9079997589411, 709.9079997589411, 709.9079997589411, 709.9079997589411, 709.9079997589411, 709.9079997589411, 709.9079997589411, 712.8283861927898, 712.8283861927898, 712.8283861927898, 712.8283861927898, 712.8283861927898, 712.8283861927898, 712.8283861927898, 712.8283861927898, 712.8283861927898, 712.8283861927898, 712.8283861927898, 712.8283861927898, 712.8283861927898, 712.8283861927898, 712.8283861927898, 715.7487726266388, 715.7487726266388, 715.7487726266388, 715.7487726266388, 715.7487726266388, 715.7487726266388, 715.7487726266388, 715.7487726266388, 715.7487726266388, 715.7487726266388, 715.7487726266388, 715.7487726266388, 715.7487726266388, 718.6691590604876, 718.6691590604876, 718.6691590604876, 718.6691590604876, 718.6691590604876, 718.6691590604876, 718.6691590604876, 718.6691590604876, 718.6691590604876, 718.6691590604876, 718.6691590604876, 718.6691590604876, 718.6691590604876, 718.6691590604876, 718.6691590604876, 718.6691590604876, 718.6691590604876, 718.6691590604876, 718.6691590604876, 721.5895454943363, 721.5895454943363, 721.5895454943363, 721.5895454943363, 721.5895454943363, 721.5895454943363, 721.5895454943363, 721.5895454943363, 724.5099319281852, 724.5099319281852, 724.5099319281852, 724.5099319281852, 724.5099319281852, 724.5099319281852, 724.5099319281852, 724.5099319281852, 724.5099319281852, 724.5099319281852, 724.5099319281852, 724.5099319281852, 724.5099319281852, 724.5099319281852, 724.5099319281852, 727.4303183620341, 727.4303183620341, 727.4303183620341, 727.4303183620341, 727.4303183620341, 727.4303183620341, 727.4303183620341, 727.4303183620341, 727.4303183620341, 727.4303183620341, 727.4303183620341, 727.4303183620341, 727.4303183620341, 727.4303183620341, 727.4303183620341, 727.4303183620341, 727.4303183620341, 727.4303183620341, 730.3507047958828, 730.3507047958828, 730.3507047958828, 730.3507047958828, 730.3507047958828, 730.3507047958828, 730.3507047958828, 730.3507047958828, 730.3507047958828, 730.3507047958828, 730.3507047958828, 730.3507047958828, 733.2710912297317, 733.2710912297317, 733.2710912297317, 733.2710912297317, 733.2710912297317, 733.2710912297317, 733.2710912297317, 733.2710912297317, 733.2710912297317, 733.2710912297317, 733.2710912297317, 736.1914776635806, 736.1914776635806, 736.1914776635806, 736.1914776635806, 736.1914776635806, 736.1914776635806, 736.1914776635806, 736.1914776635806, 736.1914776635806, 736.1914776635806, 736.1914776635806, 736.1914776635806, 736.1914776635806, 736.1914776635806, 739.1118640974294, 739.1118640974294, 739.1118640974294, 739.1118640974294, 739.1118640974294, 739.1118640974294, 742.0322505312782, 742.0322505312782, 742.0322505312782, 742.0322505312782, 742.0322505312782, 742.0322505312782, 742.0322505312782, 742.0322505312782, 742.0322505312782, 742.0322505312782, 742.0322505312782, 744.9526369651271, 744.9526369651271, 744.9526369651271, 744.9526369651271, 744.9526369651271, 744.9526369651271, 744.9526369651271, 744.9526369651271, 744.9526369651271, 744.9526369651271, 744.9526369651271, 744.9526369651271, 744.9526369651271, 747.8730233989759, 747.8730233989759, 747.8730233989759, 747.8730233989759, 747.8730233989759, 747.8730233989759, 747.8730233989759, 747.8730233989759, 747.8730233989759, 747.8730233989759, 750.7934098328248, 750.7934098328248, 750.7934098328248, 750.7934098328248, 750.7934098328248, 750.7934098328248, 750.7934098328248, 750.7934098328248, 750.7934098328248, 750.7934098328248, 750.7934098328248, 750.7934098328248, 750.7934098328248, 753.7137962666736, 753.7137962666736, 753.7137962666736, 753.7137962666736, 753.7137962666736, 753.7137962666736, 753.7137962666736, 753.7137962666736, 753.7137962666736, 753.7137962666736, 753.7137962666736, 756.6341827005224, 756.6341827005224, 756.6341827005224, 756.6341827005224, 756.6341827005224, 756.6341827005224, 756.6341827005224, 756.6341827005224, 756.6341827005224, 756.6341827005224, 756.6341827005224, 756.6341827005224, 756.6341827005224, 756.6341827005224, 756.6341827005224, 759.5545691343713, 759.5545691343713, 759.5545691343713, 759.5545691343713, 759.5545691343713, 759.5545691343713, 759.5545691343713, 759.5545691343713, 759.5545691343713, 759.5545691343713, 759.5545691343713, 759.5545691343713, 759.5545691343713, 759.5545691343713, 759.5545691343713, 762.4749555682201, 762.4749555682201, 762.4749555682201, 762.4749555682201, 762.4749555682201, 762.4749555682201, 762.4749555682201, 762.4749555682201, 762.4749555682201, 762.4749555682201, 762.4749555682201, 762.4749555682201, 762.4749555682201, 762.4749555682201, 765.3953420020689, 765.3953420020689, 765.3953420020689, 765.3953420020689, 765.3953420020689, 765.3953420020689, 765.3953420020689, 765.3953420020689, 765.3953420020689, 768.3157284359177, 768.3157284359177, 768.3157284359177, 768.3157284359177, 768.3157284359177, 768.3157284359177, 768.3157284359177, 768.3157284359177, 768.3157284359177, 768.3157284359177, 768.3157284359177, 768.3157284359177, 768.3157284359177, 768.3157284359177, 768.3157284359177, 771.2361148697665, 771.2361148697665, 771.2361148697665, 771.2361148697665, 771.2361148697665, 771.2361148697665, 771.2361148697665, 771.2361148697665, 771.2361148697665, 771.2361148697665, 771.2361148697665, 771.2361148697665, 771.2361148697665, 774.1565013036154, 774.1565013036154, 774.1565013036154, 774.1565013036154, 774.1565013036154, 774.1565013036154, 774.1565013036154, 774.1565013036154, 774.1565013036154, 774.1565013036154, 774.1565013036154, 774.1565013036154, 777.0768877374642, 777.0768877374642, 777.0768877374642, 777.0768877374642, 777.0768877374642, 777.0768877374642, 777.0768877374642, 777.0768877374642, 777.0768877374642, 777.0768877374642, 777.0768877374642, 777.0768877374642, 777.0768877374642, 777.0768877374642, 777.0768877374642, 777.0768877374642, 779.997274171313, 779.997274171313, 779.997274171313, 779.997274171313, 779.997274171313, 779.997274171313, 779.997274171313, 779.997274171313, 779.997274171313, 779.997274171313, 779.997274171313, 779.997274171313, 782.9176606051619, 782.9176606051619, 782.9176606051619, 782.9176606051619, 782.9176606051619, 782.9176606051619, 782.9176606051619, 782.9176606051619, 785.8380470390107, 785.8380470390107, 785.8380470390107, 785.8380470390107, 785.8380470390107, 785.8380470390107, 785.8380470390107, 785.8380470390107, 785.8380470390107, 785.8380470390107, 785.8380470390107, 785.8380470390107, 785.8380470390107, 788.7584334728596, 788.7584334728596, 788.7584334728596, 788.7584334728596, 788.7584334728596, 788.7584334728596, 788.7584334728596, 788.7584334728596, 788.7584334728596, 788.7584334728596, 788.7584334728596, 788.7584334728596, 788.7584334728596, 788.7584334728596, 791.6788199067084, 791.6788199067084, 791.6788199067084, 791.6788199067084, 791.6788199067084, 791.6788199067084, 791.6788199067084, 791.6788199067084, 791.6788199067084, 794.5992063405572, 794.5992063405572, 794.5992063405572, 794.5992063405572, 794.5992063405572, 794.5992063405572, 794.5992063405572, 794.5992063405572, 794.5992063405572, 794.5992063405572, 794.5992063405572, 794.5992063405572, 794.5992063405572, 794.5992063405572, 797.519592774406, 797.519592774406, 797.519592774406, 797.519592774406, 797.519592774406, 797.519592774406, 797.519592774406, 797.519592774406, 797.519592774406, 797.519592774406, 797.519592774406, 797.519592774406, 797.519592774406, 797.519592774406, 800.4399792082548, 800.4399792082548, 800.4399792082548, 800.4399792082548, 800.4399792082548, 800.4399792082548, 800.4399792082548, 800.4399792082548, 800.4399792082548, 800.4399792082548, 800.4399792082548, 800.4399792082548, 800.4399792082548, 800.4399792082548, 800.4399792082548, 803.3603656421037, 803.3603656421037, 803.3603656421037, 803.3603656421037, 803.3603656421037, 803.3603656421037, 803.3603656421037, 803.3603656421037, 803.3603656421037, 803.3603656421037, 803.3603656421037, 803.3603656421037, 806.2807520759525, 806.2807520759525, 806.2807520759525, 806.2807520759525, 806.2807520759525, 806.2807520759525, 806.2807520759525, 806.2807520759525, 806.2807520759525, 809.2011385098014, 809.2011385098014, 809.2011385098014, 809.2011385098014, 809.2011385098014, 809.2011385098014, 809.2011385098014, 809.2011385098014, 809.2011385098014, 809.2011385098014, 809.2011385098014, 809.2011385098014, 809.2011385098014, 809.2011385098014, 809.2011385098014, 809.2011385098014, 809.2011385098014, 812.1215249436502, 812.1215249436502, 812.1215249436502, 812.1215249436502, 812.1215249436502, 812.1215249436502, 812.1215249436502, 815.041911377499, 815.041911377499, 815.041911377499, 815.041911377499, 815.041911377499, 815.041911377499, 815.041911377499, 815.041911377499, 815.041911377499, 815.041911377499, 815.041911377499, 815.041911377499, 815.041911377499, 817.9622978113479, 817.9622978113479, 817.9622978113479, 817.9622978113479, 817.9622978113479, 817.9622978113479, 817.9622978113479, 817.9622978113479, 817.9622978113479, 817.9622978113479, 817.9622978113479, 817.9622978113479, 817.9622978113479, 817.9622978113479, 817.9622978113479, 817.9622978113479, 817.9622978113479, 820.8826842451967, 820.8826842451967, 820.8826842451967, 820.8826842451967, 820.8826842451967, 820.8826842451967, 820.8826842451967, 823.8030706790455, 823.8030706790455, 823.8030706790455, 823.8030706790455, 823.8030706790455, 823.8030706790455, 823.8030706790455, 823.8030706790455, 823.8030706790455, 823.8030706790455, 826.7234571128944, 826.7234571128944, 826.7234571128944, 826.7234571128944, 826.7234571128944, 826.7234571128944, 826.7234571128944, 826.7234571128944, 826.7234571128944, 826.7234571128944, 826.7234571128944, 826.7234571128944, 829.6438435467431, 829.6438435467431, 829.6438435467431, 829.6438435467431, 829.6438435467431, 829.6438435467431, 829.6438435467431, 829.6438435467431, 829.6438435467431, 829.6438435467431, 829.6438435467431, 829.6438435467431, 829.6438435467431, 829.6438435467431, 829.6438435467431, 829.6438435467431, 832.564229980592, 832.564229980592, 832.564229980592, 832.564229980592, 832.564229980592, 832.564229980592, 832.564229980592, 832.564229980592, 832.564229980592, 832.564229980592, 832.564229980592, 832.564229980592, 832.564229980592, 832.564229980592, 835.4846164144408, 835.4846164144408, 835.4846164144408, 835.4846164144408, 835.4846164144408, 835.4846164144408, 835.4846164144408, 835.4846164144408, 835.4846164144408, 838.4050028482897, 838.4050028482897, 838.4050028482897, 838.4050028482897, 838.4050028482897, 838.4050028482897, 838.4050028482897, 838.4050028482897, 838.4050028482897, 838.4050028482897, 841.3253892821385, 841.3253892821385, 841.3253892821385, 841.3253892821385, 841.3253892821385, 841.3253892821385, 841.3253892821385, 841.3253892821385, 841.3253892821385, 841.3253892821385, 841.3253892821385, 841.3253892821385, 841.3253892821385, 841.3253892821385, 841.3253892821385, 841.3253892821385, 841.3253892821385, 841.3253892821385, 841.3253892821385, 844.2457757159873, 844.2457757159873, 844.2457757159873, 844.2457757159873, 844.2457757159873, 844.2457757159873, 844.2457757159873, 844.2457757159873, 844.2457757159873, 844.2457757159873, 844.2457757159873, 847.1661621498362, 847.1661621498362, 847.1661621498362, 847.1661621498362, 847.1661621498362, 847.1661621498362, 847.1661621498362, 847.1661621498362, 847.1661621498362, 847.1661621498362, 847.1661621498362, 847.1661621498362, 850.0865485836849, 850.0865485836849, 850.0865485836849, 850.0865485836849, 850.0865485836849, 850.0865485836849, 850.0865485836849, 850.0865485836849, 850.0865485836849, 850.0865485836849, 850.0865485836849, 850.0865485836849, 850.0865485836849, 850.0865485836849, 850.0865485836849, 850.0865485836849, 850.0865485836849, 853.0069350175338, 853.0069350175338, 853.0069350175338, 853.0069350175338, 853.0069350175338, 853.0069350175338, 853.0069350175338, 853.0069350175338, 853.0069350175338, 853.0069350175338, 855.9273214513827, 855.9273214513827, 855.9273214513827, 855.9273214513827, 855.9273214513827, 855.9273214513827, 855.9273214513827, 855.9273214513827, 855.9273214513827, 855.9273214513827, 855.9273214513827, 855.9273214513827, 858.8477078852314, 858.8477078852314, 858.8477078852314, 858.8477078852314, 858.8477078852314, 858.8477078852314, 858.8477078852314, 858.8477078852314, 858.8477078852314, 858.8477078852314, 861.7680943190803, 861.7680943190803, 861.7680943190803, 861.7680943190803, 861.7680943190803, 861.7680943190803, 861.7680943190803, 861.7680943190803, 864.6884807529291, 864.6884807529291, 864.6884807529291, 864.6884807529291, 864.6884807529291, 864.6884807529291, 864.6884807529291, 864.6884807529291, 864.6884807529291, 864.6884807529291, 864.6884807529291, 864.6884807529291, 864.6884807529291, 867.608867186778, 867.608867186778, 867.608867186778, 867.608867186778, 867.608867186778, 867.608867186778, 867.608867186778, 867.608867186778, 867.608867186778, 867.608867186778, 867.608867186778, 867.608867186778, 867.608867186778, 867.608867186778, 867.608867186778, 870.5292536206268, 870.5292536206268, 870.5292536206268, 870.5292536206268, 870.5292536206268, 870.5292536206268, 870.5292536206268, 870.5292536206268, 870.5292536206268, 870.5292536206268, 870.5292536206268, 870.5292536206268, 873.4496400544756, 873.4496400544756, 873.4496400544756, 873.4496400544756, 873.4496400544756, 873.4496400544756, 873.4496400544756, 873.4496400544756, 873.4496400544756, 873.4496400544756, 873.4496400544756, 873.4496400544756, 873.4496400544756, 873.4496400544756, 873.4496400544756, 873.4496400544756, 873.4496400544756, 873.4496400544756, 873.4496400544756, 876.3700264883246, 876.3700264883246, 876.3700264883246, 876.3700264883246, 876.3700264883246, 876.3700264883246, 876.3700264883246, 876.3700264883246, 876.3700264883246, 876.3700264883246, 876.3700264883246, 876.3700264883246, 876.3700264883246, 876.3700264883246, 879.2904129221733, 879.2904129221733, 879.2904129221733, 879.2904129221733, 879.2904129221733, 879.2904129221733, 879.2904129221733, 879.2904129221733, 879.2904129221733, 879.2904129221733, 879.2904129221733, 879.2904129221733, 879.2904129221733, 879.2904129221733, 879.2904129221733, 882.2107993560221, 882.2107993560221, 882.2107993560221, 882.2107993560221, 882.2107993560221, 882.2107993560221, 882.2107993560221, 882.2107993560221, 882.2107993560221, 882.2107993560221, 882.2107993560221, 882.2107993560221, 882.2107993560221, 882.2107993560221, 885.1311857898711, 885.1311857898711, 885.1311857898711, 885.1311857898711, 885.1311857898711, 885.1311857898711, 885.1311857898711, 885.1311857898711, 885.1311857898711, 885.1311857898711, 885.1311857898711, 885.1311857898711, 885.1311857898711, 885.1311857898711, 885.1311857898711, 888.0515722237199, 888.0515722237199, 888.0515722237199, 888.0515722237199, 888.0515722237199, 888.0515722237199, 888.0515722237199, 888.0515722237199, 888.0515722237199, 888.0515722237199, 888.0515722237199, 888.0515722237199, 888.0515722237199, 888.0515722237199, 888.0515722237199, 888.0515722237199, 888.0515722237199, 888.0515722237199, 890.9719586575686, 890.9719586575686, 890.9719586575686, 890.9719586575686, 890.9719586575686, 890.9719586575686, 890.9719586575686, 890.9719586575686, 893.8923450914174, 893.8923450914174, 893.8923450914174, 893.8923450914174, 893.8923450914174, 893.8923450914174, 893.8923450914174, 893.8923450914174, 893.8923450914174, 893.8923450914174, 893.8923450914174, 893.8923450914174, 893.8923450914174, 893.8923450914174, 896.8127315252664, 896.8127315252664, 896.8127315252664, 896.8127315252664, 896.8127315252664, 896.8127315252664, 896.8127315252664, 896.8127315252664, 896.8127315252664, 896.8127315252664, 896.8127315252664, 896.8127315252664, 899.7331179591151, 899.7331179591151, 899.7331179591151, 899.7331179591151, 899.7331179591151, 899.7331179591151, 899.7331179591151, 899.7331179591151, 899.7331179591151, 899.7331179591151, 899.7331179591151, 899.7331179591151, 899.7331179591151, 899.7331179591151, 899.7331179591151, 902.6535043929639, 902.6535043929639, 902.6535043929639, 902.6535043929639, 902.6535043929639, 902.6535043929639, 902.6535043929639, 902.6535043929639, 902.6535043929639, 902.6535043929639, 902.6535043929639, 902.6535043929639, 905.5738908268129, 905.5738908268129, 905.5738908268129, 905.5738908268129, 905.5738908268129, 905.5738908268129, 905.5738908268129, 905.5738908268129, 905.5738908268129, 905.5738908268129, 905.5738908268129, 905.5738908268129, 905.5738908268129, 905.5738908268129, 905.5738908268129, 905.5738908268129, 905.5738908268129, 905.5738908268129, 905.5738908268129, 908.4942772606616, 908.4942772606616, 908.4942772606616, 908.4942772606616, 908.4942772606616, 908.4942772606616, 908.4942772606616, 908.4942772606616, 908.4942772606616, 908.4942772606616, 908.4942772606616, 908.4942772606616, 908.4942772606616, 908.4942772606616, 908.4942772606616, 908.4942772606616, 908.4942772606616, 908.4942772606616, 908.4942772606616, 908.4942772606616, 908.4942772606616, 911.4146636945104, 911.4146636945104, 911.4146636945104, 911.4146636945104, 911.4146636945104, 911.4146636945104, 911.4146636945104, 911.4146636945104, 911.4146636945104, 911.4146636945104, 911.4146636945104, 911.4146636945104, 911.4146636945104, 911.4146636945104, 911.4146636945104, 911.4146636945104, 911.4146636945104, 911.4146636945104, 911.4146636945104, 911.4146636945104, 914.3350501283594, 914.3350501283594, 914.3350501283594, 914.3350501283594, 914.3350501283594, 914.3350501283594, 914.3350501283594, 914.3350501283594, 914.3350501283594, 914.3350501283594, 914.3350501283594, 914.3350501283594, 914.3350501283594, 914.3350501283594, 914.3350501283594, 914.3350501283594, 914.3350501283594, 914.3350501283594, 914.3350501283594, 914.3350501283594, 914.3350501283594, 914.3350501283594, 914.3350501283594, 914.3350501283594, 914.3350501283594, 914.3350501283594, 914.3350501283594, 917.2554365622082, 917.2554365622082, 917.2554365622082, 917.2554365622082, 917.2554365622082, 917.2554365622082, 917.2554365622082, 917.2554365622082, 917.2554365622082, 917.2554365622082, 917.2554365622082, 917.2554365622082, 917.2554365622082, 920.1758229960569, 920.1758229960569, 920.1758229960569, 920.1758229960569, 920.1758229960569, 920.1758229960569, 920.1758229960569, 920.1758229960569, 920.1758229960569, 920.1758229960569, 920.1758229960569, 920.1758229960569, 920.1758229960569, 920.1758229960569, 923.0962094299057, 923.0962094299057, 923.0962094299057, 923.0962094299057, 923.0962094299057, 923.0962094299057, 923.0962094299057, 923.0962094299057, 923.0962094299057, 923.0962094299057, 923.0962094299057, 923.0962094299057, 923.0962094299057, 923.0962094299057, 923.0962094299057, 923.0962094299057, 923.0962094299057, 923.0962094299057, 923.0962094299057, 923.0962094299057, 923.0962094299057, 926.0165958637547, 926.0165958637547, 926.0165958637547, 926.0165958637547, 926.0165958637547, 926.0165958637547, 926.0165958637547, 926.0165958637547, 926.0165958637547, 926.0165958637547, 926.0165958637547, 926.0165958637547, 926.0165958637547, 926.0165958637547, 926.0165958637547, 926.0165958637547, 926.0165958637547, 928.9369822976034, 928.9369822976034, 928.9369822976034, 928.9369822976034, 928.9369822976034, 928.9369822976034, 928.9369822976034, 928.9369822976034, 928.9369822976034, 928.9369822976034, 928.9369822976034, 928.9369822976034, 931.8573687314522, 931.8573687314522, 931.8573687314522, 931.8573687314522, 931.8573687314522, 931.8573687314522, 931.8573687314522, 931.8573687314522, 931.8573687314522, 931.8573687314522, 931.8573687314522, 931.8573687314522, 931.8573687314522, 931.8573687314522, 931.8573687314522, 931.8573687314522, 931.8573687314522, 931.8573687314522, 931.8573687314522, 931.8573687314522, 931.8573687314522, 931.8573687314522, 931.8573687314522, 931.8573687314522, 931.8573687314522, 934.7777551653012, 934.7777551653012, 934.7777551653012, 934.7777551653012, 934.7777551653012, 934.7777551653012, 934.7777551653012, 934.7777551653012, 934.7777551653012, 934.7777551653012, 934.7777551653012, 934.7777551653012, 934.7777551653012, 937.69814159915, 937.69814159915, 937.69814159915, 937.69814159915, 937.69814159915, 937.69814159915, 937.69814159915, 937.69814159915, 937.69814159915, 937.69814159915, 937.69814159915, 937.69814159915, 937.69814159915, 937.69814159915, 937.69814159915, 937.69814159915, 940.6185280329987, 940.6185280329987, 940.6185280329987, 940.6185280329987, 940.6185280329987, 940.6185280329987, 940.6185280329987, 940.6185280329987, 940.6185280329987, 940.6185280329987, 940.6185280329987, 940.6185280329987, 940.6185280329987, 940.6185280329987, 940.6185280329987, 940.6185280329987, 940.6185280329987, 940.6185280329987, 943.5389144668477, 943.5389144668477, 943.5389144668477, 943.5389144668477, 943.5389144668477, 943.5389144668477, 943.5389144668477, 943.5389144668477, 943.5389144668477, 943.5389144668477, 943.5389144668477, 943.5389144668477, 943.5389144668477, 943.5389144668477, 943.5389144668477, 943.5389144668477, 943.5389144668477, 943.5389144668477, 946.4593009006965, 946.4593009006965, 946.4593009006965, 946.4593009006965, 946.4593009006965, 946.4593009006965, 946.4593009006965, 946.4593009006965, 946.4593009006965, 946.4593009006965, 946.4593009006965, 946.4593009006965, 946.4593009006965, 946.4593009006965, 946.4593009006965, 946.4593009006965, 946.4593009006965, 946.4593009006965, 946.4593009006965, 946.4593009006965, 946.4593009006965, 946.4593009006965, 946.4593009006965, 946.4593009006965, 946.4593009006965, 946.4593009006965, 946.4593009006965, 949.3796873345452, 949.3796873345452, 949.3796873345452, 949.3796873345452, 949.3796873345452, 949.3796873345452, 949.3796873345452, 949.3796873345452, 949.3796873345452, 949.3796873345452, 949.3796873345452, 949.3796873345452, 949.3796873345452, 949.3796873345452, 949.3796873345452, 949.3796873345452, 949.3796873345452, 952.300073768394, 952.300073768394, 952.300073768394, 952.300073768394, 952.300073768394, 952.300073768394, 952.300073768394, 952.300073768394, 952.300073768394, 952.300073768394, 952.300073768394, 952.300073768394, 952.300073768394, 952.300073768394, 955.220460202243, 955.220460202243, 955.220460202243, 955.220460202243, 955.220460202243, 955.220460202243, 955.220460202243, 955.220460202243, 955.220460202243, 955.220460202243, 955.220460202243, 955.220460202243, 955.220460202243, 955.220460202243, 955.220460202243, 955.220460202243, 955.220460202243, 955.220460202243, 955.220460202243, 955.220460202243, 955.220460202243, 955.220460202243, 955.220460202243, 958.1408466360917, 958.1408466360917, 958.1408466360917, 958.1408466360917, 958.1408466360917, 958.1408466360917, 958.1408466360917, 958.1408466360917, 958.1408466360917, 958.1408466360917, 958.1408466360917, 958.1408466360917, 958.1408466360917, 958.1408466360917, 958.1408466360917, 958.1408466360917, 958.1408466360917, 958.1408466360917, 958.1408466360917, 958.1408466360917, 958.1408466360917, 961.0612330699405, 961.0612330699405, 961.0612330699405, 961.0612330699405, 961.0612330699405, 961.0612330699405, 961.0612330699405, 961.0612330699405, 961.0612330699405, 961.0612330699405, 961.0612330699405, 961.0612330699405, 961.0612330699405, 961.0612330699405, 961.0612330699405, 961.0612330699405, 961.0612330699405, 961.0612330699405, 961.0612330699405, 961.0612330699405, 961.0612330699405, 961.0612330699405, 961.0612330699405, 961.0612330699405, 961.0612330699405, 963.9816195037895, 963.9816195037895, 963.9816195037895, 963.9816195037895, 963.9816195037895, 963.9816195037895, 963.9816195037895, 963.9816195037895, 963.9816195037895, 963.9816195037895, 963.9816195037895, 963.9816195037895, 963.9816195037895, 963.9816195037895, 966.9020059376383, 966.9020059376383, 966.9020059376383, 966.9020059376383, 966.9020059376383, 966.9020059376383, 966.9020059376383, 966.9020059376383, 966.9020059376383, 966.9020059376383, 966.9020059376383, 966.9020059376383, 966.9020059376383, 966.9020059376383, 966.9020059376383, 966.9020059376383, 966.9020059376383, 969.822392371487, 969.822392371487, 969.822392371487, 969.822392371487, 969.822392371487, 969.822392371487, 969.822392371487, 969.822392371487, 969.822392371487, 969.822392371487, 969.822392371487, 969.822392371487, 969.822392371487, 969.822392371487, 969.822392371487, 972.742778805336, 972.742778805336, 972.742778805336, 972.742778805336, 972.742778805336, 972.742778805336, 972.742778805336, 972.742778805336, 972.742778805336, 972.742778805336, 972.742778805336, 972.742778805336, 972.742778805336, 972.742778805336, 972.742778805336, 972.742778805336, 972.742778805336, 972.742778805336, 972.742778805336, 972.742778805336, 972.742778805336, 975.6631652391848, 975.6631652391848, 975.6631652391848, 975.6631652391848, 975.6631652391848, 975.6631652391848, 975.6631652391848, 975.6631652391848, 975.6631652391848, 975.6631652391848, 975.6631652391848, 975.6631652391848, 975.6631652391848, 975.6631652391848, 975.6631652391848, 975.6631652391848, 975.6631652391848, 975.6631652391848, 978.5835516730335, 978.5835516730335, 978.5835516730335, 978.5835516730335, 978.5835516730335, 978.5835516730335, 978.5835516730335, 978.5835516730335, 978.5835516730335, 978.5835516730335, 978.5835516730335, 978.5835516730335, 978.5835516730335, 978.5835516730335, 978.5835516730335, 978.5835516730335, 978.5835516730335, 981.5039381068823, 981.5039381068823, 981.5039381068823, 981.5039381068823, 981.5039381068823, 981.5039381068823, 981.5039381068823, 981.5039381068823, 981.5039381068823, 984.4243245407313, 984.4243245407313, 984.4243245407313, 984.4243245407313, 984.4243245407313, 984.4243245407313, 984.4243245407313, 984.4243245407313, 984.4243245407313, 984.4243245407313, 984.4243245407313, 984.4243245407313, 984.4243245407313, 984.4243245407313, 984.4243245407313, 984.4243245407313, 984.4243245407313, 984.4243245407313, 987.34471097458, 987.34471097458, 987.34471097458, 987.34471097458, 987.34471097458, 987.34471097458, 987.34471097458, 987.34471097458, 987.34471097458, 987.34471097458, 987.34471097458, 987.34471097458, 987.34471097458, 987.34471097458, 987.34471097458, 987.34471097458, 990.2650974084288, 990.2650974084288, 990.2650974084288, 990.2650974084288, 990.2650974084288, 990.2650974084288, 990.2650974084288, 990.2650974084288, 990.2650974084288, 990.2650974084288, 990.2650974084288, 990.2650974084288, 990.2650974084288, 990.2650974084288, 990.2650974084288, 990.2650974084288, 990.2650974084288, 990.2650974084288, 993.1854838422778, 993.1854838422778, 993.1854838422778, 993.1854838422778, 993.1854838422778, 993.1854838422778, 993.1854838422778, 993.1854838422778, 993.1854838422778, 993.1854838422778, 993.1854838422778, 993.1854838422778, 993.1854838422778, 993.1854838422778, 993.1854838422778, 996.1058702761266, 996.1058702761266, 996.1058702761266, 996.1058702761266, 996.1058702761266, 996.1058702761266, 996.1058702761266, 996.1058702761266, 996.1058702761266, 996.1058702761266, 996.1058702761266, 996.1058702761266, 996.1058702761266, 996.1058702761266, 996.1058702761266, 996.1058702761266, 996.1058702761266, 996.1058702761266, 996.1058702761266, 996.1058702761266, 996.1058702761266, 996.1058702761266, 999.0262567099753, 999.0262567099753, 999.0262567099753, 999.0262567099753, 999.0262567099753, 999.0262567099753, 999.0262567099753, 999.0262567099753, 999.0262567099753, 999.0262567099753, 999.0262567099753, 999.0262567099753, 999.0262567099753, 999.0262567099753, 999.0262567099753, 999.0262567099753, 999.0262567099753, 999.0262567099753, 999.0262567099753, 999.0262567099753, 999.0262567099753, 999.0262567099753, 999.0262567099753, 1001.9466431438243, 1001.9466431438243, 1001.9466431438243, 1001.9466431438243, 1001.9466431438243, 1001.9466431438243, 1001.9466431438243, 1001.9466431438243, 1001.9466431438243, 1001.9466431438243, 1001.9466431438243, 1001.9466431438243, 1001.9466431438243, 1001.9466431438243, 1001.9466431438243, 1001.9466431438243, 1004.8670295776731, 1004.8670295776731, 1004.8670295776731, 1004.8670295776731, 1004.8670295776731, 1004.8670295776731, 1004.8670295776731, 1004.8670295776731, 1004.8670295776731, 1004.8670295776731, 1004.8670295776731, 1004.8670295776731, 1004.8670295776731, 1004.8670295776731, 1004.8670295776731, 1004.8670295776731, 1004.8670295776731, 1004.8670295776731, 1007.7874160115218, 1007.7874160115218, 1007.7874160115218, 1007.7874160115218, 1007.7874160115218, 1007.7874160115218, 1007.7874160115218, 1007.7874160115218, 1007.7874160115218, 1007.7874160115218, 1007.7874160115218, 1007.7874160115218, 1007.7874160115218, 1007.7874160115218, 1007.7874160115218, 1007.7874160115218, 1010.7078024453706, 1010.7078024453706, 1010.7078024453706, 1010.7078024453706, 1010.7078024453706, 1010.7078024453706, 1010.7078024453706, 1010.7078024453706, 1010.7078024453706, 1010.7078024453706, 1010.7078024453706, 1010.7078024453706, 1010.7078024453706, 1010.7078024453706, 1010.7078024453706, 1010.7078024453706, 1013.6281888792196, 1013.6281888792196, 1013.6281888792196, 1013.6281888792196, 1013.6281888792196, 1013.6281888792196, 1013.6281888792196, 1013.6281888792196, 1013.6281888792196, 1013.6281888792196, 1013.6281888792196, 1013.6281888792196, 1013.6281888792196, 1016.5485753130683, 1016.5485753130683, 1016.5485753130683, 1016.5485753130683, 1016.5485753130683, 1016.5485753130683, 1016.5485753130683, 1016.5485753130683, 1016.5485753130683, 1016.5485753130683, 1016.5485753130683, 1016.5485753130683, 1016.5485753130683, 1016.5485753130683, 1016.5485753130683, 1016.5485753130683, 1016.5485753130683, 1016.5485753130683, 1016.5485753130683, 1019.4689617469171, 1019.4689617469171, 1019.4689617469171, 1019.4689617469171, 1019.4689617469171, 1019.4689617469171, 1019.4689617469171, 1019.4689617469171, 1019.4689617469171, 1019.4689617469171, 1019.4689617469171, 1019.4689617469171, 1019.4689617469171, 1019.4689617469171, 1019.4689617469171, 1019.4689617469171, 1019.4689617469171, 1019.4689617469171, 1019.4689617469171, 1019.4689617469171, 1019.4689617469171, 1019.4689617469171, 1022.3893481807661, 1022.3893481807661, 1022.3893481807661, 1022.3893481807661, 1022.3893481807661, 1022.3893481807661, 1022.3893481807661, 1022.3893481807661, 1022.3893481807661, 1022.3893481807661, 1022.3893481807661, 1022.3893481807661, 1022.3893481807661, 1022.3893481807661, 1022.3893481807661, 1022.3893481807661, 1022.3893481807661, 1022.3893481807661, 1025.3097346146149, 1025.3097346146149, 1025.3097346146149, 1025.3097346146149, 1025.3097346146149, 1025.3097346146149, 1025.3097346146149, 1025.3097346146149, 1025.3097346146149, 1025.3097346146149, 1025.3097346146149, 1025.3097346146149, 1025.3097346146149, 1025.3097346146149, 1025.3097346146149, 1028.2301210484636, 1028.2301210484636, 1028.2301210484636, 1028.2301210484636, 1028.2301210484636, 1028.2301210484636, 1028.2301210484636, 1028.2301210484636, 1028.2301210484636, 1028.2301210484636, 1031.1505074823126, 1031.1505074823126, 1031.1505074823126, 1031.1505074823126, 1031.1505074823126, 1031.1505074823126, 1031.1505074823126, 1031.1505074823126, 1031.1505074823126, 1031.1505074823126, 1031.1505074823126, 1031.1505074823126, 1031.1505074823126, 1031.1505074823126, 1031.1505074823126, 1031.1505074823126, 1034.0708939161614, 1034.0708939161614, 1034.0708939161614, 1034.0708939161614, 1034.0708939161614, 1034.0708939161614, 1034.0708939161614, 1034.0708939161614, 1034.0708939161614, 1034.0708939161614, 1034.0708939161614, 1036.9912803500101, 1036.9912803500101, 1036.9912803500101, 1036.9912803500101, 1036.9912803500101, 1036.9912803500101, 1036.9912803500101, 1036.9912803500101, 1036.9912803500101, 1036.9912803500101, 1036.9912803500101, 1036.9912803500101, 1036.9912803500101, 1036.9912803500101, 1036.9912803500101, 1036.9912803500101, 1036.9912803500101, 1036.9912803500101, 1036.9912803500101, 1036.9912803500101, 1039.911666783859, 1039.911666783859, 1039.911666783859, 1039.911666783859, 1039.911666783859, 1039.911666783859, 1039.911666783859, 1039.911666783859, 1039.911666783859, 1039.911666783859, 1039.911666783859, 1039.911666783859, 1039.911666783859, 1039.911666783859, 1039.911666783859, 1039.911666783859, 1039.911666783859, 1039.911666783859, 1039.911666783859, 1039.911666783859, 1039.911666783859, 1039.911666783859, 1039.911666783859, 1039.911666783859, 1039.911666783859, 1039.911666783859, 1039.911666783859, 1042.8320532177079, 1042.8320532177079, 1042.8320532177079, 1042.8320532177079, 1042.8320532177079, 1042.8320532177079, 1042.8320532177079, 1042.8320532177079, 1042.8320532177079, 1042.8320532177079, 1042.8320532177079, 1042.8320532177079, 1042.8320532177079, 1042.8320532177079, 1042.8320532177079, 1042.8320532177079, 1042.8320532177079, 1042.8320532177079, 1042.8320532177079, 1042.8320532177079, 1042.8320532177079, 1042.8320532177079, 1042.8320532177079, 1045.7524396515566, 1045.7524396515566, 1045.7524396515566, 1045.7524396515566, 1045.7524396515566, 1045.7524396515566, 1045.7524396515566, 1045.7524396515566, 1045.7524396515566, 1045.7524396515566, 1045.7524396515566, 1045.7524396515566, 1045.7524396515566, 1045.7524396515566, 1045.7524396515566, 1048.6728260854054, 1048.6728260854054, 1048.6728260854054, 1048.6728260854054, 1048.6728260854054, 1048.6728260854054, 1048.6728260854054, 1048.6728260854054, 1048.6728260854054, 1048.6728260854054, 1048.6728260854054, 1048.6728260854054, 1048.6728260854054, 1048.6728260854054, 1048.6728260854054, 1048.6728260854054, 1048.6728260854054, 1048.6728260854054, 1051.5932125192544, 1051.5932125192544, 1051.5932125192544, 1051.5932125192544, 1051.5932125192544, 1051.5932125192544, 1051.5932125192544, 1051.5932125192544, 1051.5932125192544, 1051.5932125192544, 1051.5932125192544, 1051.5932125192544, 1051.5932125192544, 1051.5932125192544, 1054.5135989531032, 1054.5135989531032, 1054.5135989531032, 1054.5135989531032, 1054.5135989531032, 1054.5135989531032, 1054.5135989531032, 1054.5135989531032, 1054.5135989531032, 1054.5135989531032, 1054.5135989531032, 1054.5135989531032, 1054.5135989531032, 1054.5135989531032, 1054.5135989531032, 1054.5135989531032, 1054.5135989531032, 1057.433985386952, 1057.433985386952, 1057.433985386952, 1057.433985386952, 1057.433985386952, 1057.433985386952, 1057.433985386952, 1057.433985386952, 1057.433985386952, 1057.433985386952, 1057.433985386952, 1057.433985386952, 1057.433985386952, 1057.433985386952, 1057.433985386952, 1057.433985386952, 1057.433985386952, 1057.433985386952, 1060.354371820801, 1060.354371820801, 1060.354371820801, 1060.354371820801, 1060.354371820801, 1060.354371820801, 1060.354371820801, 1060.354371820801, 1060.354371820801, 1060.354371820801, 1060.354371820801, 1060.354371820801, 1060.354371820801, 1060.354371820801, 1060.354371820801, 1060.354371820801, 1060.354371820801, 1060.354371820801, 1060.354371820801, 1063.2747582546497, 1063.2747582546497, 1063.2747582546497, 1063.2747582546497, 1063.2747582546497, 1063.2747582546497, 1063.2747582546497, 1063.2747582546497, 1063.2747582546497, 1063.2747582546497, 1063.2747582546497, 1063.2747582546497, 1063.2747582546497, 1063.2747582546497, 1063.2747582546497, 1063.2747582546497, 1063.2747582546497, 1063.2747582546497, 1063.2747582546497, 1063.2747582546497, 1063.2747582546497, 1063.2747582546497, 1063.2747582546497, 1063.2747582546497, 1063.2747582546497, 1063.2747582546497, 1063.2747582546497, 1066.1951446884984, 1066.1951446884984, 1066.1951446884984, 1066.1951446884984, 1066.1951446884984, 1066.1951446884984, 1066.1951446884984, 1066.1951446884984, 1066.1951446884984, 1066.1951446884984, 1066.1951446884984, 1066.1951446884984, 1066.1951446884984, 1066.1951446884984, 1066.1951446884984, 1066.1951446884984, 1066.1951446884984, 1066.1951446884984, 1066.1951446884984, 1066.1951446884984, 1066.1951446884984, 1069.1155311223472, 1069.1155311223472, 1069.1155311223472, 1069.1155311223472, 1069.1155311223472, 1069.1155311223472, 1069.1155311223472, 1069.1155311223472, 1069.1155311223472, 1069.1155311223472, 1069.1155311223472, 1069.1155311223472, 1069.1155311223472, 1069.1155311223472, 1069.1155311223472, 1069.1155311223472, 1069.1155311223472, 1069.1155311223472, 1069.1155311223472, 1069.1155311223472, 1072.0359175561962, 1072.0359175561962, 1072.0359175561962, 1072.0359175561962, 1072.0359175561962, 1072.0359175561962, 1072.0359175561962, 1072.0359175561962, 1072.0359175561962, 1072.0359175561962, 1072.0359175561962, 1072.0359175561962, 1072.0359175561962, 1072.0359175561962, 1072.0359175561962, 1072.0359175561962, 1072.0359175561962, 1072.0359175561962, 1072.0359175561962, 1074.956303990045, 1074.956303990045, 1074.956303990045, 1074.956303990045, 1074.956303990045, 1074.956303990045, 1074.956303990045, 1074.956303990045, 1074.956303990045, 1074.956303990045, 1074.956303990045, 1074.956303990045, 1074.956303990045, 1074.956303990045, 1074.956303990045, 1074.956303990045, 1074.956303990045, 1074.956303990045, 1074.956303990045, 1074.956303990045, 1074.956303990045, 1077.8766904238937, 1077.8766904238937, 1077.8766904238937, 1077.8766904238937, 1077.8766904238937, 1077.8766904238937, 1077.8766904238937, 1077.8766904238937, 1077.8766904238937, 1077.8766904238937, 1077.8766904238937, 1077.8766904238937, 1077.8766904238937, 1077.8766904238937, 1080.7970768577427, 1080.7970768577427, 1080.7970768577427, 1080.7970768577427, 1080.7970768577427, 1080.7970768577427, 1080.7970768577427, 1080.7970768577427, 1080.7970768577427, 1080.7970768577427, 1080.7970768577427, 1080.7970768577427, 1080.7970768577427, 1080.7970768577427, 1083.7174632915915, 1083.7174632915915, 1083.7174632915915, 1083.7174632915915, 1083.7174632915915, 1083.7174632915915, 1083.7174632915915, 1083.7174632915915, 1083.7174632915915, 1083.7174632915915, 1083.7174632915915, 1083.7174632915915, 1083.7174632915915, 1083.7174632915915, 1083.7174632915915, 1083.7174632915915, 1083.7174632915915, 1086.6378497254402, 1086.6378497254402, 1086.6378497254402, 1086.6378497254402, 1086.6378497254402, 1086.6378497254402, 1086.6378497254402, 1086.6378497254402, 1086.6378497254402, 1086.6378497254402, 1086.6378497254402, 1086.6378497254402, 1086.6378497254402, 1086.6378497254402, 1086.6378497254402, 1086.6378497254402, 1086.6378497254402, 1089.5582361592892, 1089.5582361592892, 1089.5582361592892, 1089.5582361592892, 1089.5582361592892, 1089.5582361592892, 1089.5582361592892, 1089.5582361592892, 1089.5582361592892, 1089.5582361592892, 1089.5582361592892, 1089.5582361592892, 1089.5582361592892, 1089.5582361592892, 1089.5582361592892, 1089.5582361592892, 1092.478622593138, 1092.478622593138, 1092.478622593138, 1092.478622593138, 1092.478622593138, 1092.478622593138, 1092.478622593138, 1092.478622593138, 1092.478622593138, 1092.478622593138, 1092.478622593138, 1092.478622593138, 1092.478622593138, 1092.478622593138, 1092.478622593138, 1095.3990090269867, 1095.3990090269867, 1095.3990090269867, 1095.3990090269867, 1095.3990090269867, 1095.3990090269867, 1095.3990090269867, 1095.3990090269867, 1095.3990090269867, 1095.3990090269867, 1095.3990090269867, 1095.3990090269867, 1098.3193954608355, 1098.3193954608355, 1098.3193954608355, 1098.3193954608355, 1098.3193954608355, 1098.3193954608355, 1098.3193954608355, 1098.3193954608355, 1098.3193954608355, 1098.3193954608355, 1098.3193954608355, 1098.3193954608355, 1098.3193954608355, 1098.3193954608355, 1098.3193954608355, 1098.3193954608355, 1098.3193954608355, 1101.2397818946845, 1101.2397818946845, 1101.2397818946845, 1101.2397818946845, 1101.2397818946845, 1101.2397818946845, 1101.2397818946845, 1101.2397818946845, 1101.2397818946845, 1101.2397818946845, 1101.2397818946845, 1101.2397818946845, 1101.2397818946845, 1101.2397818946845, 1101.2397818946845, 1104.1601683285332, 1104.1601683285332, 1104.1601683285332, 1104.1601683285332, 1104.1601683285332, 1104.1601683285332, 1104.1601683285332, 1104.1601683285332, 1104.1601683285332, 1104.1601683285332, 1104.1601683285332, 1104.1601683285332, 1107.080554762382, 1107.080554762382, 1107.080554762382, 1107.080554762382, 1107.080554762382, 1107.080554762382, 1107.080554762382, 1107.080554762382, 1107.080554762382, 1107.080554762382, 1107.080554762382, 1107.080554762382, 1107.080554762382, 1107.080554762382, 1107.080554762382, 1107.080554762382, 1107.080554762382, 1107.080554762382, 1107.080554762382, 1107.080554762382, 1110.000941196231, 1110.000941196231, 1110.000941196231, 1110.000941196231, 1110.000941196231, 1110.000941196231, 1110.000941196231, 1110.000941196231, 1110.000941196231, 1110.000941196231, 1110.000941196231, 1112.9213276300798, 1112.9213276300798, 1112.9213276300798, 1112.9213276300798, 1112.9213276300798, 1112.9213276300798, 1112.9213276300798, 1112.9213276300798, 1112.9213276300798, 1112.9213276300798, 1112.9213276300798, 1112.9213276300798, 1115.8417140639285, 1115.8417140639285, 1115.8417140639285, 1115.8417140639285, 1115.8417140639285, 1115.8417140639285, 1115.8417140639285, 1115.8417140639285, 1118.7621004977775, 1118.7621004977775, 1118.7621004977775, 1118.7621004977775, 1118.7621004977775, 1118.7621004977775, 1118.7621004977775, 1118.7621004977775, 1118.7621004977775, 1118.7621004977775, 1118.7621004977775, 1118.7621004977775, 1118.7621004977775, 1121.6824869316263, 1121.6824869316263, 1121.6824869316263, 1121.6824869316263, 1121.6824869316263, 1121.6824869316263, 1121.6824869316263, 1121.6824869316263, 1121.6824869316263, 1121.6824869316263, 1121.6824869316263, 1124.602873365475, 1124.602873365475, 1124.602873365475, 1124.602873365475, 1124.602873365475, 1124.602873365475, 1124.602873365475, 1124.602873365475, 1124.602873365475, 1124.602873365475, 1124.602873365475, 1124.602873365475, 1124.602873365475, 1124.602873365475, 1124.602873365475, 1124.602873365475, 1124.602873365475, 1124.602873365475, 1127.523259799324, 1127.523259799324, 1127.523259799324, 1127.523259799324, 1127.523259799324, 1127.523259799324, 1127.523259799324, 1127.523259799324, 1127.523259799324, 1127.523259799324, 1127.523259799324, 1127.523259799324, 1127.523259799324, 1127.523259799324, 1130.4436462331728, 1130.4436462331728, 1130.4436462331728, 1130.4436462331728, 1130.4436462331728, 1130.4436462331728, 1130.4436462331728, 1130.4436462331728, 1130.4436462331728, 1133.3640326670215, 1133.3640326670215, 1133.3640326670215, 1133.3640326670215, 1133.3640326670215, 1133.3640326670215, 1133.3640326670215, 1133.3640326670215, 1133.3640326670215, 1133.3640326670215, 1133.3640326670215, 1133.3640326670215, 1136.2844191008705, 1136.2844191008705, 1136.2844191008705, 1136.2844191008705, 1136.2844191008705, 1136.2844191008705, 1136.2844191008705, 1136.2844191008705, 1136.2844191008705, 1136.2844191008705, 1136.2844191008705, 1136.2844191008705, 1136.2844191008705, 1136.2844191008705, 1136.2844191008705, 1139.2048055347193, 1139.2048055347193, 1139.2048055347193, 1139.2048055347193, 1139.2048055347193, 1139.2048055347193, 1139.2048055347193, 1139.2048055347193, 1139.2048055347193, 1139.2048055347193, 1139.2048055347193, 1142.125191968568, 1142.125191968568, 1142.125191968568, 1142.125191968568, 1142.125191968568, 1142.125191968568, 1142.125191968568, 1142.125191968568, 1142.125191968568, 1142.125191968568, 1142.125191968568, 1142.125191968568, 1142.125191968568, 1142.125191968568, 1142.125191968568, 1142.125191968568, 1142.125191968568, 1142.125191968568, 1145.045578402417, 1145.045578402417, 1145.045578402417, 1145.045578402417, 1145.045578402417, 1145.045578402417, 1145.045578402417, 1145.045578402417, 1145.045578402417, 1145.045578402417, 1145.045578402417, 1145.045578402417, 1147.9659648362658, 1147.9659648362658, 1147.9659648362658, 1147.9659648362658, 1147.9659648362658, 1147.9659648362658, 1147.9659648362658, 1147.9659648362658, 1147.9659648362658, 1147.9659648362658, 1147.9659648362658, 1150.8863512701146, 1150.8863512701146, 1150.8863512701146, 1150.8863512701146, 1150.8863512701146, 1150.8863512701146, 1150.8863512701146, 1150.8863512701146, 1150.8863512701146, 1150.8863512701146, 1150.8863512701146, 1150.8863512701146, 1150.8863512701146, 1150.8863512701146, 1150.8863512701146, 1150.8863512701146, 1153.8067377039636, 1153.8067377039636, 1153.8067377039636, 1153.8067377039636, 1153.8067377039636, 1153.8067377039636, 1153.8067377039636, 1153.8067377039636, 1153.8067377039636, 1153.8067377039636, 1153.8067377039636, 1153.8067377039636, 1153.8067377039636, 1156.7271241378123, 1156.7271241378123, 1156.7271241378123, 1156.7271241378123, 1156.7271241378123, 1156.7271241378123, 1156.7271241378123, 1156.7271241378123, 1156.7271241378123, 1156.7271241378123, 1156.7271241378123, 1156.7271241378123, 1156.7271241378123, 1156.7271241378123, 1159.647510571661, 1159.647510571661, 1159.647510571661, 1159.647510571661, 1159.647510571661, 1159.647510571661, 1159.647510571661, 1159.647510571661, 1159.647510571661, 1159.647510571661, 1159.647510571661, 1159.647510571661, 1162.56789700551, 1162.56789700551, 1162.56789700551, 1162.56789700551, 1162.56789700551, 1162.56789700551, 1162.56789700551, 1162.56789700551, 1162.56789700551, 1162.56789700551, 1162.56789700551, 1162.56789700551, 1162.56789700551, 1162.56789700551, 1165.4882834393588, 1165.4882834393588, 1165.4882834393588, 1165.4882834393588, 1165.4882834393588, 1165.4882834393588, 1165.4882834393588, 1165.4882834393588, 1165.4882834393588, 1165.4882834393588, 1168.4086698732076, 1168.4086698732076, 1168.4086698732076, 1168.4086698732076, 1168.4086698732076, 1168.4086698732076, 1168.4086698732076, 1168.4086698732076, 1168.4086698732076, 1168.4086698732076, 1168.4086698732076, 1168.4086698732076, 1168.4086698732076, 1168.4086698732076, 1168.4086698732076, 1168.4086698732076, 1168.4086698732076, 1168.4086698732076, 1171.3290563070564, 1171.3290563070564, 1171.3290563070564, 1171.3290563070564, 1171.3290563070564, 1171.3290563070564, 1171.3290563070564, 1171.3290563070564, 1171.3290563070564, 1171.3290563070564, 1171.3290563070564, 1171.3290563070564, 1171.3290563070564, 1174.2494427409054, 1174.2494427409054, 1174.2494427409054, 1174.2494427409054, 1174.2494427409054, 1174.2494427409054, 1174.2494427409054, 1174.2494427409054, 1174.2494427409054, 1174.2494427409054, 1174.2494427409054, 1174.2494427409054, 1174.2494427409054, 1174.2494427409054, 1174.2494427409054, 1174.2494427409054, 1177.169829174754, 1177.169829174754, 1177.169829174754, 1177.169829174754, 1177.169829174754, 1177.169829174754, 1177.169829174754, 1177.169829174754, 1177.169829174754, 1177.169829174754, 1177.169829174754, 1177.169829174754, 1177.169829174754, 1177.169829174754, 1177.169829174754, 1177.169829174754, 1180.0902156086029, 1180.0902156086029, 1180.0902156086029, 1180.0902156086029, 1180.0902156086029, 1180.0902156086029, 1180.0902156086029, 1180.0902156086029, 1180.0902156086029, 1180.0902156086029, 1180.0902156086029, 1180.0902156086029, 1180.0902156086029, 1180.0902156086029, 1180.0902156086029, 1180.0902156086029, 1183.0106020424519, 1183.0106020424519, 1183.0106020424519, 1183.0106020424519, 1183.0106020424519, 1183.0106020424519, 1183.0106020424519, 1183.0106020424519, 1183.0106020424519, 1183.0106020424519, 1183.0106020424519, 1183.0106020424519, 1183.0106020424519, 1183.0106020424519, 1183.0106020424519, 1183.0106020424519, 1183.0106020424519, 1183.0106020424519, 1183.0106020424519, 1183.0106020424519, 1183.0106020424519, 1183.0106020424519, 1185.9309884763006, 1185.9309884763006, 1185.9309884763006, 1185.9309884763006, 1185.9309884763006, 1185.9309884763006, 1185.9309884763006, 1185.9309884763006, 1185.9309884763006, 1185.9309884763006, 1185.9309884763006, 1185.9309884763006, 1185.9309884763006, 1185.9309884763006, 1185.9309884763006, 1185.9309884763006, 1185.9309884763006, 1188.8513749101494, 1188.8513749101494, 1188.8513749101494, 1188.8513749101494, 1188.8513749101494, 1188.8513749101494, 1188.8513749101494, 1188.8513749101494, 1188.8513749101494, 1188.8513749101494, 1188.8513749101494, 1188.8513749101494, 1188.8513749101494, 1188.8513749101494, 1188.8513749101494, 1188.8513749101494, 1188.8513749101494, 1188.8513749101494, 1188.8513749101494, 1191.7717613439984, 1191.7717613439984, 1191.7717613439984, 1191.7717613439984, 1191.7717613439984, 1191.7717613439984, 1191.7717613439984, 1191.7717613439984, 1191.7717613439984, 1191.7717613439984, 1194.6921477778471, 1194.6921477778471, 1194.6921477778471, 1194.6921477778471, 1194.6921477778471, 1194.6921477778471, 1194.6921477778471, 1194.6921477778471, 1197.612534211696, 1197.612534211696, 1197.612534211696, 1197.612534211696, 1197.612534211696, 1197.612534211696, 1197.612534211696, 1197.612534211696, 1197.612534211696, 1197.612534211696, 1197.612534211696, 1197.612534211696, 1197.612534211696, 1197.612534211696, 1197.612534211696, 1197.612534211696, 1197.612534211696, 1197.612534211696, 1200.5329206455447, 1200.5329206455447, 1200.5329206455447, 1200.5329206455447, 1200.5329206455447, 1200.5329206455447, 1200.5329206455447, 1200.5329206455447, 1200.5329206455447, 1200.5329206455447, 1203.4533070793937, 1203.4533070793937, 1203.4533070793937, 1203.4533070793937, 1203.4533070793937, 1203.4533070793937, 1203.4533070793937, 1206.3736935132424, 1206.3736935132424, 1206.3736935132424, 1206.3736935132424, 1206.3736935132424, 1206.3736935132424, 1206.3736935132424, 1206.3736935132424, 1206.3736935132424, 1209.2940799470912, 1209.2940799470912, 1209.2940799470912, 1209.2940799470912, 1209.2940799470912, 1209.2940799470912, 1209.2940799470912, 1209.2940799470912, 1209.2940799470912, 1209.2940799470912, 1212.2144663809402, 1212.2144663809402, 1212.2144663809402, 1212.2144663809402, 1212.2144663809402, 1212.2144663809402, 1212.2144663809402, 1212.2144663809402, 1212.2144663809402, 1212.2144663809402, 1212.2144663809402, 1212.2144663809402, 1212.2144663809402, 1212.2144663809402, 1212.2144663809402, 1212.2144663809402, 1215.134852814789, 1215.134852814789, 1215.134852814789, 1215.134852814789, 1215.134852814789, 1215.134852814789, 1215.134852814789, 1215.134852814789, 1215.134852814789, 1215.134852814789, 1215.134852814789, 1215.134852814789, 1215.134852814789, 1215.134852814789, 1218.0552392486377, 1218.0552392486377, 1218.0552392486377, 1218.0552392486377, 1218.0552392486377, 1218.0552392486377, 1218.0552392486377, 1218.0552392486377, 1220.9756256824867, 1220.9756256824867, 1220.9756256824867, 1220.9756256824867, 1220.9756256824867, 1220.9756256824867, 1220.9756256824867, 1220.9756256824867, 1223.8960121163354, 1223.8960121163354, 1223.8960121163354, 1223.8960121163354, 1223.8960121163354, 1223.8960121163354, 1223.8960121163354, 1223.8960121163354, 1223.8960121163354, 1223.8960121163354, 1226.8163985501842, 1226.8163985501842, 1226.8163985501842, 1226.8163985501842, 1226.8163985501842, 1226.8163985501842, 1226.8163985501842, 1226.8163985501842, 1226.8163985501842, 1226.8163985501842, 1226.8163985501842, 1226.8163985501842, 1226.8163985501842, 1229.736784984033, 1229.736784984033, 1229.736784984033, 1229.736784984033, 1229.736784984033, 1229.736784984033, 1229.736784984033, 1229.736784984033, 1229.736784984033, 1229.736784984033, 1232.657171417882, 1232.657171417882, 1232.657171417882, 1232.657171417882, 1232.657171417882, 1232.657171417882, 1232.657171417882, 1232.657171417882, 1235.5775578517307, 1235.5775578517307, 1235.5775578517307, 1235.5775578517307, 1235.5775578517307, 1235.5775578517307, 1238.4979442855795, 1238.4979442855795, 1238.4979442855795, 1238.4979442855795, 1238.4979442855795, 1238.4979442855795, 1238.4979442855795, 1238.4979442855795, 1238.4979442855795, 1238.4979442855795, 1241.4183307194285, 1241.4183307194285, 1241.4183307194285, 1241.4183307194285, 1241.4183307194285, 1244.3387171532772, 1244.3387171532772, 1244.3387171532772, 1244.3387171532772, 1244.3387171532772, 1244.3387171532772, 1244.3387171532772, 1244.3387171532772, 1244.3387171532772, 1247.259103587126, 1247.259103587126, 1247.259103587126, 1247.259103587126, 1247.259103587126, 1247.259103587126, 1247.259103587126, 1247.259103587126, 1247.259103587126, 1247.259103587126, 1250.179490020975, 1250.179490020975, 1250.179490020975, 1250.179490020975, 1250.179490020975, 1250.179490020975, 1250.179490020975, 1250.179490020975, 1253.0998764548237, 1253.0998764548237, 1253.0998764548237, 1253.0998764548237, 1253.0998764548237, 1253.0998764548237, 1253.0998764548237, 1253.0998764548237, 1253.0998764548237, 1256.0202628886725, 1256.0202628886725, 1256.0202628886725, 1256.0202628886725, 1258.9406493225213, 1258.9406493225213, 1258.9406493225213, 1258.9406493225213, 1258.9406493225213, 1258.9406493225213, 1258.9406493225213, 1258.9406493225213, 1261.8610357563703, 1261.8610357563703, 1261.8610357563703, 1261.8610357563703, 1261.8610357563703, 1261.8610357563703, 1261.8610357563703, 1261.8610357563703, 1261.8610357563703, 1261.8610357563703, 1261.8610357563703, 1264.781422190219, 1264.781422190219, 1264.781422190219, 1264.781422190219, 1264.781422190219, 1264.781422190219, 1264.781422190219, 1264.781422190219, 1264.781422190219, 1267.7018086240678, 1267.7018086240678, 1267.7018086240678, 1267.7018086240678, 1267.7018086240678, 1267.7018086240678, 1267.7018086240678, 1267.7018086240678, 1270.6221950579168, 1270.6221950579168, 1270.6221950579168, 1270.6221950579168, 1270.6221950579168, 1270.6221950579168, 1270.6221950579168, 1270.6221950579168, 1273.5425814917655, 1276.4629679256143, 1276.4629679256143, 1276.4629679256143, 1276.4629679256143, 1276.4629679256143, 1276.4629679256143, 1279.3833543594633, 1279.3833543594633, 1279.3833543594633, 1279.3833543594633, 1279.3833543594633, 1279.3833543594633, 1279.3833543594633, 1279.3833543594633, 1279.3833543594633, 1279.3833543594633, 1282.303740793312, 1282.303740793312, 1282.303740793312, 1282.303740793312, 1282.303740793312, 1282.303740793312, 1282.303740793312, 1282.303740793312, 1285.2241272271608, 1285.2241272271608, 1285.2241272271608, 1285.2241272271608, 1285.2241272271608, 1285.2241272271608, 1288.1445136610096, 1288.1445136610096, 1288.1445136610096, 1291.0649000948586, 1291.0649000948586, 1291.0649000948586, 1291.0649000948586, 1291.0649000948586, 1293.9852865287073, 1293.9852865287073, 1293.9852865287073, 1293.9852865287073, 1293.9852865287073, 1293.9852865287073, 1296.9056729625563, 1296.9056729625563, 1296.9056729625563, 1296.9056729625563, 1296.9056729625563, 1296.9056729625563, 1299.8260593964048, 1299.8260593964048, 1299.8260593964048, 1299.8260593964048, 1299.8260593964048, 1299.8260593964048, 1299.8260593964048, 1299.8260593964048, 1302.7464458302538, 1302.7464458302538, 1302.7464458302538, 1302.7464458302538, 1302.7464458302538, 1302.7464458302538, 1302.7464458302538, 1302.7464458302538, 1302.7464458302538, 1305.6668322641026, 1305.6668322641026, 1308.5872186979516, 1308.5872186979516, 1311.5076051318003, 1311.5076051318003, 1311.5076051318003, 1311.5076051318003, 1311.5076051318003, 1311.5076051318003, 1314.427991565649, 1314.427991565649, 1314.427991565649, 1314.427991565649, 1314.427991565649, 1314.427991565649, 1317.3483779994979, 1317.3483779994979, 1317.3483779994979, 1317.3483779994979, 1317.3483779994979, 1317.3483779994979, 1317.3483779994979, 1317.3483779994979, 1320.2687644333469, 1320.2687644333469, 1320.2687644333469, 1320.2687644333469, 1320.2687644333469, 1320.2687644333469, 1320.2687644333469, 1323.1891508671956, 1323.1891508671956, 1323.1891508671956, 1323.1891508671956, 1323.1891508671956, 1323.1891508671956, 1323.1891508671956, 1323.1891508671956, 1326.1095373010446, 1326.1095373010446, 1326.1095373010446, 1326.1095373010446, 1326.1095373010446, 1329.0299237348931, 1331.9503101687421, 1331.9503101687421, 1331.9503101687421, 1331.9503101687421, 1331.9503101687421, 1331.9503101687421, 1331.9503101687421, 1331.9503101687421, 1331.9503101687421, 1334.870696602591, 1334.870696602591, 1334.870696602591, 1334.870696602591, 1334.870696602591, 1337.7910830364399, 1337.7910830364399, 1337.7910830364399, 1337.7910830364399, 1337.7910830364399, 1337.7910830364399, 1337.7910830364399, 1340.7114694702886, 1340.7114694702886, 1340.7114694702886, 1340.7114694702886, 1340.7114694702886, 1343.6318559041374, 1343.6318559041374, 1343.6318559041374, 1343.6318559041374, 1343.6318559041374, 1346.5522423379862, 1346.5522423379862, 1346.5522423379862, 1346.5522423379862, 1346.5522423379862, 1346.5522423379862, 1349.4726287718352, 1349.4726287718352, 1349.4726287718352, 1349.4726287718352, 1349.4726287718352, 1349.4726287718352, 1352.393015205684, 1352.393015205684, 1352.393015205684, 1352.393015205684, 1352.393015205684, 1352.393015205684, 1355.313401639533, 1355.313401639533, 1355.313401639533, 1358.2337880733814, 1358.2337880733814, 1358.2337880733814, 1358.2337880733814, 1361.1541745072304, 1361.1541745072304, 1361.1541745072304, 1361.1541745072304, 1361.1541745072304, 1361.1541745072304, 1364.0745609410792, 1364.0745609410792, 1364.0745609410792, 1364.0745609410792, 1364.0745609410792, 1369.915333808777, 1369.915333808777, 1369.915333808777, 1372.8357202426257, 1372.8357202426257, 1372.8357202426257, 1375.7561066764745, 1375.7561066764745, 1375.7561066764745, 1375.7561066764745, 1378.6764931103235, 1378.6764931103235, 1378.6764931103235, 1378.6764931103235, 1378.6764931103235, 1381.5968795441722, 1381.5968795441722, 1384.5172659780212, 1384.5172659780212, 1384.5172659780212, 1384.5172659780212, 1384.5172659780212, 1384.5172659780212, 1387.4376524118697, 1387.4376524118697, 1387.4376524118697, 1390.3580388457187, 1390.3580388457187, 1390.3580388457187, 1390.3580388457187, 1393.2784252795675, 1396.1988117134165, 1396.1988117134165, 1399.1191981472653, 1399.1191981472653, 1402.039584581114, 1402.039584581114, 1402.039584581114, 1404.9599710149628, 1407.8803574488118, 1410.8007438826605, 1410.8007438826605, 1413.7211303165095, 1413.7211303165095, 1416.641516750358, 1416.641516750358, 1416.641516750358, 1416.641516750358, 1416.641516750358, 1416.641516750358, 1419.561903184207, 1419.561903184207, 1422.4822896180558, 1422.4822896180558, 1425.4026760519048, 1425.4026760519048, 1428.3230624857536, 1428.3230624857536, 1428.3230624857536, 1428.3230624857536, 1431.2434489196023, 1431.2434489196023, 1437.0842217873, 1445.8453810888464, 1448.7657675226953, 1448.7657675226953, 1448.7657675226953, 1454.606540390393, 1460.4473132580906, 1460.4473132580906, 1460.4473132580906, 1463.3676996919394, 1486.7307911627302, 1495.4919504642767, 1504.253109765823, 1507.173496199672], \"yaxis\": \"y\"}],\n",
              "                        {\"legend\": {\"tracegroupgap\": 0}, \"margin\": {\"t\": 60}, \"template\": {\"data\": {\"bar\": [{\"error_x\": {\"color\": \"#2a3f5f\"}, \"error_y\": {\"color\": \"#2a3f5f\"}, \"marker\": {\"line\": {\"color\": \"#E5ECF6\", \"width\": 0.5}}, \"type\": \"bar\"}], \"barpolar\": [{\"marker\": {\"line\": {\"color\": \"#E5ECF6\", \"width\": 0.5}}, \"type\": \"barpolar\"}], \"carpet\": [{\"aaxis\": {\"endlinecolor\": \"#2a3f5f\", \"gridcolor\": \"white\", \"linecolor\": \"white\", \"minorgridcolor\": \"white\", \"startlinecolor\": \"#2a3f5f\"}, \"baxis\": {\"endlinecolor\": \"#2a3f5f\", \"gridcolor\": \"white\", \"linecolor\": \"white\", \"minorgridcolor\": \"white\", \"startlinecolor\": \"#2a3f5f\"}, \"type\": \"carpet\"}], \"choropleth\": [{\"colorbar\": {\"outlinewidth\": 0, \"ticks\": \"\"}, \"type\": \"choropleth\"}], \"contour\": [{\"colorbar\": {\"outlinewidth\": 0, \"ticks\": \"\"}, \"colorscale\": [[0.0, \"#0d0887\"], [0.1111111111111111, \"#46039f\"], [0.2222222222222222, \"#7201a8\"], [0.3333333333333333, \"#9c179e\"], [0.4444444444444444, \"#bd3786\"], [0.5555555555555556, \"#d8576b\"], [0.6666666666666666, \"#ed7953\"], [0.7777777777777778, \"#fb9f3a\"], [0.8888888888888888, \"#fdca26\"], [1.0, \"#f0f921\"]], \"type\": \"contour\"}], \"contourcarpet\": [{\"colorbar\": {\"outlinewidth\": 0, \"ticks\": \"\"}, \"type\": \"contourcarpet\"}], \"heatmap\": [{\"colorbar\": {\"outlinewidth\": 0, \"ticks\": \"\"}, \"colorscale\": [[0.0, \"#0d0887\"], [0.1111111111111111, \"#46039f\"], [0.2222222222222222, \"#7201a8\"], [0.3333333333333333, \"#9c179e\"], [0.4444444444444444, \"#bd3786\"], [0.5555555555555556, \"#d8576b\"], [0.6666666666666666, \"#ed7953\"], [0.7777777777777778, \"#fb9f3a\"], [0.8888888888888888, \"#fdca26\"], [1.0, \"#f0f921\"]], \"type\": \"heatmap\"}], \"heatmapgl\": [{\"colorbar\": {\"outlinewidth\": 0, \"ticks\": \"\"}, \"colorscale\": [[0.0, \"#0d0887\"], [0.1111111111111111, \"#46039f\"], [0.2222222222222222, \"#7201a8\"], [0.3333333333333333, \"#9c179e\"], [0.4444444444444444, \"#bd3786\"], [0.5555555555555556, \"#d8576b\"], [0.6666666666666666, \"#ed7953\"], [0.7777777777777778, \"#fb9f3a\"], [0.8888888888888888, \"#fdca26\"], [1.0, \"#f0f921\"]], \"type\": \"heatmapgl\"}], \"histogram\": [{\"marker\": {\"colorbar\": {\"outlinewidth\": 0, \"ticks\": \"\"}}, \"type\": \"histogram\"}], \"histogram2d\": [{\"colorbar\": {\"outlinewidth\": 0, \"ticks\": \"\"}, \"colorscale\": [[0.0, \"#0d0887\"], [0.1111111111111111, \"#46039f\"], [0.2222222222222222, \"#7201a8\"], [0.3333333333333333, \"#9c179e\"], [0.4444444444444444, \"#bd3786\"], [0.5555555555555556, \"#d8576b\"], [0.6666666666666666, \"#ed7953\"], [0.7777777777777778, \"#fb9f3a\"], [0.8888888888888888, \"#fdca26\"], [1.0, \"#f0f921\"]], \"type\": \"histogram2d\"}], \"histogram2dcontour\": [{\"colorbar\": {\"outlinewidth\": 0, \"ticks\": \"\"}, \"colorscale\": [[0.0, \"#0d0887\"], [0.1111111111111111, \"#46039f\"], [0.2222222222222222, \"#7201a8\"], [0.3333333333333333, \"#9c179e\"], [0.4444444444444444, \"#bd3786\"], [0.5555555555555556, \"#d8576b\"], [0.6666666666666666, \"#ed7953\"], [0.7777777777777778, \"#fb9f3a\"], [0.8888888888888888, \"#fdca26\"], [1.0, \"#f0f921\"]], \"type\": \"histogram2dcontour\"}], \"mesh3d\": [{\"colorbar\": {\"outlinewidth\": 0, \"ticks\": \"\"}, \"type\": \"mesh3d\"}], \"parcoords\": [{\"line\": {\"colorbar\": {\"outlinewidth\": 0, \"ticks\": \"\"}}, \"type\": \"parcoords\"}], \"pie\": [{\"automargin\": true, \"type\": \"pie\"}], \"scatter\": [{\"marker\": {\"colorbar\": {\"outlinewidth\": 0, \"ticks\": \"\"}}, \"type\": \"scatter\"}], \"scatter3d\": [{\"line\": {\"colorbar\": {\"outlinewidth\": 0, \"ticks\": \"\"}}, \"marker\": {\"colorbar\": {\"outlinewidth\": 0, \"ticks\": \"\"}}, \"type\": \"scatter3d\"}], \"scattercarpet\": [{\"marker\": {\"colorbar\": {\"outlinewidth\": 0, \"ticks\": \"\"}}, \"type\": \"scattercarpet\"}], \"scattergeo\": [{\"marker\": {\"colorbar\": {\"outlinewidth\": 0, \"ticks\": \"\"}}, \"type\": \"scattergeo\"}], \"scattergl\": [{\"marker\": {\"colorbar\": {\"outlinewidth\": 0, \"ticks\": \"\"}}, \"type\": \"scattergl\"}], \"scattermapbox\": [{\"marker\": {\"colorbar\": {\"outlinewidth\": 0, \"ticks\": \"\"}}, \"type\": \"scattermapbox\"}], \"scatterpolar\": [{\"marker\": {\"colorbar\": {\"outlinewidth\": 0, \"ticks\": \"\"}}, \"type\": \"scatterpolar\"}], \"scatterpolargl\": [{\"marker\": {\"colorbar\": {\"outlinewidth\": 0, \"ticks\": \"\"}}, \"type\": \"scatterpolargl\"}], \"scatterternary\": [{\"marker\": {\"colorbar\": {\"outlinewidth\": 0, \"ticks\": \"\"}}, \"type\": \"scatterternary\"}], \"surface\": [{\"colorbar\": {\"outlinewidth\": 0, \"ticks\": \"\"}, \"colorscale\": [[0.0, \"#0d0887\"], [0.1111111111111111, \"#46039f\"], [0.2222222222222222, \"#7201a8\"], [0.3333333333333333, \"#9c179e\"], [0.4444444444444444, \"#bd3786\"], [0.5555555555555556, \"#d8576b\"], [0.6666666666666666, \"#ed7953\"], [0.7777777777777778, \"#fb9f3a\"], [0.8888888888888888, \"#fdca26\"], [1.0, \"#f0f921\"]], \"type\": \"surface\"}], \"table\": [{\"cells\": {\"fill\": {\"color\": \"#EBF0F8\"}, \"line\": {\"color\": \"white\"}}, \"header\": {\"fill\": {\"color\": \"#C8D4E3\"}, \"line\": {\"color\": \"white\"}}, \"type\": \"table\"}]}, \"layout\": {\"annotationdefaults\": {\"arrowcolor\": \"#2a3f5f\", \"arrowhead\": 0, \"arrowwidth\": 1}, \"coloraxis\": {\"colorbar\": {\"outlinewidth\": 0, \"ticks\": \"\"}}, \"colorscale\": {\"diverging\": [[0, \"#8e0152\"], [0.1, \"#c51b7d\"], [0.2, \"#de77ae\"], [0.3, \"#f1b6da\"], [0.4, \"#fde0ef\"], [0.5, \"#f7f7f7\"], [0.6, \"#e6f5d0\"], [0.7, \"#b8e186\"], [0.8, \"#7fbc41\"], [0.9, \"#4d9221\"], [1, \"#276419\"]], \"sequential\": [[0.0, \"#0d0887\"], [0.1111111111111111, \"#46039f\"], [0.2222222222222222, \"#7201a8\"], [0.3333333333333333, \"#9c179e\"], [0.4444444444444444, \"#bd3786\"], [0.5555555555555556, \"#d8576b\"], [0.6666666666666666, \"#ed7953\"], [0.7777777777777778, \"#fb9f3a\"], [0.8888888888888888, \"#fdca26\"], [1.0, \"#f0f921\"]], \"sequentialminus\": [[0.0, \"#0d0887\"], [0.1111111111111111, \"#46039f\"], [0.2222222222222222, \"#7201a8\"], [0.3333333333333333, \"#9c179e\"], [0.4444444444444444, \"#bd3786\"], [0.5555555555555556, \"#d8576b\"], [0.6666666666666666, \"#ed7953\"], [0.7777777777777778, \"#fb9f3a\"], [0.8888888888888888, \"#fdca26\"], [1.0, \"#f0f921\"]]}, \"colorway\": [\"#636efa\", \"#EF553B\", \"#00cc96\", \"#ab63fa\", \"#FFA15A\", \"#19d3f3\", \"#FF6692\", \"#B6E880\", \"#FF97FF\", \"#FECB52\"], \"font\": {\"color\": \"#2a3f5f\"}, \"geo\": {\"bgcolor\": \"white\", \"lakecolor\": \"white\", \"landcolor\": \"#E5ECF6\", \"showlakes\": true, \"showland\": true, \"subunitcolor\": \"white\"}, \"hoverlabel\": {\"align\": \"left\"}, \"hovermode\": \"closest\", \"mapbox\": {\"style\": \"light\"}, \"paper_bgcolor\": \"white\", \"plot_bgcolor\": \"#E5ECF6\", \"polar\": {\"angularaxis\": {\"gridcolor\": \"white\", \"linecolor\": \"white\", \"ticks\": \"\"}, \"bgcolor\": \"#E5ECF6\", \"radialaxis\": {\"gridcolor\": \"white\", \"linecolor\": \"white\", \"ticks\": \"\"}}, \"scene\": {\"xaxis\": {\"backgroundcolor\": \"#E5ECF6\", \"gridcolor\": \"white\", \"gridwidth\": 2, \"linecolor\": \"white\", \"showbackground\": true, \"ticks\": \"\", \"zerolinecolor\": \"white\"}, \"yaxis\": {\"backgroundcolor\": \"#E5ECF6\", \"gridcolor\": \"white\", \"gridwidth\": 2, \"linecolor\": \"white\", \"showbackground\": true, \"ticks\": \"\", \"zerolinecolor\": \"white\"}, \"zaxis\": {\"backgroundcolor\": \"#E5ECF6\", \"gridcolor\": \"white\", \"gridwidth\": 2, \"linecolor\": \"white\", \"showbackground\": true, \"ticks\": \"\", \"zerolinecolor\": \"white\"}}, \"shapedefaults\": {\"line\": {\"color\": \"#2a3f5f\"}}, \"ternary\": {\"aaxis\": {\"gridcolor\": \"white\", \"linecolor\": \"white\", \"ticks\": \"\"}, \"baxis\": {\"gridcolor\": \"white\", \"linecolor\": \"white\", \"ticks\": \"\"}, \"bgcolor\": \"#E5ECF6\", \"caxis\": {\"gridcolor\": \"white\", \"linecolor\": \"white\", \"ticks\": \"\"}}, \"title\": {\"x\": 0.05}, \"xaxis\": {\"automargin\": true, \"gridcolor\": \"white\", \"linecolor\": \"white\", \"ticks\": \"\", \"title\": {\"standoff\": 15}, \"zerolinecolor\": \"white\", \"zerolinewidth\": 2}, \"yaxis\": {\"automargin\": true, \"gridcolor\": \"white\", \"linecolor\": \"white\", \"ticks\": \"\", \"title\": {\"standoff\": 15}, \"zerolinecolor\": \"white\", \"zerolinewidth\": 2}}}, \"xaxis\": {\"anchor\": \"y\", \"domain\": [0.0, 1.0], \"title\": {\"text\": \"Temperature(C)\"}}, \"yaxis\": {\"anchor\": \"x\", \"domain\": [0.0, 1.0], \"title\": {\"text\": \"Rented Bike Count\"}}},\n",
              "                        {\"responsive\": true}\n",
              "                    ).then(function(){\n",
              "                            \n",
              "var gd = document.getElementById('aa82342d-7014-4021-8520-51e47e16df7c');\n",
              "var x = new MutationObserver(function (mutations, observer) {{\n",
              "        var display = window.getComputedStyle(gd).display;\n",
              "        if (!display || display === 'none') {{\n",
              "            console.log([gd, 'removed!']);\n",
              "            Plotly.purge(gd);\n",
              "            observer.disconnect();\n",
              "        }}\n",
              "}});\n",
              "\n",
              "// Listen for the removal of the full notebook cells\n",
              "var notebookContainer = gd.closest('#notebook-container');\n",
              "if (notebookContainer) {{\n",
              "    x.observe(notebookContainer, {childList: true});\n",
              "}}\n",
              "\n",
              "// Listen for the clearing of the current output cell\n",
              "var outputEl = gd.closest('.output');\n",
              "if (outputEl) {{\n",
              "    x.observe(outputEl, {childList: true});\n",
              "}}\n",
              "\n",
              "                        })\n",
              "                };\n",
              "                \n",
              "            </script>\n",
              "        </div>\n",
              "</body>\n",
              "</html>"
            ]
          },
          "metadata": {
            "tags": []
          }
        }
      ]
    },
    {
      "cell_type": "code",
      "metadata": {
        "colab": {
          "base_uri": "https://localhost:8080/",
          "height": 315
        },
        "id": "ANCht4_y5jYs",
        "outputId": "14ea1e60-bab2-4e23-afa6-b4ead1ca4eff"
      },
      "source": [
        "import matplotlib.pyplot as plt\n",
        "import seaborn as sns\n",
        "corr = df_train.corr()\n",
        "plt.figure(figsize=(5,5))\n",
        "sns.heatmap(corr, annot=True, cmap='cubehelix_r',square=True) \n",
        "plt.show()"
      ],
      "execution_count": null,
      "outputs": [
        {
          "output_type": "display_data",
          "data": {
            "image/png": "[encoded data removed]",
            "text/plain": [
              "<Figure size 360x360 with 2 Axes>"
            ]
          },
          "metadata": {
            "tags": [],
            "needs_background": "light"
          }
        }
      ]
    },
    {
      "cell_type": "markdown",
      "metadata": {
        "id": "HXG_Z4e8YkH-"
      },
      "source": [
        "Using the training set im creating another training and a validation set "
      ]
    },
    {
      "cell_type": "code",
      "metadata": {
        "id": "aVMOKGi69IuG"
      },
      "source": [
        "train, val = train_test_split(df_train, test_size=0.30)"
      ],
      "execution_count": null,
      "outputs": []
    },
    {
      "cell_type": "markdown",
      "metadata": {
        "id": "SqC_aokGYp-w"
      },
      "source": [
        "By seperating using x and y's  I created 4 dataframes"
      ]
    },
    {
      "cell_type": "code",
      "metadata": {
        "id": "L_VbJ4fo6LEe"
      },
      "source": [
        "train_x = train.drop('Rented Bike Count', axis=1)\n",
        "train_y = train['Rented Bike Count']"
      ],
      "execution_count": null,
      "outputs": []
    },
    {
      "cell_type": "code",
      "metadata": {
        "colab": {
          "base_uri": "https://localhost:8080/"
        },
        "id": "v8J8H1y48nqJ",
        "outputId": "d6986a9f-ce9e-4535-a19a-f1e585cec21a"
      },
      "source": [
        "val_x = val.drop(['Rented Bike Count'], axis = 1)\n",
        "val_y = val['Rented Bike Count']\n",
        "print('Dimension of train_x dataframe:',train_x.shape)\n",
        "print('Dimension of train_y dataframe:',train_y.shape)\n",
        "print('Dimension of val_x dataframe:',val_x.shape)\n",
        "print('Dimension of val_y dataframe:',val_y.shape)"
      ],
      "execution_count": null,
      "outputs": [
        {
          "output_type": "stream",
          "text": [
            "Dimension of train_x dataframe: (3947, 1)\n",
            "Dimension of train_y dataframe: (3947,)\n",
            "Dimension of val_x dataframe: (1692, 1)\n",
            "Dimension of val_y dataframe: (1692,)\n"
          ],
          "name": "stdout"
        }
      ]
    },
    {
      "cell_type": "markdown",
      "metadata": {
        "id": "OAIuzdRHaEj7"
      },
      "source": [
        "Importing Linear Regression to train the model to make prediction"
      ]
    },
    {
      "cell_type": "code",
      "metadata": {
        "colab": {
          "base_uri": "https://localhost:8080/"
        },
        "id": "t9iw0-9G9AG8",
        "outputId": "b1d81ec5-46f2-478a-f4e6-09fa2aa2ebe6"
      },
      "source": [
        "from sklearn.linear_model import LinearRegression\n",
        "\n",
        "ln_reg = LinearRegression()\n",
        "ln_reg.fit(train_x, train_y)"
      ],
      "execution_count": null,
      "outputs": [
        {
          "output_type": "execute_result",
          "data": {
            "text/plain": [
              "LinearRegression(copy_X=True, fit_intercept=True, n_jobs=None, normalize=False)"
            ]
          },
          "metadata": {
            "tags": []
          },
          "execution_count": 34
        }
      ]
    },
    {
      "cell_type": "markdown",
      "metadata": {
        "id": "RTVXorTBaa7q"
      },
      "source": [
        "Using sklearn.metrics calculate the errors"
      ]
    },
    {
      "cell_type": "code",
      "metadata": {
        "colab": {
          "base_uri": "https://localhost:8080/"
        },
        "id": "wGEfYRt89zmH",
        "outputId": "c835f651-b158-4b25-857c-ca0dbec92bc3"
      },
      "source": [
        "from sklearn.metrics import mean_squared_error,mean_absolute_error, r2_score\n",
        "\n",
        "df_pred = ln_reg.predict(val_x)\n",
        "print('Mean Absolute Error of linear regression:',mean_absolute_error(df_pred, val_y))\n",
        "print('Mean Square Error of linear regression:', mean_squared_error(df_pred, val_y))\n",
        "print('R_Squared Score of linear regression:', r2_score(df_pred, val_y))"
      ],
      "execution_count": null,
      "outputs": [
        {
          "output_type": "stream",
          "text": [
            "Mean Absolute Error of linear regression: 392.132658784941\n",
            "Mean Square Error of linear regression: 274944.9055614645\n",
            "R_Squared Score of linear regression: -1.1272560455477127\n"
          ],
          "name": "stdout"
        }
      ]
    },
    {
      "cell_type": "markdown",
      "metadata": {
        "id": "hhhcayTIa_zD"
      },
      "source": [
        "Now use the model to predict the test set"
      ]
    },
    {
      "cell_type": "code",
      "metadata": {
        "id": "0UK8oRMB-Ee_",
        "colab": {
          "base_uri": "https://localhost:8080/"
        },
        "outputId": "40212d56-141d-47e4-c85d-bb17404f6e9f"
      },
      "source": [
        "predict_test = ln_reg.predict(df_test)\n",
        "predict_test"
      ],
      "execution_count": null,
      "outputs": [
        {
          "output_type": "execute_result",
          "data": {
            "text/plain": [
              "array([638.46311974, 950.47738534, 891.60676919, ..., 341.16650818,\n",
              "       685.55961266, 349.9971006 ])"
            ]
          },
          "metadata": {
            "tags": []
          },
          "execution_count": 36
        }
      ]
    },
    {
      "cell_type": "code",
      "metadata": {
        "colab": {
          "base_uri": "https://localhost:8080/"
        },
        "id": "rNeNm4Te05cw",
        "outputId": "b1e37ae0-03c2-4b26-8a4e-2bfd18d21b43"
      },
      "source": [
        "test.columns\n"
      ],
      "execution_count": null,
      "outputs": [
        {
          "output_type": "execute_result",
          "data": {
            "text/plain": [
              "Index(['Rented Bike Count', 'Hour', 'Temperature(C)', 'Humidity(%)',\n",
              "       'Wind speed (m/s)', 'Visibility (10m)', 'Dew point temperature(C)',\n",
              "       'Solar Radiation (MJ/m2)', 'Rainfall(mm)', 'Snowfall (cm)', 'Id'],\n",
              "      dtype='object')"
            ]
          },
          "metadata": {
            "tags": []
          },
          "execution_count": 37
        }
      ]
    },
    {
      "cell_type": "code",
      "metadata": {
        "id": "CGhcyg7_-IlU"
      },
      "source": [
        "submission_data = pd.DataFrame({\"Id\": test.Id , 'Pred_Bike_Count':predict_test})\n",
        "\n",
        "submission_data['Actual_bikes_Rented']= test['Rented Bike Count']\n",
        "df = submission_data.head(30).sort_values(by = 'Id')"
      ],
      "execution_count": null,
      "outputs": []
    },
    {
      "cell_type": "code",
      "metadata": {
        "id": "UYRfu_eK0z0S",
        "colab": {
          "base_uri": "https://localhost:8080/",
          "height": 369
        },
        "outputId": "835f5d7c-c5e0-40c5-e24b-111955ea0d32"
      },
      "source": [
        "'''\n",
        "1) What are the factors that influence the number of bikes rented? \n",
        "\n",
        "Ans: The factors that influenced the influenced the number of bikes rented is \n",
        "[Temperature(C), Hour, Dew point temperature(C)].\n",
        "\n",
        "2) Explore the data for outliers and missing values.\n",
        "\n",
        "There are no missing values in this dataset, and no absolute outliers.\n",
        "\n",
        "3) Plot the correlation between the variables and state your comments\n",
        "\n",
        "Temperature has a very stong correlation with the number of bikes rented.\n",
        "\n",
        "4) Please build a linear regression model to predict rented bike count by \n",
        "choosing appropriate independentvariables.\n",
        "5) Coment on Model performance by using approapriate diagnostics and measures.\n",
        "\n",
        "The model didn't perform very well because the data is very spread out thus\n",
        "giving us a very high mean squared error.\n",
        "'''\n",
        "df = df[['Actual_bikes_Rented', 'Pred_Bike_Count']]\n",
        "import matplotlib.pyplot as plt\n",
        "import seaborn as sns\n",
        "sns.relplot(\n",
        "    data=df,\n",
        ");"
      ],
      "execution_count": null,
      "outputs": [
        {
          "output_type": "display_data",
          "data": {
            "image/png": "[encoded data removed]",
            "text/plain": [
              "<Figure size 498.625x360 with 1 Axes>"
            ]
          },
          "metadata": {
            "tags": [],
            "needs_background": "light"
          }
        }
      ]
    },
    {
      "cell_type": "code",
      "metadata": {
        "id": "CWwMjJ5kNjQz"
      },
      "source": [
        ""
      ],
      "execution_count": null,
      "outputs": []
    }
  ]
}