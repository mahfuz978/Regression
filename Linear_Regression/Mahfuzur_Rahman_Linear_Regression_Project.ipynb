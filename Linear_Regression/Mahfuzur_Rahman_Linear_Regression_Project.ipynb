{
  "nbformat": 4,
  "nbformat_minor": 0,
  "metadata": {
    "kernelspec": {
      "display_name": "Python 3",
      "language": "python",
      "name": "python3"
    },
    "language_info": {
      "codemirror_mode": {
        "name": "ipython",
        "version": 3
      },
      "file_extension": ".py",
      "mimetype": "text/x-python",
      "name": "python",
      "nbconvert_exporter": "python",
      "pygments_lexer": "ipython3",
      "version": "3.7.6"
    },
    "colab": {
      "name": "Mahfuzur_Rahman_Linear_Regression Project.ipynb",
      "provenance": [],
      "collapsed_sections": [],
      "include_colab_link": true
    }
  },
  "cells": [
    {
      "cell_type": "markdown",
      "metadata": {
        "id": "view-in-github",
        "colab_type": "text"
      },
      "source": [
        "<a href=\"https://colab.research.google.com/github/mahfuz978/Regression-Classification/blob/main/Linear_Regression/Mahfuzur_Rahman_Linear_Regression_Project.ipynb\" target=\"_parent\"><img src=\"https://colab.research.google.com/assets/colab-badge.svg\" alt=\"Open In Colab\"/></a>"
      ]
    },
    {
      "cell_type": "markdown",
      "metadata": {
        "id": "IkavOcJtFuBA"
      },
      "source": [
        "## Please use the Seoul Bike dataset. \n",
        "\n",
        "- What are the factors that influence the number of bikes rented? \n",
        "- Explore the data for outliers and missing values.\n",
        "- Plot the correlation between the variables and state your comments\n",
        "- Please build a linear regression model to predict rented bike count by choosing appropriate independentvariables.\n",
        "- Coment on Model performance by using approapriate diagnostics and measures.\n",
        "\n",
        "Good Luck!"
      ]
    },
    {
      "cell_type": "markdown",
      "metadata": {
        "id": "aoQBnLUFKKGH"
      },
      "source": [
        "Importing the necessary libraries\n",
        "\n",
        "---\n",
        "Limiting how many rows can be seen\n",
        "\n",
        "\n"
      ]
    },
    {
      "cell_type": "code",
      "metadata": {
        "id": "tr_vhcxGGVRv"
      },
      "source": [
        "import pandas as pd\n",
        "import numpy as np\n",
        "pd.set_option('display.max_rows', 400)"
      ],
      "execution_count": 1,
      "outputs": []
    },
    {
      "cell_type": "code",
      "metadata": {
        "id": "xJA21RY-BJVB"
      },
      "source": [
        "# help(pd.read_csv)"
      ],
      "execution_count": 2,
      "outputs": []
    },
    {
      "cell_type": "markdown",
      "metadata": {
        "id": "LhNU-jZOKouy"
      },
      "source": [
        "Reading the csv file and indetifying the null values"
      ]
    },
    {
      "cell_type": "code",
      "metadata": {
        "id": "XEo6CidsFuBJ"
      },
      "source": [
        "url = 'https://raw.githubusercontent.com/Tech-i-s/techis-ds-wiki/master/Step%203-1%20Linear%20Regression/SeoulBikeData.csv?token=AM2M2N7Z7X4RROMWXKNA5N3BXFTF4'\n",
        "df = pd.read_csv(url, na_values= ' ?')"
      ],
      "execution_count": 3,
      "outputs": []
    },
    {
      "cell_type": "markdown",
      "metadata": {
        "id": "QIDz2ra0LnpL"
      },
      "source": [
        "Creating a new id column using the index"
      ]
    },
    {
      "cell_type": "code",
      "metadata": {
        "id": "s3MR4_2otm7f"
      },
      "source": [
        "# df['Id'] = df.index"
      ],
      "execution_count": 4,
      "outputs": []
    },
    {
      "cell_type": "markdown",
      "metadata": {
        "id": "4VV-nRkBLqUd"
      },
      "source": [
        "Displaying the The first five rows of the dataset"
      ]
    },
    {
      "cell_type": "code",
      "metadata": {
        "colab": {
          "base_uri": "https://localhost:8080/",
          "height": 206
        },
        "id": "2DOUz13LGaeZ",
        "outputId": "eaef51fc-6b69-4260-ff1d-391e0948546a"
      },
      "source": [
        "df.head()"
      ],
      "execution_count": 5,
      "outputs": [
        {
          "output_type": "execute_result",
          "data": {
            "text/html": [
              "<div>\n",
              "<style scoped>\n",
              "    .dataframe tbody tr th:only-of-type {\n",
              "        vertical-align: middle;\n",
              "    }\n",
              "\n",
              "    .dataframe tbody tr th {\n",
              "        vertical-align: top;\n",
              "    }\n",
              "\n",
              "    .dataframe thead th {\n",
              "        text-align: right;\n",
              "    }\n",
              "</style>\n",
              "<table border=\"1\" class=\"dataframe\">\n",
              "  <thead>\n",
              "    <tr style=\"text-align: right;\">\n",
              "      <th></th>\n",
              "      <th>Date</th>\n",
              "      <th>Rented Bike Count</th>\n",
              "      <th>Hour</th>\n",
              "      <th>Temperature(C)</th>\n",
              "      <th>Humidity(%)</th>\n",
              "      <th>Wind speed (m/s)</th>\n",
              "      <th>Visibility (10m)</th>\n",
              "      <th>Dew point temperature(C)</th>\n",
              "      <th>Solar Radiation (MJ/m2)</th>\n",
              "      <th>Rainfall(mm)</th>\n",
              "      <th>Snowfall (cm)</th>\n",
              "      <th>Seasons</th>\n",
              "      <th>Holiday</th>\n",
              "      <th>Functioning Day</th>\n",
              "    </tr>\n",
              "  </thead>\n",
              "  <tbody>\n",
              "    <tr>\n",
              "      <th>0</th>\n",
              "      <td>01/12/2017</td>\n",
              "      <td>254</td>\n",
              "      <td>0</td>\n",
              "      <td>-5.2</td>\n",
              "      <td>37</td>\n",
              "      <td>2.2</td>\n",
              "      <td>2000</td>\n",
              "      <td>-17.6</td>\n",
              "      <td>0.0</td>\n",
              "      <td>0.0</td>\n",
              "      <td>0.0</td>\n",
              "      <td>Winter</td>\n",
              "      <td>No Holiday</td>\n",
              "      <td>Yes</td>\n",
              "    </tr>\n",
              "    <tr>\n",
              "      <th>1</th>\n",
              "      <td>01/12/2017</td>\n",
              "      <td>204</td>\n",
              "      <td>1</td>\n",
              "      <td>-5.5</td>\n",
              "      <td>38</td>\n",
              "      <td>0.8</td>\n",
              "      <td>2000</td>\n",
              "      <td>-17.6</td>\n",
              "      <td>0.0</td>\n",
              "      <td>0.0</td>\n",
              "      <td>0.0</td>\n",
              "      <td>Winter</td>\n",
              "      <td>No Holiday</td>\n",
              "      <td>Yes</td>\n",
              "    </tr>\n",
              "    <tr>\n",
              "      <th>2</th>\n",
              "      <td>01/12/2017</td>\n",
              "      <td>173</td>\n",
              "      <td>2</td>\n",
              "      <td>-6.0</td>\n",
              "      <td>39</td>\n",
              "      <td>1.0</td>\n",
              "      <td>2000</td>\n",
              "      <td>-17.7</td>\n",
              "      <td>0.0</td>\n",
              "      <td>0.0</td>\n",
              "      <td>0.0</td>\n",
              "      <td>Winter</td>\n",
              "      <td>No Holiday</td>\n",
              "      <td>Yes</td>\n",
              "    </tr>\n",
              "    <tr>\n",
              "      <th>3</th>\n",
              "      <td>01/12/2017</td>\n",
              "      <td>107</td>\n",
              "      <td>3</td>\n",
              "      <td>-6.2</td>\n",
              "      <td>40</td>\n",
              "      <td>0.9</td>\n",
              "      <td>2000</td>\n",
              "      <td>-17.6</td>\n",
              "      <td>0.0</td>\n",
              "      <td>0.0</td>\n",
              "      <td>0.0</td>\n",
              "      <td>Winter</td>\n",
              "      <td>No Holiday</td>\n",
              "      <td>Yes</td>\n",
              "    </tr>\n",
              "    <tr>\n",
              "      <th>4</th>\n",
              "      <td>01/12/2017</td>\n",
              "      <td>78</td>\n",
              "      <td>4</td>\n",
              "      <td>-6.0</td>\n",
              "      <td>36</td>\n",
              "      <td>2.3</td>\n",
              "      <td>2000</td>\n",
              "      <td>-18.6</td>\n",
              "      <td>0.0</td>\n",
              "      <td>0.0</td>\n",
              "      <td>0.0</td>\n",
              "      <td>Winter</td>\n",
              "      <td>No Holiday</td>\n",
              "      <td>Yes</td>\n",
              "    </tr>\n",
              "  </tbody>\n",
              "</table>\n",
              "</div>"
            ],
            "text/plain": [
              "         Date  Rented Bike Count  Hour  ...  Seasons     Holiday  Functioning Day\n",
              "0  01/12/2017                254     0  ...   Winter  No Holiday              Yes\n",
              "1  01/12/2017                204     1  ...   Winter  No Holiday              Yes\n",
              "2  01/12/2017                173     2  ...   Winter  No Holiday              Yes\n",
              "3  01/12/2017                107     3  ...   Winter  No Holiday              Yes\n",
              "4  01/12/2017                 78     4  ...   Winter  No Holiday              Yes\n",
              "\n",
              "[5 rows x 14 columns]"
            ]
          },
          "metadata": {},
          "execution_count": 5
        }
      ]
    },
    {
      "cell_type": "markdown",
      "metadata": {
        "id": "KY9tki_fL-sD"
      },
      "source": [
        "Importing the matplotlib library to visualize the rented bike count\n",
        "and displaying the mean and median"
      ]
    },
    {
      "cell_type": "code",
      "metadata": {
        "colab": {
          "base_uri": "https://localhost:8080/",
          "height": 265
        },
        "id": "tjvHI8_XGM-x",
        "outputId": "b04376b0-8969-4333-8942-3e304e95c451"
      },
      "source": [
        "import matplotlib.pyplot as plt\n",
        "\n",
        "df['Rented Bike Count'].hist(bins = 100)\n",
        "plt.axvline(df['Rented Bike Count'].mean(), color = 'red')\n",
        "plt.axvline(df['Rented Bike Count'].median(), color = 'orange');"
      ],
      "execution_count": 6,
      "outputs": [
        {
          "output_type": "display_data",
          "data": {
            "image/png": "[encoded data removed]",
            "text/plain": [
              "<Figure size 432x288 with 1 Axes>"
            ]
          },
          "metadata": {
            "needs_background": "light"
          }
        }
      ]
    },
    {
      "cell_type": "markdown",
      "metadata": {
        "id": "CeBliSa6NK9I"
      },
      "source": [
        "Calculating the root mean squared error"
      ]
    },
    {
      "cell_type": "code",
      "metadata": {
        "colab": {
          "base_uri": "https://localhost:8080/"
        },
        "id": "iEsK2zbPGwJf",
        "outputId": "b09d8036-b554-4393-a2d5-40193c98cfa8"
      },
      "source": [
        "guess = df['Rented Bike Count'].mean()\n",
        "errors = guess - df['Rented Bike Count']\n",
        "R_M_S_E = errors.abs().mean()\n",
        "print(f'We will be off by {R_M_S_E:,.0f} on average')"
      ],
      "execution_count": 7,
      "outputs": [
        {
          "output_type": "stream",
          "name": "stdout",
          "text": [
            "We will be off by 520 on average\n"
          ]
        }
      ]
    },
    {
      "cell_type": "markdown",
      "metadata": {
        "id": "xBzgcB2kNo1T"
      },
      "source": [
        "Looking for null values in the dataset"
      ]
    },
    {
      "cell_type": "code",
      "metadata": {
        "colab": {
          "base_uri": "https://localhost:8080/"
        },
        "id": "2ayzn-TPy_u8",
        "outputId": "2776b6ae-334a-452a-ba36-6a5c346dd15c"
      },
      "source": [
        "df.isnull().sum()"
      ],
      "execution_count": 8,
      "outputs": [
        {
          "output_type": "execute_result",
          "data": {
            "text/plain": [
              "Date                        0\n",
              "Rented Bike Count           0\n",
              "Hour                        0\n",
              "Temperature(C)              0\n",
              "Humidity(%)                 0\n",
              "Wind speed (m/s)            0\n",
              "Visibility (10m)            0\n",
              "Dew point temperature(C)    0\n",
              "Solar Radiation (MJ/m2)     0\n",
              "Rainfall(mm)                0\n",
              "Snowfall (cm)               0\n",
              "Seasons                     0\n",
              "Holiday                     0\n",
              "Functioning Day             0\n",
              "dtype: int64"
            ]
          },
          "metadata": {},
          "execution_count": 8
        }
      ]
    },
    {
      "cell_type": "markdown",
      "metadata": {
        "id": "5Nw5WwNnOkL5"
      },
      "source": [
        "Description of the numeric columns"
      ]
    },
    {
      "cell_type": "code",
      "metadata": {
        "colab": {
          "base_uri": "https://localhost:8080/",
          "height": 300
        },
        "id": "EtYQiLcNDm2T",
        "outputId": "0e2f7535-f0de-467c-db37-f231b7ec546e"
      },
      "source": [
        "df.describe()"
      ],
      "execution_count": 9,
      "outputs": [
        {
          "output_type": "execute_result",
          "data": {
            "text/html": [
              "<div>\n",
              "<style scoped>\n",
              "    .dataframe tbody tr th:only-of-type {\n",
              "        vertical-align: middle;\n",
              "    }\n",
              "\n",
              "    .dataframe tbody tr th {\n",
              "        vertical-align: top;\n",
              "    }\n",
              "\n",
              "    .dataframe thead th {\n",
              "        text-align: right;\n",
              "    }\n",
              "</style>\n",
              "<table border=\"1\" class=\"dataframe\">\n",
              "  <thead>\n",
              "    <tr style=\"text-align: right;\">\n",
              "      <th></th>\n",
              "      <th>Rented Bike Count</th>\n",
              "      <th>Hour</th>\n",
              "      <th>Temperature(C)</th>\n",
              "      <th>Humidity(%)</th>\n",
              "      <th>Wind speed (m/s)</th>\n",
              "      <th>Visibility (10m)</th>\n",
              "      <th>Dew point temperature(C)</th>\n",
              "      <th>Solar Radiation (MJ/m2)</th>\n",
              "      <th>Rainfall(mm)</th>\n",
              "      <th>Snowfall (cm)</th>\n",
              "    </tr>\n",
              "  </thead>\n",
              "  <tbody>\n",
              "    <tr>\n",
              "      <th>count</th>\n",
              "      <td>8760.000000</td>\n",
              "      <td>8760.000000</td>\n",
              "      <td>8760.000000</td>\n",
              "      <td>8760.000000</td>\n",
              "      <td>8760.000000</td>\n",
              "      <td>8760.000000</td>\n",
              "      <td>8760.000000</td>\n",
              "      <td>8760.000000</td>\n",
              "      <td>8760.000000</td>\n",
              "      <td>8760.000000</td>\n",
              "    </tr>\n",
              "    <tr>\n",
              "      <th>mean</th>\n",
              "      <td>704.602055</td>\n",
              "      <td>11.500000</td>\n",
              "      <td>12.882922</td>\n",
              "      <td>58.226256</td>\n",
              "      <td>1.724909</td>\n",
              "      <td>1436.825799</td>\n",
              "      <td>4.073813</td>\n",
              "      <td>0.569111</td>\n",
              "      <td>0.148687</td>\n",
              "      <td>0.075068</td>\n",
              "    </tr>\n",
              "    <tr>\n",
              "      <th>std</th>\n",
              "      <td>644.997468</td>\n",
              "      <td>6.922582</td>\n",
              "      <td>11.944825</td>\n",
              "      <td>20.362413</td>\n",
              "      <td>1.036300</td>\n",
              "      <td>608.298712</td>\n",
              "      <td>13.060369</td>\n",
              "      <td>0.868746</td>\n",
              "      <td>1.128193</td>\n",
              "      <td>0.436746</td>\n",
              "    </tr>\n",
              "    <tr>\n",
              "      <th>min</th>\n",
              "      <td>0.000000</td>\n",
              "      <td>0.000000</td>\n",
              "      <td>-17.800000</td>\n",
              "      <td>0.000000</td>\n",
              "      <td>0.000000</td>\n",
              "      <td>27.000000</td>\n",
              "      <td>-30.600000</td>\n",
              "      <td>0.000000</td>\n",
              "      <td>0.000000</td>\n",
              "      <td>0.000000</td>\n",
              "    </tr>\n",
              "    <tr>\n",
              "      <th>25%</th>\n",
              "      <td>191.000000</td>\n",
              "      <td>5.750000</td>\n",
              "      <td>3.500000</td>\n",
              "      <td>42.000000</td>\n",
              "      <td>0.900000</td>\n",
              "      <td>940.000000</td>\n",
              "      <td>-4.700000</td>\n",
              "      <td>0.000000</td>\n",
              "      <td>0.000000</td>\n",
              "      <td>0.000000</td>\n",
              "    </tr>\n",
              "    <tr>\n",
              "      <th>50%</th>\n",
              "      <td>504.500000</td>\n",
              "      <td>11.500000</td>\n",
              "      <td>13.700000</td>\n",
              "      <td>57.000000</td>\n",
              "      <td>1.500000</td>\n",
              "      <td>1698.000000</td>\n",
              "      <td>5.100000</td>\n",
              "      <td>0.010000</td>\n",
              "      <td>0.000000</td>\n",
              "      <td>0.000000</td>\n",
              "    </tr>\n",
              "    <tr>\n",
              "      <th>75%</th>\n",
              "      <td>1065.250000</td>\n",
              "      <td>17.250000</td>\n",
              "      <td>22.500000</td>\n",
              "      <td>74.000000</td>\n",
              "      <td>2.300000</td>\n",
              "      <td>2000.000000</td>\n",
              "      <td>14.800000</td>\n",
              "      <td>0.930000</td>\n",
              "      <td>0.000000</td>\n",
              "      <td>0.000000</td>\n",
              "    </tr>\n",
              "    <tr>\n",
              "      <th>max</th>\n",
              "      <td>3556.000000</td>\n",
              "      <td>23.000000</td>\n",
              "      <td>39.400000</td>\n",
              "      <td>98.000000</td>\n",
              "      <td>7.400000</td>\n",
              "      <td>2000.000000</td>\n",
              "      <td>27.200000</td>\n",
              "      <td>3.520000</td>\n",
              "      <td>35.000000</td>\n",
              "      <td>8.800000</td>\n",
              "    </tr>\n",
              "  </tbody>\n",
              "</table>\n",
              "</div>"
            ],
            "text/plain": [
              "       Rented Bike Count         Hour  ...  Rainfall(mm)  Snowfall (cm)\n",
              "count        8760.000000  8760.000000  ...   8760.000000    8760.000000\n",
              "mean          704.602055    11.500000  ...      0.148687       0.075068\n",
              "std           644.997468     6.922582  ...      1.128193       0.436746\n",
              "min             0.000000     0.000000  ...      0.000000       0.000000\n",
              "25%           191.000000     5.750000  ...      0.000000       0.000000\n",
              "50%           504.500000    11.500000  ...      0.000000       0.000000\n",
              "75%          1065.250000    17.250000  ...      0.000000       0.000000\n",
              "max          3556.000000    23.000000  ...     35.000000       8.800000\n",
              "\n",
              "[8 rows x 10 columns]"
            ]
          },
          "metadata": {},
          "execution_count": 9
        }
      ]
    },
    {
      "cell_type": "markdown",
      "metadata": {
        "id": "FMnLoh0POuy_"
      },
      "source": [
        "Stats of the Non-Numeric Columns"
      ]
    },
    {
      "cell_type": "code",
      "metadata": {
        "id": "G1EtMLnuD9BB"
      },
      "source": [
        "# df.describe(exclude = 'number')"
      ],
      "execution_count": 10,
      "outputs": []
    },
    {
      "cell_type": "markdown",
      "metadata": {
        "id": "f-RnuJw2O7o-"
      },
      "source": [
        "Information about each column"
      ]
    },
    {
      "cell_type": "code",
      "metadata": {
        "colab": {
          "base_uri": "https://localhost:8080/"
        },
        "id": "wh_UOugcuRBM",
        "outputId": "546d7156-315b-4307-8a72-fe215b2d608c"
      },
      "source": [
        "df.info()"
      ],
      "execution_count": 11,
      "outputs": [
        {
          "output_type": "stream",
          "name": "stdout",
          "text": [
            "<class 'pandas.core.frame.DataFrame'>\n",
            "RangeIndex: 8760 entries, 0 to 8759\n",
            "Data columns (total 14 columns):\n",
            " #   Column                    Non-Null Count  Dtype  \n",
            "---  ------                    --------------  -----  \n",
            " 0   Date                      8760 non-null   object \n",
            " 1   Rented Bike Count         8760 non-null   int64  \n",
            " 2   Hour                      8760 non-null   int64  \n",
            " 3   Temperature(C)            8760 non-null   float64\n",
            " 4   Humidity(%)               8760 non-null   int64  \n",
            " 5   Wind speed (m/s)          8760 non-null   float64\n",
            " 6   Visibility (10m)          8760 non-null   int64  \n",
            " 7   Dew point temperature(C)  8760 non-null   float64\n",
            " 8   Solar Radiation (MJ/m2)   8760 non-null   float64\n",
            " 9   Rainfall(mm)              8760 non-null   float64\n",
            " 10  Snowfall (cm)             8760 non-null   float64\n",
            " 11  Seasons                   8760 non-null   object \n",
            " 12  Holiday                   8760 non-null   object \n",
            " 13  Functioning Day           8760 non-null   object \n",
            "dtypes: float64(6), int64(4), object(4)\n",
            "memory usage: 958.2+ KB\n"
          ]
        }
      ]
    },
    {
      "cell_type": "markdown",
      "metadata": {
        "id": "xDJIqDH5PFwu"
      },
      "source": [
        "Finding the unique values for (Seasons, Holiday and Functioning Day columns)"
      ]
    },
    {
      "cell_type": "code",
      "metadata": {
        "id": "k7_XvJrRziwa"
      },
      "source": [
        "# x = set(df.Seasons)\n",
        "# y = set(df.Holiday)\n",
        "# z = set(df['Functioning Day'])\n",
        "# print(x)\n",
        "# print(y)\n",
        "# print(z)"
      ],
      "execution_count": 12,
      "outputs": []
    },
    {
      "cell_type": "markdown",
      "metadata": {
        "id": "UFqKIKUiRmL-"
      },
      "source": [
        "Grouping the Rented bike count by seasons"
      ]
    },
    {
      "cell_type": "code",
      "metadata": {
        "id": "e2MZ-eHY0jRQ"
      },
      "source": [
        "# x = df[['Rented Bike Count','Seasons']]\n",
        "# x = x.groupby('Seasons').sum()\n",
        "# x.head()"
      ],
      "execution_count": 13,
      "outputs": []
    },
    {
      "cell_type": "markdown",
      "metadata": {
        "id": "hZr-Qn1UR_pM"
      },
      "source": [
        "Counting the Values for each Season"
      ]
    },
    {
      "cell_type": "code",
      "metadata": {
        "colab": {
          "base_uri": "https://localhost:8080/"
        },
        "id": "Z6C9Rat0FJJ6",
        "outputId": "271b6527-5f34-46fc-fe11-065a02b44749"
      },
      "source": [
        "df['Seasons'].value_counts()"
      ],
      "execution_count": 14,
      "outputs": [
        {
          "output_type": "execute_result",
          "data": {
            "text/plain": [
              "Spring    2208\n",
              "Summer    2208\n",
              "Autumn    2184\n",
              "Winter    2160\n",
              "Name: Seasons, dtype: int64"
            ]
          },
          "metadata": {},
          "execution_count": 14
        }
      ]
    },
    {
      "cell_type": "markdown",
      "metadata": {
        "id": "qoJgh_3iSSQ4"
      },
      "source": [
        "Grouping the Rented bike count by holiday"
      ]
    },
    {
      "cell_type": "code",
      "metadata": {
        "id": "6duK11UsABOd"
      },
      "source": [
        "# x = df[['Rented Bike Count','Holiday']]\n",
        "# x = x.groupby('Holiday').sum()\n",
        "# x.head()"
      ],
      "execution_count": 15,
      "outputs": []
    },
    {
      "cell_type": "markdown",
      "metadata": {
        "id": "kdsELFz6Sds4"
      },
      "source": [
        "Using pandas crosstab to plot and visualize how the bikes were rented during holidays and a regular business days, and each bar representing a season"
      ]
    },
    {
      "cell_type": "code",
      "metadata": {
        "colab": {
          "base_uri": "https://localhost:8080/",
          "height": 324
        },
        "id": "tn6c1uLMFOa0",
        "outputId": "572942f7-90f4-4976-c2f5-6190b8be47e2"
      },
      "source": [
        "pd.crosstab(df['Seasons'], df['Holiday']).T.plot(kind = 'bar', stacked = False);\n"
      ],
      "execution_count": 16,
      "outputs": [
        {
          "output_type": "display_data",
          "data": {
            "image/png": "[encoded data removed]",
            "text/plain": [
              "<Figure size 432x288 with 1 Axes>"
            ]
          },
          "metadata": {
            "needs_background": "light"
          }
        }
      ]
    },
    {
      "cell_type": "markdown",
      "metadata": {
        "id": "_Oa504TgTdTC"
      },
      "source": [
        "Grouping the rented bike count by Functioning day"
      ]
    },
    {
      "cell_type": "code",
      "metadata": {
        "id": "q3gIRvgwAr6Z"
      },
      "source": [
        "# x = df[['Rented Bike Count','Functioning Day']]\n",
        "# x = x.groupby('Functioning Day').sum()\n",
        "# x.head()"
      ],
      "execution_count": 17,
      "outputs": []
    },
    {
      "cell_type": "markdown",
      "metadata": {
        "id": "V3CVZP88TqcU"
      },
      "source": [
        "Now that we know more about the dataset, we can exclude some rows that are unnesessary. The code below only keeps all the functioning days and keeps the business days. Thus we can reduse noise and focus on whats important."
      ]
    },
    {
      "cell_type": "code",
      "metadata": {
        "id": "QmouSLf4quAq"
      },
      "source": [
        "# df = df[df['Functioning Day']=='Yes']\n",
        "# df = df[df['Holiday']=='No Holiday']"
      ],
      "execution_count": 18,
      "outputs": []
    },
    {
      "cell_type": "markdown",
      "metadata": {
        "id": "W1oKQ8n6VKKs"
      },
      "source": [
        "The code below gets rid of all the non-numeric columns"
      ]
    },
    {
      "cell_type": "code",
      "metadata": {
        "id": "iZmL8vOEGfEl"
      },
      "source": [
        "# df = df.select_dtypes(include = ['int64', 'float64'])\n",
        "# df.head()"
      ],
      "execution_count": 19,
      "outputs": []
    },
    {
      "cell_type": "code",
      "metadata": {
        "id": "DLqI76RO6WiL",
        "colab": {
          "base_uri": "https://localhost:8080/"
        },
        "outputId": "458aa62b-d943-4c06-f9b3-b874a3da7dde"
      },
      "source": [
        "df.isnull().sum()"
      ],
      "execution_count": 20,
      "outputs": [
        {
          "output_type": "execute_result",
          "data": {
            "text/plain": [
              "Date                        0\n",
              "Rented Bike Count           0\n",
              "Hour                        0\n",
              "Temperature(C)              0\n",
              "Humidity(%)                 0\n",
              "Wind speed (m/s)            0\n",
              "Visibility (10m)            0\n",
              "Dew point temperature(C)    0\n",
              "Solar Radiation (MJ/m2)     0\n",
              "Rainfall(mm)                0\n",
              "Snowfall (cm)               0\n",
              "Seasons                     0\n",
              "Holiday                     0\n",
              "Functioning Day             0\n",
              "dtype: int64"
            ]
          },
          "metadata": {},
          "execution_count": 20
        }
      ]
    },
    {
      "cell_type": "markdown",
      "metadata": {
        "id": "gsyJU-3mVhtg"
      },
      "source": [
        "We are randomly splitting the updated dataset into test and train set"
      ]
    },
    {
      "cell_type": "code",
      "metadata": {
        "id": "iWMDGAUg3R9A"
      },
      "source": [
        "from sklearn.model_selection import train_test_split\n",
        "train, test = train_test_split(df, test_size = 0.30)"
      ],
      "execution_count": 21,
      "outputs": []
    },
    {
      "cell_type": "markdown",
      "metadata": {
        "id": "w0SML6nkWCO2"
      },
      "source": [
        "Checking the size of the sets"
      ]
    },
    {
      "cell_type": "code",
      "metadata": {
        "colab": {
          "base_uri": "https://localhost:8080/"
        },
        "id": "fzH0wYEQ5q24",
        "outputId": "ec2bd04e-e572-4ef4-8ca0-d364c5236e22"
      },
      "source": [
        "train.shape"
      ],
      "execution_count": 22,
      "outputs": [
        {
          "output_type": "execute_result",
          "data": {
            "text/plain": [
              "(6132, 14)"
            ]
          },
          "metadata": {},
          "execution_count": 22
        }
      ]
    },
    {
      "cell_type": "code",
      "metadata": {
        "colab": {
          "base_uri": "https://localhost:8080/"
        },
        "id": "hM3uFoua5tNF",
        "outputId": "141a7deb-d9a2-45da-df3a-b90deb873b22"
      },
      "source": [
        "test.shape"
      ],
      "execution_count": 23,
      "outputs": [
        {
          "output_type": "execute_result",
          "data": {
            "text/plain": [
              "(2628, 14)"
            ]
          },
          "metadata": {},
          "execution_count": 23
        }
      ]
    },
    {
      "cell_type": "markdown",
      "metadata": {
        "id": "Wi2GCGlGWObM"
      },
      "source": [
        "Looking at the correlation table"
      ]
    },
    {
      "cell_type": "code",
      "metadata": {
        "colab": {
          "base_uri": "https://localhost:8080/",
          "height": 363
        },
        "id": "cnKQdf6B32zs",
        "outputId": "6c6e11cd-38e3-4a7e-940c-0763483ca158"
      },
      "source": [
        "data_corr = train.corr()\n",
        "data_corr"
      ],
      "execution_count": 24,
      "outputs": [
        {
          "output_type": "execute_result",
          "data": {
            "text/html": [
              "<div>\n",
              "<style scoped>\n",
              "    .dataframe tbody tr th:only-of-type {\n",
              "        vertical-align: middle;\n",
              "    }\n",
              "\n",
              "    .dataframe tbody tr th {\n",
              "        vertical-align: top;\n",
              "    }\n",
              "\n",
              "    .dataframe thead th {\n",
              "        text-align: right;\n",
              "    }\n",
              "</style>\n",
              "<table border=\"1\" class=\"dataframe\">\n",
              "  <thead>\n",
              "    <tr style=\"text-align: right;\">\n",
              "      <th></th>\n",
              "      <th>Rented Bike Count</th>\n",
              "      <th>Hour</th>\n",
              "      <th>Temperature(C)</th>\n",
              "      <th>Humidity(%)</th>\n",
              "      <th>Wind speed (m/s)</th>\n",
              "      <th>Visibility (10m)</th>\n",
              "      <th>Dew point temperature(C)</th>\n",
              "      <th>Solar Radiation (MJ/m2)</th>\n",
              "      <th>Rainfall(mm)</th>\n",
              "      <th>Snowfall (cm)</th>\n",
              "    </tr>\n",
              "  </thead>\n",
              "  <tbody>\n",
              "    <tr>\n",
              "      <th>Rented Bike Count</th>\n",
              "      <td>1.000000</td>\n",
              "      <td>0.411129</td>\n",
              "      <td>0.533431</td>\n",
              "      <td>-0.206657</td>\n",
              "      <td>0.130765</td>\n",
              "      <td>0.195837</td>\n",
              "      <td>0.372240</td>\n",
              "      <td>0.274502</td>\n",
              "      <td>-0.126423</td>\n",
              "      <td>-0.140174</td>\n",
              "    </tr>\n",
              "    <tr>\n",
              "      <th>Hour</th>\n",
              "      <td>0.411129</td>\n",
              "      <td>1.000000</td>\n",
              "      <td>0.126425</td>\n",
              "      <td>-0.240523</td>\n",
              "      <td>0.297121</td>\n",
              "      <td>0.099406</td>\n",
              "      <td>0.005077</td>\n",
              "      <td>0.152860</td>\n",
              "      <td>0.013299</td>\n",
              "      <td>-0.027992</td>\n",
              "    </tr>\n",
              "    <tr>\n",
              "      <th>Temperature(C)</th>\n",
              "      <td>0.533431</td>\n",
              "      <td>0.126425</td>\n",
              "      <td>1.000000</td>\n",
              "      <td>0.160980</td>\n",
              "      <td>-0.043372</td>\n",
              "      <td>0.033741</td>\n",
              "      <td>0.913628</td>\n",
              "      <td>0.358823</td>\n",
              "      <td>0.051586</td>\n",
              "      <td>-0.226476</td>\n",
              "    </tr>\n",
              "    <tr>\n",
              "      <th>Humidity(%)</th>\n",
              "      <td>-0.206657</td>\n",
              "      <td>-0.240523</td>\n",
              "      <td>0.160980</td>\n",
              "      <td>1.000000</td>\n",
              "      <td>-0.334803</td>\n",
              "      <td>-0.541479</td>\n",
              "      <td>0.536842</td>\n",
              "      <td>-0.457697</td>\n",
              "      <td>0.247816</td>\n",
              "      <td>0.099916</td>\n",
              "    </tr>\n",
              "    <tr>\n",
              "      <th>Wind speed (m/s)</th>\n",
              "      <td>0.130765</td>\n",
              "      <td>0.297121</td>\n",
              "      <td>-0.043372</td>\n",
              "      <td>-0.334803</td>\n",
              "      <td>1.000000</td>\n",
              "      <td>0.178410</td>\n",
              "      <td>-0.180998</td>\n",
              "      <td>0.330753</td>\n",
              "      <td>-0.020929</td>\n",
              "      <td>-0.007726</td>\n",
              "    </tr>\n",
              "    <tr>\n",
              "      <th>Visibility (10m)</th>\n",
              "      <td>0.195837</td>\n",
              "      <td>0.099406</td>\n",
              "      <td>0.033741</td>\n",
              "      <td>-0.541479</td>\n",
              "      <td>0.178410</td>\n",
              "      <td>1.000000</td>\n",
              "      <td>-0.175863</td>\n",
              "      <td>0.155425</td>\n",
              "      <td>-0.179295</td>\n",
              "      <td>-0.117001</td>\n",
              "    </tr>\n",
              "    <tr>\n",
              "      <th>Dew point temperature(C)</th>\n",
              "      <td>0.372240</td>\n",
              "      <td>0.005077</td>\n",
              "      <td>0.913628</td>\n",
              "      <td>0.536842</td>\n",
              "      <td>-0.180998</td>\n",
              "      <td>-0.175863</td>\n",
              "      <td>1.000000</td>\n",
              "      <td>0.102013</td>\n",
              "      <td>0.130427</td>\n",
              "      <td>-0.160665</td>\n",
              "    </tr>\n",
              "    <tr>\n",
              "      <th>Solar Radiation (MJ/m2)</th>\n",
              "      <td>0.274502</td>\n",
              "      <td>0.152860</td>\n",
              "      <td>0.358823</td>\n",
              "      <td>-0.457697</td>\n",
              "      <td>0.330753</td>\n",
              "      <td>0.155425</td>\n",
              "      <td>0.102013</td>\n",
              "      <td>1.000000</td>\n",
              "      <td>-0.078705</td>\n",
              "      <td>-0.068901</td>\n",
              "    </tr>\n",
              "    <tr>\n",
              "      <th>Rainfall(mm)</th>\n",
              "      <td>-0.126423</td>\n",
              "      <td>0.013299</td>\n",
              "      <td>0.051586</td>\n",
              "      <td>0.247816</td>\n",
              "      <td>-0.020929</td>\n",
              "      <td>-0.179295</td>\n",
              "      <td>0.130427</td>\n",
              "      <td>-0.078705</td>\n",
              "      <td>1.000000</td>\n",
              "      <td>-0.007653</td>\n",
              "    </tr>\n",
              "    <tr>\n",
              "      <th>Snowfall (cm)</th>\n",
              "      <td>-0.140174</td>\n",
              "      <td>-0.027992</td>\n",
              "      <td>-0.226476</td>\n",
              "      <td>0.099916</td>\n",
              "      <td>-0.007726</td>\n",
              "      <td>-0.117001</td>\n",
              "      <td>-0.160665</td>\n",
              "      <td>-0.068901</td>\n",
              "      <td>-0.007653</td>\n",
              "      <td>1.000000</td>\n",
              "    </tr>\n",
              "  </tbody>\n",
              "</table>\n",
              "</div>"
            ],
            "text/plain": [
              "                          Rented Bike Count  ...  Snowfall (cm)\n",
              "Rented Bike Count                  1.000000  ...      -0.140174\n",
              "Hour                               0.411129  ...      -0.027992\n",
              "Temperature(C)                     0.533431  ...      -0.226476\n",
              "Humidity(%)                       -0.206657  ...       0.099916\n",
              "Wind speed (m/s)                   0.130765  ...      -0.007726\n",
              "Visibility (10m)                   0.195837  ...      -0.117001\n",
              "Dew point temperature(C)           0.372240  ...      -0.160665\n",
              "Solar Radiation (MJ/m2)            0.274502  ...      -0.068901\n",
              "Rainfall(mm)                      -0.126423  ...      -0.007653\n",
              "Snowfall (cm)                     -0.140174  ...       1.000000\n",
              "\n",
              "[10 rows x 10 columns]"
            ]
          },
          "metadata": {},
          "execution_count": 24
        }
      ]
    },
    {
      "cell_type": "markdown",
      "metadata": {
        "id": "4QE1e81lWZSE"
      },
      "source": [
        "The code below calculates how all the columns are correlated to the rented bike count and displays only the ones that has a correlation of .30 or more"
      ]
    },
    {
      "cell_type": "code",
      "metadata": {
        "colab": {
          "base_uri": "https://localhost:8080/"
        },
        "id": "SqTxYyJu4CbL",
        "outputId": "e4530e5d-582c-40de-c53f-f6be17d9d4cb"
      },
      "source": [
        "data_corr = data_corr['Rented Bike Count'][1:]\n",
        "data_corr[abs(data_corr)>=0.01].sort_values(ascending=False)"
      ],
      "execution_count": 25,
      "outputs": [
        {
          "output_type": "execute_result",
          "data": {
            "text/plain": [
              "Temperature(C)              0.533431\n",
              "Hour                        0.411129\n",
              "Dew point temperature(C)    0.372240\n",
              "Solar Radiation (MJ/m2)     0.274502\n",
              "Visibility (10m)            0.195837\n",
              "Wind speed (m/s)            0.130765\n",
              "Rainfall(mm)               -0.126423\n",
              "Snowfall (cm)              -0.140174\n",
              "Humidity(%)                -0.206657\n",
              "Name: Rented Bike Count, dtype: float64"
            ]
          },
          "metadata": {},
          "execution_count": 25
        }
      ]
    },
    {
      "cell_type": "markdown",
      "metadata": {
        "id": "jFdmV3DBXYUE"
      },
      "source": [
        "Since temperature has the highest correlation I decided to use it for the model"
      ]
    },
    {
      "cell_type": "code",
      "metadata": {
        "id": "i1IQTCmp4Raq"
      },
      "source": [
        "df_train = train[['Temperature(C)', 'Hour', 'Dew point temperature(C)','Solar Radiation (MJ/m2)' ,'Visibility (10m)','Wind speed (m/s)', 'Rented Bike Count']]\n",
        "df_test = test[['Temperature(C)', 'Hour', 'Dew point temperature(C)','Solar Radiation (MJ/m2)' ,'Visibility (10m)','Wind speed (m/s)']]"
      ],
      "execution_count": 26,
      "outputs": []
    },
    {
      "cell_type": "markdown",
      "metadata": {
        "id": "l4kJ_c8DYNPu"
      },
      "source": [
        "I used plotly to visualize the linear realtionship between temperature and the rented bike count\n"
      ]
    },
    {
      "cell_type": "code",
      "metadata": {
        "colab": {
          "base_uri": "https://localhost:8080/",
          "height": 420
        },
        "id": "ANCht4_y5jYs",
        "outputId": "e263f85f-a84d-41e1-ff70-2766036aaedf"
      },
      "source": [
        "import matplotlib.pyplot as plt\n",
        "import seaborn as sns\n",
        "corr = df_train.corr()\n",
        "plt.figure(figsize=(5,5))\n",
        "sns.heatmap(corr, annot=True, cmap='cubehelix_r',square=True) \n",
        "plt.show()"
      ],
      "execution_count": 28,
      "outputs": [
        {
          "output_type": "display_data",
          "data": {
            "image/png": "[encoded data removed]",
            "text/plain": [
              "<Figure size 360x360 with 2 Axes>"
            ]
          },
          "metadata": {
            "needs_background": "light"
          }
        }
      ]
    },
    {
      "cell_type": "markdown",
      "metadata": {
        "id": "HXG_Z4e8YkH-"
      },
      "source": [
        "Using the training set im creating another training and a validation set "
      ]
    },
    {
      "cell_type": "code",
      "metadata": {
        "id": "aVMOKGi69IuG"
      },
      "source": [
        "train, val = train_test_split(df_train, test_size=0.30)"
      ],
      "execution_count": 29,
      "outputs": []
    },
    {
      "cell_type": "markdown",
      "metadata": {
        "id": "SqC_aokGYp-w"
      },
      "source": [
        "By seperating using x and y's  I created 4 dataframes"
      ]
    },
    {
      "cell_type": "code",
      "metadata": {
        "id": "L_VbJ4fo6LEe"
      },
      "source": [
        "train_x = train.drop('Rented Bike Count', axis=1)\n",
        "train_y = train['Rented Bike Count']"
      ],
      "execution_count": 30,
      "outputs": []
    },
    {
      "cell_type": "code",
      "metadata": {
        "colab": {
          "base_uri": "https://localhost:8080/"
        },
        "id": "v8J8H1y48nqJ",
        "outputId": "8df1e185-8ca3-4647-81de-f65af47cf4e8"
      },
      "source": [
        "val_x = val.drop(['Rented Bike Count'], axis = 1)\n",
        "val_y = val['Rented Bike Count']\n",
        "print('Dimension of train_x dataframe:',train_x.shape)\n",
        "print('Dimension of train_y dataframe:',train_y.shape)\n",
        "print('Dimension of val_x dataframe:',val_x.shape)\n",
        "print('Dimension of val_y dataframe:',val_y.shape)"
      ],
      "execution_count": 31,
      "outputs": [
        {
          "output_type": "stream",
          "name": "stdout",
          "text": [
            "Dimension of train_x dataframe: (4292, 6)\n",
            "Dimension of train_y dataframe: (4292,)\n",
            "Dimension of val_x dataframe: (1840, 6)\n",
            "Dimension of val_y dataframe: (1840,)\n"
          ]
        }
      ]
    },
    {
      "cell_type": "markdown",
      "metadata": {
        "id": "OAIuzdRHaEj7"
      },
      "source": [
        "Importing Linear Regression to train the model to make prediction"
      ]
    },
    {
      "cell_type": "code",
      "source": [
        "from sklearn.metrics import mean_squared_error as MSE,mean_absolute_error , r2_score\n",
        "from sklearn.ensemble import BaggingRegressor\n",
        "from sklearn.linear_model import LinearRegression\n",
        "from sklearn.preprocessing import StandardScaler,MinMaxScaler\n",
        "from sklearn.decomposition import PCA\n",
        "from sklearn.impute import SimpleImputer\n",
        "from sklearn.experimental import enable_iterative_imputer\n",
        "from sklearn.impute import IterativeImputer\n",
        "from sklearn.impute import KNNImputer\n",
        "from sklearn.pipeline import make_pipeline\n",
        "scaler = MinMaxScaler()\n",
        "model = BaggingRegressor(n_estimators = 42)\n",
        "imputer = KNNImputer()\n",
        "pipe = make_pipeline(imputer,scaler, model)\n",
        "pipe.fit(train_x, train_y)\n",
        "pred = pipe.predict(val_x)\n",
        "print(\"VAL SCORE:\",pipe.score(val_x, val_y))\n",
        "print(\"Training SCORE:\",pipe.score(train_x, train_y))\n",
        "print(\"MSE : % f\" %MSE(val_y, pred))\n",
        "rmse = np.sqrt(MSE(val_y, pred))\n",
        "print(\"RMSE : % f\" %(rmse))"
      ],
      "metadata": {
        "colab": {
          "base_uri": "https://localhost:8080/"
        },
        "id": "XdA8o5mGM8fE",
        "outputId": "1f609d62-17e0-4825-902f-ba42e5b7e19f"
      },
      "execution_count": 32,
      "outputs": [
        {
          "output_type": "stream",
          "name": "stdout",
          "text": [
            "VAL SCORE: 0.733659610603357\n",
            "Training SCORE: 0.9598614661071023\n",
            "MSE :  116010.060715\n",
            "RMSE :  340.602497\n"
          ]
        }
      ]
    },
    {
      "cell_type": "code",
      "metadata": {
        "colab": {
          "base_uri": "https://localhost:8080/"
        },
        "id": "t9iw0-9G9AG8",
        "outputId": "58ed6236-915d-422e-859e-384e1be446a3"
      },
      "source": [
        "from sklearn.linear_model import LinearRegression\n",
        "\n",
        "ln_reg = LinearRegression()\n",
        "ln_reg.fit(train_x, train_y)"
      ],
      "execution_count": 33,
      "outputs": [
        {
          "output_type": "execute_result",
          "data": {
            "text/plain": [
              "LinearRegression()"
            ]
          },
          "metadata": {},
          "execution_count": 33
        }
      ]
    },
    {
      "cell_type": "markdown",
      "metadata": {
        "id": "RTVXorTBaa7q"
      },
      "source": [
        "Using sklearn.metrics calculate the errors"
      ]
    },
    {
      "cell_type": "code",
      "metadata": {
        "colab": {
          "base_uri": "https://localhost:8080/"
        },
        "id": "wGEfYRt89zmH",
        "outputId": "873f5ef3-2bf0-489a-c521-e53b5eef6dfb"
      },
      "source": [
        "from sklearn.metrics import mean_squared_error,mean_absolute_error, r2_score\n",
        "\n",
        "df_pred = ln_reg.predict(val_x)\n",
        "print('Mean Absolute Error of linear regression:',mean_absolute_error(df_pred, val_y))\n",
        "print('Mean Square Error of linear regression:', mean_squared_error(df_pred, val_y))\n",
        "print('R_Squared Score of linear regression:', r2_score(df_pred, val_y))"
      ],
      "execution_count": 34,
      "outputs": [
        {
          "output_type": "stream",
          "name": "stdout",
          "text": [
            "Mean Absolute Error of linear regression: 359.964701083793\n",
            "Mean Square Error of linear regression: 237700.56491040246\n",
            "R_Squared Score of linear regression: -0.3157251285854934\n"
          ]
        }
      ]
    },
    {
      "cell_type": "markdown",
      "metadata": {
        "id": "hhhcayTIa_zD"
      },
      "source": [
        "Now use the model to predict the test set"
      ]
    },
    {
      "cell_type": "code",
      "metadata": {
        "id": "0UK8oRMB-Ee_",
        "colab": {
          "base_uri": "https://localhost:8080/"
        },
        "outputId": "6f45bff3-40d7-4b0d-ba26-0aacd190a21f"
      },
      "source": [
        "predict_test = ln_reg.predict(df_test)\n",
        "predict_test"
      ],
      "execution_count": 35,
      "outputs": [
        {
          "output_type": "execute_result",
          "data": {
            "text/plain": [
              "array([ 502.35503291, 1500.76615426,  584.55194698, ...,  995.77473149,\n",
              "       1162.8972569 ,  611.14057733])"
            ]
          },
          "metadata": {},
          "execution_count": 35
        }
      ]
    },
    {
      "cell_type": "code",
      "metadata": {
        "colab": {
          "base_uri": "https://localhost:8080/"
        },
        "id": "rNeNm4Te05cw",
        "outputId": "8db31745-9569-4b1b-c850-a9d73c0efd09"
      },
      "source": [
        "test.columns\n"
      ],
      "execution_count": 36,
      "outputs": [
        {
          "output_type": "execute_result",
          "data": {
            "text/plain": [
              "Index(['Date', 'Rented Bike Count', 'Hour', 'Temperature(C)', 'Humidity(%)',\n",
              "       'Wind speed (m/s)', 'Visibility (10m)', 'Dew point temperature(C)',\n",
              "       'Solar Radiation (MJ/m2)', 'Rainfall(mm)', 'Snowfall (cm)', 'Seasons',\n",
              "       'Holiday', 'Functioning Day'],\n",
              "      dtype='object')"
            ]
          },
          "metadata": {},
          "execution_count": 36
        }
      ]
    },
    {
      "cell_type": "code",
      "metadata": {
        "id": "CGhcyg7_-IlU",
        "colab": {
          "base_uri": "https://localhost:8080/",
          "height": 348
        },
        "outputId": "652dc777-8c32-4006-a249-b366ded84173"
      },
      "source": [
        "submission_data = pd.DataFrame({\"Id\": test.Id , 'Pred_Bike_Count':predict_test})\n",
        "\n",
        "submission_data['Actual_bikes_Rented']= test['Rented Bike Count']\n",
        "df = submission_data.head(30).sort_values(by = 'Id')"
      ],
      "execution_count": 37,
      "outputs": [
        {
          "output_type": "error",
          "ename": "AttributeError",
          "evalue": "ignored",
          "traceback": [
            "\u001b[0;31m---------------------------------------------------------------------------\u001b[0m",
            "\u001b[0;31mAttributeError\u001b[0m                            Traceback (most recent call last)",
            "\u001b[0;32m<ipython-input-37-d201ea9c3668>\u001b[0m in \u001b[0;36m<module>\u001b[0;34m()\u001b[0m\n\u001b[0;32m----> 1\u001b[0;31m \u001b[0msubmission_data\u001b[0m \u001b[0;34m=\u001b[0m \u001b[0mpd\u001b[0m\u001b[0;34m.\u001b[0m\u001b[0mDataFrame\u001b[0m\u001b[0;34m(\u001b[0m\u001b[0;34m{\u001b[0m\u001b[0;34m\"Id\"\u001b[0m\u001b[0;34m:\u001b[0m \u001b[0mtest\u001b[0m\u001b[0;34m.\u001b[0m\u001b[0mId\u001b[0m \u001b[0;34m,\u001b[0m \u001b[0;34m'Pred_Bike_Count'\u001b[0m\u001b[0;34m:\u001b[0m\u001b[0mpredict_test\u001b[0m\u001b[0;34m}\u001b[0m\u001b[0;34m)\u001b[0m\u001b[0;34m\u001b[0m\u001b[0;34m\u001b[0m\u001b[0m\n\u001b[0m\u001b[1;32m      2\u001b[0m \u001b[0;34m\u001b[0m\u001b[0m\n\u001b[1;32m      3\u001b[0m \u001b[0msubmission_data\u001b[0m\u001b[0;34m[\u001b[0m\u001b[0;34m'Actual_bikes_Rented'\u001b[0m\u001b[0;34m]\u001b[0m\u001b[0;34m=\u001b[0m \u001b[0mtest\u001b[0m\u001b[0;34m[\u001b[0m\u001b[0;34m'Rented Bike Count'\u001b[0m\u001b[0;34m]\u001b[0m\u001b[0;34m\u001b[0m\u001b[0;34m\u001b[0m\u001b[0m\n\u001b[1;32m      4\u001b[0m \u001b[0mdf\u001b[0m \u001b[0;34m=\u001b[0m \u001b[0msubmission_data\u001b[0m\u001b[0;34m.\u001b[0m\u001b[0mhead\u001b[0m\u001b[0;34m(\u001b[0m\u001b[0;36m30\u001b[0m\u001b[0;34m)\u001b[0m\u001b[0;34m.\u001b[0m\u001b[0msort_values\u001b[0m\u001b[0;34m(\u001b[0m\u001b[0mby\u001b[0m \u001b[0;34m=\u001b[0m \u001b[0;34m'Id'\u001b[0m\u001b[0;34m)\u001b[0m\u001b[0;34m\u001b[0m\u001b[0;34m\u001b[0m\u001b[0m\n",
            "\u001b[0;32m/usr/local/lib/python3.7/dist-packages/pandas/core/generic.py\u001b[0m in \u001b[0;36m__getattr__\u001b[0;34m(self, name)\u001b[0m\n\u001b[1;32m   5139\u001b[0m             \u001b[0;32mif\u001b[0m \u001b[0mself\u001b[0m\u001b[0;34m.\u001b[0m\u001b[0m_info_axis\u001b[0m\u001b[0;34m.\u001b[0m\u001b[0m_can_hold_identifiers_and_holds_name\u001b[0m\u001b[0;34m(\u001b[0m\u001b[0mname\u001b[0m\u001b[0;34m)\u001b[0m\u001b[0;34m:\u001b[0m\u001b[0;34m\u001b[0m\u001b[0;34m\u001b[0m\u001b[0m\n\u001b[1;32m   5140\u001b[0m                 \u001b[0;32mreturn\u001b[0m \u001b[0mself\u001b[0m\u001b[0;34m[\u001b[0m\u001b[0mname\u001b[0m\u001b[0;34m]\u001b[0m\u001b[0;34m\u001b[0m\u001b[0;34m\u001b[0m\u001b[0m\n\u001b[0;32m-> 5141\u001b[0;31m             \u001b[0;32mreturn\u001b[0m \u001b[0mobject\u001b[0m\u001b[0;34m.\u001b[0m\u001b[0m__getattribute__\u001b[0m\u001b[0;34m(\u001b[0m\u001b[0mself\u001b[0m\u001b[0;34m,\u001b[0m \u001b[0mname\u001b[0m\u001b[0;34m)\u001b[0m\u001b[0;34m\u001b[0m\u001b[0;34m\u001b[0m\u001b[0m\n\u001b[0m\u001b[1;32m   5142\u001b[0m \u001b[0;34m\u001b[0m\u001b[0m\n\u001b[1;32m   5143\u001b[0m     \u001b[0;32mdef\u001b[0m \u001b[0m__setattr__\u001b[0m\u001b[0;34m(\u001b[0m\u001b[0mself\u001b[0m\u001b[0;34m,\u001b[0m \u001b[0mname\u001b[0m\u001b[0;34m:\u001b[0m \u001b[0mstr\u001b[0m\u001b[0;34m,\u001b[0m \u001b[0mvalue\u001b[0m\u001b[0;34m)\u001b[0m \u001b[0;34m->\u001b[0m \u001b[0;32mNone\u001b[0m\u001b[0;34m:\u001b[0m\u001b[0;34m\u001b[0m\u001b[0;34m\u001b[0m\u001b[0m\n",
            "\u001b[0;31mAttributeError\u001b[0m: 'DataFrame' object has no attribute 'Id'"
          ]
        }
      ]
    },
    {
      "cell_type": "code",
      "metadata": {
        "id": "UYRfu_eK0z0S"
      },
      "source": [
        "'''\n",
        "1) What are the factors that influence the number of bikes rented? \n",
        "\n",
        "Ans: The factors that influenced the influenced the number of bikes rented is \n",
        "[Temperature(C), Hour, Dew point temperature(C)].\n",
        "\n",
        "2) Explore the data for outliers and missing values.\n",
        "\n",
        "There are no missing values in this dataset, and no absolute outliers.\n",
        "\n",
        "3) Plot the correlation between the variables and state your comments\n",
        "\n",
        "Temperature has a very stong correlation with the number of bikes rented.\n",
        "\n",
        "4) Please build a linear regression model to predict rented bike count by \n",
        "choosing appropriate independentvariables.\n",
        "5) Coment on Model performance by using approapriate diagnostics and measures.\n",
        "\n",
        "The model didn't perform very well because the data is very spread out thus\n",
        "giving us a very high mean squared error.\n",
        "'''\n",
        "df = df[['Actual_bikes_Rented', 'Pred_Bike_Count']]\n",
        "import matplotlib.pyplot as plt\n",
        "import seaborn as sns\n",
        "sns.relplot(\n",
        "    data=df,\n",
        ");"
      ],
      "execution_count": null,
      "outputs": []
    },
    {
      "cell_type": "code",
      "metadata": {
        "id": "CWwMjJ5kNjQz"
      },
      "source": [
        ""
      ],
      "execution_count": null,
      "outputs": []
    }
  ]
}