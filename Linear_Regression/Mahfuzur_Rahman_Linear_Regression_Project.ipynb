{
  "nbformat": 4,
  "nbformat_minor": 0,
  "metadata": {
    "kernelspec": {
      "display_name": "Python 3",
      "language": "python",
      "name": "python3"
    },
    "language_info": {
      "codemirror_mode": {
        "name": "ipython",
        "version": 3
      },
      "file_extension": ".py",
      "mimetype": "text/x-python",
      "name": "python",
      "nbconvert_exporter": "python",
      "pygments_lexer": "ipython3",
      "version": "3.7.6"
    },
    "colab": {
      "name": "Mahfuzur_Rahman_Linear_Regression Project.ipynb",
      "provenance": [],
      "collapsed_sections": [],
      "include_colab_link": true
    }
  },
  "cells": [
    {
      "cell_type": "markdown",
      "metadata": {
        "id": "view-in-github",
        "colab_type": "text"
      },
      "source": [
        "<a href=\"https://colab.research.google.com/github/mahfuz978/TECH-I.S---Regression-Classification/blob/main/Linear_Regression/Mahfuzur_Rahman_Linear_Regression_Project.ipynb\" target=\"_parent\"><img src=\"https://colab.research.google.com/assets/colab-badge.svg\" alt=\"Open In Colab\"/></a>"
      ]
    },
    {
      "cell_type": "markdown",
      "metadata": {
        "id": "IkavOcJtFuBA"
      },
      "source": [
        "## Please use the Seoul Bike dataset. \n",
        "\n",
        "- What are the factors that influence the number of bikes rented? \n",
        "- Explore the data for outliers and missing values.\n",
        "- Plot the correlation between the variables and state your comments\n",
        "- Please build a linear regression model to predict rented bike count by choosing appropriate independentvariables.\n",
        "- Coment on Model performance by using approapriate diagnostics and measures.\n",
        "\n",
        "Good Luck!"
      ]
    },
    {
      "cell_type": "code",
      "metadata": {
        "id": "tr_vhcxGGVRv"
      },
      "source": [
        "import pandas as pd"
      ],
      "execution_count": 1,
      "outputs": []
    },
    {
      "cell_type": "code",
      "metadata": {
        "id": "XEo6CidsFuBJ"
      },
      "source": [
        "df = pd.read_csv('https://raw.githubusercontent.com/Tech-i-s/data-science-course-wiki/master/Step%203-1%20Linear%20Regression/Project/SeoulBikeData.csv?token=AM2M2N3JH2IYHR35LJHUOVTAEWVTY')"
      ],
      "execution_count": 2,
      "outputs": []
    },
    {
      "cell_type": "code",
      "metadata": {
        "id": "s3MR4_2otm7f"
      },
      "source": [
        "df['Id'] = df.index"
      ],
      "execution_count": 3,
      "outputs": []
    },
    {
      "cell_type": "code",
      "metadata": {
        "colab": {
          "base_uri": "https://localhost:8080/",
          "height": 342
        },
        "id": "2DOUz13LGaeZ",
        "outputId": "a247b6e2-cebd-48e8-942b-ec1e6824b3ae"
      },
      "source": [
        "df.head()"
      ],
      "execution_count": 4,
      "outputs": [
        {
          "output_type": "execute_result",
          "data": {
            "text/html": [
              "<div>\n",
              "<style scoped>\n",
              "    .dataframe tbody tr th:only-of-type {\n",
              "        vertical-align: middle;\n",
              "    }\n",
              "\n",
              "    .dataframe tbody tr th {\n",
              "        vertical-align: top;\n",
              "    }\n",
              "\n",
              "    .dataframe thead th {\n",
              "        text-align: right;\n",
              "    }\n",
              "</style>\n",
              "<table border=\"1\" class=\"dataframe\">\n",
              "  <thead>\n",
              "    <tr style=\"text-align: right;\">\n",
              "      <th></th>\n",
              "      <th>Date</th>\n",
              "      <th>Rented Bike Count</th>\n",
              "      <th>Hour</th>\n",
              "      <th>Temperature(C)</th>\n",
              "      <th>Humidity(%)</th>\n",
              "      <th>Wind speed (m/s)</th>\n",
              "      <th>Visibility (10m)</th>\n",
              "      <th>Dew point temperature(C)</th>\n",
              "      <th>Solar Radiation (MJ/m2)</th>\n",
              "      <th>Rainfall(mm)</th>\n",
              "      <th>Snowfall (cm)</th>\n",
              "      <th>Seasons</th>\n",
              "      <th>Holiday</th>\n",
              "      <th>Functioning Day</th>\n",
              "      <th>Id</th>\n",
              "    </tr>\n",
              "  </thead>\n",
              "  <tbody>\n",
              "    <tr>\n",
              "      <th>0</th>\n",
              "      <td>01/12/2017</td>\n",
              "      <td>254</td>\n",
              "      <td>0</td>\n",
              "      <td>-5.2</td>\n",
              "      <td>37</td>\n",
              "      <td>2.2</td>\n",
              "      <td>2000</td>\n",
              "      <td>-17.6</td>\n",
              "      <td>0.0</td>\n",
              "      <td>0.0</td>\n",
              "      <td>0.0</td>\n",
              "      <td>Winter</td>\n",
              "      <td>No Holiday</td>\n",
              "      <td>Yes</td>\n",
              "      <td>0</td>\n",
              "    </tr>\n",
              "    <tr>\n",
              "      <th>1</th>\n",
              "      <td>01/12/2017</td>\n",
              "      <td>204</td>\n",
              "      <td>1</td>\n",
              "      <td>-5.5</td>\n",
              "      <td>38</td>\n",
              "      <td>0.8</td>\n",
              "      <td>2000</td>\n",
              "      <td>-17.6</td>\n",
              "      <td>0.0</td>\n",
              "      <td>0.0</td>\n",
              "      <td>0.0</td>\n",
              "      <td>Winter</td>\n",
              "      <td>No Holiday</td>\n",
              "      <td>Yes</td>\n",
              "      <td>1</td>\n",
              "    </tr>\n",
              "    <tr>\n",
              "      <th>2</th>\n",
              "      <td>01/12/2017</td>\n",
              "      <td>173</td>\n",
              "      <td>2</td>\n",
              "      <td>-6.0</td>\n",
              "      <td>39</td>\n",
              "      <td>1.0</td>\n",
              "      <td>2000</td>\n",
              "      <td>-17.7</td>\n",
              "      <td>0.0</td>\n",
              "      <td>0.0</td>\n",
              "      <td>0.0</td>\n",
              "      <td>Winter</td>\n",
              "      <td>No Holiday</td>\n",
              "      <td>Yes</td>\n",
              "      <td>2</td>\n",
              "    </tr>\n",
              "    <tr>\n",
              "      <th>3</th>\n",
              "      <td>01/12/2017</td>\n",
              "      <td>107</td>\n",
              "      <td>3</td>\n",
              "      <td>-6.2</td>\n",
              "      <td>40</td>\n",
              "      <td>0.9</td>\n",
              "      <td>2000</td>\n",
              "      <td>-17.6</td>\n",
              "      <td>0.0</td>\n",
              "      <td>0.0</td>\n",
              "      <td>0.0</td>\n",
              "      <td>Winter</td>\n",
              "      <td>No Holiday</td>\n",
              "      <td>Yes</td>\n",
              "      <td>3</td>\n",
              "    </tr>\n",
              "    <tr>\n",
              "      <th>4</th>\n",
              "      <td>01/12/2017</td>\n",
              "      <td>78</td>\n",
              "      <td>4</td>\n",
              "      <td>-6.0</td>\n",
              "      <td>36</td>\n",
              "      <td>2.3</td>\n",
              "      <td>2000</td>\n",
              "      <td>-18.6</td>\n",
              "      <td>0.0</td>\n",
              "      <td>0.0</td>\n",
              "      <td>0.0</td>\n",
              "      <td>Winter</td>\n",
              "      <td>No Holiday</td>\n",
              "      <td>Yes</td>\n",
              "      <td>4</td>\n",
              "    </tr>\n",
              "  </tbody>\n",
              "</table>\n",
              "</div>"
            ],
            "text/plain": [
              "         Date  Rented Bike Count  Hour  ...     Holiday  Functioning Day  Id\n",
              "0  01/12/2017                254     0  ...  No Holiday              Yes   0\n",
              "1  01/12/2017                204     1  ...  No Holiday              Yes   1\n",
              "2  01/12/2017                173     2  ...  No Holiday              Yes   2\n",
              "3  01/12/2017                107     3  ...  No Holiday              Yes   3\n",
              "4  01/12/2017                 78     4  ...  No Holiday              Yes   4\n",
              "\n",
              "[5 rows x 15 columns]"
            ]
          },
          "metadata": {
            "tags": []
          },
          "execution_count": 4
        }
      ]
    },
    {
      "cell_type": "code",
      "metadata": {
        "colab": {
          "base_uri": "https://localhost:8080/"
        },
        "id": "2ayzn-TPy_u8",
        "outputId": "6452a742-9348-407c-cbeb-9c26adeb5f17"
      },
      "source": [
        "df.isnull().sum()"
      ],
      "execution_count": 5,
      "outputs": [
        {
          "output_type": "execute_result",
          "data": {
            "text/plain": [
              "Date                        0\n",
              "Rented Bike Count           0\n",
              "Hour                        0\n",
              "Temperature(C)              0\n",
              "Humidity(%)                 0\n",
              "Wind speed (m/s)            0\n",
              "Visibility (10m)            0\n",
              "Dew point temperature(C)    0\n",
              "Solar Radiation (MJ/m2)     0\n",
              "Rainfall(mm)                0\n",
              "Snowfall (cm)               0\n",
              "Seasons                     0\n",
              "Holiday                     0\n",
              "Functioning Day             0\n",
              "Id                          0\n",
              "dtype: int64"
            ]
          },
          "metadata": {
            "tags": []
          },
          "execution_count": 5
        }
      ]
    },
    {
      "cell_type": "code",
      "metadata": {
        "colab": {
          "base_uri": "https://localhost:8080/"
        },
        "id": "wh_UOugcuRBM",
        "outputId": "69152ca9-7440-44f8-9fda-70cb24eb80f9"
      },
      "source": [
        "df.info()"
      ],
      "execution_count": 6,
      "outputs": [
        {
          "output_type": "stream",
          "text": [
            "<class 'pandas.core.frame.DataFrame'>\n",
            "RangeIndex: 8760 entries, 0 to 8759\n",
            "Data columns (total 15 columns):\n",
            " #   Column                    Non-Null Count  Dtype  \n",
            "---  ------                    --------------  -----  \n",
            " 0   Date                      8760 non-null   object \n",
            " 1   Rented Bike Count         8760 non-null   int64  \n",
            " 2   Hour                      8760 non-null   int64  \n",
            " 3   Temperature(C)            8760 non-null   float64\n",
            " 4   Humidity(%)               8760 non-null   int64  \n",
            " 5   Wind speed (m/s)          8760 non-null   float64\n",
            " 6   Visibility (10m)          8760 non-null   int64  \n",
            " 7   Dew point temperature(C)  8760 non-null   float64\n",
            " 8   Solar Radiation (MJ/m2)   8760 non-null   float64\n",
            " 9   Rainfall(mm)              8760 non-null   float64\n",
            " 10  Snowfall (cm)             8760 non-null   float64\n",
            " 11  Seasons                   8760 non-null   object \n",
            " 12  Holiday                   8760 non-null   object \n",
            " 13  Functioning Day           8760 non-null   object \n",
            " 14  Id                        8760 non-null   int64  \n",
            "dtypes: float64(6), int64(5), object(4)\n",
            "memory usage: 1.0+ MB\n"
          ],
          "name": "stdout"
        }
      ]
    },
    {
      "cell_type": "code",
      "metadata": {
        "colab": {
          "base_uri": "https://localhost:8080/"
        },
        "id": "k7_XvJrRziwa",
        "outputId": "b3c82fb5-53ef-4e5b-eec5-cd4c0b069c01"
      },
      "source": [
        "x = set(df.Seasons)\r\n",
        "y = set(df.Holiday)\r\n",
        "z = set(df['Functioning Day'])\r\n",
        "print(x)\r\n",
        "print(y)\r\n",
        "print(z)"
      ],
      "execution_count": 8,
      "outputs": [
        {
          "output_type": "stream",
          "text": [
            "{'Winter', 'Autumn', 'Spring', 'Summer'}\n",
            "{'Holiday', 'No Holiday'}\n",
            "{'No', 'Yes'}\n"
          ],
          "name": "stdout"
        }
      ]
    },
    {
      "cell_type": "code",
      "metadata": {
        "id": "lBOsXkcI693y"
      },
      "source": [
        "import numpy as np"
      ],
      "execution_count": 9,
      "outputs": []
    },
    {
      "cell_type": "code",
      "metadata": {
        "colab": {
          "base_uri": "https://localhost:8080/",
          "height": 203
        },
        "id": "e2MZ-eHY0jRQ",
        "outputId": "3e69b40a-7240-4511-bb4e-71062b38d886"
      },
      "source": [
        "x = df[['Rented Bike Count','Seasons']]\r\n",
        "x = x.groupby('Seasons').sum()\r\n",
        "x.head()"
      ],
      "execution_count": 10,
      "outputs": [
        {
          "output_type": "execute_result",
          "data": {
            "text/html": [
              "<div>\n",
              "<style scoped>\n",
              "    .dataframe tbody tr th:only-of-type {\n",
              "        vertical-align: middle;\n",
              "    }\n",
              "\n",
              "    .dataframe tbody tr th {\n",
              "        vertical-align: top;\n",
              "    }\n",
              "\n",
              "    .dataframe thead th {\n",
              "        text-align: right;\n",
              "    }\n",
              "</style>\n",
              "<table border=\"1\" class=\"dataframe\">\n",
              "  <thead>\n",
              "    <tr style=\"text-align: right;\">\n",
              "      <th></th>\n",
              "      <th>Rented Bike Count</th>\n",
              "    </tr>\n",
              "    <tr>\n",
              "      <th>Seasons</th>\n",
              "      <th></th>\n",
              "    </tr>\n",
              "  </thead>\n",
              "  <tbody>\n",
              "    <tr>\n",
              "      <th>Autumn</th>\n",
              "      <td>1790002</td>\n",
              "    </tr>\n",
              "    <tr>\n",
              "      <th>Spring</th>\n",
              "      <td>1611909</td>\n",
              "    </tr>\n",
              "    <tr>\n",
              "      <th>Summer</th>\n",
              "      <td>2283234</td>\n",
              "    </tr>\n",
              "    <tr>\n",
              "      <th>Winter</th>\n",
              "      <td>487169</td>\n",
              "    </tr>\n",
              "  </tbody>\n",
              "</table>\n",
              "</div>"
            ],
            "text/plain": [
              "         Rented Bike Count\n",
              "Seasons                   \n",
              "Autumn             1790002\n",
              "Spring             1611909\n",
              "Summer             2283234\n",
              "Winter              487169"
            ]
          },
          "metadata": {
            "tags": []
          },
          "execution_count": 10
        }
      ]
    },
    {
      "cell_type": "code",
      "metadata": {
        "colab": {
          "base_uri": "https://localhost:8080/",
          "height": 141
        },
        "id": "6duK11UsABOd",
        "outputId": "d5067f87-1eb5-46be-81bd-22e77d9b0fff"
      },
      "source": [
        "x = df[['Rented Bike Count','Holiday']]\r\n",
        "x = x.groupby('Holiday').sum()\r\n",
        "x.head()"
      ],
      "execution_count": 11,
      "outputs": [
        {
          "output_type": "execute_result",
          "data": {
            "text/html": [
              "<div>\n",
              "<style scoped>\n",
              "    .dataframe tbody tr th:only-of-type {\n",
              "        vertical-align: middle;\n",
              "    }\n",
              "\n",
              "    .dataframe tbody tr th {\n",
              "        vertical-align: top;\n",
              "    }\n",
              "\n",
              "    .dataframe thead th {\n",
              "        text-align: right;\n",
              "    }\n",
              "</style>\n",
              "<table border=\"1\" class=\"dataframe\">\n",
              "  <thead>\n",
              "    <tr style=\"text-align: right;\">\n",
              "      <th></th>\n",
              "      <th>Rented Bike Count</th>\n",
              "    </tr>\n",
              "    <tr>\n",
              "      <th>Holiday</th>\n",
              "      <th></th>\n",
              "    </tr>\n",
              "  </thead>\n",
              "  <tbody>\n",
              "    <tr>\n",
              "      <th>Holiday</th>\n",
              "      <td>215895</td>\n",
              "    </tr>\n",
              "    <tr>\n",
              "      <th>No Holiday</th>\n",
              "      <td>5956419</td>\n",
              "    </tr>\n",
              "  </tbody>\n",
              "</table>\n",
              "</div>"
            ],
            "text/plain": [
              "            Rented Bike Count\n",
              "Holiday                      \n",
              "Holiday                215895\n",
              "No Holiday            5956419"
            ]
          },
          "metadata": {
            "tags": []
          },
          "execution_count": 11
        }
      ]
    },
    {
      "cell_type": "code",
      "metadata": {
        "colab": {
          "base_uri": "https://localhost:8080/",
          "height": 141
        },
        "id": "q3gIRvgwAr6Z",
        "outputId": "9fd3ce73-b1c1-42c4-f9a6-096e6806c859"
      },
      "source": [
        "x = df[['Rented Bike Count','Functioning Day']]\r\n",
        "x = x.groupby('Functioning Day').sum()\r\n",
        "x.head()"
      ],
      "execution_count": 12,
      "outputs": [
        {
          "output_type": "execute_result",
          "data": {
            "text/html": [
              "<div>\n",
              "<style scoped>\n",
              "    .dataframe tbody tr th:only-of-type {\n",
              "        vertical-align: middle;\n",
              "    }\n",
              "\n",
              "    .dataframe tbody tr th {\n",
              "        vertical-align: top;\n",
              "    }\n",
              "\n",
              "    .dataframe thead th {\n",
              "        text-align: right;\n",
              "    }\n",
              "</style>\n",
              "<table border=\"1\" class=\"dataframe\">\n",
              "  <thead>\n",
              "    <tr style=\"text-align: right;\">\n",
              "      <th></th>\n",
              "      <th>Rented Bike Count</th>\n",
              "    </tr>\n",
              "    <tr>\n",
              "      <th>Functioning Day</th>\n",
              "      <th></th>\n",
              "    </tr>\n",
              "  </thead>\n",
              "  <tbody>\n",
              "    <tr>\n",
              "      <th>No</th>\n",
              "      <td>0</td>\n",
              "    </tr>\n",
              "    <tr>\n",
              "      <th>Yes</th>\n",
              "      <td>6172314</td>\n",
              "    </tr>\n",
              "  </tbody>\n",
              "</table>\n",
              "</div>"
            ],
            "text/plain": [
              "                 Rented Bike Count\n",
              "Functioning Day                   \n",
              "No                               0\n",
              "Yes                        6172314"
            ]
          },
          "metadata": {
            "tags": []
          },
          "execution_count": 12
        }
      ]
    },
    {
      "cell_type": "code",
      "metadata": {
        "id": "QmouSLf4quAq"
      },
      "source": [
        "df = df[df['Functioning Day']=='Yes']"
      ],
      "execution_count": 13,
      "outputs": []
    },
    {
      "cell_type": "code",
      "metadata": {
        "id": "iZmL8vOEGfEl",
        "colab": {
          "base_uri": "https://localhost:8080/",
          "height": 472
        },
        "outputId": "af190e9a-58a5-415e-bc6d-2aeccd3e43ca"
      },
      "source": [
        "df = df.select_dtypes(include = ['int64', 'float64'])\r\n",
        "df"
      ],
      "execution_count": 14,
      "outputs": [
        {
          "output_type": "execute_result",
          "data": {
            "text/html": [
              "<div>\n",
              "<style scoped>\n",
              "    .dataframe tbody tr th:only-of-type {\n",
              "        vertical-align: middle;\n",
              "    }\n",
              "\n",
              "    .dataframe tbody tr th {\n",
              "        vertical-align: top;\n",
              "    }\n",
              "\n",
              "    .dataframe thead th {\n",
              "        text-align: right;\n",
              "    }\n",
              "</style>\n",
              "<table border=\"1\" class=\"dataframe\">\n",
              "  <thead>\n",
              "    <tr style=\"text-align: right;\">\n",
              "      <th></th>\n",
              "      <th>Rented Bike Count</th>\n",
              "      <th>Hour</th>\n",
              "      <th>Temperature(C)</th>\n",
              "      <th>Humidity(%)</th>\n",
              "      <th>Wind speed (m/s)</th>\n",
              "      <th>Visibility (10m)</th>\n",
              "      <th>Dew point temperature(C)</th>\n",
              "      <th>Solar Radiation (MJ/m2)</th>\n",
              "      <th>Rainfall(mm)</th>\n",
              "      <th>Snowfall (cm)</th>\n",
              "      <th>Id</th>\n",
              "    </tr>\n",
              "  </thead>\n",
              "  <tbody>\n",
              "    <tr>\n",
              "      <th>0</th>\n",
              "      <td>254</td>\n",
              "      <td>0</td>\n",
              "      <td>-5.2</td>\n",
              "      <td>37</td>\n",
              "      <td>2.2</td>\n",
              "      <td>2000</td>\n",
              "      <td>-17.6</td>\n",
              "      <td>0.0</td>\n",
              "      <td>0.0</td>\n",
              "      <td>0.0</td>\n",
              "      <td>0</td>\n",
              "    </tr>\n",
              "    <tr>\n",
              "      <th>1</th>\n",
              "      <td>204</td>\n",
              "      <td>1</td>\n",
              "      <td>-5.5</td>\n",
              "      <td>38</td>\n",
              "      <td>0.8</td>\n",
              "      <td>2000</td>\n",
              "      <td>-17.6</td>\n",
              "      <td>0.0</td>\n",
              "      <td>0.0</td>\n",
              "      <td>0.0</td>\n",
              "      <td>1</td>\n",
              "    </tr>\n",
              "    <tr>\n",
              "      <th>2</th>\n",
              "      <td>173</td>\n",
              "      <td>2</td>\n",
              "      <td>-6.0</td>\n",
              "      <td>39</td>\n",
              "      <td>1.0</td>\n",
              "      <td>2000</td>\n",
              "      <td>-17.7</td>\n",
              "      <td>0.0</td>\n",
              "      <td>0.0</td>\n",
              "      <td>0.0</td>\n",
              "      <td>2</td>\n",
              "    </tr>\n",
              "    <tr>\n",
              "      <th>3</th>\n",
              "      <td>107</td>\n",
              "      <td>3</td>\n",
              "      <td>-6.2</td>\n",
              "      <td>40</td>\n",
              "      <td>0.9</td>\n",
              "      <td>2000</td>\n",
              "      <td>-17.6</td>\n",
              "      <td>0.0</td>\n",
              "      <td>0.0</td>\n",
              "      <td>0.0</td>\n",
              "      <td>3</td>\n",
              "    </tr>\n",
              "    <tr>\n",
              "      <th>4</th>\n",
              "      <td>78</td>\n",
              "      <td>4</td>\n",
              "      <td>-6.0</td>\n",
              "      <td>36</td>\n",
              "      <td>2.3</td>\n",
              "      <td>2000</td>\n",
              "      <td>-18.6</td>\n",
              "      <td>0.0</td>\n",
              "      <td>0.0</td>\n",
              "      <td>0.0</td>\n",
              "      <td>4</td>\n",
              "    </tr>\n",
              "    <tr>\n",
              "      <th>...</th>\n",
              "      <td>...</td>\n",
              "      <td>...</td>\n",
              "      <td>...</td>\n",
              "      <td>...</td>\n",
              "      <td>...</td>\n",
              "      <td>...</td>\n",
              "      <td>...</td>\n",
              "      <td>...</td>\n",
              "      <td>...</td>\n",
              "      <td>...</td>\n",
              "      <td>...</td>\n",
              "    </tr>\n",
              "    <tr>\n",
              "      <th>8755</th>\n",
              "      <td>1003</td>\n",
              "      <td>19</td>\n",
              "      <td>4.2</td>\n",
              "      <td>34</td>\n",
              "      <td>2.6</td>\n",
              "      <td>1894</td>\n",
              "      <td>-10.3</td>\n",
              "      <td>0.0</td>\n",
              "      <td>0.0</td>\n",
              "      <td>0.0</td>\n",
              "      <td>8755</td>\n",
              "    </tr>\n",
              "    <tr>\n",
              "      <th>8756</th>\n",
              "      <td>764</td>\n",
              "      <td>20</td>\n",
              "      <td>3.4</td>\n",
              "      <td>37</td>\n",
              "      <td>2.3</td>\n",
              "      <td>2000</td>\n",
              "      <td>-9.9</td>\n",
              "      <td>0.0</td>\n",
              "      <td>0.0</td>\n",
              "      <td>0.0</td>\n",
              "      <td>8756</td>\n",
              "    </tr>\n",
              "    <tr>\n",
              "      <th>8757</th>\n",
              "      <td>694</td>\n",
              "      <td>21</td>\n",
              "      <td>2.6</td>\n",
              "      <td>39</td>\n",
              "      <td>0.3</td>\n",
              "      <td>1968</td>\n",
              "      <td>-9.9</td>\n",
              "      <td>0.0</td>\n",
              "      <td>0.0</td>\n",
              "      <td>0.0</td>\n",
              "      <td>8757</td>\n",
              "    </tr>\n",
              "    <tr>\n",
              "      <th>8758</th>\n",
              "      <td>712</td>\n",
              "      <td>22</td>\n",
              "      <td>2.1</td>\n",
              "      <td>41</td>\n",
              "      <td>1.0</td>\n",
              "      <td>1859</td>\n",
              "      <td>-9.8</td>\n",
              "      <td>0.0</td>\n",
              "      <td>0.0</td>\n",
              "      <td>0.0</td>\n",
              "      <td>8758</td>\n",
              "    </tr>\n",
              "    <tr>\n",
              "      <th>8759</th>\n",
              "      <td>584</td>\n",
              "      <td>23</td>\n",
              "      <td>1.9</td>\n",
              "      <td>43</td>\n",
              "      <td>1.3</td>\n",
              "      <td>1909</td>\n",
              "      <td>-9.3</td>\n",
              "      <td>0.0</td>\n",
              "      <td>0.0</td>\n",
              "      <td>0.0</td>\n",
              "      <td>8759</td>\n",
              "    </tr>\n",
              "  </tbody>\n",
              "</table>\n",
              "<p>8465 rows × 11 columns</p>\n",
              "</div>"
            ],
            "text/plain": [
              "      Rented Bike Count  Hour  ...  Snowfall (cm)    Id\n",
              "0                   254     0  ...            0.0     0\n",
              "1                   204     1  ...            0.0     1\n",
              "2                   173     2  ...            0.0     2\n",
              "3                   107     3  ...            0.0     3\n",
              "4                    78     4  ...            0.0     4\n",
              "...                 ...   ...  ...            ...   ...\n",
              "8755               1003    19  ...            0.0  8755\n",
              "8756                764    20  ...            0.0  8756\n",
              "8757                694    21  ...            0.0  8757\n",
              "8758                712    22  ...            0.0  8758\n",
              "8759                584    23  ...            0.0  8759\n",
              "\n",
              "[8465 rows x 11 columns]"
            ]
          },
          "metadata": {
            "tags": []
          },
          "execution_count": 14
        }
      ]
    },
    {
      "cell_type": "code",
      "metadata": {
        "id": "DLqI76RO6WiL",
        "colab": {
          "base_uri": "https://localhost:8080/"
        },
        "outputId": "44fb3400-1d24-40a8-8ff3-68b427f3781a"
      },
      "source": [
        "df.isnull().sum()"
      ],
      "execution_count": 15,
      "outputs": [
        {
          "output_type": "execute_result",
          "data": {
            "text/plain": [
              "Rented Bike Count           0\n",
              "Hour                        0\n",
              "Temperature(C)              0\n",
              "Humidity(%)                 0\n",
              "Wind speed (m/s)            0\n",
              "Visibility (10m)            0\n",
              "Dew point temperature(C)    0\n",
              "Solar Radiation (MJ/m2)     0\n",
              "Rainfall(mm)                0\n",
              "Snowfall (cm)               0\n",
              "Id                          0\n",
              "dtype: int64"
            ]
          },
          "metadata": {
            "tags": []
          },
          "execution_count": 15
        }
      ]
    },
    {
      "cell_type": "code",
      "metadata": {
        "id": "iWMDGAUg3R9A"
      },
      "source": [
        "from sklearn.model_selection import train_test_split\r\n",
        "train, test = train_test_split(df, test_size = 0.30)"
      ],
      "execution_count": 16,
      "outputs": []
    },
    {
      "cell_type": "code",
      "metadata": {
        "colab": {
          "base_uri": "https://localhost:8080/"
        },
        "id": "fzH0wYEQ5q24",
        "outputId": "cadf061b-6bb8-4af0-a713-ba2d33cfd3e8"
      },
      "source": [
        "train.shape"
      ],
      "execution_count": 17,
      "outputs": [
        {
          "output_type": "execute_result",
          "data": {
            "text/plain": [
              "(5925, 11)"
            ]
          },
          "metadata": {
            "tags": []
          },
          "execution_count": 17
        }
      ]
    },
    {
      "cell_type": "code",
      "metadata": {
        "colab": {
          "base_uri": "https://localhost:8080/"
        },
        "id": "hM3uFoua5tNF",
        "outputId": "7e3cb095-4540-492e-a47a-1ea96d03e141"
      },
      "source": [
        "test.shape"
      ],
      "execution_count": 18,
      "outputs": [
        {
          "output_type": "execute_result",
          "data": {
            "text/plain": [
              "(2540, 11)"
            ]
          },
          "metadata": {
            "tags": []
          },
          "execution_count": 18
        }
      ]
    },
    {
      "cell_type": "code",
      "metadata": {
        "colab": {
          "base_uri": "https://localhost:8080/",
          "height": 511
        },
        "id": "cnKQdf6B32zs",
        "outputId": "13d9d866-0ada-443a-f8ce-377d201fa561"
      },
      "source": [
        "data_corr = train.corr()\r\n",
        "data_corr"
      ],
      "execution_count": 19,
      "outputs": [
        {
          "output_type": "execute_result",
          "data": {
            "text/html": [
              "<div>\n",
              "<style scoped>\n",
              "    .dataframe tbody tr th:only-of-type {\n",
              "        vertical-align: middle;\n",
              "    }\n",
              "\n",
              "    .dataframe tbody tr th {\n",
              "        vertical-align: top;\n",
              "    }\n",
              "\n",
              "    .dataframe thead th {\n",
              "        text-align: right;\n",
              "    }\n",
              "</style>\n",
              "<table border=\"1\" class=\"dataframe\">\n",
              "  <thead>\n",
              "    <tr style=\"text-align: right;\">\n",
              "      <th></th>\n",
              "      <th>Rented Bike Count</th>\n",
              "      <th>Hour</th>\n",
              "      <th>Temperature(C)</th>\n",
              "      <th>Humidity(%)</th>\n",
              "      <th>Wind speed (m/s)</th>\n",
              "      <th>Visibility (10m)</th>\n",
              "      <th>Dew point temperature(C)</th>\n",
              "      <th>Solar Radiation (MJ/m2)</th>\n",
              "      <th>Rainfall(mm)</th>\n",
              "      <th>Snowfall (cm)</th>\n",
              "      <th>Id</th>\n",
              "    </tr>\n",
              "  </thead>\n",
              "  <tbody>\n",
              "    <tr>\n",
              "      <th>Rented Bike Count</th>\n",
              "      <td>1.000000</td>\n",
              "      <td>0.422494</td>\n",
              "      <td>0.560645</td>\n",
              "      <td>-0.210990</td>\n",
              "      <td>0.122490</td>\n",
              "      <td>0.214728</td>\n",
              "      <td>0.395073</td>\n",
              "      <td>0.273620</td>\n",
              "      <td>-0.136549</td>\n",
              "      <td>-0.151255</td>\n",
              "      <td>0.392241</td>\n",
              "    </tr>\n",
              "    <tr>\n",
              "      <th>Hour</th>\n",
              "      <td>0.422494</td>\n",
              "      <td>1.000000</td>\n",
              "      <td>0.121969</td>\n",
              "      <td>-0.235153</td>\n",
              "      <td>0.289524</td>\n",
              "      <td>0.093947</td>\n",
              "      <td>0.004602</td>\n",
              "      <td>0.141660</td>\n",
              "      <td>0.015918</td>\n",
              "      <td>-0.016886</td>\n",
              "      <td>0.005614</td>\n",
              "    </tr>\n",
              "    <tr>\n",
              "      <th>Temperature(C)</th>\n",
              "      <td>0.560645</td>\n",
              "      <td>0.121969</td>\n",
              "      <td>1.000000</td>\n",
              "      <td>0.165181</td>\n",
              "      <td>-0.038151</td>\n",
              "      <td>0.032551</td>\n",
              "      <td>0.914053</td>\n",
              "      <td>0.346608</td>\n",
              "      <td>0.056116</td>\n",
              "      <td>-0.221144</td>\n",
              "      <td>0.583330</td>\n",
              "    </tr>\n",
              "    <tr>\n",
              "      <th>Humidity(%)</th>\n",
              "      <td>-0.210990</td>\n",
              "      <td>-0.235153</td>\n",
              "      <td>0.165181</td>\n",
              "      <td>1.000000</td>\n",
              "      <td>-0.334004</td>\n",
              "      <td>-0.544497</td>\n",
              "      <td>0.539407</td>\n",
              "      <td>-0.459711</td>\n",
              "      <td>0.250187</td>\n",
              "      <td>0.104596</td>\n",
              "      <td>0.161422</td>\n",
              "    </tr>\n",
              "    <tr>\n",
              "      <th>Wind speed (m/s)</th>\n",
              "      <td>0.122490</td>\n",
              "      <td>0.289524</td>\n",
              "      <td>-0.038151</td>\n",
              "      <td>-0.334004</td>\n",
              "      <td>1.000000</td>\n",
              "      <td>0.171102</td>\n",
              "      <td>-0.175354</td>\n",
              "      <td>0.325343</td>\n",
              "      <td>-0.029054</td>\n",
              "      <td>-0.001682</td>\n",
              "      <td>-0.155344</td>\n",
              "    </tr>\n",
              "    <tr>\n",
              "      <th>Visibility (10m)</th>\n",
              "      <td>0.214728</td>\n",
              "      <td>0.093947</td>\n",
              "      <td>0.032551</td>\n",
              "      <td>-0.544497</td>\n",
              "      <td>0.171102</td>\n",
              "      <td>1.000000</td>\n",
              "      <td>-0.177960</td>\n",
              "      <td>0.153166</td>\n",
              "      <td>-0.183338</td>\n",
              "      <td>-0.119516</td>\n",
              "      <td>0.117249</td>\n",
              "    </tr>\n",
              "    <tr>\n",
              "      <th>Dew point temperature(C)</th>\n",
              "      <td>0.395073</td>\n",
              "      <td>0.004602</td>\n",
              "      <td>0.914053</td>\n",
              "      <td>0.539407</td>\n",
              "      <td>-0.175354</td>\n",
              "      <td>-0.177960</td>\n",
              "      <td>1.000000</td>\n",
              "      <td>0.090228</td>\n",
              "      <td>0.135222</td>\n",
              "      <td>-0.154303</td>\n",
              "      <td>0.562577</td>\n",
              "    </tr>\n",
              "    <tr>\n",
              "      <th>Solar Radiation (MJ/m2)</th>\n",
              "      <td>0.273620</td>\n",
              "      <td>0.141660</td>\n",
              "      <td>0.346608</td>\n",
              "      <td>-0.459711</td>\n",
              "      <td>0.325343</td>\n",
              "      <td>0.153166</td>\n",
              "      <td>0.090228</td>\n",
              "      <td>1.000000</td>\n",
              "      <td>-0.078519</td>\n",
              "      <td>-0.073481</td>\n",
              "      <td>0.101416</td>\n",
              "    </tr>\n",
              "    <tr>\n",
              "      <th>Rainfall(mm)</th>\n",
              "      <td>-0.136549</td>\n",
              "      <td>0.015918</td>\n",
              "      <td>0.056116</td>\n",
              "      <td>0.250187</td>\n",
              "      <td>-0.029054</td>\n",
              "      <td>-0.183338</td>\n",
              "      <td>0.135222</td>\n",
              "      <td>-0.078519</td>\n",
              "      <td>1.000000</td>\n",
              "      <td>0.011964</td>\n",
              "      <td>0.042820</td>\n",
              "    </tr>\n",
              "    <tr>\n",
              "      <th>Snowfall (cm)</th>\n",
              "      <td>-0.151255</td>\n",
              "      <td>-0.016886</td>\n",
              "      <td>-0.221144</td>\n",
              "      <td>0.104596</td>\n",
              "      <td>-0.001682</td>\n",
              "      <td>-0.119516</td>\n",
              "      <td>-0.154303</td>\n",
              "      <td>-0.073481</td>\n",
              "      <td>0.011964</td>\n",
              "      <td>1.000000</td>\n",
              "      <td>-0.132398</td>\n",
              "    </tr>\n",
              "    <tr>\n",
              "      <th>Id</th>\n",
              "      <td>0.392241</td>\n",
              "      <td>0.005614</td>\n",
              "      <td>0.583330</td>\n",
              "      <td>0.161422</td>\n",
              "      <td>-0.155344</td>\n",
              "      <td>0.117249</td>\n",
              "      <td>0.562577</td>\n",
              "      <td>0.101416</td>\n",
              "      <td>0.042820</td>\n",
              "      <td>-0.132398</td>\n",
              "      <td>1.000000</td>\n",
              "    </tr>\n",
              "  </tbody>\n",
              "</table>\n",
              "</div>"
            ],
            "text/plain": [
              "                          Rented Bike Count      Hour  ...  Snowfall (cm)        Id\n",
              "Rented Bike Count                  1.000000  0.422494  ...      -0.151255  0.392241\n",
              "Hour                               0.422494  1.000000  ...      -0.016886  0.005614\n",
              "Temperature(C)                     0.560645  0.121969  ...      -0.221144  0.583330\n",
              "Humidity(%)                       -0.210990 -0.235153  ...       0.104596  0.161422\n",
              "Wind speed (m/s)                   0.122490  0.289524  ...      -0.001682 -0.155344\n",
              "Visibility (10m)                   0.214728  0.093947  ...      -0.119516  0.117249\n",
              "Dew point temperature(C)           0.395073  0.004602  ...      -0.154303  0.562577\n",
              "Solar Radiation (MJ/m2)            0.273620  0.141660  ...      -0.073481  0.101416\n",
              "Rainfall(mm)                      -0.136549  0.015918  ...       0.011964  0.042820\n",
              "Snowfall (cm)                     -0.151255 -0.016886  ...       1.000000 -0.132398\n",
              "Id                                 0.392241  0.005614  ...      -0.132398  1.000000\n",
              "\n",
              "[11 rows x 11 columns]"
            ]
          },
          "metadata": {
            "tags": []
          },
          "execution_count": 19
        }
      ]
    },
    {
      "cell_type": "code",
      "metadata": {
        "colab": {
          "base_uri": "https://localhost:8080/"
        },
        "id": "SqTxYyJu4CbL",
        "outputId": "9001bc6e-7b64-4b2f-ba49-f4362c0e1add"
      },
      "source": [
        "data_corr = data_corr['Rented Bike Count'][1:]\r\n",
        "data_corr[abs(data_corr)>=0.30].sort_values(ascending=False)"
      ],
      "execution_count": 20,
      "outputs": [
        {
          "output_type": "execute_result",
          "data": {
            "text/plain": [
              "Temperature(C)              0.560645\n",
              "Hour                        0.422494\n",
              "Dew point temperature(C)    0.395073\n",
              "Id                          0.392241\n",
              "Name: Rented Bike Count, dtype: float64"
            ]
          },
          "metadata": {
            "tags": []
          },
          "execution_count": 20
        }
      ]
    },
    {
      "cell_type": "code",
      "metadata": {
        "id": "i1IQTCmp4Raq"
      },
      "source": [
        "df_train = train[['Temperature(C)', 'Hour', 'Dew point temperature(C)', 'Rented Bike Count']]\r\n",
        "df_test = test[['Temperature(C)', 'Hour','Dew point temperature(C)']]"
      ],
      "execution_count": 21,
      "outputs": []
    },
    {
      "cell_type": "code",
      "metadata": {
        "colab": {
          "base_uri": "https://localhost:8080/",
          "height": 420
        },
        "id": "ANCht4_y5jYs",
        "outputId": "596ced3a-96dc-45d3-cfb1-a169595f3831"
      },
      "source": [
        "import matplotlib.pyplot as plt\r\n",
        "import seaborn as sns\r\n",
        "corr = df_train.corr()\r\n",
        "plt.figure(figsize=(5,5))\r\n",
        "sns.heatmap(corr, annot=True, cmap='cubehelix_r',square=True) \r\n",
        "plt.show()"
      ],
      "execution_count": 22,
      "outputs": [
        {
          "output_type": "display_data",
          "data": {
            "image/png": "[encoded data removed]",
            "text/plain": [
              "<Figure size 360x360 with 2 Axes>"
            ]
          },
          "metadata": {
            "tags": [],
            "needs_background": "light"
          }
        }
      ]
    },
    {
      "cell_type": "code",
      "metadata": {
        "id": "aVMOKGi69IuG"
      },
      "source": [
        "train, val = train_test_split(df_train, test_size=0.30)"
      ],
      "execution_count": 23,
      "outputs": []
    },
    {
      "cell_type": "code",
      "metadata": {
        "id": "L_VbJ4fo6LEe"
      },
      "source": [
        "train_x = train.drop('Rented Bike Count', axis=1)\r\n",
        "train_y = train['Rented Bike Count']"
      ],
      "execution_count": 24,
      "outputs": []
    },
    {
      "cell_type": "code",
      "metadata": {
        "colab": {
          "base_uri": "https://localhost:8080/"
        },
        "id": "v8J8H1y48nqJ",
        "outputId": "4a0c7d8e-7af0-4768-92cf-56f909ac563f"
      },
      "source": [
        "val_x = val.drop(['Rented Bike Count'], axis = 1)\r\n",
        "val_y = val['Rented Bike Count']\r\n",
        "print('Dimension of train_x dataframe:',train_x.shape)\r\n",
        "print('Dimension of train_y dataframe:',train_y.shape)\r\n",
        "print('Dimension of val_x dataframe:',val_x.shape)\r\n",
        "print('Dimension of val_y dataframe:',val_y.shape)"
      ],
      "execution_count": 25,
      "outputs": [
        {
          "output_type": "stream",
          "text": [
            "Dimension of train_x dataframe: (4147, 3)\n",
            "Dimension of train_y dataframe: (4147,)\n",
            "Dimension of val_x dataframe: (1778, 3)\n",
            "Dimension of val_y dataframe: (1778,)\n"
          ],
          "name": "stdout"
        }
      ]
    },
    {
      "cell_type": "code",
      "metadata": {
        "colab": {
          "base_uri": "https://localhost:8080/"
        },
        "id": "t9iw0-9G9AG8",
        "outputId": "e7b372cc-8e60-4f26-cdba-48f9afd8f3af"
      },
      "source": [
        "from sklearn.linear_model import LinearRegression\r\n",
        "\r\n",
        "ln_reg = LinearRegression()\r\n",
        "ln_reg.fit(train_x, train_y)"
      ],
      "execution_count": 26,
      "outputs": [
        {
          "output_type": "execute_result",
          "data": {
            "text/plain": [
              "LinearRegression(copy_X=True, fit_intercept=True, n_jobs=None, normalize=False)"
            ]
          },
          "metadata": {
            "tags": []
          },
          "execution_count": 26
        }
      ]
    },
    {
      "cell_type": "code",
      "metadata": {
        "colab": {
          "base_uri": "https://localhost:8080/"
        },
        "id": "wGEfYRt89zmH",
        "outputId": "d9c6d0bc-8ad0-4557-eb39-8a0f37756fc1"
      },
      "source": [
        "from sklearn.metrics import mean_squared_error,mean_absolute_error, r2_score\r\n",
        "\r\n",
        "df_pred = ln_reg.predict(val_x)\r\n",
        "print('Mean Absolute Error of linear regression:',mean_absolute_error(df_pred, val_y))\r\n",
        "print('Mean Square Error of linear regression:', mean_squared_error(df_pred, val_y))\r\n",
        "print('R_Squared Score of linear regression:', r2_score(df_pred, val_y))"
      ],
      "execution_count": 27,
      "outputs": [
        {
          "output_type": "stream",
          "text": [
            "Mean Absolute Error of linear regression: 341.1568795943065\n",
            "Mean Square Error of linear regression: 211512.33752461648\n",
            "R_Squared Score of linear regression: -0.08838761583211152\n"
          ],
          "name": "stdout"
        }
      ]
    },
    {
      "cell_type": "code",
      "metadata": {
        "id": "0UK8oRMB-Ee_",
        "colab": {
          "base_uri": "https://localhost:8080/"
        },
        "outputId": "b3fa4332-9191-49b9-8082-3a8c719d9daa"
      },
      "source": [
        "predict_test = ln_reg.predict(df_test)\r\n",
        "predict_test"
      ],
      "execution_count": 28,
      "outputs": [
        {
          "output_type": "execute_result",
          "data": {
            "text/plain": [
              "array([ 726.15398058, 1102.8588665 ,  958.78411974, ..., 1367.86064469,\n",
              "        656.70774243,  100.36924204])"
            ]
          },
          "metadata": {
            "tags": []
          },
          "execution_count": 28
        }
      ]
    },
    {
      "cell_type": "code",
      "metadata": {
        "colab": {
          "base_uri": "https://localhost:8080/"
        },
        "id": "rNeNm4Te05cw",
        "outputId": "949654d3-5c93-4ced-91f3-3d5c1bcdd16b"
      },
      "source": [
        "test.columns\r\n"
      ],
      "execution_count": 29,
      "outputs": [
        {
          "output_type": "execute_result",
          "data": {
            "text/plain": [
              "Index(['Rented Bike Count', 'Hour', 'Temperature(C)', 'Humidity(%)',\n",
              "       'Wind speed (m/s)', 'Visibility (10m)', 'Dew point temperature(C)',\n",
              "       'Solar Radiation (MJ/m2)', 'Rainfall(mm)', 'Snowfall (cm)', 'Id'],\n",
              "      dtype='object')"
            ]
          },
          "metadata": {
            "tags": []
          },
          "execution_count": 29
        }
      ]
    },
    {
      "cell_type": "code",
      "metadata": {
        "id": "CGhcyg7_-IlU"
      },
      "source": [
        "submission_data = pd.DataFrame({\"Id\": test.Id , 'Pred_Bike_Count':predict_test})\r\n",
        "\r\n",
        "submission_data['Actual_bikes_Rented']= test['Rented Bike Count']\r\n",
        "df = submission_data.head(30).sort_values(by = 'Id')"
      ],
      "execution_count": 30,
      "outputs": []
    },
    {
      "cell_type": "code",
      "metadata": {
        "id": "UYRfu_eK0z0S",
        "colab": {
          "base_uri": "https://localhost:8080/",
          "height": 369
        },
        "outputId": "0d6cdfc5-1ace-4c57-a8e1-20df3cadbb86"
      },
      "source": [
        "'''\r\n",
        "1) What are the factors that influence the number of bikes rented? \r\n",
        "\r\n",
        "Ans: The factors that influenced the influenced the number of bikes rented is \r\n",
        "[Temperature(C), Hour, Dew point temperature(C)].\r\n",
        "\r\n",
        "2) Explore the data for outliers and missing values.\r\n",
        "\r\n",
        "There are no missing values in this dataset, and no absolute outliers.\r\n",
        "\r\n",
        "3) Plot the correlation between the variables and state your comments\r\n",
        "\r\n",
        "Temperature has a very stong correlation with the number of bikes rented.\r\n",
        "\r\n",
        "4) Please build a linear regression model to predict rented bike count by \r\n",
        "choosing appropriate independentvariables.\r\n",
        "5) Coment on Model performance by using approapriate diagnostics and measures.\r\n",
        "\r\n",
        "The model didn't perform very well because the data is very spread out thus\r\n",
        "giving us a very high mean squared error.\r\n",
        "'''\r\n",
        "df = df[['Actual_bikes_Rented', 'Pred_Bike_Count']]\r\n",
        "import matplotlib.pyplot as plt\r\n",
        "import seaborn as sns\r\n",
        "sns.relplot(\r\n",
        "    data=df,\r\n",
        ");"
      ],
      "execution_count": 31,
      "outputs": [
        {
          "output_type": "display_data",
          "data": {
            "image/png": "[encoded data removed]",
            "text/plain": [
              "<Figure size 498.625x360 with 1 Axes>"
            ]
          },
          "metadata": {
            "tags": [],
            "needs_background": "light"
          }
        }
      ]
    },
    {
      "cell_type": "code",
      "metadata": {
        "id": "CWwMjJ5kNjQz"
      },
      "source": [
        ""
      ],
      "execution_count": 31,
      "outputs": []
    }
  ]
}