{
  "nbformat": 4,
  "nbformat_minor": 0,
  "metadata": {
    "colab": {
      "name": "Mahfuzur_Rahman_Logistic-Regression-Project.ipynb",
      "provenance": [],
      "collapsed_sections": [],
      "include_colab_link": true
    },
    "kernelspec": {
      "display_name": "Python 3",
      "language": "python",
      "name": "python3"
    },
    "language_info": {
      "codemirror_mode": {
        "name": "ipython",
        "version": 3
      },
      "file_extension": ".py",
      "mimetype": "text/x-python",
      "name": "python",
      "nbconvert_exporter": "python",
      "pygments_lexer": "ipython3",
      "version": "3.7.6"
    }
  },
  "cells": [
    {
      "cell_type": "markdown",
      "metadata": {
        "id": "view-in-github",
        "colab_type": "text"
      },
      "source": [
        "<a href=\"https://colab.research.google.com/github/mahfuz978/TECH-I.S---Regression-Classification/blob/main/Logistic_Regression/Mahfuzur_Rahman_Logistic_Regression_Project.ipynb\" target=\"_parent\"><img src=\"https://colab.research.google.com/assets/colab-badge.svg\" alt=\"Open In Colab\"/></a>"
      ]
    },
    {
      "cell_type": "markdown",
      "metadata": {
        "id": "pdq8Axf-C1Kh"
      },
      "source": [
        "# **Project Introduction**\n",
        "\n",
        "In this project you will be provided with real world data which is related with direct marketing campaigns (phone calls) of a Portuguese banking institution. \n",
        "\n",
        "The classification goal is to predict if the client will subscribe a term deposit (variable y).\n",
        "\n",
        "![img](https://www.esa.int/var/esa/storage/images/esa_multimedia/images/2014/06/portuguese_bank/14568311-1-eng-GB/Portuguese_bank_pillars.jpg)\n",
        "\n",
        "We are a data science team in thier offices and it our task to make the most sense of the data provided by the company\n",
        "\n",
        "![img](https://www.expatica.com/app/uploads/sites/8/2017/05/banking-in-portugal-1920x1080.jpg)"
      ]
    },
    {
      "cell_type": "markdown",
      "metadata": {
        "id": "E54UZbgMC7OT"
      },
      "source": [
        "# Let us Get Started!\n",
        "\n",
        "As you remember our task is to explore our Bank's Marketing campaign and create meaningful insights from the data\n",
        "\n",
        "The step one should be accessing the data \n",
        "\n",
        "Our data has been curated by [UCI Machine Learning Repository](https://archive.ics.uci.edu/ml/index.php) which is an excellent datahouse of various real world problems! \n",
        "\n",
        "We are going to use the Banking Data described by our friends in UCI [here](https://archive.ics.uci.edu/ml/datasets/Bank+Marketing)\n",
        "\n",
        "The data can also be downloaded from the Tech I.S. [Github](https://raw.githubusercontent.com/madmashup/targeted-marketing-predictive-engine/master/banking.csv) Repository \n",
        "\n"
      ]
    },
    {
      "cell_type": "markdown",
      "metadata": {
        "id": "GcXcLWmgE1sL"
      },
      "source": [
        "# Good Start!\n",
        "\n",
        "Now that you have your dataset , let us go through the problems one by one!"
      ]
    },
    {
      "cell_type": "markdown",
      "metadata": {
        "id": "RH_tEEQjWpC1"
      },
      "source": [
        "# Section I : Data Loading\n",
        "\n",
        "Part I : Load the dataset into the notebook <br>\n",
        "Part II : Explore and make note of Attribute Information from UCI <br>\n",
        "Part III : What is the significance of the `y` column in the dataset and what are the value counts of the `y` column? <br>\n",
        "Part IV : What is the ratio of the two classes ? Are they balanced ? <br>"
      ]
    },
    {
      "cell_type": "code",
      "metadata": {
        "colab": {
          "base_uri": "https://localhost:8080/",
          "height": 254
        },
        "id": "eevWxNrzB_o3",
        "outputId": "615b48c6-d117-4a6f-89e1-67da0b4eddb2"
      },
      "source": [
        "'''\r\n",
        "Data Set Information:\r\n",
        "\r\n",
        "The data is related with direct marketing campaigns of a Portuguese banking \r\n",
        "institution. The marketing campaigns were based on phone calls. Often, more \r\n",
        "than one contact to the same client was required, in order to access if the \r\n",
        "product (bank term deposit) would be ('yes') or not ('no') subscribed.\r\n",
        "\r\n",
        "There are four datasets:\r\n",
        "1) bank-additional-full.csv with all examples (41188) and 20 inputs, ordered by \r\n",
        "date (from May 2008 to November 2010), very close to the data analyzed in [Moro \r\n",
        "et al., 2014]\r\n",
        "2) bank-additional.csv with 10% of the examples (4119), randomly selected \r\n",
        "from 1), and 20 inputs.\r\n",
        "3) bank-full.csv with all examples and 17 inputs, ordered by date (older \r\n",
        "version of this dataset with less inputs).\r\n",
        "4) bank.csv with 10% of the examples and 17 inputs, randomly selected from 3 \r\n",
        "(older version of this dataset with less inputs).\r\n",
        "The smallest datasets are provided to test more computationally demanding \r\n",
        "machine learning algorithms (e.g., SVM).\r\n",
        "\r\n",
        "The classification goal is to predict if the client will subscribe (yes/no) a \r\n",
        "term deposit (variable y).\r\n",
        "\r\n",
        "\r\n",
        "Attribute Information:\r\n",
        "\r\n",
        "Input variables:\r\n",
        "# bank client data:\r\n",
        "1 - age (numeric)\r\n",
        "2 - job : type of job (categorical: 'admin.','blue-collar','entrepreneur',\r\n",
        "'housemaid','management','retired','self-employed','services','student',\r\n",
        "'technician','unemployed','unknown')\r\n",
        "3 - marital : marital status (categorical: 'divorced','married','single',\r\n",
        "'unknown'; note: 'divorced' means divorced or widowed)\r\n",
        "4 - education (categorical: 'basic.4y','basic.6y','basic.9y','high.school',\r\n",
        "'illiterate','professional.course','university.degree','unknown')\r\n",
        "5 - default: has credit in default? (categorical: 'no','yes','unknown')\r\n",
        "6 - housing: has housing loan? (categorical: 'no','yes','unknown')\r\n",
        "7 - loan: has personal loan? (categorical: 'no','yes','unknown')\r\n",
        "# related with the last contact of the current campaign:\r\n",
        "8 - contact: contact communication type (categorical: 'cellular','telephone')\r\n",
        "9 - month: last contact month of year (categorical: 'jan', 'feb', 'mar', ..., \r\n",
        "'nov', 'dec')\r\n",
        "10 - day_of_week: last contact day of the week (categorical: 'mon','tue','wed',\r\n",
        "'thu','fri')\r\n",
        "11 - duration: last contact duration, in seconds (numeric). Important note: \r\n",
        "this attribute highly affects the output target (e.g., if duration=0 then \r\n",
        "y='no'). Yet, the duration is not known before a call is performed. Also, after \r\n",
        "the end of the call y is obviously known. Thus, this input should only be \r\n",
        "included for benchmark purposes and should be discarded if the intention is to \r\n",
        "have a realistic predictive model.\r\n",
        "# other attributes:\r\n",
        "12 - campaign: number of contacts performed during this campaign and for this \r\n",
        "client (numeric, includes last contact)\r\n",
        "13 - pdays: number of days that passed by after the client was last contacted \r\n",
        "from a previous campaign (numeric; 999 means client was not previously \r\n",
        "contacted)\r\n",
        "14 - previous: number of contacts performed before this campaign and for this \r\n",
        "client (numeric)\r\n",
        "15 - poutcome: outcome of the previous marketing campaign (categorical: \r\n",
        "'failure','nonexistent','success')\r\n",
        "# social and economic context attributes\r\n",
        "16 - emp.var.rate: employment variation rate - quarterly indicator (numeric)\r\n",
        "17 - cons.price.idx: consumer price index - monthly indicator (numeric)\r\n",
        "18 - cons.conf.idx: consumer confidence index - monthly indicator (numeric)\r\n",
        "19 - euribor3m: euribor 3 month rate - daily indicator (numeric)\r\n",
        "20 - nr.employed: number of employees - quarterly indicator (numeric)\r\n",
        "\r\n",
        "Output variable (desired target):\r\n",
        "21 - y - has the client subscribed a term deposit? (binary: 'yes','no')\r\n",
        "\r\n",
        "'''\r\n",
        "url = 'https://raw.githubusercontent.com/Tech-i-s/data-science-course-wiki/master/Step%203-2%20Classification%20Algos/01_logistic-regression/Log_reg_project/portu_banking_final.csv?token=AM2M2N6M662UYEZCMVQQS2TAGVMKW'\r\n",
        "import pandas as pd\r\n",
        "df = pd.read_csv(url, na_values=['unknown', 'UNKNOWN'])\r\n",
        "df.head()"
      ],
      "execution_count": 1,
      "outputs": [
        {
          "output_type": "stream",
          "text": [
            "/usr/local/lib/python3.6/dist-packages/IPython/core/interactiveshell.py:2718: DtypeWarning: Columns (0) have mixed types.Specify dtype option on import or set low_memory=False.\n",
            "  interactivity=interactivity, compiler=compiler, result=result)\n"
          ],
          "name": "stderr"
        },
        {
          "output_type": "execute_result",
          "data": {
            "text/html": [
              "<div>\n",
              "<style scoped>\n",
              "    .dataframe tbody tr th:only-of-type {\n",
              "        vertical-align: middle;\n",
              "    }\n",
              "\n",
              "    .dataframe tbody tr th {\n",
              "        vertical-align: top;\n",
              "    }\n",
              "\n",
              "    .dataframe thead th {\n",
              "        text-align: right;\n",
              "    }\n",
              "</style>\n",
              "<table border=\"1\" class=\"dataframe\">\n",
              "  <thead>\n",
              "    <tr style=\"text-align: right;\">\n",
              "      <th></th>\n",
              "      <th>age</th>\n",
              "      <th>job</th>\n",
              "      <th>marital</th>\n",
              "      <th>education</th>\n",
              "      <th>default</th>\n",
              "      <th>housing</th>\n",
              "      <th>loan</th>\n",
              "      <th>contact</th>\n",
              "      <th>month</th>\n",
              "      <th>day_of_week</th>\n",
              "      <th>duration</th>\n",
              "      <th>campaign</th>\n",
              "      <th>pdays</th>\n",
              "      <th>previous</th>\n",
              "      <th>poutcome</th>\n",
              "      <th>emp_var_rate</th>\n",
              "      <th>cons_price_idx</th>\n",
              "      <th>cons_conf_idx</th>\n",
              "      <th>euribor3m</th>\n",
              "      <th>nr_employed</th>\n",
              "      <th>y</th>\n",
              "    </tr>\n",
              "  </thead>\n",
              "  <tbody>\n",
              "    <tr>\n",
              "      <th>0</th>\n",
              "      <td>44</td>\n",
              "      <td>blue-collar</td>\n",
              "      <td>married</td>\n",
              "      <td>basic.4y</td>\n",
              "      <td>NaN</td>\n",
              "      <td>yes</td>\n",
              "      <td>no</td>\n",
              "      <td>cellular</td>\n",
              "      <td>aug</td>\n",
              "      <td>thu</td>\n",
              "      <td>210</td>\n",
              "      <td>1</td>\n",
              "      <td>999.0</td>\n",
              "      <td>0</td>\n",
              "      <td>nonexistent</td>\n",
              "      <td>1.4</td>\n",
              "      <td>93.444</td>\n",
              "      <td>-36.1</td>\n",
              "      <td>4.963</td>\n",
              "      <td>5228.1</td>\n",
              "      <td>0</td>\n",
              "    </tr>\n",
              "    <tr>\n",
              "      <th>1</th>\n",
              "      <td>53</td>\n",
              "      <td>technician</td>\n",
              "      <td>married</td>\n",
              "      <td>NaN</td>\n",
              "      <td>no</td>\n",
              "      <td>no</td>\n",
              "      <td>no</td>\n",
              "      <td>cellular</td>\n",
              "      <td>nov</td>\n",
              "      <td>fri</td>\n",
              "      <td>138</td>\n",
              "      <td>1</td>\n",
              "      <td>999.0</td>\n",
              "      <td>0</td>\n",
              "      <td>nonexistent</td>\n",
              "      <td>-0.1</td>\n",
              "      <td>93.200</td>\n",
              "      <td>-42.0</td>\n",
              "      <td>4.021</td>\n",
              "      <td>5195.8</td>\n",
              "      <td>0</td>\n",
              "    </tr>\n",
              "    <tr>\n",
              "      <th>2</th>\n",
              "      <td>28</td>\n",
              "      <td>management</td>\n",
              "      <td>single</td>\n",
              "      <td>university.degree</td>\n",
              "      <td>no</td>\n",
              "      <td>yes</td>\n",
              "      <td>no</td>\n",
              "      <td>cellular</td>\n",
              "      <td>jun</td>\n",
              "      <td>thu</td>\n",
              "      <td>339</td>\n",
              "      <td>3</td>\n",
              "      <td>6.0</td>\n",
              "      <td>2</td>\n",
              "      <td>success</td>\n",
              "      <td>-1.7</td>\n",
              "      <td>94.055</td>\n",
              "      <td>-39.8</td>\n",
              "      <td>0.729</td>\n",
              "      <td>4991.6</td>\n",
              "      <td>1</td>\n",
              "    </tr>\n",
              "    <tr>\n",
              "      <th>3</th>\n",
              "      <td>39</td>\n",
              "      <td>services</td>\n",
              "      <td>married</td>\n",
              "      <td>high.school</td>\n",
              "      <td>no</td>\n",
              "      <td>no</td>\n",
              "      <td>no</td>\n",
              "      <td>cellular</td>\n",
              "      <td>apr</td>\n",
              "      <td>fri</td>\n",
              "      <td>185</td>\n",
              "      <td>2</td>\n",
              "      <td>999.0</td>\n",
              "      <td>0</td>\n",
              "      <td>nonexistent</td>\n",
              "      <td>-1.8</td>\n",
              "      <td>93.075</td>\n",
              "      <td>-47.1</td>\n",
              "      <td>1.405</td>\n",
              "      <td>5099.1</td>\n",
              "      <td>0</td>\n",
              "    </tr>\n",
              "    <tr>\n",
              "      <th>4</th>\n",
              "      <td>55</td>\n",
              "      <td>retired</td>\n",
              "      <td>married</td>\n",
              "      <td>basic.4y</td>\n",
              "      <td>no</td>\n",
              "      <td>yes</td>\n",
              "      <td>no</td>\n",
              "      <td>cellular</td>\n",
              "      <td>aug</td>\n",
              "      <td>fri</td>\n",
              "      <td>137</td>\n",
              "      <td>1</td>\n",
              "      <td>3.0</td>\n",
              "      <td>1</td>\n",
              "      <td>success</td>\n",
              "      <td>-2.9</td>\n",
              "      <td>92.201</td>\n",
              "      <td>-31.4</td>\n",
              "      <td>0.869</td>\n",
              "      <td>5076.2</td>\n",
              "      <td>1</td>\n",
              "    </tr>\n",
              "  </tbody>\n",
              "</table>\n",
              "</div>"
            ],
            "text/plain": [
              "  age          job  marital  ... euribor3m nr_employed  y\n",
              "0  44  blue-collar  married  ...     4.963      5228.1  0\n",
              "1  53   technician  married  ...     4.021      5195.8  0\n",
              "2  28   management   single  ...     0.729      4991.6  1\n",
              "3  39     services  married  ...     1.405      5099.1  0\n",
              "4  55      retired  married  ...     0.869      5076.2  1\n",
              "\n",
              "[5 rows x 21 columns]"
            ]
          },
          "metadata": {
            "tags": []
          },
          "execution_count": 1
        }
      ]
    },
    {
      "cell_type": "code",
      "metadata": {
        "colab": {
          "base_uri": "https://localhost:8080/"
        },
        "id": "-95fPqCtRG80",
        "outputId": "f9a305fc-0a73-42df-f98f-ba8413315324"
      },
      "source": [
        "df.info() # age needs fixing its supposed to be an integer"
      ],
      "execution_count": 2,
      "outputs": [
        {
          "output_type": "stream",
          "text": [
            "<class 'pandas.core.frame.DataFrame'>\n",
            "RangeIndex: 41188 entries, 0 to 41187\n",
            "Data columns (total 21 columns):\n",
            " #   Column          Non-Null Count  Dtype  \n",
            "---  ------          --------------  -----  \n",
            " 0   age             41188 non-null  object \n",
            " 1   job             40858 non-null  object \n",
            " 2   marital         41108 non-null  object \n",
            " 3   education       39457 non-null  object \n",
            " 4   default         32591 non-null  object \n",
            " 5   housing         40198 non-null  object \n",
            " 6   loan            40198 non-null  object \n",
            " 7   contact         41188 non-null  object \n",
            " 8   month           41188 non-null  object \n",
            " 9   day_of_week     41188 non-null  object \n",
            " 10  duration        41188 non-null  int64  \n",
            " 11  campaign        41188 non-null  int64  \n",
            " 12  pdays           41188 non-null  float64\n",
            " 13  previous        41188 non-null  int64  \n",
            " 14  poutcome        41188 non-null  object \n",
            " 15  emp_var_rate    41188 non-null  float64\n",
            " 16  cons_price_idx  41188 non-null  float64\n",
            " 17  cons_conf_idx   41188 non-null  float64\n",
            " 18  euribor3m       41188 non-null  float64\n",
            " 19  nr_employed     41188 non-null  float64\n",
            " 20  y               41188 non-null  int64  \n",
            "dtypes: float64(6), int64(4), object(11)\n",
            "memory usage: 6.6+ MB\n"
          ],
          "name": "stdout"
        }
      ]
    },
    {
      "cell_type": "code",
      "metadata": {
        "colab": {
          "base_uri": "https://localhost:8080/"
        },
        "id": "WQcsdBQVRjCY",
        "outputId": "a80e71a1-803c-44ac-8514-4c67af156907"
      },
      "source": [
        "df.isnull().sum()"
      ],
      "execution_count": 3,
      "outputs": [
        {
          "output_type": "execute_result",
          "data": {
            "text/plain": [
              "age                  0\n",
              "job                330\n",
              "marital             80\n",
              "education         1731\n",
              "default           8597\n",
              "housing            990\n",
              "loan               990\n",
              "contact              0\n",
              "month                0\n",
              "day_of_week          0\n",
              "duration             0\n",
              "campaign             0\n",
              "pdays                0\n",
              "previous             0\n",
              "poutcome             0\n",
              "emp_var_rate         0\n",
              "cons_price_idx       0\n",
              "cons_conf_idx        0\n",
              "euribor3m            0\n",
              "nr_employed          0\n",
              "y                    0\n",
              "dtype: int64"
            ]
          },
          "metadata": {
            "tags": []
          },
          "execution_count": 3
        }
      ]
    },
    {
      "cell_type": "code",
      "metadata": {
        "id": "Y4ynMpX0_8HU"
      },
      "source": [
        "df = df.dropna()"
      ],
      "execution_count": 4,
      "outputs": []
    },
    {
      "cell_type": "code",
      "metadata": {
        "colab": {
          "base_uri": "https://localhost:8080/"
        },
        "id": "LQAgcrXNAFbS",
        "outputId": "a515fff3-39a5-423b-8bd0-c767fe78c9d3"
      },
      "source": [
        "df.isnull().sum()"
      ],
      "execution_count": 5,
      "outputs": [
        {
          "output_type": "execute_result",
          "data": {
            "text/plain": [
              "age               0\n",
              "job               0\n",
              "marital           0\n",
              "education         0\n",
              "default           0\n",
              "housing           0\n",
              "loan              0\n",
              "contact           0\n",
              "month             0\n",
              "day_of_week       0\n",
              "duration          0\n",
              "campaign          0\n",
              "pdays             0\n",
              "previous          0\n",
              "poutcome          0\n",
              "emp_var_rate      0\n",
              "cons_price_idx    0\n",
              "cons_conf_idx     0\n",
              "euribor3m         0\n",
              "nr_employed       0\n",
              "y                 0\n",
              "dtype: int64"
            ]
          },
          "metadata": {
            "tags": []
          },
          "execution_count": 5
        }
      ]
    },
    {
      "cell_type": "code",
      "metadata": {
        "colab": {
          "base_uri": "https://localhost:8080/"
        },
        "id": "BJ5sthOJ99PO",
        "outputId": "57a5aa14-ebe9-44c6-9d7a-f5ee0b879d92"
      },
      "source": [
        "df.poutcome.unique()"
      ],
      "execution_count": 6,
      "outputs": [
        {
          "output_type": "execute_result",
          "data": {
            "text/plain": [
              "array(['success', 'nonexistent', 'failure'], dtype=object)"
            ]
          },
          "metadata": {
            "tags": []
          },
          "execution_count": 6
        }
      ]
    },
    {
      "cell_type": "code",
      "metadata": {
        "colab": {
          "base_uri": "https://localhost:8080/"
        },
        "id": "JKCX7GDG1-JP",
        "outputId": "f2695332-2afe-4378-87d0-1a55a6af05d2"
      },
      "source": [
        "df.day_of_week.unique()"
      ],
      "execution_count": 7,
      "outputs": [
        {
          "output_type": "execute_result",
          "data": {
            "text/plain": [
              "array(['thu', 'fri', 'tue', 'mon', 'wed'], dtype=object)"
            ]
          },
          "metadata": {
            "tags": []
          },
          "execution_count": 7
        }
      ]
    },
    {
      "cell_type": "code",
      "metadata": {
        "colab": {
          "base_uri": "https://localhost:8080/"
        },
        "id": "Ea_a-3l815Hp",
        "outputId": "4e33d4fb-24e3-451e-d8d6-fd0471f6e4e7"
      },
      "source": [
        "df.month.unique()"
      ],
      "execution_count": 8,
      "outputs": [
        {
          "output_type": "execute_result",
          "data": {
            "text/plain": [
              "array(['jun', 'apr', 'aug', 'jul', 'may', 'oct', 'nov', 'mar', 'dec',\n",
              "       'sep'], dtype=object)"
            ]
          },
          "metadata": {
            "tags": []
          },
          "execution_count": 8
        }
      ]
    },
    {
      "cell_type": "code",
      "metadata": {
        "colab": {
          "base_uri": "https://localhost:8080/"
        },
        "id": "9hheYpXy1yQV",
        "outputId": "57fac57c-d0d6-45b4-d3fa-49c11b298b29"
      },
      "source": [
        "df.contact.unique()"
      ],
      "execution_count": 9,
      "outputs": [
        {
          "output_type": "execute_result",
          "data": {
            "text/plain": [
              "array(['cellular', 'telephone'], dtype=object)"
            ]
          },
          "metadata": {
            "tags": []
          },
          "execution_count": 9
        }
      ]
    },
    {
      "cell_type": "code",
      "metadata": {
        "colab": {
          "base_uri": "https://localhost:8080/"
        },
        "id": "xj6ffBcw1dIi",
        "outputId": "eee610b0-fdd4-4791-f336-6954783a4400"
      },
      "source": [
        "df.loan.unique()"
      ],
      "execution_count": 10,
      "outputs": [
        {
          "output_type": "execute_result",
          "data": {
            "text/plain": [
              "array(['no', 'yes'], dtype=object)"
            ]
          },
          "metadata": {
            "tags": []
          },
          "execution_count": 10
        }
      ]
    },
    {
      "cell_type": "code",
      "metadata": {
        "colab": {
          "base_uri": "https://localhost:8080/"
        },
        "id": "Ma2UOeqt01B-",
        "outputId": "771c5e3e-fa51-4507-f74a-ce8676facc07"
      },
      "source": [
        "df.housing.unique()"
      ],
      "execution_count": 11,
      "outputs": [
        {
          "output_type": "execute_result",
          "data": {
            "text/plain": [
              "array(['yes', 'no'], dtype=object)"
            ]
          },
          "metadata": {
            "tags": []
          },
          "execution_count": 11
        }
      ]
    },
    {
      "cell_type": "code",
      "metadata": {
        "colab": {
          "base_uri": "https://localhost:8080/"
        },
        "id": "rcq5HKC-0txb",
        "outputId": "1806b838-3aba-48cf-feb6-a8f059526914"
      },
      "source": [
        "df.default.unique()"
      ],
      "execution_count": 12,
      "outputs": [
        {
          "output_type": "execute_result",
          "data": {
            "text/plain": [
              "array(['no', 'yes'], dtype=object)"
            ]
          },
          "metadata": {
            "tags": []
          },
          "execution_count": 12
        }
      ]
    },
    {
      "cell_type": "code",
      "metadata": {
        "colab": {
          "base_uri": "https://localhost:8080/"
        },
        "id": "xQhpz41K0Dkb",
        "outputId": "1dd91120-0575-46f6-ef63-d17fc3b30a59"
      },
      "source": [
        "df.education.unique()"
      ],
      "execution_count": 13,
      "outputs": [
        {
          "output_type": "execute_result",
          "data": {
            "text/plain": [
              "array(['university.degree', 'high.school', 'basic.4y', 'basic.9y',\n",
              "       'professional.course', 'basic.6y', 'basic-6y', 'basic-9y',\n",
              "       'basic-4y', 'illiterate'], dtype=object)"
            ]
          },
          "metadata": {
            "tags": []
          },
          "execution_count": 13
        }
      ]
    },
    {
      "cell_type": "code",
      "metadata": {
        "colab": {
          "base_uri": "https://localhost:8080/"
        },
        "id": "F9vtERHcqrD_",
        "outputId": "ab7ca8e7-4300-4db0-81f7-5321db31aca3"
      },
      "source": [
        "df.education = df.education.str.replace('-', '.')\r\n",
        "df.education = df.education.str.replace('.', ' ')\r\n",
        "df.education.unique()\r\n"
      ],
      "execution_count": 14,
      "outputs": [
        {
          "output_type": "execute_result",
          "data": {
            "text/plain": [
              "array(['university degree', 'high school', 'basic 4y', 'basic 9y',\n",
              "       'professional course', 'basic 6y', 'illiterate'], dtype=object)"
            ]
          },
          "metadata": {
            "tags": []
          },
          "execution_count": 14
        }
      ]
    },
    {
      "cell_type": "code",
      "metadata": {
        "colab": {
          "base_uri": "https://localhost:8080/"
        },
        "id": "U6OxOnLHp6Jz",
        "outputId": "ef68e368-c26a-4dc2-d064-7bfcf8068216"
      },
      "source": [
        "df.marital.unique()"
      ],
      "execution_count": 15,
      "outputs": [
        {
          "output_type": "execute_result",
          "data": {
            "text/plain": [
              "array(['single', 'married', 'divorced', 'S', 'M', 'D'], dtype=object)"
            ]
          },
          "metadata": {
            "tags": []
          },
          "execution_count": 15
        }
      ]
    },
    {
      "cell_type": "code",
      "metadata": {
        "colab": {
          "base_uri": "https://localhost:8080/"
        },
        "id": "06RHO7yeqKcE",
        "outputId": "44f2d368-ab3a-4c88-fb28-fc1167e1f51c"
      },
      "source": [
        "df.marital = df.marital.str.replace('S', 'single')\r\n",
        "df.marital = df.marital.str.replace('M', 'married')\r\n",
        "df.marital = df.marital.str.replace('D', 'divorced')\r\n",
        "df.marital.unique()"
      ],
      "execution_count": 16,
      "outputs": [
        {
          "output_type": "execute_result",
          "data": {
            "text/plain": [
              "array(['single', 'married', 'divorced'], dtype=object)"
            ]
          },
          "metadata": {
            "tags": []
          },
          "execution_count": 16
        }
      ]
    },
    {
      "cell_type": "code",
      "metadata": {
        "colab": {
          "base_uri": "https://localhost:8080/"
        },
        "id": "bnoZETRFSaD-",
        "outputId": "79c19d32-c679-48fb-b1bb-9713096ca239"
      },
      "source": [
        "df.y.value_counts()"
      ],
      "execution_count": 17,
      "outputs": [
        {
          "output_type": "execute_result",
          "data": {
            "text/plain": [
              "0    26629\n",
              "1     3859\n",
              "Name: y, dtype: int64"
            ]
          },
          "metadata": {
            "tags": []
          },
          "execution_count": 17
        }
      ]
    },
    {
      "cell_type": "code",
      "metadata": {
        "colab": {
          "base_uri": "https://localhost:8080/"
        },
        "id": "zYfhpKjCpuHF",
        "outputId": "a04b86f2-0fd1-46fe-8f81-717c841e37ea"
      },
      "source": [
        "df.job.unique()"
      ],
      "execution_count": 18,
      "outputs": [
        {
          "output_type": "execute_result",
          "data": {
            "text/plain": [
              "array(['management', 'services', 'retired', 'blue-collar', 'admin.',\n",
              "       'housemaid', 'unemployed', 'technician', 'entrepreneur',\n",
              "       'self-employed', 'student', 'MANAGEMENT', 'RETIRED', 'ADMIN.',\n",
              "       'TECHNICIAN', 'HOUSEMAID', 'SERVICES'], dtype=object)"
            ]
          },
          "metadata": {
            "tags": []
          },
          "execution_count": 18
        }
      ]
    },
    {
      "cell_type": "code",
      "metadata": {
        "colab": {
          "base_uri": "https://localhost:8080/"
        },
        "id": "M-f5BgYiiUqB",
        "outputId": "f8434d38-d639-4cd4-fe5a-e966be7ec7cc"
      },
      "source": [
        "df['job'] = df.job.str.lower()\r\n",
        "df.job.unique()"
      ],
      "execution_count": 19,
      "outputs": [
        {
          "output_type": "execute_result",
          "data": {
            "text/plain": [
              "array(['management', 'services', 'retired', 'blue-collar', 'admin.',\n",
              "       'housemaid', 'unemployed', 'technician', 'entrepreneur',\n",
              "       'self-employed', 'student'], dtype=object)"
            ]
          },
          "metadata": {
            "tags": []
          },
          "execution_count": 19
        }
      ]
    },
    {
      "cell_type": "code",
      "metadata": {
        "colab": {
          "base_uri": "https://localhost:8080/"
        },
        "id": "fZzkdgoWa_Nl",
        "outputId": "a8622329-7d54-41c3-a83e-3ca8596fdfc0"
      },
      "source": [
        "df.age.unique() # There are unwanted a data"
      ],
      "execution_count": 20,
      "outputs": [
        {
          "output_type": "execute_result",
          "data": {
            "text/plain": [
              "array(['28', '39', '55', '30', '37', '36', '27', '34', '41', '33', '26',\n",
              "       '35', '32', '47', '46', '29', '44', '54', '42', '72', '43', '31',\n",
              "       '24', '38', '68', '48', '59', '50', '45', '35-30', '53', '25',\n",
              "       '40', '63', '58', '49', '51', '23', '56', '52', '20', '57', '74',\n",
              "       '80', '61', '60', '25-30', '62', '75', '21', '82', '18-25',\n",
              "       '30-32', '64', '70', '76', '73', '66', '22', '77', '71', '19',\n",
              "       '79', '88', '65', '30-35', '67', '81', '69', '18', '85', '83',\n",
              "       '45-50', '84', '20-40', '78', '35-40', '94', '91', '89', '87',\n",
              "       '86', '95', '30-40', 39, 30, 37, 22, 31, 24, 45, 50, 33, 27, 28,\n",
              "       32, 51, 41, 43, 58, 44, 35, 29, 26, 57, 25, 42, 48, 46, 38, 34, 54,\n",
              "       23, 49, 62, 40, 75, 56, 53, 52, 78, 47, 36, 70, 60, 20, 66, 61, 55,\n",
              "       59, 21, 88, 68, 73, 80, 79, 71, 63, 76, 83, 65, 19, 86, 17, 72, 69,\n",
              "       81, 64, 77, 67, 74, 85, 82], dtype=object)"
            ]
          },
          "metadata": {
            "tags": []
          },
          "execution_count": 20
        }
      ]
    },
    {
      "cell_type": "code",
      "metadata": {
        "id": "-AZBswJyaaEN"
      },
      "source": [
        "# ranged_index = df[df['age'] == '35-30'].index\r\n",
        "# display(ranged_index)\r\n",
        "# df.drop(ranged_index,inplace=True)"
      ],
      "execution_count": 21,
      "outputs": []
    },
    {
      "cell_type": "code",
      "metadata": {
        "colab": {
          "base_uri": "https://localhost:8080/"
        },
        "id": "yVilyCnDdmlc",
        "outputId": "c094e6ba-9e9a-49c9-89d1-de44975f807e"
      },
      "source": [
        "# df.age = df.age[:, 2]\r\n",
        "# df.age.value_counts()\r\n",
        "df.age = df.age.astype(str).str[:2]\r\n",
        "df.age = df.age.astype('int64')\r\n",
        "df.age.unique()"
      ],
      "execution_count": 22,
      "outputs": [
        {
          "output_type": "execute_result",
          "data": {
            "text/plain": [
              "array([28, 39, 55, 30, 37, 36, 27, 34, 41, 33, 26, 35, 32, 47, 46, 29, 44,\n",
              "       54, 42, 72, 43, 31, 24, 38, 68, 48, 59, 50, 45, 53, 25, 40, 63, 58,\n",
              "       49, 51, 23, 56, 52, 20, 57, 74, 80, 61, 60, 62, 75, 21, 82, 18, 64,\n",
              "       70, 76, 73, 66, 22, 77, 71, 19, 79, 88, 65, 67, 81, 69, 85, 83, 84,\n",
              "       78, 94, 91, 89, 87, 86, 95, 17])"
            ]
          },
          "metadata": {
            "tags": []
          },
          "execution_count": 22
        }
      ]
    },
    {
      "cell_type": "code",
      "metadata": {
        "colab": {
          "base_uri": "https://localhost:8080/",
          "height": 253
        },
        "id": "C0NlOCHcqjum",
        "outputId": "0af23c1a-c5e9-4efa-c416-89da31b35ef1"
      },
      "source": [
        "df.head() # AFTER ALL THE CLEANING"
      ],
      "execution_count": 23,
      "outputs": [
        {
          "output_type": "execute_result",
          "data": {
            "text/html": [
              "<div>\n",
              "<style scoped>\n",
              "    .dataframe tbody tr th:only-of-type {\n",
              "        vertical-align: middle;\n",
              "    }\n",
              "\n",
              "    .dataframe tbody tr th {\n",
              "        vertical-align: top;\n",
              "    }\n",
              "\n",
              "    .dataframe thead th {\n",
              "        text-align: right;\n",
              "    }\n",
              "</style>\n",
              "<table border=\"1\" class=\"dataframe\">\n",
              "  <thead>\n",
              "    <tr style=\"text-align: right;\">\n",
              "      <th></th>\n",
              "      <th>age</th>\n",
              "      <th>job</th>\n",
              "      <th>marital</th>\n",
              "      <th>education</th>\n",
              "      <th>default</th>\n",
              "      <th>housing</th>\n",
              "      <th>loan</th>\n",
              "      <th>contact</th>\n",
              "      <th>month</th>\n",
              "      <th>day_of_week</th>\n",
              "      <th>duration</th>\n",
              "      <th>campaign</th>\n",
              "      <th>pdays</th>\n",
              "      <th>previous</th>\n",
              "      <th>poutcome</th>\n",
              "      <th>emp_var_rate</th>\n",
              "      <th>cons_price_idx</th>\n",
              "      <th>cons_conf_idx</th>\n",
              "      <th>euribor3m</th>\n",
              "      <th>nr_employed</th>\n",
              "      <th>y</th>\n",
              "    </tr>\n",
              "  </thead>\n",
              "  <tbody>\n",
              "    <tr>\n",
              "      <th>2</th>\n",
              "      <td>28</td>\n",
              "      <td>management</td>\n",
              "      <td>single</td>\n",
              "      <td>university degree</td>\n",
              "      <td>no</td>\n",
              "      <td>yes</td>\n",
              "      <td>no</td>\n",
              "      <td>cellular</td>\n",
              "      <td>jun</td>\n",
              "      <td>thu</td>\n",
              "      <td>339</td>\n",
              "      <td>3</td>\n",
              "      <td>6.0</td>\n",
              "      <td>2</td>\n",
              "      <td>success</td>\n",
              "      <td>-1.7</td>\n",
              "      <td>94.055</td>\n",
              "      <td>-39.8</td>\n",
              "      <td>0.729</td>\n",
              "      <td>4991.6</td>\n",
              "      <td>1</td>\n",
              "    </tr>\n",
              "    <tr>\n",
              "      <th>3</th>\n",
              "      <td>39</td>\n",
              "      <td>services</td>\n",
              "      <td>married</td>\n",
              "      <td>high school</td>\n",
              "      <td>no</td>\n",
              "      <td>no</td>\n",
              "      <td>no</td>\n",
              "      <td>cellular</td>\n",
              "      <td>apr</td>\n",
              "      <td>fri</td>\n",
              "      <td>185</td>\n",
              "      <td>2</td>\n",
              "      <td>999.0</td>\n",
              "      <td>0</td>\n",
              "      <td>nonexistent</td>\n",
              "      <td>-1.8</td>\n",
              "      <td>93.075</td>\n",
              "      <td>-47.1</td>\n",
              "      <td>1.405</td>\n",
              "      <td>5099.1</td>\n",
              "      <td>0</td>\n",
              "    </tr>\n",
              "    <tr>\n",
              "      <th>4</th>\n",
              "      <td>55</td>\n",
              "      <td>retired</td>\n",
              "      <td>married</td>\n",
              "      <td>basic 4y</td>\n",
              "      <td>no</td>\n",
              "      <td>yes</td>\n",
              "      <td>no</td>\n",
              "      <td>cellular</td>\n",
              "      <td>aug</td>\n",
              "      <td>fri</td>\n",
              "      <td>137</td>\n",
              "      <td>1</td>\n",
              "      <td>3.0</td>\n",
              "      <td>1</td>\n",
              "      <td>success</td>\n",
              "      <td>-2.9</td>\n",
              "      <td>92.201</td>\n",
              "      <td>-31.4</td>\n",
              "      <td>0.869</td>\n",
              "      <td>5076.2</td>\n",
              "      <td>1</td>\n",
              "    </tr>\n",
              "    <tr>\n",
              "      <th>5</th>\n",
              "      <td>30</td>\n",
              "      <td>management</td>\n",
              "      <td>divorced</td>\n",
              "      <td>basic 4y</td>\n",
              "      <td>no</td>\n",
              "      <td>yes</td>\n",
              "      <td>no</td>\n",
              "      <td>cellular</td>\n",
              "      <td>jul</td>\n",
              "      <td>tue</td>\n",
              "      <td>68</td>\n",
              "      <td>8</td>\n",
              "      <td>999.0</td>\n",
              "      <td>0</td>\n",
              "      <td>nonexistent</td>\n",
              "      <td>1.4</td>\n",
              "      <td>93.918</td>\n",
              "      <td>-42.7</td>\n",
              "      <td>4.961</td>\n",
              "      <td>5228.1</td>\n",
              "      <td>0</td>\n",
              "    </tr>\n",
              "    <tr>\n",
              "      <th>6</th>\n",
              "      <td>37</td>\n",
              "      <td>blue-collar</td>\n",
              "      <td>married</td>\n",
              "      <td>basic 4y</td>\n",
              "      <td>no</td>\n",
              "      <td>yes</td>\n",
              "      <td>no</td>\n",
              "      <td>cellular</td>\n",
              "      <td>may</td>\n",
              "      <td>thu</td>\n",
              "      <td>204</td>\n",
              "      <td>1</td>\n",
              "      <td>999.0</td>\n",
              "      <td>0</td>\n",
              "      <td>nonexistent</td>\n",
              "      <td>-1.8</td>\n",
              "      <td>92.893</td>\n",
              "      <td>-46.2</td>\n",
              "      <td>1.327</td>\n",
              "      <td>5099.1</td>\n",
              "      <td>0</td>\n",
              "    </tr>\n",
              "  </tbody>\n",
              "</table>\n",
              "</div>"
            ],
            "text/plain": [
              "   age          job   marital  ... euribor3m nr_employed  y\n",
              "2   28   management    single  ...     0.729      4991.6  1\n",
              "3   39     services   married  ...     1.405      5099.1  0\n",
              "4   55      retired   married  ...     0.869      5076.2  1\n",
              "5   30   management  divorced  ...     4.961      5228.1  0\n",
              "6   37  blue-collar   married  ...     1.327      5099.1  0\n",
              "\n",
              "[5 rows x 21 columns]"
            ]
          },
          "metadata": {
            "tags": []
          },
          "execution_count": 23
        }
      ]
    },
    {
      "cell_type": "code",
      "metadata": {
        "colab": {
          "base_uri": "https://localhost:8080/"
        },
        "id": "FU53mVIVBvr3",
        "outputId": "9167a714-594f-4f62-f617-88d342b2d678"
      },
      "source": [
        "df.shape"
      ],
      "execution_count": 24,
      "outputs": [
        {
          "output_type": "execute_result",
          "data": {
            "text/plain": [
              "(30488, 21)"
            ]
          },
          "metadata": {
            "tags": []
          },
          "execution_count": 24
        }
      ]
    },
    {
      "cell_type": "code",
      "metadata": {
        "colab": {
          "base_uri": "https://localhost:8080/"
        },
        "id": "OG3mLNeMClmR",
        "outputId": "772a7019-1024-4ba1-e5ad-ed3f3ff246a9"
      },
      "source": [
        "df.info()"
      ],
      "execution_count": 25,
      "outputs": [
        {
          "output_type": "stream",
          "text": [
            "<class 'pandas.core.frame.DataFrame'>\n",
            "Int64Index: 30488 entries, 2 to 41187\n",
            "Data columns (total 21 columns):\n",
            " #   Column          Non-Null Count  Dtype  \n",
            "---  ------          --------------  -----  \n",
            " 0   age             30488 non-null  int64  \n",
            " 1   job             30488 non-null  object \n",
            " 2   marital         30488 non-null  object \n",
            " 3   education       30488 non-null  object \n",
            " 4   default         30488 non-null  object \n",
            " 5   housing         30488 non-null  object \n",
            " 6   loan            30488 non-null  object \n",
            " 7   contact         30488 non-null  object \n",
            " 8   month           30488 non-null  object \n",
            " 9   day_of_week     30488 non-null  object \n",
            " 10  duration        30488 non-null  int64  \n",
            " 11  campaign        30488 non-null  int64  \n",
            " 12  pdays           30488 non-null  float64\n",
            " 13  previous        30488 non-null  int64  \n",
            " 14  poutcome        30488 non-null  object \n",
            " 15  emp_var_rate    30488 non-null  float64\n",
            " 16  cons_price_idx  30488 non-null  float64\n",
            " 17  cons_conf_idx   30488 non-null  float64\n",
            " 18  euribor3m       30488 non-null  float64\n",
            " 19  nr_employed     30488 non-null  float64\n",
            " 20  y               30488 non-null  int64  \n",
            "dtypes: float64(6), int64(5), object(10)\n",
            "memory usage: 5.1+ MB\n"
          ],
          "name": "stdout"
        }
      ]
    },
    {
      "cell_type": "code",
      "metadata": {
        "colab": {
          "base_uri": "https://localhost:8080/",
          "height": 253
        },
        "id": "-BGJPk_Ny4DR",
        "outputId": "4e459663-5676-4a4a-f7b5-4d5e4c6f890c"
      },
      "source": [
        "df.tail()"
      ],
      "execution_count": 26,
      "outputs": [
        {
          "output_type": "execute_result",
          "data": {
            "text/html": [
              "<div>\n",
              "<style scoped>\n",
              "    .dataframe tbody tr th:only-of-type {\n",
              "        vertical-align: middle;\n",
              "    }\n",
              "\n",
              "    .dataframe tbody tr th {\n",
              "        vertical-align: top;\n",
              "    }\n",
              "\n",
              "    .dataframe thead th {\n",
              "        text-align: right;\n",
              "    }\n",
              "</style>\n",
              "<table border=\"1\" class=\"dataframe\">\n",
              "  <thead>\n",
              "    <tr style=\"text-align: right;\">\n",
              "      <th></th>\n",
              "      <th>age</th>\n",
              "      <th>job</th>\n",
              "      <th>marital</th>\n",
              "      <th>education</th>\n",
              "      <th>default</th>\n",
              "      <th>housing</th>\n",
              "      <th>loan</th>\n",
              "      <th>contact</th>\n",
              "      <th>month</th>\n",
              "      <th>day_of_week</th>\n",
              "      <th>duration</th>\n",
              "      <th>campaign</th>\n",
              "      <th>pdays</th>\n",
              "      <th>previous</th>\n",
              "      <th>poutcome</th>\n",
              "      <th>emp_var_rate</th>\n",
              "      <th>cons_price_idx</th>\n",
              "      <th>cons_conf_idx</th>\n",
              "      <th>euribor3m</th>\n",
              "      <th>nr_employed</th>\n",
              "      <th>y</th>\n",
              "    </tr>\n",
              "  </thead>\n",
              "  <tbody>\n",
              "    <tr>\n",
              "      <th>41179</th>\n",
              "      <td>29</td>\n",
              "      <td>technician</td>\n",
              "      <td>single</td>\n",
              "      <td>basic 9y</td>\n",
              "      <td>no</td>\n",
              "      <td>yes</td>\n",
              "      <td>no</td>\n",
              "      <td>cellular</td>\n",
              "      <td>may</td>\n",
              "      <td>mon</td>\n",
              "      <td>214</td>\n",
              "      <td>1</td>\n",
              "      <td>999.0</td>\n",
              "      <td>0</td>\n",
              "      <td>nonexistent</td>\n",
              "      <td>-1.8</td>\n",
              "      <td>92.893</td>\n",
              "      <td>-46.2</td>\n",
              "      <td>1.299</td>\n",
              "      <td>5099.1</td>\n",
              "      <td>0</td>\n",
              "    </tr>\n",
              "    <tr>\n",
              "      <th>41181</th>\n",
              "      <td>39</td>\n",
              "      <td>admin.</td>\n",
              "      <td>married</td>\n",
              "      <td>university degree</td>\n",
              "      <td>no</td>\n",
              "      <td>no</td>\n",
              "      <td>no</td>\n",
              "      <td>cellular</td>\n",
              "      <td>nov</td>\n",
              "      <td>tue</td>\n",
              "      <td>123</td>\n",
              "      <td>2</td>\n",
              "      <td>999.0</td>\n",
              "      <td>0</td>\n",
              "      <td>nonexistent</td>\n",
              "      <td>-0.1</td>\n",
              "      <td>93.200</td>\n",
              "      <td>-42.0</td>\n",
              "      <td>4.153</td>\n",
              "      <td>5195.8</td>\n",
              "      <td>0</td>\n",
              "    </tr>\n",
              "    <tr>\n",
              "      <th>41182</th>\n",
              "      <td>24</td>\n",
              "      <td>admin.</td>\n",
              "      <td>married</td>\n",
              "      <td>high school</td>\n",
              "      <td>no</td>\n",
              "      <td>yes</td>\n",
              "      <td>no</td>\n",
              "      <td>cellular</td>\n",
              "      <td>may</td>\n",
              "      <td>thu</td>\n",
              "      <td>118</td>\n",
              "      <td>4</td>\n",
              "      <td>999.0</td>\n",
              "      <td>1</td>\n",
              "      <td>failure</td>\n",
              "      <td>-1.8</td>\n",
              "      <td>92.893</td>\n",
              "      <td>-46.2</td>\n",
              "      <td>1.266</td>\n",
              "      <td>5099.1</td>\n",
              "      <td>0</td>\n",
              "    </tr>\n",
              "    <tr>\n",
              "      <th>41186</th>\n",
              "      <td>48</td>\n",
              "      <td>technician</td>\n",
              "      <td>married</td>\n",
              "      <td>professional course</td>\n",
              "      <td>no</td>\n",
              "      <td>no</td>\n",
              "      <td>yes</td>\n",
              "      <td>telephone</td>\n",
              "      <td>oct</td>\n",
              "      <td>tue</td>\n",
              "      <td>200</td>\n",
              "      <td>2</td>\n",
              "      <td>999.0</td>\n",
              "      <td>0</td>\n",
              "      <td>nonexistent</td>\n",
              "      <td>-3.4</td>\n",
              "      <td>92.431</td>\n",
              "      <td>-26.9</td>\n",
              "      <td>0.742</td>\n",
              "      <td>5017.5</td>\n",
              "      <td>0</td>\n",
              "    </tr>\n",
              "    <tr>\n",
              "      <th>41187</th>\n",
              "      <td>25</td>\n",
              "      <td>student</td>\n",
              "      <td>single</td>\n",
              "      <td>high school</td>\n",
              "      <td>no</td>\n",
              "      <td>no</td>\n",
              "      <td>no</td>\n",
              "      <td>telephone</td>\n",
              "      <td>may</td>\n",
              "      <td>fri</td>\n",
              "      <td>112</td>\n",
              "      <td>4</td>\n",
              "      <td>999.0</td>\n",
              "      <td>0</td>\n",
              "      <td>nonexistent</td>\n",
              "      <td>1.1</td>\n",
              "      <td>93.994</td>\n",
              "      <td>-36.4</td>\n",
              "      <td>4.859</td>\n",
              "      <td>5191.0</td>\n",
              "      <td>0</td>\n",
              "    </tr>\n",
              "  </tbody>\n",
              "</table>\n",
              "</div>"
            ],
            "text/plain": [
              "       age         job  marital  ... euribor3m nr_employed  y\n",
              "41179   29  technician   single  ...     1.299      5099.1  0\n",
              "41181   39      admin.  married  ...     4.153      5195.8  0\n",
              "41182   24      admin.  married  ...     1.266      5099.1  0\n",
              "41186   48  technician  married  ...     0.742      5017.5  0\n",
              "41187   25     student   single  ...     4.859      5191.0  0\n",
              "\n",
              "[5 rows x 21 columns]"
            ]
          },
          "metadata": {
            "tags": []
          },
          "execution_count": 26
        }
      ]
    },
    {
      "cell_type": "markdown",
      "metadata": {
        "id": "cbOevzTEiLaN"
      },
      "source": [
        "# Section II : Data Cleaning \n",
        "\n",
        "Since this is real world data , A good practice is to make sure the dataset is devoid of any nuances \n",
        "\n",
        "Part I : Get the `dtypes` of all the columns of our dataset <br>\n",
        "Part II : Refering to the UCI data description , explore the data in your columns and check if there are any errors <br>\n",
        "Part III : Make note of the deviation in the dataset compared to the description provided by [UCI](https://archive.ics.uci.edu/ml/datasets/Bank+Marketing) <br>\n",
        "Part IV : Using Data Cleaning principles you learned from [Pandas Tutorial](https://github.com/Tech-i-s/data-science-course-wiki/tree/master/common/step%201-4%20(Pandas)) figure out the best ways to get rid of the dirty data \n",
        "Part V : Print the cleaned data\n",
        "\n"
      ]
    },
    {
      "cell_type": "markdown",
      "metadata": {
        "id": "tLat-RKjwp43"
      },
      "source": [
        "# Section III : Exploring data with Group by\n",
        "\n",
        "In this section , we must create some primitive EDA\n",
        "\n",
        "Use the `groupby` function on the mean of the following columns :\n",
        "\n",
        "I : y <br>\n",
        "II : job <br>\n",
        "III : marital<br>\n",
        "IV : education<br>\n",
        "\n",
        "Make a note of what you learn from the outputs !\n",
        "\n",
        "\n"
      ]
    },
    {
      "cell_type": "code",
      "metadata": {
        "colab": {
          "base_uri": "https://localhost:8080/",
          "height": 159
        },
        "id": "TZBwLT22EVQp",
        "outputId": "765cf995-b297-4427-a38d-e8ef8c622811"
      },
      "source": [
        "df.groupby(['y']).mean()"
      ],
      "execution_count": 27,
      "outputs": [
        {
          "output_type": "execute_result",
          "data": {
            "text/html": [
              "<div>\n",
              "<style scoped>\n",
              "    .dataframe tbody tr th:only-of-type {\n",
              "        vertical-align: middle;\n",
              "    }\n",
              "\n",
              "    .dataframe tbody tr th {\n",
              "        vertical-align: top;\n",
              "    }\n",
              "\n",
              "    .dataframe thead th {\n",
              "        text-align: right;\n",
              "    }\n",
              "</style>\n",
              "<table border=\"1\" class=\"dataframe\">\n",
              "  <thead>\n",
              "    <tr style=\"text-align: right;\">\n",
              "      <th></th>\n",
              "      <th>age</th>\n",
              "      <th>duration</th>\n",
              "      <th>campaign</th>\n",
              "      <th>pdays</th>\n",
              "      <th>previous</th>\n",
              "      <th>emp_var_rate</th>\n",
              "      <th>cons_price_idx</th>\n",
              "      <th>cons_conf_idx</th>\n",
              "      <th>euribor3m</th>\n",
              "      <th>nr_employed</th>\n",
              "    </tr>\n",
              "    <tr>\n",
              "      <th>y</th>\n",
              "      <th></th>\n",
              "      <th></th>\n",
              "      <th></th>\n",
              "      <th></th>\n",
              "      <th></th>\n",
              "      <th></th>\n",
              "      <th></th>\n",
              "      <th></th>\n",
              "      <th></th>\n",
              "      <th></th>\n",
              "    </tr>\n",
              "  </thead>\n",
              "  <tbody>\n",
              "    <tr>\n",
              "      <th>0</th>\n",
              "      <td>38.836870</td>\n",
              "      <td>220.277555</td>\n",
              "      <td>2.593113</td>\n",
              "      <td>982.452214</td>\n",
              "      <td>0.148898</td>\n",
              "      <td>0.115690</td>\n",
              "      <td>93.552002</td>\n",
              "      <td>-40.714638</td>\n",
              "      <td>3.673637</td>\n",
              "      <td>5171.234293</td>\n",
              "    </tr>\n",
              "    <tr>\n",
              "      <th>1</th>\n",
              "      <td>40.352682</td>\n",
              "      <td>530.028505</td>\n",
              "      <td>2.026950</td>\n",
              "      <td>783.088624</td>\n",
              "      <td>0.507385</td>\n",
              "      <td>-1.363281</td>\n",
              "      <td>93.325331</td>\n",
              "      <td>-39.826820</td>\n",
              "      <td>1.985306</td>\n",
              "      <td>5088.904172</td>\n",
              "    </tr>\n",
              "  </tbody>\n",
              "</table>\n",
              "</div>"
            ],
            "text/plain": [
              "         age    duration  campaign  ...  cons_conf_idx  euribor3m  nr_employed\n",
              "y                                   ...                                       \n",
              "0  38.836870  220.277555  2.593113  ...     -40.714638   3.673637  5171.234293\n",
              "1  40.352682  530.028505  2.026950  ...     -39.826820   1.985306  5088.904172\n",
              "\n",
              "[2 rows x 10 columns]"
            ]
          },
          "metadata": {
            "tags": []
          },
          "execution_count": 27
        }
      ]
    },
    {
      "cell_type": "code",
      "metadata": {
        "colab": {
          "base_uri": "https://localhost:8080/",
          "height": 448
        },
        "id": "RQUA9GEpGmn3",
        "outputId": "17ac000e-c1da-45fe-cb6d-3d9159caefda"
      },
      "source": [
        "job = df.groupby(['job']).mean()\r\n",
        "job"
      ],
      "execution_count": 28,
      "outputs": [
        {
          "output_type": "execute_result",
          "data": {
            "text/html": [
              "<div>\n",
              "<style scoped>\n",
              "    .dataframe tbody tr th:only-of-type {\n",
              "        vertical-align: middle;\n",
              "    }\n",
              "\n",
              "    .dataframe tbody tr th {\n",
              "        vertical-align: top;\n",
              "    }\n",
              "\n",
              "    .dataframe thead th {\n",
              "        text-align: right;\n",
              "    }\n",
              "</style>\n",
              "<table border=\"1\" class=\"dataframe\">\n",
              "  <thead>\n",
              "    <tr style=\"text-align: right;\">\n",
              "      <th></th>\n",
              "      <th>age</th>\n",
              "      <th>duration</th>\n",
              "      <th>campaign</th>\n",
              "      <th>pdays</th>\n",
              "      <th>previous</th>\n",
              "      <th>emp_var_rate</th>\n",
              "      <th>cons_price_idx</th>\n",
              "      <th>cons_conf_idx</th>\n",
              "      <th>euribor3m</th>\n",
              "      <th>nr_employed</th>\n",
              "      <th>y</th>\n",
              "    </tr>\n",
              "    <tr>\n",
              "      <th>job</th>\n",
              "      <th></th>\n",
              "      <th></th>\n",
              "      <th></th>\n",
              "      <th></th>\n",
              "      <th></th>\n",
              "      <th></th>\n",
              "      <th></th>\n",
              "      <th></th>\n",
              "      <th></th>\n",
              "      <th></th>\n",
              "      <th></th>\n",
              "    </tr>\n",
              "  </thead>\n",
              "  <tbody>\n",
              "    <tr>\n",
              "      <th>admin.</th>\n",
              "      <td>37.544352</td>\n",
              "      <td>256.957651</td>\n",
              "      <td>2.595284</td>\n",
              "      <td>951.164015</td>\n",
              "      <td>0.204761</td>\n",
              "      <td>-0.091862</td>\n",
              "      <td>93.507194</td>\n",
              "      <td>-40.315314</td>\n",
              "      <td>3.435718</td>\n",
              "      <td>5159.444420</td>\n",
              "      <td>0.139178</td>\n",
              "    </tr>\n",
              "    <tr>\n",
              "      <th>blue-collar</th>\n",
              "      <td>38.160352</td>\n",
              "      <td>267.684229</td>\n",
              "      <td>2.494273</td>\n",
              "      <td>981.692159</td>\n",
              "      <td>0.146960</td>\n",
              "      <td>0.054361</td>\n",
              "      <td>93.586726</td>\n",
              "      <td>-41.662467</td>\n",
              "      <td>3.564300</td>\n",
              "      <td>5168.276934</td>\n",
              "      <td>0.079648</td>\n",
              "    </tr>\n",
              "    <tr>\n",
              "      <th>entrepreneur</th>\n",
              "      <td>40.896235</td>\n",
              "      <td>261.168962</td>\n",
              "      <td>2.421488</td>\n",
              "      <td>985.384757</td>\n",
              "      <td>0.156107</td>\n",
              "      <td>0.052617</td>\n",
              "      <td>93.570803</td>\n",
              "      <td>-41.408632</td>\n",
              "      <td>3.686174</td>\n",
              "      <td>5172.142883</td>\n",
              "      <td>0.092746</td>\n",
              "    </tr>\n",
              "    <tr>\n",
              "      <th>housemaid</th>\n",
              "      <td>44.675362</td>\n",
              "      <td>256.455072</td>\n",
              "      <td>2.436232</td>\n",
              "      <td>945.742029</td>\n",
              "      <td>0.176812</td>\n",
              "      <td>0.225072</td>\n",
              "      <td>93.625751</td>\n",
              "      <td>-39.415362</td>\n",
              "      <td>3.794786</td>\n",
              "      <td>5169.542174</td>\n",
              "      <td>0.126087</td>\n",
              "    </tr>\n",
              "    <tr>\n",
              "      <th>management</th>\n",
              "      <td>41.521852</td>\n",
              "      <td>255.290350</td>\n",
              "      <td>2.412808</td>\n",
              "      <td>957.721333</td>\n",
              "      <td>0.200346</td>\n",
              "      <td>-0.127650</td>\n",
              "      <td>93.474031</td>\n",
              "      <td>-40.581653</td>\n",
              "      <td>3.499728</td>\n",
              "      <td>5162.667114</td>\n",
              "      <td>0.123756</td>\n",
              "    </tr>\n",
              "    <tr>\n",
              "      <th>retired</th>\n",
              "      <td>63.199836</td>\n",
              "      <td>277.750000</td>\n",
              "      <td>2.438322</td>\n",
              "      <td>876.478618</td>\n",
              "      <td>0.383224</td>\n",
              "      <td>-1.091447</td>\n",
              "      <td>93.338114</td>\n",
              "      <td>-38.448026</td>\n",
              "      <td>2.348341</td>\n",
              "      <td>5103.521546</td>\n",
              "      <td>0.293586</td>\n",
              "    </tr>\n",
              "    <tr>\n",
              "      <th>self-employed</th>\n",
              "      <td>38.816850</td>\n",
              "      <td>262.997253</td>\n",
              "      <td>2.635531</td>\n",
              "      <td>970.792125</td>\n",
              "      <td>0.161172</td>\n",
              "      <td>-0.078297</td>\n",
              "      <td>93.498116</td>\n",
              "      <td>-40.645147</td>\n",
              "      <td>3.509158</td>\n",
              "      <td>5163.935989</td>\n",
              "      <td>0.120879</td>\n",
              "    </tr>\n",
              "    <tr>\n",
              "      <th>services</th>\n",
              "      <td>36.760238</td>\n",
              "      <td>262.696885</td>\n",
              "      <td>2.549877</td>\n",
              "      <td>976.041302</td>\n",
              "      <td>0.175009</td>\n",
              "      <td>0.036892</td>\n",
              "      <td>93.592489</td>\n",
              "      <td>-41.571544</td>\n",
              "      <td>3.543978</td>\n",
              "      <td>5165.920021</td>\n",
              "      <td>0.090305</td>\n",
              "    </tr>\n",
              "    <tr>\n",
              "      <th>student</th>\n",
              "      <td>25.365574</td>\n",
              "      <td>280.995082</td>\n",
              "      <td>2.052459</td>\n",
              "      <td>836.265574</td>\n",
              "      <td>0.524590</td>\n",
              "      <td>-1.514426</td>\n",
              "      <td>93.288307</td>\n",
              "      <td>-40.354918</td>\n",
              "      <td>1.775456</td>\n",
              "      <td>5082.439016</td>\n",
              "      <td>0.332787</td>\n",
              "    </tr>\n",
              "    <tr>\n",
              "      <th>technician</th>\n",
              "      <td>37.601864</td>\n",
              "      <td>249.123698</td>\n",
              "      <td>2.552531</td>\n",
              "      <td>961.638955</td>\n",
              "      <td>0.166271</td>\n",
              "      <td>0.169139</td>\n",
              "      <td>93.523866</td>\n",
              "      <td>-40.040490</td>\n",
              "      <td>3.708372</td>\n",
              "      <td>5171.559766</td>\n",
              "      <td>0.117120</td>\n",
              "    </tr>\n",
              "    <tr>\n",
              "      <th>unemployed</th>\n",
              "      <td>38.581301</td>\n",
              "      <td>251.135501</td>\n",
              "      <td>2.439024</td>\n",
              "      <td>915.543360</td>\n",
              "      <td>0.234417</td>\n",
              "      <td>-0.404201</td>\n",
              "      <td>93.479691</td>\n",
              "      <td>-39.935366</td>\n",
              "      <td>3.155978</td>\n",
              "      <td>5144.040786</td>\n",
              "      <td>0.170732</td>\n",
              "    </tr>\n",
              "  </tbody>\n",
              "</table>\n",
              "</div>"
            ],
            "text/plain": [
              "                     age    duration  ...  nr_employed         y\n",
              "job                                   ...                       \n",
              "admin.         37.544352  256.957651  ...  5159.444420  0.139178\n",
              "blue-collar    38.160352  267.684229  ...  5168.276934  0.079648\n",
              "entrepreneur   40.896235  261.168962  ...  5172.142883  0.092746\n",
              "housemaid      44.675362  256.455072  ...  5169.542174  0.126087\n",
              "management     41.521852  255.290350  ...  5162.667114  0.123756\n",
              "retired        63.199836  277.750000  ...  5103.521546  0.293586\n",
              "self-employed  38.816850  262.997253  ...  5163.935989  0.120879\n",
              "services       36.760238  262.696885  ...  5165.920021  0.090305\n",
              "student        25.365574  280.995082  ...  5082.439016  0.332787\n",
              "technician     37.601864  249.123698  ...  5171.559766  0.117120\n",
              "unemployed     38.581301  251.135501  ...  5144.040786  0.170732\n",
              "\n",
              "[11 rows x 11 columns]"
            ]
          },
          "metadata": {
            "tags": []
          },
          "execution_count": 28
        }
      ]
    },
    {
      "cell_type": "code",
      "metadata": {
        "colab": {
          "base_uri": "https://localhost:8080/",
          "height": 189
        },
        "id": "MtNeSgeiGmHZ",
        "outputId": "0fe408fc-17ae-4397-e910-640a74dc7583"
      },
      "source": [
        "df.groupby(['marital']).mean()"
      ],
      "execution_count": 29,
      "outputs": [
        {
          "output_type": "execute_result",
          "data": {
            "text/html": [
              "<div>\n",
              "<style scoped>\n",
              "    .dataframe tbody tr th:only-of-type {\n",
              "        vertical-align: middle;\n",
              "    }\n",
              "\n",
              "    .dataframe tbody tr th {\n",
              "        vertical-align: top;\n",
              "    }\n",
              "\n",
              "    .dataframe thead th {\n",
              "        text-align: right;\n",
              "    }\n",
              "</style>\n",
              "<table border=\"1\" class=\"dataframe\">\n",
              "  <thead>\n",
              "    <tr style=\"text-align: right;\">\n",
              "      <th></th>\n",
              "      <th>age</th>\n",
              "      <th>duration</th>\n",
              "      <th>campaign</th>\n",
              "      <th>pdays</th>\n",
              "      <th>previous</th>\n",
              "      <th>emp_var_rate</th>\n",
              "      <th>cons_price_idx</th>\n",
              "      <th>cons_conf_idx</th>\n",
              "      <th>euribor3m</th>\n",
              "      <th>nr_employed</th>\n",
              "      <th>y</th>\n",
              "    </tr>\n",
              "    <tr>\n",
              "      <th>marital</th>\n",
              "      <th></th>\n",
              "      <th></th>\n",
              "      <th></th>\n",
              "      <th></th>\n",
              "      <th></th>\n",
              "      <th></th>\n",
              "      <th></th>\n",
              "      <th></th>\n",
              "      <th></th>\n",
              "      <th></th>\n",
              "      <th></th>\n",
              "    </tr>\n",
              "  </thead>\n",
              "  <tbody>\n",
              "    <tr>\n",
              "      <th>divorced</th>\n",
              "      <td>44.334647</td>\n",
              "      <td>256.685618</td>\n",
              "      <td>2.584014</td>\n",
              "      <td>962.944554</td>\n",
              "      <td>0.186321</td>\n",
              "      <td>0.063327</td>\n",
              "      <td>93.572146</td>\n",
              "      <td>-40.714833</td>\n",
              "      <td>3.612598</td>\n",
              "      <td>5166.650633</td>\n",
              "      <td>0.115395</td>\n",
              "    </tr>\n",
              "    <tr>\n",
              "      <th>married</th>\n",
              "      <td>41.378687</td>\n",
              "      <td>259.995255</td>\n",
              "      <td>2.512520</td>\n",
              "      <td>960.508118</td>\n",
              "      <td>0.181226</td>\n",
              "      <td>-0.001446</td>\n",
              "      <td>93.535416</td>\n",
              "      <td>-40.361988</td>\n",
              "      <td>3.555276</td>\n",
              "      <td>5164.379196</td>\n",
              "      <td>0.117539</td>\n",
              "    </tr>\n",
              "    <tr>\n",
              "      <th>single</th>\n",
              "      <td>32.679339</td>\n",
              "      <td>259.590173</td>\n",
              "      <td>2.514455</td>\n",
              "      <td>948.968442</td>\n",
              "      <td>0.221434</td>\n",
              "      <td>-0.252028</td>\n",
              "      <td>93.482513</td>\n",
              "      <td>-41.004988</td>\n",
              "      <td>3.225896</td>\n",
              "      <td>5152.011924</td>\n",
              "      <td>0.147517</td>\n",
              "    </tr>\n",
              "  </tbody>\n",
              "</table>\n",
              "</div>"
            ],
            "text/plain": [
              "                age    duration  campaign  ...  euribor3m  nr_employed         y\n",
              "marital                                    ...                                  \n",
              "divorced  44.334647  256.685618  2.584014  ...   3.612598  5166.650633  0.115395\n",
              "married   41.378687  259.995255  2.512520  ...   3.555276  5164.379196  0.117539\n",
              "single    32.679339  259.590173  2.514455  ...   3.225896  5152.011924  0.147517\n",
              "\n",
              "[3 rows x 11 columns]"
            ]
          },
          "metadata": {
            "tags": []
          },
          "execution_count": 29
        }
      ]
    },
    {
      "cell_type": "code",
      "metadata": {
        "colab": {
          "base_uri": "https://localhost:8080/",
          "height": 344
        },
        "id": "Xk6dvg5CGlIw",
        "outputId": "075b485b-da7d-4bfc-8212-a3352e6924e3"
      },
      "source": [
        "df.groupby(['education']).mean()"
      ],
      "execution_count": 30,
      "outputs": [
        {
          "output_type": "execute_result",
          "data": {
            "text/html": [
              "<div>\n",
              "<style scoped>\n",
              "    .dataframe tbody tr th:only-of-type {\n",
              "        vertical-align: middle;\n",
              "    }\n",
              "\n",
              "    .dataframe tbody tr th {\n",
              "        vertical-align: top;\n",
              "    }\n",
              "\n",
              "    .dataframe thead th {\n",
              "        text-align: right;\n",
              "    }\n",
              "</style>\n",
              "<table border=\"1\" class=\"dataframe\">\n",
              "  <thead>\n",
              "    <tr style=\"text-align: right;\">\n",
              "      <th></th>\n",
              "      <th>age</th>\n",
              "      <th>duration</th>\n",
              "      <th>campaign</th>\n",
              "      <th>pdays</th>\n",
              "      <th>previous</th>\n",
              "      <th>emp_var_rate</th>\n",
              "      <th>cons_price_idx</th>\n",
              "      <th>cons_conf_idx</th>\n",
              "      <th>euribor3m</th>\n",
              "      <th>nr_employed</th>\n",
              "      <th>y</th>\n",
              "    </tr>\n",
              "    <tr>\n",
              "      <th>education</th>\n",
              "      <th></th>\n",
              "      <th></th>\n",
              "      <th></th>\n",
              "      <th></th>\n",
              "      <th></th>\n",
              "      <th></th>\n",
              "      <th></th>\n",
              "      <th></th>\n",
              "      <th></th>\n",
              "      <th></th>\n",
              "      <th></th>\n",
              "    </tr>\n",
              "  </thead>\n",
              "  <tbody>\n",
              "    <tr>\n",
              "      <th>basic 4y</th>\n",
              "      <td>47.745798</td>\n",
              "      <td>267.397899</td>\n",
              "      <td>2.448319</td>\n",
              "      <td>951.042437</td>\n",
              "      <td>0.203361</td>\n",
              "      <td>-0.175546</td>\n",
              "      <td>93.552855</td>\n",
              "      <td>-40.368613</td>\n",
              "      <td>3.331681</td>\n",
              "      <td>5152.665294</td>\n",
              "      <td>0.136975</td>\n",
              "    </tr>\n",
              "    <tr>\n",
              "      <th>basic 6y</th>\n",
              "      <td>40.030238</td>\n",
              "      <td>264.908567</td>\n",
              "      <td>2.511879</td>\n",
              "      <td>971.830814</td>\n",
              "      <td>0.159107</td>\n",
              "      <td>0.030382</td>\n",
              "      <td>93.573901</td>\n",
              "      <td>-41.191721</td>\n",
              "      <td>3.569709</td>\n",
              "      <td>5166.816343</td>\n",
              "      <td>0.097912</td>\n",
              "    </tr>\n",
              "    <tr>\n",
              "      <th>basic 9y</th>\n",
              "      <td>38.292563</td>\n",
              "      <td>262.452526</td>\n",
              "      <td>2.482460</td>\n",
              "      <td>974.163704</td>\n",
              "      <td>0.161132</td>\n",
              "      <td>0.007975</td>\n",
              "      <td>93.571035</td>\n",
              "      <td>-41.520954</td>\n",
              "      <td>3.538043</td>\n",
              "      <td>5166.522053</td>\n",
              "      <td>0.088868</td>\n",
              "    </tr>\n",
              "    <tr>\n",
              "      <th>high school</th>\n",
              "      <td>37.337706</td>\n",
              "      <td>264.854656</td>\n",
              "      <td>2.532926</td>\n",
              "      <td>959.024679</td>\n",
              "      <td>0.204442</td>\n",
              "      <td>-0.089570</td>\n",
              "      <td>93.550286</td>\n",
              "      <td>-41.018652</td>\n",
              "      <td>3.424706</td>\n",
              "      <td>5159.625653</td>\n",
              "      <td>0.121314</td>\n",
              "    </tr>\n",
              "    <tr>\n",
              "      <th>illiterate</th>\n",
              "      <td>44.272727</td>\n",
              "      <td>241.727273</td>\n",
              "      <td>2.000000</td>\n",
              "      <td>999.000000</td>\n",
              "      <td>0.090909</td>\n",
              "      <td>-0.372727</td>\n",
              "      <td>93.170545</td>\n",
              "      <td>-40.054545</td>\n",
              "      <td>3.324182</td>\n",
              "      <td>5168.218182</td>\n",
              "      <td>0.272727</td>\n",
              "    </tr>\n",
              "    <tr>\n",
              "      <th>professional course</th>\n",
              "      <td>39.333025</td>\n",
              "      <td>252.957649</td>\n",
              "      <td>2.550104</td>\n",
              "      <td>958.828049</td>\n",
              "      <td>0.179357</td>\n",
              "      <td>0.056353</td>\n",
              "      <td>93.535274</td>\n",
              "      <td>-40.220273</td>\n",
              "      <td>3.582548</td>\n",
              "      <td>5164.998658</td>\n",
              "      <td>0.124508</td>\n",
              "    </tr>\n",
              "    <tr>\n",
              "      <th>university degree</th>\n",
              "      <td>38.323473</td>\n",
              "      <td>254.488475</td>\n",
              "      <td>2.535632</td>\n",
              "      <td>947.672397</td>\n",
              "      <td>0.209278</td>\n",
              "      <td>-0.133356</td>\n",
              "      <td>93.465672</td>\n",
              "      <td>-40.050960</td>\n",
              "      <td>3.417846</td>\n",
              "      <td>5158.664243</td>\n",
              "      <td>0.148098</td>\n",
              "    </tr>\n",
              "  </tbody>\n",
              "</table>\n",
              "</div>"
            ],
            "text/plain": [
              "                           age    duration  ...  nr_employed         y\n",
              "education                                   ...                       \n",
              "basic 4y             47.745798  267.397899  ...  5152.665294  0.136975\n",
              "basic 6y             40.030238  264.908567  ...  5166.816343  0.097912\n",
              "basic 9y             38.292563  262.452526  ...  5166.522053  0.088868\n",
              "high school          37.337706  264.854656  ...  5159.625653  0.121314\n",
              "illiterate           44.272727  241.727273  ...  5168.218182  0.272727\n",
              "professional course  39.333025  252.957649  ...  5164.998658  0.124508\n",
              "university degree    38.323473  254.488475  ...  5158.664243  0.148098\n",
              "\n",
              "[7 rows x 11 columns]"
            ]
          },
          "metadata": {
            "tags": []
          },
          "execution_count": 30
        }
      ]
    },
    {
      "cell_type": "markdown",
      "metadata": {
        "id": "o8a7aMTxUJOU"
      },
      "source": [
        "# Section III : Exploratory Data Analysis\n",
        "\n",
        "Let us put Matplotlib to use !\n",
        "\n",
        "Part I : Create bar graphs to the frequency of purchase with respect to the job , martial etc <br>\n",
        "Part II : Also create stacked bars to same data columns with respect to <br>\n",
        "Part III : Explore the age column using a histogram and note down your observations"
      ]
    },
    {
      "cell_type": "code",
      "metadata": {
        "colab": {
          "base_uri": "https://localhost:8080/"
        },
        "id": "7Bz_EjyiS2n-",
        "outputId": "33ae7f5d-14d4-4121-c447-1aaa5ff68bbc"
      },
      "source": [
        "grouped = df.groupby(['marital', 'y'])['y'].count()\r\n",
        "grouped"
      ],
      "execution_count": 31,
      "outputs": [
        {
          "output_type": "execute_result",
          "data": {
            "text/plain": [
              "marital   y\n",
              "divorced  0     3143\n",
              "          1      410\n",
              "married   0    15436\n",
              "          1     2056\n",
              "single    0     8050\n",
              "          1     1393\n",
              "Name: y, dtype: int64"
            ]
          },
          "metadata": {
            "tags": []
          },
          "execution_count": 31
        }
      ]
    },
    {
      "cell_type": "code",
      "metadata": {
        "colab": {
          "base_uri": "https://localhost:8080/",
          "height": 383
        },
        "id": "BoPQSTpRPrMp",
        "outputId": "c784471c-63d8-4f11-eb57-6109114db2f8"
      },
      "source": [
        "import matplotlib.pyplot as plt\r\n",
        "import seaborn as sns\r\n",
        "sns.catplot(x=\"marital\", hue='y', kind='count', data=df)\r\n",
        "plt.show();"
      ],
      "execution_count": 32,
      "outputs": [
        {
          "output_type": "display_data",
          "data": {
            "image/png": "[encoded data removed]",
            "text/plain": [
              "<Figure size 402.375x360 with 1 Axes>"
            ]
          },
          "metadata": {
            "tags": [],
            "needs_background": "light"
          }
        }
      ]
    },
    {
      "cell_type": "code",
      "metadata": {
        "colab": {
          "base_uri": "https://localhost:8080/",
          "height": 156
        },
        "id": "VoqpfAcKUEyZ",
        "outputId": "d79d2bf3-ac66-4bbd-f178-05048e4c9414"
      },
      "source": [
        "grouped = df.groupby(['job', 'y'])['y'].count()\r\n",
        "pd.crosstab(df['job'], df['y']).T\r\n"
      ],
      "execution_count": 33,
      "outputs": [
        {
          "output_type": "execute_result",
          "data": {
            "text/html": [
              "<div>\n",
              "<style scoped>\n",
              "    .dataframe tbody tr th:only-of-type {\n",
              "        vertical-align: middle;\n",
              "    }\n",
              "\n",
              "    .dataframe tbody tr th {\n",
              "        vertical-align: top;\n",
              "    }\n",
              "\n",
              "    .dataframe thead th {\n",
              "        text-align: right;\n",
              "    }\n",
              "</style>\n",
              "<table border=\"1\" class=\"dataframe\">\n",
              "  <thead>\n",
              "    <tr style=\"text-align: right;\">\n",
              "      <th>job</th>\n",
              "      <th>admin.</th>\n",
              "      <th>blue-collar</th>\n",
              "      <th>entrepreneur</th>\n",
              "      <th>housemaid</th>\n",
              "      <th>management</th>\n",
              "      <th>retired</th>\n",
              "      <th>self-employed</th>\n",
              "      <th>services</th>\n",
              "      <th>student</th>\n",
              "      <th>technician</th>\n",
              "      <th>unemployed</th>\n",
              "    </tr>\n",
              "    <tr>\n",
              "      <th>y</th>\n",
              "      <th></th>\n",
              "      <th></th>\n",
              "      <th></th>\n",
              "      <th></th>\n",
              "      <th></th>\n",
              "      <th></th>\n",
              "      <th></th>\n",
              "      <th></th>\n",
              "      <th></th>\n",
              "      <th></th>\n",
              "      <th></th>\n",
              "    </tr>\n",
              "  </thead>\n",
              "  <tbody>\n",
              "    <tr>\n",
              "      <th>0</th>\n",
              "      <td>7521</td>\n",
              "      <td>5223</td>\n",
              "      <td>988</td>\n",
              "      <td>603</td>\n",
              "      <td>2025</td>\n",
              "      <td>859</td>\n",
              "      <td>960</td>\n",
              "      <td>2599</td>\n",
              "      <td>407</td>\n",
              "      <td>4832</td>\n",
              "      <td>612</td>\n",
              "    </tr>\n",
              "    <tr>\n",
              "      <th>1</th>\n",
              "      <td>1216</td>\n",
              "      <td>452</td>\n",
              "      <td>101</td>\n",
              "      <td>87</td>\n",
              "      <td>286</td>\n",
              "      <td>357</td>\n",
              "      <td>132</td>\n",
              "      <td>258</td>\n",
              "      <td>203</td>\n",
              "      <td>641</td>\n",
              "      <td>126</td>\n",
              "    </tr>\n",
              "  </tbody>\n",
              "</table>\n",
              "</div>"
            ],
            "text/plain": [
              "job  admin.  blue-collar  entrepreneur  ...  student  technician  unemployed\n",
              "y                                       ...                                 \n",
              "0      7521         5223           988  ...      407        4832         612\n",
              "1      1216          452           101  ...      203         641         126\n",
              "\n",
              "[2 rows x 11 columns]"
            ]
          },
          "metadata": {
            "tags": []
          },
          "execution_count": 33
        }
      ]
    },
    {
      "cell_type": "code",
      "metadata": {
        "colab": {
          "base_uri": "https://localhost:8080/",
          "height": 312
        },
        "id": "Nff357RlWauh",
        "outputId": "c67e9400-c213-4455-9163-3de80b2dc524"
      },
      "source": [
        "sns.histplot(x=\"marital\" , hue='y', data=df, multiple = 'stack')\r\n",
        "plt.xticks(rotation = 60)\r\n",
        "plt.show();"
      ],
      "execution_count": 34,
      "outputs": [
        {
          "output_type": "display_data",
          "data": {
            "image/png": "[encoded data removed]",
            "text/plain": [
              "<Figure size 432x288 with 1 Axes>"
            ]
          },
          "metadata": {
            "tags": [],
            "needs_background": "light"
          }
        }
      ]
    },
    {
      "cell_type": "code",
      "metadata": {
        "colab": {
          "base_uri": "https://localhost:8080/",
          "height": 439
        },
        "id": "PnhzwBIuUKrs",
        "outputId": "b5316fcd-32ce-46c6-a2fa-215f25c557e6"
      },
      "source": [
        "import matplotlib.pyplot as plt\r\n",
        "import seaborn as sns\r\n",
        "sns.catplot(x=\"job\", hue='y', kind='count', data=df, aspect = 1.7)\r\n",
        "plt.xticks(rotation = 60)\r\n",
        "plt.show();"
      ],
      "execution_count": 35,
      "outputs": [
        {
          "output_type": "display_data",
          "data": {
            "image/png": "[encoded data removed]",
            "text/plain": [
              "<Figure size 654.375x360 with 1 Axes>"
            ]
          },
          "metadata": {
            "tags": [],
            "needs_background": "light"
          }
        }
      ]
    },
    {
      "cell_type": "code",
      "metadata": {
        "colab": {
          "base_uri": "https://localhost:8080/",
          "height": 447
        },
        "id": "ev3ftbK0ZBS4",
        "outputId": "5d30ca40-87f4-4712-8506-8459a67a2b3c"
      },
      "source": [
        "plt.figure(figsize=(7,6))\r\n",
        "sns.histplot(x=\"job\", hue='y', data=df, multiple = 'stack')\r\n",
        "plt.xticks(rotation = 70)\r\n",
        "plt.show();"
      ],
      "execution_count": 36,
      "outputs": [
        {
          "output_type": "display_data",
          "data": {
            "image/png": "[encoded data removed]",
            "text/plain": [
              "<Figure size 504x432 with 1 Axes>"
            ]
          },
          "metadata": {
            "tags": [],
            "needs_background": "light"
          }
        }
      ]
    },
    {
      "cell_type": "code",
      "metadata": {
        "colab": {
          "base_uri": "https://localhost:8080/",
          "height": 374
        },
        "id": "ZRgy8fkP5oU7",
        "outputId": "b58c40ac-8e47-4f3c-95e8-29107d6a7497"
      },
      "source": [
        "import matplotlib.pyplot as plt\r\n",
        "import seaborn as sns\r\n",
        "plt.figure(figsize = (6,6))\r\n",
        "plt.hist(df['age'],color='maroon', width = 5, )\r\n",
        "plt.show()"
      ],
      "execution_count": 37,
      "outputs": [
        {
          "output_type": "display_data",
          "data": {
            "image/png": "[encoded data removed]",
            "text/plain": [
              "<Figure size 432x432 with 1 Axes>"
            ]
          },
          "metadata": {
            "tags": [],
            "needs_background": "light"
          }
        }
      ]
    },
    {
      "cell_type": "markdown",
      "metadata": {
        "id": "_65Q3sz9UU_4"
      },
      "source": [
        "# Section IV : Categorical Variable Encoding \n",
        "\n",
        "Part I : Create dummy variables for your categorial variables <br>\n",
        "part II : Explore your new dataset with these new dummy variables !"
      ]
    },
    {
      "cell_type": "code",
      "metadata": {
        "colab": {
          "base_uri": "https://localhost:8080/",
          "height": 447
        },
        "id": "Ujey5khZOunG",
        "outputId": "35fce873-1482-4374-92b7-07ae4e7bc311"
      },
      "source": [
        "dummies = pd.get_dummies(data = df, columns=(['job', 'marital', 'education', 'default', 'housing', 'loan',\r\n",
        "                                      'contact', 'month', 'day_of_week','poutcome']), drop_first = True)\r\n",
        "# df = pd.concat([df, dummies], axis = 1)\r\n",
        "# df.head()\r\n",
        "dummies"
      ],
      "execution_count": 38,
      "outputs": [
        {
          "output_type": "execute_result",
          "data": {
            "text/html": [
              "<div>\n",
              "<style scoped>\n",
              "    .dataframe tbody tr th:only-of-type {\n",
              "        vertical-align: middle;\n",
              "    }\n",
              "\n",
              "    .dataframe tbody tr th {\n",
              "        vertical-align: top;\n",
              "    }\n",
              "\n",
              "    .dataframe thead th {\n",
              "        text-align: right;\n",
              "    }\n",
              "</style>\n",
              "<table border=\"1\" class=\"dataframe\">\n",
              "  <thead>\n",
              "    <tr style=\"text-align: right;\">\n",
              "      <th></th>\n",
              "      <th>age</th>\n",
              "      <th>duration</th>\n",
              "      <th>campaign</th>\n",
              "      <th>pdays</th>\n",
              "      <th>previous</th>\n",
              "      <th>emp_var_rate</th>\n",
              "      <th>cons_price_idx</th>\n",
              "      <th>cons_conf_idx</th>\n",
              "      <th>euribor3m</th>\n",
              "      <th>nr_employed</th>\n",
              "      <th>y</th>\n",
              "      <th>job_blue-collar</th>\n",
              "      <th>job_entrepreneur</th>\n",
              "      <th>job_housemaid</th>\n",
              "      <th>job_management</th>\n",
              "      <th>job_retired</th>\n",
              "      <th>job_self-employed</th>\n",
              "      <th>job_services</th>\n",
              "      <th>job_student</th>\n",
              "      <th>job_technician</th>\n",
              "      <th>job_unemployed</th>\n",
              "      <th>marital_married</th>\n",
              "      <th>marital_single</th>\n",
              "      <th>education_basic 6y</th>\n",
              "      <th>education_basic 9y</th>\n",
              "      <th>education_high school</th>\n",
              "      <th>education_illiterate</th>\n",
              "      <th>education_professional course</th>\n",
              "      <th>education_university degree</th>\n",
              "      <th>default_yes</th>\n",
              "      <th>housing_yes</th>\n",
              "      <th>loan_yes</th>\n",
              "      <th>contact_telephone</th>\n",
              "      <th>month_aug</th>\n",
              "      <th>month_dec</th>\n",
              "      <th>month_jul</th>\n",
              "      <th>month_jun</th>\n",
              "      <th>month_mar</th>\n",
              "      <th>month_may</th>\n",
              "      <th>month_nov</th>\n",
              "      <th>month_oct</th>\n",
              "      <th>month_sep</th>\n",
              "      <th>day_of_week_mon</th>\n",
              "      <th>day_of_week_thu</th>\n",
              "      <th>day_of_week_tue</th>\n",
              "      <th>day_of_week_wed</th>\n",
              "      <th>poutcome_nonexistent</th>\n",
              "      <th>poutcome_success</th>\n",
              "    </tr>\n",
              "  </thead>\n",
              "  <tbody>\n",
              "    <tr>\n",
              "      <th>2</th>\n",
              "      <td>28</td>\n",
              "      <td>339</td>\n",
              "      <td>3</td>\n",
              "      <td>6.0</td>\n",
              "      <td>2</td>\n",
              "      <td>-1.7</td>\n",
              "      <td>94.055</td>\n",
              "      <td>-39.8</td>\n",
              "      <td>0.729</td>\n",
              "      <td>4991.6</td>\n",
              "      <td>1</td>\n",
              "      <td>0</td>\n",
              "      <td>0</td>\n",
              "      <td>0</td>\n",
              "      <td>1</td>\n",
              "      <td>0</td>\n",
              "      <td>0</td>\n",
              "      <td>0</td>\n",
              "      <td>0</td>\n",
              "      <td>0</td>\n",
              "      <td>0</td>\n",
              "      <td>0</td>\n",
              "      <td>1</td>\n",
              "      <td>0</td>\n",
              "      <td>0</td>\n",
              "      <td>0</td>\n",
              "      <td>0</td>\n",
              "      <td>0</td>\n",
              "      <td>1</td>\n",
              "      <td>0</td>\n",
              "      <td>1</td>\n",
              "      <td>0</td>\n",
              "      <td>0</td>\n",
              "      <td>0</td>\n",
              "      <td>0</td>\n",
              "      <td>0</td>\n",
              "      <td>1</td>\n",
              "      <td>0</td>\n",
              "      <td>0</td>\n",
              "      <td>0</td>\n",
              "      <td>0</td>\n",
              "      <td>0</td>\n",
              "      <td>0</td>\n",
              "      <td>1</td>\n",
              "      <td>0</td>\n",
              "      <td>0</td>\n",
              "      <td>0</td>\n",
              "      <td>1</td>\n",
              "    </tr>\n",
              "    <tr>\n",
              "      <th>3</th>\n",
              "      <td>39</td>\n",
              "      <td>185</td>\n",
              "      <td>2</td>\n",
              "      <td>999.0</td>\n",
              "      <td>0</td>\n",
              "      <td>-1.8</td>\n",
              "      <td>93.075</td>\n",
              "      <td>-47.1</td>\n",
              "      <td>1.405</td>\n",
              "      <td>5099.1</td>\n",
              "      <td>0</td>\n",
              "      <td>0</td>\n",
              "      <td>0</td>\n",
              "      <td>0</td>\n",
              "      <td>0</td>\n",
              "      <td>0</td>\n",
              "      <td>0</td>\n",
              "      <td>1</td>\n",
              "      <td>0</td>\n",
              "      <td>0</td>\n",
              "      <td>0</td>\n",
              "      <td>1</td>\n",
              "      <td>0</td>\n",
              "      <td>0</td>\n",
              "      <td>0</td>\n",
              "      <td>1</td>\n",
              "      <td>0</td>\n",
              "      <td>0</td>\n",
              "      <td>0</td>\n",
              "      <td>0</td>\n",
              "      <td>0</td>\n",
              "      <td>0</td>\n",
              "      <td>0</td>\n",
              "      <td>0</td>\n",
              "      <td>0</td>\n",
              "      <td>0</td>\n",
              "      <td>0</td>\n",
              "      <td>0</td>\n",
              "      <td>0</td>\n",
              "      <td>0</td>\n",
              "      <td>0</td>\n",
              "      <td>0</td>\n",
              "      <td>0</td>\n",
              "      <td>0</td>\n",
              "      <td>0</td>\n",
              "      <td>0</td>\n",
              "      <td>1</td>\n",
              "      <td>0</td>\n",
              "    </tr>\n",
              "    <tr>\n",
              "      <th>4</th>\n",
              "      <td>55</td>\n",
              "      <td>137</td>\n",
              "      <td>1</td>\n",
              "      <td>3.0</td>\n",
              "      <td>1</td>\n",
              "      <td>-2.9</td>\n",
              "      <td>92.201</td>\n",
              "      <td>-31.4</td>\n",
              "      <td>0.869</td>\n",
              "      <td>5076.2</td>\n",
              "      <td>1</td>\n",
              "      <td>0</td>\n",
              "      <td>0</td>\n",
              "      <td>0</td>\n",
              "      <td>0</td>\n",
              "      <td>1</td>\n",
              "      <td>0</td>\n",
              "      <td>0</td>\n",
              "      <td>0</td>\n",
              "      <td>0</td>\n",
              "      <td>0</td>\n",
              "      <td>1</td>\n",
              "      <td>0</td>\n",
              "      <td>0</td>\n",
              "      <td>0</td>\n",
              "      <td>0</td>\n",
              "      <td>0</td>\n",
              "      <td>0</td>\n",
              "      <td>0</td>\n",
              "      <td>0</td>\n",
              "      <td>1</td>\n",
              "      <td>0</td>\n",
              "      <td>0</td>\n",
              "      <td>1</td>\n",
              "      <td>0</td>\n",
              "      <td>0</td>\n",
              "      <td>0</td>\n",
              "      <td>0</td>\n",
              "      <td>0</td>\n",
              "      <td>0</td>\n",
              "      <td>0</td>\n",
              "      <td>0</td>\n",
              "      <td>0</td>\n",
              "      <td>0</td>\n",
              "      <td>0</td>\n",
              "      <td>0</td>\n",
              "      <td>0</td>\n",
              "      <td>1</td>\n",
              "    </tr>\n",
              "    <tr>\n",
              "      <th>5</th>\n",
              "      <td>30</td>\n",
              "      <td>68</td>\n",
              "      <td>8</td>\n",
              "      <td>999.0</td>\n",
              "      <td>0</td>\n",
              "      <td>1.4</td>\n",
              "      <td>93.918</td>\n",
              "      <td>-42.7</td>\n",
              "      <td>4.961</td>\n",
              "      <td>5228.1</td>\n",
              "      <td>0</td>\n",
              "      <td>0</td>\n",
              "      <td>0</td>\n",
              "      <td>0</td>\n",
              "      <td>1</td>\n",
              "      <td>0</td>\n",
              "      <td>0</td>\n",
              "      <td>0</td>\n",
              "      <td>0</td>\n",
              "      <td>0</td>\n",
              "      <td>0</td>\n",
              "      <td>0</td>\n",
              "      <td>0</td>\n",
              "      <td>0</td>\n",
              "      <td>0</td>\n",
              "      <td>0</td>\n",
              "      <td>0</td>\n",
              "      <td>0</td>\n",
              "      <td>0</td>\n",
              "      <td>0</td>\n",
              "      <td>1</td>\n",
              "      <td>0</td>\n",
              "      <td>0</td>\n",
              "      <td>0</td>\n",
              "      <td>0</td>\n",
              "      <td>1</td>\n",
              "      <td>0</td>\n",
              "      <td>0</td>\n",
              "      <td>0</td>\n",
              "      <td>0</td>\n",
              "      <td>0</td>\n",
              "      <td>0</td>\n",
              "      <td>0</td>\n",
              "      <td>0</td>\n",
              "      <td>1</td>\n",
              "      <td>0</td>\n",
              "      <td>1</td>\n",
              "      <td>0</td>\n",
              "    </tr>\n",
              "    <tr>\n",
              "      <th>6</th>\n",
              "      <td>37</td>\n",
              "      <td>204</td>\n",
              "      <td>1</td>\n",
              "      <td>999.0</td>\n",
              "      <td>0</td>\n",
              "      <td>-1.8</td>\n",
              "      <td>92.893</td>\n",
              "      <td>-46.2</td>\n",
              "      <td>1.327</td>\n",
              "      <td>5099.1</td>\n",
              "      <td>0</td>\n",
              "      <td>1</td>\n",
              "      <td>0</td>\n",
              "      <td>0</td>\n",
              "      <td>0</td>\n",
              "      <td>0</td>\n",
              "      <td>0</td>\n",
              "      <td>0</td>\n",
              "      <td>0</td>\n",
              "      <td>0</td>\n",
              "      <td>0</td>\n",
              "      <td>1</td>\n",
              "      <td>0</td>\n",
              "      <td>0</td>\n",
              "      <td>0</td>\n",
              "      <td>0</td>\n",
              "      <td>0</td>\n",
              "      <td>0</td>\n",
              "      <td>0</td>\n",
              "      <td>0</td>\n",
              "      <td>1</td>\n",
              "      <td>0</td>\n",
              "      <td>0</td>\n",
              "      <td>0</td>\n",
              "      <td>0</td>\n",
              "      <td>0</td>\n",
              "      <td>0</td>\n",
              "      <td>0</td>\n",
              "      <td>1</td>\n",
              "      <td>0</td>\n",
              "      <td>0</td>\n",
              "      <td>0</td>\n",
              "      <td>0</td>\n",
              "      <td>1</td>\n",
              "      <td>0</td>\n",
              "      <td>0</td>\n",
              "      <td>1</td>\n",
              "      <td>0</td>\n",
              "    </tr>\n",
              "    <tr>\n",
              "      <th>...</th>\n",
              "      <td>...</td>\n",
              "      <td>...</td>\n",
              "      <td>...</td>\n",
              "      <td>...</td>\n",
              "      <td>...</td>\n",
              "      <td>...</td>\n",
              "      <td>...</td>\n",
              "      <td>...</td>\n",
              "      <td>...</td>\n",
              "      <td>...</td>\n",
              "      <td>...</td>\n",
              "      <td>...</td>\n",
              "      <td>...</td>\n",
              "      <td>...</td>\n",
              "      <td>...</td>\n",
              "      <td>...</td>\n",
              "      <td>...</td>\n",
              "      <td>...</td>\n",
              "      <td>...</td>\n",
              "      <td>...</td>\n",
              "      <td>...</td>\n",
              "      <td>...</td>\n",
              "      <td>...</td>\n",
              "      <td>...</td>\n",
              "      <td>...</td>\n",
              "      <td>...</td>\n",
              "      <td>...</td>\n",
              "      <td>...</td>\n",
              "      <td>...</td>\n",
              "      <td>...</td>\n",
              "      <td>...</td>\n",
              "      <td>...</td>\n",
              "      <td>...</td>\n",
              "      <td>...</td>\n",
              "      <td>...</td>\n",
              "      <td>...</td>\n",
              "      <td>...</td>\n",
              "      <td>...</td>\n",
              "      <td>...</td>\n",
              "      <td>...</td>\n",
              "      <td>...</td>\n",
              "      <td>...</td>\n",
              "      <td>...</td>\n",
              "      <td>...</td>\n",
              "      <td>...</td>\n",
              "      <td>...</td>\n",
              "      <td>...</td>\n",
              "      <td>...</td>\n",
              "    </tr>\n",
              "    <tr>\n",
              "      <th>41179</th>\n",
              "      <td>29</td>\n",
              "      <td>214</td>\n",
              "      <td>1</td>\n",
              "      <td>999.0</td>\n",
              "      <td>0</td>\n",
              "      <td>-1.8</td>\n",
              "      <td>92.893</td>\n",
              "      <td>-46.2</td>\n",
              "      <td>1.299</td>\n",
              "      <td>5099.1</td>\n",
              "      <td>0</td>\n",
              "      <td>0</td>\n",
              "      <td>0</td>\n",
              "      <td>0</td>\n",
              "      <td>0</td>\n",
              "      <td>0</td>\n",
              "      <td>0</td>\n",
              "      <td>0</td>\n",
              "      <td>0</td>\n",
              "      <td>1</td>\n",
              "      <td>0</td>\n",
              "      <td>0</td>\n",
              "      <td>1</td>\n",
              "      <td>0</td>\n",
              "      <td>1</td>\n",
              "      <td>0</td>\n",
              "      <td>0</td>\n",
              "      <td>0</td>\n",
              "      <td>0</td>\n",
              "      <td>0</td>\n",
              "      <td>1</td>\n",
              "      <td>0</td>\n",
              "      <td>0</td>\n",
              "      <td>0</td>\n",
              "      <td>0</td>\n",
              "      <td>0</td>\n",
              "      <td>0</td>\n",
              "      <td>0</td>\n",
              "      <td>1</td>\n",
              "      <td>0</td>\n",
              "      <td>0</td>\n",
              "      <td>0</td>\n",
              "      <td>1</td>\n",
              "      <td>0</td>\n",
              "      <td>0</td>\n",
              "      <td>0</td>\n",
              "      <td>1</td>\n",
              "      <td>0</td>\n",
              "    </tr>\n",
              "    <tr>\n",
              "      <th>41181</th>\n",
              "      <td>39</td>\n",
              "      <td>123</td>\n",
              "      <td>2</td>\n",
              "      <td>999.0</td>\n",
              "      <td>0</td>\n",
              "      <td>-0.1</td>\n",
              "      <td>93.200</td>\n",
              "      <td>-42.0</td>\n",
              "      <td>4.153</td>\n",
              "      <td>5195.8</td>\n",
              "      <td>0</td>\n",
              "      <td>0</td>\n",
              "      <td>0</td>\n",
              "      <td>0</td>\n",
              "      <td>0</td>\n",
              "      <td>0</td>\n",
              "      <td>0</td>\n",
              "      <td>0</td>\n",
              "      <td>0</td>\n",
              "      <td>0</td>\n",
              "      <td>0</td>\n",
              "      <td>1</td>\n",
              "      <td>0</td>\n",
              "      <td>0</td>\n",
              "      <td>0</td>\n",
              "      <td>0</td>\n",
              "      <td>0</td>\n",
              "      <td>0</td>\n",
              "      <td>1</td>\n",
              "      <td>0</td>\n",
              "      <td>0</td>\n",
              "      <td>0</td>\n",
              "      <td>0</td>\n",
              "      <td>0</td>\n",
              "      <td>0</td>\n",
              "      <td>0</td>\n",
              "      <td>0</td>\n",
              "      <td>0</td>\n",
              "      <td>0</td>\n",
              "      <td>1</td>\n",
              "      <td>0</td>\n",
              "      <td>0</td>\n",
              "      <td>0</td>\n",
              "      <td>0</td>\n",
              "      <td>1</td>\n",
              "      <td>0</td>\n",
              "      <td>1</td>\n",
              "      <td>0</td>\n",
              "    </tr>\n",
              "    <tr>\n",
              "      <th>41182</th>\n",
              "      <td>24</td>\n",
              "      <td>118</td>\n",
              "      <td>4</td>\n",
              "      <td>999.0</td>\n",
              "      <td>1</td>\n",
              "      <td>-1.8</td>\n",
              "      <td>92.893</td>\n",
              "      <td>-46.2</td>\n",
              "      <td>1.266</td>\n",
              "      <td>5099.1</td>\n",
              "      <td>0</td>\n",
              "      <td>0</td>\n",
              "      <td>0</td>\n",
              "      <td>0</td>\n",
              "      <td>0</td>\n",
              "      <td>0</td>\n",
              "      <td>0</td>\n",
              "      <td>0</td>\n",
              "      <td>0</td>\n",
              "      <td>0</td>\n",
              "      <td>0</td>\n",
              "      <td>1</td>\n",
              "      <td>0</td>\n",
              "      <td>0</td>\n",
              "      <td>0</td>\n",
              "      <td>1</td>\n",
              "      <td>0</td>\n",
              "      <td>0</td>\n",
              "      <td>0</td>\n",
              "      <td>0</td>\n",
              "      <td>1</td>\n",
              "      <td>0</td>\n",
              "      <td>0</td>\n",
              "      <td>0</td>\n",
              "      <td>0</td>\n",
              "      <td>0</td>\n",
              "      <td>0</td>\n",
              "      <td>0</td>\n",
              "      <td>1</td>\n",
              "      <td>0</td>\n",
              "      <td>0</td>\n",
              "      <td>0</td>\n",
              "      <td>0</td>\n",
              "      <td>1</td>\n",
              "      <td>0</td>\n",
              "      <td>0</td>\n",
              "      <td>0</td>\n",
              "      <td>0</td>\n",
              "    </tr>\n",
              "    <tr>\n",
              "      <th>41186</th>\n",
              "      <td>48</td>\n",
              "      <td>200</td>\n",
              "      <td>2</td>\n",
              "      <td>999.0</td>\n",
              "      <td>0</td>\n",
              "      <td>-3.4</td>\n",
              "      <td>92.431</td>\n",
              "      <td>-26.9</td>\n",
              "      <td>0.742</td>\n",
              "      <td>5017.5</td>\n",
              "      <td>0</td>\n",
              "      <td>0</td>\n",
              "      <td>0</td>\n",
              "      <td>0</td>\n",
              "      <td>0</td>\n",
              "      <td>0</td>\n",
              "      <td>0</td>\n",
              "      <td>0</td>\n",
              "      <td>0</td>\n",
              "      <td>1</td>\n",
              "      <td>0</td>\n",
              "      <td>1</td>\n",
              "      <td>0</td>\n",
              "      <td>0</td>\n",
              "      <td>0</td>\n",
              "      <td>0</td>\n",
              "      <td>0</td>\n",
              "      <td>1</td>\n",
              "      <td>0</td>\n",
              "      <td>0</td>\n",
              "      <td>0</td>\n",
              "      <td>1</td>\n",
              "      <td>1</td>\n",
              "      <td>0</td>\n",
              "      <td>0</td>\n",
              "      <td>0</td>\n",
              "      <td>0</td>\n",
              "      <td>0</td>\n",
              "      <td>0</td>\n",
              "      <td>0</td>\n",
              "      <td>1</td>\n",
              "      <td>0</td>\n",
              "      <td>0</td>\n",
              "      <td>0</td>\n",
              "      <td>1</td>\n",
              "      <td>0</td>\n",
              "      <td>1</td>\n",
              "      <td>0</td>\n",
              "    </tr>\n",
              "    <tr>\n",
              "      <th>41187</th>\n",
              "      <td>25</td>\n",
              "      <td>112</td>\n",
              "      <td>4</td>\n",
              "      <td>999.0</td>\n",
              "      <td>0</td>\n",
              "      <td>1.1</td>\n",
              "      <td>93.994</td>\n",
              "      <td>-36.4</td>\n",
              "      <td>4.859</td>\n",
              "      <td>5191.0</td>\n",
              "      <td>0</td>\n",
              "      <td>0</td>\n",
              "      <td>0</td>\n",
              "      <td>0</td>\n",
              "      <td>0</td>\n",
              "      <td>0</td>\n",
              "      <td>0</td>\n",
              "      <td>0</td>\n",
              "      <td>1</td>\n",
              "      <td>0</td>\n",
              "      <td>0</td>\n",
              "      <td>0</td>\n",
              "      <td>1</td>\n",
              "      <td>0</td>\n",
              "      <td>0</td>\n",
              "      <td>1</td>\n",
              "      <td>0</td>\n",
              "      <td>0</td>\n",
              "      <td>0</td>\n",
              "      <td>0</td>\n",
              "      <td>0</td>\n",
              "      <td>0</td>\n",
              "      <td>1</td>\n",
              "      <td>0</td>\n",
              "      <td>0</td>\n",
              "      <td>0</td>\n",
              "      <td>0</td>\n",
              "      <td>0</td>\n",
              "      <td>1</td>\n",
              "      <td>0</td>\n",
              "      <td>0</td>\n",
              "      <td>0</td>\n",
              "      <td>0</td>\n",
              "      <td>0</td>\n",
              "      <td>0</td>\n",
              "      <td>0</td>\n",
              "      <td>1</td>\n",
              "      <td>0</td>\n",
              "    </tr>\n",
              "  </tbody>\n",
              "</table>\n",
              "<p>30488 rows × 48 columns</p>\n",
              "</div>"
            ],
            "text/plain": [
              "       age  duration  ...  poutcome_nonexistent  poutcome_success\n",
              "2       28       339  ...                     0                 1\n",
              "3       39       185  ...                     1                 0\n",
              "4       55       137  ...                     0                 1\n",
              "5       30        68  ...                     1                 0\n",
              "6       37       204  ...                     1                 0\n",
              "...    ...       ...  ...                   ...               ...\n",
              "41179   29       214  ...                     1                 0\n",
              "41181   39       123  ...                     1                 0\n",
              "41182   24       118  ...                     0                 0\n",
              "41186   48       200  ...                     1                 0\n",
              "41187   25       112  ...                     1                 0\n",
              "\n",
              "[30488 rows x 48 columns]"
            ]
          },
          "metadata": {
            "tags": []
          },
          "execution_count": 38
        }
      ]
    },
    {
      "cell_type": "code",
      "metadata": {
        "colab": {
          "base_uri": "https://localhost:8080/"
        },
        "id": "k4JPpkIIZh2K",
        "outputId": "3e8ca68d-7683-4945-e615-c2efad5c10c2"
      },
      "source": [
        "corr = dummies.corr()\r\n",
        "corr = corr['y'][:10]\r\n",
        "corr[abs(corr)>=.05].sort_values()\r\n"
      ],
      "execution_count": 39,
      "outputs": [
        {
          "output_type": "execute_result",
          "data": {
            "text/plain": [
              "nr_employed      -0.364230\n",
              "euribor3m        -0.315869\n",
              "emp_var_rate     -0.305365\n",
              "pdays            -0.300702\n",
              "cons_price_idx   -0.128752\n",
              "campaign         -0.069206\n",
              "cons_conf_idx     0.061638\n",
              "previous          0.228003\n",
              "duration          0.393530\n",
              "Name: y, dtype: float64"
            ]
          },
          "metadata": {
            "tags": []
          },
          "execution_count": 39
        }
      ]
    },
    {
      "cell_type": "code",
      "metadata": {
        "id": "8phduDCmaZGI"
      },
      "source": [
        ""
      ],
      "execution_count": 39,
      "outputs": []
    },
    {
      "cell_type": "markdown",
      "metadata": {
        "id": "FSW-nsJsqAIj"
      },
      "source": [
        "# Section V : Preliminary Training \n",
        "\n",
        "Part I : Import your [Logisitc Regression libraries](https://scikit-learn.org/stable/modules/generated/sklearn.linear_model.LogisticRegression.html) <br>\n",
        "Part II : Split your train and test dataset and train on the data <br>\n",
        "Part III : Make note of the classification report and other metrics "
      ]
    },
    {
      "cell_type": "code",
      "metadata": {
        "id": "qckNvkzukxm-"
      },
      "source": [
        "x = dummies[['age', 'duration', 'campaign', 'pdays', 'previous', 'emp_var_rate',\r\n",
        "       'cons_price_idx', 'cons_conf_idx', 'euribor3m', 'nr_employed',\r\n",
        "       'job_blue-collar', 'job_entrepreneur', 'job_housemaid',\r\n",
        "       'job_management', 'job_retired', 'job_self-employed', 'job_services',\r\n",
        "       'job_student', 'job_technician', 'job_unemployed', 'marital_married',\r\n",
        "       'marital_single', 'education_basic 6y', 'education_basic 9y',\r\n",
        "       'education_high school', 'education_illiterate',\r\n",
        "       'education_professional course', 'education_university degree',\r\n",
        "       'default_yes', 'housing_yes', 'loan_yes', 'contact_telephone',\r\n",
        "       'month_aug', 'month_dec', 'month_jul', 'month_jun', 'month_mar',\r\n",
        "       'month_may', 'month_nov', 'month_oct', 'month_sep', 'day_of_week_mon',\r\n",
        "       'day_of_week_thu', 'day_of_week_tue', 'day_of_week_wed',\r\n",
        "       'poutcome_nonexistent', 'poutcome_success']]\r\n",
        "y = dummies[['y']]\r\n",
        "from sklearn.model_selection import train_test_split\r\n",
        "x_train, x_test, y_train, y_test = train_test_split(x, y, random_state = 0)"
      ],
      "execution_count": 40,
      "outputs": []
    },
    {
      "cell_type": "code",
      "metadata": {
        "colab": {
          "base_uri": "https://localhost:8080/"
        },
        "id": "Xw-stRVYnimR",
        "outputId": "efdf8101-e7c2-40a0-94f5-7ba53b444838"
      },
      "source": [
        "print('Dimension of train_x dataframe:',x_train.shape)\r\n",
        "print('Dimension of train_y dataframe:',y_train.shape)\r\n",
        "print('Dimension of test_x dataframe:',x_test.shape)\r\n",
        "print('Dimension of test_y dataframe:',y_test.shape)"
      ],
      "execution_count": 41,
      "outputs": [
        {
          "output_type": "stream",
          "text": [
            "Dimension of train_x dataframe: (22866, 47)\n",
            "Dimension of train_y dataframe: (22866, 1)\n",
            "Dimension of test_x dataframe: (7622, 47)\n",
            "Dimension of test_y dataframe: (7622, 1)\n"
          ],
          "name": "stdout"
        }
      ]
    },
    {
      "cell_type": "code",
      "metadata": {
        "id": "hZQyuxg1nnGK"
      },
      "source": [
        "from sklearn.preprocessing import StandardScaler\r\n",
        "scl = StandardScaler()\r\n",
        "x_train = scl.fit_transform(x_train)\r\n",
        "x_test = scl.transform(x_test)"
      ],
      "execution_count": 42,
      "outputs": []
    },
    {
      "cell_type": "code",
      "metadata": {
        "colab": {
          "base_uri": "https://localhost:8080/"
        },
        "id": "uOKuEIaGnqvS",
        "outputId": "68ab21ae-9523-4c9c-b2de-07620c5ca035"
      },
      "source": [
        "from sklearn.linear_model import LogisticRegression\r\n",
        "lorg = LogisticRegression(random_state = 0)\r\n",
        "lorg.fit(x_train, y_train)"
      ],
      "execution_count": 43,
      "outputs": [
        {
          "output_type": "stream",
          "text": [
            "/usr/local/lib/python3.6/dist-packages/sklearn/utils/validation.py:760: DataConversionWarning: A column-vector y was passed when a 1d array was expected. Please change the shape of y to (n_samples, ), for example using ravel().\n",
            "  y = column_or_1d(y, warn=True)\n",
            "/usr/local/lib/python3.6/dist-packages/sklearn/linear_model/_logistic.py:940: ConvergenceWarning: lbfgs failed to converge (status=1):\n",
            "STOP: TOTAL NO. of ITERATIONS REACHED LIMIT.\n",
            "\n",
            "Increase the number of iterations (max_iter) or scale the data as shown in:\n",
            "    https://scikit-learn.org/stable/modules/preprocessing.html\n",
            "Please also refer to the documentation for alternative solver options:\n",
            "    https://scikit-learn.org/stable/modules/linear_model.html#logistic-regression\n",
            "  extra_warning_msg=_LOGISTIC_SOLVER_CONVERGENCE_MSG)\n"
          ],
          "name": "stderr"
        },
        {
          "output_type": "execute_result",
          "data": {
            "text/plain": [
              "LogisticRegression(C=1.0, class_weight=None, dual=False, fit_intercept=True,\n",
              "                   intercept_scaling=1, l1_ratio=None, max_iter=100,\n",
              "                   multi_class='auto', n_jobs=None, penalty='l2',\n",
              "                   random_state=0, solver='lbfgs', tol=0.0001, verbose=0,\n",
              "                   warm_start=False)"
            ]
          },
          "metadata": {
            "tags": []
          },
          "execution_count": 43
        }
      ]
    },
    {
      "cell_type": "code",
      "metadata": {
        "colab": {
          "base_uri": "https://localhost:8080/"
        },
        "id": "xKYourDWnsLk",
        "outputId": "97490580-613b-4bb1-ce5a-84f7481152b6"
      },
      "source": [
        "y_pred = lorg.predict(x_test)\r\n",
        "y_pred"
      ],
      "execution_count": 44,
      "outputs": [
        {
          "output_type": "execute_result",
          "data": {
            "text/plain": [
              "array([0, 0, 0, ..., 1, 0, 0])"
            ]
          },
          "metadata": {
            "tags": []
          },
          "execution_count": 44
        }
      ]
    },
    {
      "cell_type": "code",
      "metadata": {
        "colab": {
          "base_uri": "https://localhost:8080/"
        },
        "id": "N6QrGfeJns2m",
        "outputId": "38b76715-5b11-48c5-d116-ab9e69a3e3bc"
      },
      "source": [
        "from sklearn import metrics\r\n",
        "print(metrics.confusion_matrix(y_test, y_pred, labels = [0, 1]))\r\n",
        "print(metrics.classification_report(y_test, y_pred, labels = [0,1]))"
      ],
      "execution_count": 45,
      "outputs": [
        {
          "output_type": "stream",
          "text": [
            "[[6441  191]\n",
            " [ 576  414]]\n",
            "              precision    recall  f1-score   support\n",
            "\n",
            "           0       0.92      0.97      0.94      6632\n",
            "           1       0.68      0.42      0.52       990\n",
            "\n",
            "    accuracy                           0.90      7622\n",
            "   macro avg       0.80      0.69      0.73      7622\n",
            "weighted avg       0.89      0.90      0.89      7622\n",
            "\n"
          ],
          "name": "stdout"
        }
      ]
    },
    {
      "cell_type": "code",
      "metadata": {
        "colab": {
          "base_uri": "https://localhost:8080/",
          "height": 410
        },
        "id": "CaYv4PXsqk5q",
        "outputId": "a11d1ece-bc0e-4a01-c123-69b85d289dd8"
      },
      "source": [
        "d = {'Prediction':y_pred}\r\n",
        "pred_comp =pd.DataFrame(d)\r\n",
        "f = y_test.reset_index()\r\n",
        "f = f.drop(['index'], axis=1)\r\n",
        "df = pd.concat([pred_comp, f], axis=1)\r\n",
        "df.head(143)"
      ],
      "execution_count": 46,
      "outputs": [
        {
          "output_type": "execute_result",
          "data": {
            "text/html": [
              "<div>\n",
              "<style scoped>\n",
              "    .dataframe tbody tr th:only-of-type {\n",
              "        vertical-align: middle;\n",
              "    }\n",
              "\n",
              "    .dataframe tbody tr th {\n",
              "        vertical-align: top;\n",
              "    }\n",
              "\n",
              "    .dataframe thead th {\n",
              "        text-align: right;\n",
              "    }\n",
              "</style>\n",
              "<table border=\"1\" class=\"dataframe\">\n",
              "  <thead>\n",
              "    <tr style=\"text-align: right;\">\n",
              "      <th></th>\n",
              "      <th>Prediction</th>\n",
              "      <th>y</th>\n",
              "    </tr>\n",
              "  </thead>\n",
              "  <tbody>\n",
              "    <tr>\n",
              "      <th>0</th>\n",
              "      <td>0</td>\n",
              "      <td>0</td>\n",
              "    </tr>\n",
              "    <tr>\n",
              "      <th>1</th>\n",
              "      <td>0</td>\n",
              "      <td>0</td>\n",
              "    </tr>\n",
              "    <tr>\n",
              "      <th>2</th>\n",
              "      <td>0</td>\n",
              "      <td>0</td>\n",
              "    </tr>\n",
              "    <tr>\n",
              "      <th>3</th>\n",
              "      <td>0</td>\n",
              "      <td>1</td>\n",
              "    </tr>\n",
              "    <tr>\n",
              "      <th>4</th>\n",
              "      <td>0</td>\n",
              "      <td>0</td>\n",
              "    </tr>\n",
              "    <tr>\n",
              "      <th>...</th>\n",
              "      <td>...</td>\n",
              "      <td>...</td>\n",
              "    </tr>\n",
              "    <tr>\n",
              "      <th>138</th>\n",
              "      <td>1</td>\n",
              "      <td>0</td>\n",
              "    </tr>\n",
              "    <tr>\n",
              "      <th>139</th>\n",
              "      <td>0</td>\n",
              "      <td>0</td>\n",
              "    </tr>\n",
              "    <tr>\n",
              "      <th>140</th>\n",
              "      <td>0</td>\n",
              "      <td>0</td>\n",
              "    </tr>\n",
              "    <tr>\n",
              "      <th>141</th>\n",
              "      <td>0</td>\n",
              "      <td>0</td>\n",
              "    </tr>\n",
              "    <tr>\n",
              "      <th>142</th>\n",
              "      <td>0</td>\n",
              "      <td>0</td>\n",
              "    </tr>\n",
              "  </tbody>\n",
              "</table>\n",
              "<p>143 rows × 2 columns</p>\n",
              "</div>"
            ],
            "text/plain": [
              "     Prediction  y\n",
              "0             0  0\n",
              "1             0  0\n",
              "2             0  0\n",
              "3             0  1\n",
              "4             0  0\n",
              "..          ... ..\n",
              "138           1  0\n",
              "139           0  0\n",
              "140           0  0\n",
              "141           0  0\n",
              "142           0  0\n",
              "\n",
              "[143 rows x 2 columns]"
            ]
          },
          "metadata": {
            "tags": []
          },
          "execution_count": 46
        }
      ]
    },
    {
      "cell_type": "code",
      "metadata": {
        "colab": {
          "base_uri": "https://localhost:8080/"
        },
        "id": "q81jyKz0qx_B",
        "outputId": "0e856695-f5e4-46cc-d3c5-4df033952b83"
      },
      "source": [
        "f.value_counts()"
      ],
      "execution_count": 47,
      "outputs": [
        {
          "output_type": "execute_result",
          "data": {
            "text/plain": [
              "y\n",
              "0    6632\n",
              "1     990\n",
              "dtype: int64"
            ]
          },
          "metadata": {
            "tags": []
          },
          "execution_count": 47
        }
      ]
    },
    {
      "cell_type": "code",
      "metadata": {
        "colab": {
          "base_uri": "https://localhost:8080/"
        },
        "id": "S59mYq6iq0vI",
        "outputId": "3f735b08-e81a-4b3c-e08e-a2f96da3b9e5"
      },
      "source": [
        "pred_comp.value_counts()"
      ],
      "execution_count": 48,
      "outputs": [
        {
          "output_type": "execute_result",
          "data": {
            "text/plain": [
              "Prediction\n",
              "0             7017\n",
              "1              605\n",
              "dtype: int64"
            ]
          },
          "metadata": {
            "tags": []
          },
          "execution_count": 48
        }
      ]
    },
    {
      "cell_type": "markdown",
      "metadata": {
        "id": "BCfLv1hhww98"
      },
      "source": [
        "# Section VI : Let's Improve the performance !\n",
        "\n",
        "Part 0 : What was your answer to **Section - Part IV**? Do you think class imbalance affects the model performance? Explore [SMOTE implementation](https://arxiv.org/pdf/1106.1813.pdf)\n",
        "\n",
        "Part I : Make note of the performance from the last training <br>\n",
        "Part II : Try implementing [SMOTE](http://imbalanced-learn.org/en/stable/over_sampling.html#smote-variants) to balance the two class labels <br>\n",
        "Part III :  Make note of the `y` label data now , what are the rations now ?"
      ]
    },
    {
      "cell_type": "markdown",
      "metadata": {
        "id": "DncWH6zR8sB7"
      },
      "source": [
        "# Section VII : Let us Re-Train!\n",
        "\n",
        "Part I : Explore what [RFE](https://scikit-learn.org/stable/modules/generated/sklearn.feature_selection.RFE.html) means <br>\n",
        "Part II : Implement your training process inside the RFE <br>\n",
        "Part III : What are the best columns that your RFE found? Please make a list of it "
      ]
    },
    {
      "cell_type": "markdown",
      "metadata": {
        "id": "P0_eMX8ya8y1"
      },
      "source": [
        "# Section VIII : Training time !\n",
        "\n",
        "Now that you have found the best columns for this problem\n",
        "\n",
        "Part I : Now train the model with the new data you have created after the RFE <br>\n",
        "Part II : Create the prediction system to get the metrics such as accuracy"
      ]
    },
    {
      "cell_type": "markdown",
      "metadata": {
        "id": "JzdaF30Ibu6V"
      },
      "source": [
        "# Section IX : Additional Metrics\n",
        "\n",
        "Accuracy is not always the best metric \n",
        "\n",
        "Part I : Explore what [Confusion Matrix](https://www.geeksforgeeks.org/confusion-matrix-machine-learning/#:~:text=A%20confusion%20matrix%20is%20a,the%20performance%20of%20an%20algorithm.) means <br>\n",
        "Part II : Create the confusion matrix for the predictions and make note of the outputs <br>\n",
        "Part III : Create a classification report and make note of various outputs "
      ]
    },
    {
      "cell_type": "markdown",
      "metadata": {
        "id": "YFZgjzCLdaCP"
      },
      "source": [
        "# Section X : What's next?\n",
        "\n",
        "Part I : Make a note of difference in performance? <br>\n",
        "Part II : Can you recommend more improvements that could give much better results in all metrics?"
      ]
    }
  ]
}